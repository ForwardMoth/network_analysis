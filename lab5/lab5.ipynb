{
 "cells": [
  {
   "cell_type": "code",
   "execution_count": 30,
   "id": "3239cf23",
   "metadata": {},
   "outputs": [],
   "source": [
    "import requests\n",
    "from tqdm import tqdm"
   ]
  },
  {
   "cell_type": "markdown",
   "id": "e870d973",
   "metadata": {},
   "source": [
    "## Объявление констант"
   ]
  },
  {
   "cell_type": "code",
   "execution_count": 31,
   "id": "f5111fb4",
   "metadata": {},
   "outputs": [],
   "source": [
    "TOKEN = \"f185ecc4f185ecc4f185ecc42cf296de11ff185f185ecc49599ca335d0fd6a7c8d49da4\"\n",
    "first_group = 'buh.mephi'\n",
    "second_group = 'icismephi'\n",
    "BASIC_RESPONSE = 'https://api.vk.com/method/'\n",
    "V = 5.131"
   ]
  },
  {
   "cell_type": "markdown",
   "id": "fe63e1ff",
   "metadata": {},
   "source": [
    "# Получение списков групп и их сравнение"
   ]
  },
  {
   "cell_type": "markdown",
   "id": "3f20d837",
   "metadata": {},
   "source": [
    "### Запрос к API. Метод getMembers"
   ]
  },
  {
   "cell_type": "code",
   "execution_count": 32,
   "id": "de7adead",
   "metadata": {},
   "outputs": [],
   "source": [
    "def get_member(group_id, offset=0):\n",
    "    response = requests.get(BASIC_RESPONSE + 'groups.getMembers', params={\n",
    "            'access_token': TOKEN,\n",
    "            'v': V,\n",
    "            'offset': offset, \n",
    "            'sort':'id_desc',\n",
    "            'group_id': group_id\n",
    "        }).json()\n",
    "    \n",
    "    if 'response' in response:\n",
    "        return response['response']"
   ]
  },
  {
   "cell_type": "markdown",
   "id": "0600f241",
   "metadata": {},
   "source": [
    "### Создание класса Группа"
   ]
  },
  {
   "cell_type": "code",
   "execution_count": 33,
   "id": "7ced5f78",
   "metadata": {},
   "outputs": [],
   "source": [
    "class Group:\n",
    "    def __init__(self, group_name):\n",
    "        self.group_name = group_name\n",
    "        self.members = []\n",
    "        self.posts = []\n",
    "        \n",
    "    def set_members(self):\n",
    "        count = get_member(self.group_name)['count'] \n",
    "\n",
    "        if count == 0:\n",
    "            return members_list \n",
    "        # Вычитаем остаток от деления на 1000, чтобы получить количество в тысячах \n",
    "        max_offset = count - count % 1000\n",
    "\n",
    "        for offset in range(0, max_offset+1, 1000):\n",
    "            offset_members = get_member(self.group_name, offset)\n",
    "            \n",
    "            if offset_members is not None:\n",
    "                self.members.extend(offset_members['items']) "
   ]
  },
  {
   "cell_type": "markdown",
   "id": "cfedf8c5",
   "metadata": {},
   "source": [
    "### Инициализация объектов класса"
   ]
  },
  {
   "cell_type": "code",
   "execution_count": 34,
   "id": "cc244ef7",
   "metadata": {},
   "outputs": [],
   "source": [
    "iftes_group = Group(first_group)\n",
    "icis_group = Group(second_group)"
   ]
  },
  {
   "cell_type": "code",
   "execution_count": 35,
   "id": "940b4284",
   "metadata": {
    "scrolled": false
   },
   "outputs": [],
   "source": [
    "iftes_group.set_members()\n",
    "icis_group.set_members()"
   ]
  },
  {
   "cell_type": "markdown",
   "id": "4f6c9d5f",
   "metadata": {},
   "source": [
    "# Построение социального графа"
   ]
  },
  {
   "cell_type": "markdown",
   "id": "7a687550",
   "metadata": {},
   "source": [
    "### Запрос к API. Метод friends.get"
   ]
  },
  {
   "cell_type": "code",
   "execution_count": 38,
   "id": "b722715b",
   "metadata": {},
   "outputs": [],
   "source": [
    "def get_friends(user_id):\n",
    "    response = requests.get(BASIC_RESPONSE + 'friends.get', params={\n",
    "        'access_token': TOKEN,\n",
    "        'v': V,\n",
    "        'user_id': user_id\n",
    "    }).json()\n",
    "    \n",
    "    if 'error' in response:\n",
    "        return set()\n",
    "    else: \n",
    "        return set(response['response']['items'])"
   ]
  },
  {
   "cell_type": "markdown",
   "id": "837d55da",
   "metadata": {},
   "source": [
    "### Получаем данные для графа"
   ]
  },
  {
   "cell_type": "code",
   "execution_count": 39,
   "id": "a963f2a6",
   "metadata": {},
   "outputs": [],
   "source": [
    "from tqdm import tqdm"
   ]
  },
  {
   "cell_type": "code",
   "execution_count": 40,
   "id": "682d90d5",
   "metadata": {},
   "outputs": [],
   "source": [
    "def set_graph_data(members):\n",
    "    graph = {}\n",
    "    for member in tqdm(members):\n",
    "        friends = get_friends(member)\n",
    "        common_friends = friends & members\n",
    "        graph[member] = list(common_friends)\n",
    "    \n",
    "    return graph"
   ]
  },
  {
   "cell_type": "code",
   "execution_count": 12,
   "id": "56f89ed2",
   "metadata": {},
   "outputs": [
    {
     "name": "stderr",
     "output_type": "stream",
     "text": [
      "100%|██████████████████████████████████████████████████████████████████████████████| 1933/1933 [03:22<00:00,  9.56it/s]\n"
     ]
    }
   ],
   "source": [
    "graph_iftes = set_graph_data(set(iftes_group.members))"
   ]
  },
  {
   "cell_type": "code",
   "execution_count": 41,
   "id": "31017f28",
   "metadata": {
    "scrolled": false
   },
   "outputs": [
    {
     "name": "stderr",
     "output_type": "stream",
     "text": [
      "100%|██████████████████████████████████████████████████████████████████████████████| 3257/3257 [04:02<00:00, 13.44it/s]\n"
     ]
    }
   ],
   "source": [
    "graph_icis = set_graph_data(set(icis_group.members))"
   ]
  },
  {
   "cell_type": "markdown",
   "id": "b99d62d9",
   "metadata": {},
   "source": [
    "## Построение графа"
   ]
  },
  {
   "cell_type": "code",
   "execution_count": 42,
   "id": "0c53804a",
   "metadata": {},
   "outputs": [],
   "source": [
    "import networkx as nx"
   ]
  },
  {
   "cell_type": "code",
   "execution_count": 43,
   "id": "6fd72315",
   "metadata": {},
   "outputs": [],
   "source": [
    "g_iftes = nx.DiGraph(graph_iftes)\n",
    "g_icis = nx.DiGraph(graph_icis)"
   ]
  },
  {
   "cell_type": "markdown",
   "id": "5e4aef0e",
   "metadata": {},
   "source": [
    "## Функции распределения степеней узлов для обоих сообществ"
   ]
  },
  {
   "cell_type": "code",
   "execution_count": 45,
   "id": "f321fd26",
   "metadata": {},
   "outputs": [],
   "source": [
    "import matplotlib.pyplot as plt"
   ]
  },
  {
   "cell_type": "code",
   "execution_count": 46,
   "id": "a9e77e29",
   "metadata": {},
   "outputs": [],
   "source": [
    "def get_degrees(g):\n",
    "    return [val for (node, val) in g.degree()]"
   ]
  },
  {
   "cell_type": "markdown",
   "id": "dae3070e",
   "metadata": {},
   "source": [
    "#### Распределение степеней узлов первого сообщества"
   ]
  },
  {
   "cell_type": "code",
   "execution_count": 57,
   "id": "58a33905",
   "metadata": {},
   "outputs": [
    {
     "data": {
      "image/png": "[encoded data removed]",
      "text/plain": [
       "<Figure size 640x480 with 1 Axes>"
      ]
     },
     "metadata": {},
     "output_type": "display_data"
    }
   ],
   "source": [
    "degree_iftes = get_degrees(g_iftes)\n",
    "\n",
    "plt.hist(degree_iftes,bins = 7)\n",
    "plt.ylabel(\"Count\")\n",
    "plt.xlabel(\"Degree\")\n",
    "plt.title(\"Iftes public\")\n",
    "plt.show()"
   ]
  },
  {
   "cell_type": "markdown",
   "id": "55ab4ee0",
   "metadata": {},
   "source": [
    "#### Распределение степеней узлов второго сообщества"
   ]
  },
  {
   "cell_type": "code",
   "execution_count": 58,
   "id": "d9d8d360",
   "metadata": {},
   "outputs": [
    {
     "data": {
      "image/png": "[encoded data removed]",
      "text/plain": [
       "<Figure size 640x480 with 1 Axes>"
      ]
     },
     "metadata": {},
     "output_type": "display_data"
    }
   ],
   "source": [
    "degree_icis = get_degrees(g_icis)\n",
    "\n",
    "plt.hist(degree_icis,bins = 7)\n",
    "plt.ylabel(\"Count\")\n",
    "plt.xlabel(\"Degree\")\n",
    "plt.title(\"Icis public\")\n",
    "plt.show()"
   ]
  },
  {
   "cell_type": "markdown",
   "id": "ecb88149",
   "metadata": {},
   "source": [
    "## "
   ]
  },
  {
   "cell_type": "markdown",
   "id": "7afbe595",
   "metadata": {},
   "source": [
    "## Вычисление кластерных коэффициентов обоих сообществ "
   ]
  },
  {
   "cell_type": "code",
   "execution_count": 59,
   "id": "b89acb52",
   "metadata": {},
   "outputs": [
    {
     "name": "stdout",
     "output_type": "stream",
     "text": [
      "Кластерный коэффициент для группы iftes 0.2566829428531108\n"
     ]
    }
   ],
   "source": [
    "coefficient_iftes = nx.average_clustering(g_iftes)\n",
    "print(f\"Кластерный коэффициент для группы iftes {coefficient_iftes}\")"
   ]
  },
  {
   "cell_type": "code",
   "execution_count": 61,
   "id": "424f94d8",
   "metadata": {},
   "outputs": [
    {
     "name": "stdout",
     "output_type": "stream",
     "text": [
      "Кластерный коэффициент для группы icis 0.16353045916476072\n"
     ]
    }
   ],
   "source": [
    "coefficient_icis = nx.average_clustering(g_icis)\n",
    "print(f\"Кластерный коэффициент для группы icis {coefficient_icis}\")"
   ]
  },
  {
   "cell_type": "markdown",
   "id": "df704021",
   "metadata": {},
   "source": [
    "## Вычисление средней длины пути обоих графов"
   ]
  },
  {
   "cell_type": "code",
   "execution_count": 66,
   "id": "47ddefc7",
   "metadata": {},
   "outputs": [],
   "source": [
    "def average_graph_length_way(graph):\n",
    "    ways = [] \n",
    "    graph_undirect = graph.to_undirected()\n",
    "    for component in nx.connected_components(graph_undirect):\n",
    "        length = nx.average_shortest_path_length(graph_undirect.subgraph(component))\n",
    "        if length != 0:\n",
    "            ways.append(length)\n",
    "    return sum(ways) / len(ways)"
   ]
  },
  {
   "cell_type": "code",
   "execution_count": 67,
   "id": "f256fdae",
   "metadata": {},
   "outputs": [
    {
     "name": "stdout",
     "output_type": "stream",
     "text": [
      "Средняя длина пути для графа iftes 1.6709520492213885\n"
     ]
    }
   ],
   "source": [
    "print(f\"Средняя длина пути для графа iftes {average_graph_length_way(g_iftes)}\")"
   ]
  },
  {
   "cell_type": "code",
   "execution_count": 68,
   "id": "1c5ac9d0",
   "metadata": {},
   "outputs": [
    {
     "name": "stdout",
     "output_type": "stream",
     "text": [
      "Средняя длина пути для графа icis 1.1746139632986978\n"
     ]
    }
   ],
   "source": [
    "print(f\"Средняя длина пути для графа icis {average_graph_length_way(g_icis)}\")"
   ]
  },
  {
   "cell_type": "markdown",
   "id": "da5ca70f",
   "metadata": {},
   "source": [
    "## Соотнесение моделей графов"
   ]
  },
  {
   "cell_type": "markdown",
   "id": "a8f31655",
   "metadata": {},
   "source": [
    "### Средняя длина пути"
   ]
  },
  {
   "cell_type": "code",
   "execution_count": 76,
   "id": "1c89aa3f",
   "metadata": {},
   "outputs": [],
   "source": [
    "import numpy as np"
   ]
  },
  {
   "cell_type": "markdown",
   "id": "20f4859c",
   "metadata": {},
   "source": [
    "#### модель Random"
   ]
  },
  {
   "cell_type": "code",
   "execution_count": 73,
   "id": "0111b185",
   "metadata": {},
   "outputs": [],
   "source": [
    "def average_length_way_random(g, degrees):\n",
    "    average_k = (sum(degrees)/len(degrees))\n",
    "    return np.log(len(g)) / np.log(average_k)"
   ]
  },
  {
   "cell_type": "markdown",
   "id": "e8b73c0d",
   "metadata": {},
   "source": [
    "#### модель BA"
   ]
  },
  {
   "cell_type": "code",
   "execution_count": 80,
   "id": "ae29ddf4",
   "metadata": {},
   "outputs": [],
   "source": [
    "def average_length_way_BA(g):\n",
    "    return np.log(len(g)) / np.log(np.log(len(g)))"
   ]
  },
  {
   "cell_type": "markdown",
   "id": "6f63d161",
   "metadata": {},
   "source": [
    "#### модель WS"
   ]
  },
  {
   "cell_type": "code",
   "execution_count": 81,
   "id": "06bd5e01",
   "metadata": {},
   "outputs": [],
   "source": [
    "def average_length_way_WS(g):\n",
    "    return np.log(len(g))"
   ]
  },
  {
   "cell_type": "code",
   "execution_count": 84,
   "id": "0dbe8f4e",
   "metadata": {},
   "outputs": [],
   "source": [
    "def calculate_average_length_way(g, degrees, name): \n",
    "    random = average_length_way_random(g, degrees)\n",
    "    BA = average_length_way_BA(g)\n",
    "    WS = average_length_way_WS(g)\n",
    "    print(f\"Для графа сообщества {name} получены следующие моделируемые коэффициенты L:\")\n",
    "    print(f\"Random model: {random}\")\n",
    "    print(f\"BA model: {BA}\")\n",
    "    print(f\"WS model: {WS}\")\n",
    "    print(f\"L графа: {average_graph_length_way(g)}\")"
   ]
  },
  {
   "cell_type": "markdown",
   "id": "69642dbb",
   "metadata": {},
   "source": [
    "### Исследование первого сообщества"
   ]
  },
  {
   "cell_type": "code",
   "execution_count": 85,
   "id": "4c8e5b55",
   "metadata": {},
   "outputs": [
    {
     "name": "stdout",
     "output_type": "stream",
     "text": [
      "Для графа сообщества iftes получены следующие моделируемые коэффициенты L:\n",
      "Random model: 2.8666046994416967\n",
      "BA model: 3.7389690758600396\n",
      "WS model: 7.566828479208331\n",
      "L графа: 1.6709520492213885\n"
     ]
    }
   ],
   "source": [
    "calculate_average_length_way(g_iftes, degree_iftes, 'iftes')"
   ]
  },
  {
   "cell_type": "code",
   "execution_count": 89,
   "id": "b8f429a1",
   "metadata": {},
   "outputs": [
    {
     "name": "stdout",
     "output_type": "stream",
     "text": [
      "C для Random model 0.007246910134085769, C графа: 0.2566829428531108\n"
     ]
    }
   ],
   "source": [
    "C_random = (sum(degree_iftes)/len(degree_iftes)) / len(g_iftes)\n",
    "print(f\"C для Random model {C_random}, C графа: {coefficient_iftes}\")"
   ]
  },
  {
   "cell_type": "code",
   "execution_count": 94,
   "id": "ee84bdf0",
   "metadata": {},
   "outputs": [
    {
     "name": "stdout",
     "output_type": "stream",
     "text": [
      "C для BA model 0.0034302526576103416, C графа: 0.2566829428531108\n"
     ]
    }
   ],
   "source": [
    "C_BA = len(g_iftes) ** -0.75\n",
    "print(f\"C для BA model {C_BA}, C графа: {coefficient_iftes}\")"
   ]
  },
  {
   "cell_type": "markdown",
   "id": "fb94c681",
   "metadata": {},
   "source": [
    "#### Распределение степеней в графе сообщества iftes наиболее сопоставима c Random model"
   ]
  },
  {
   "cell_type": "markdown",
   "id": "1346ea45",
   "metadata": {},
   "source": [
    "### Исследование второго сообщества"
   ]
  },
  {
   "cell_type": "code",
   "execution_count": 92,
   "id": "a7d32156",
   "metadata": {},
   "outputs": [
    {
     "name": "stdout",
     "output_type": "stream",
     "text": [
      "Для графа сообщества icis получены следующие моделируемые коэффициенты L:\n",
      "Random model: 3.414691393253255\n",
      "BA model: 3.8692904229747143\n",
      "WS model: 8.088561805276234\n",
      "L графа: 1.1746139632986978\n"
     ]
    }
   ],
   "source": [
    "calculate_average_length_way(g_icis, degree_icis, 'icis')"
   ]
  },
  {
   "cell_type": "code",
   "execution_count": 93,
   "id": "6b9d6e2c",
   "metadata": {},
   "outputs": [
    {
     "name": "stdout",
     "output_type": "stream",
     "text": [
      "C для Random model 0.0032803392970752678, C графа: 0.16353045916476072\n"
     ]
    }
   ],
   "source": [
    "C_random = (sum(degree_icis)/len(degree_icis)) / len(g_icis)\n",
    "print(f\"C для Random model {C_random}, C графа: {coefficient_icis}\")"
   ]
  },
  {
   "cell_type": "code",
   "execution_count": 95,
   "id": "8f2e9c44",
   "metadata": {},
   "outputs": [
    {
     "name": "stdout",
     "output_type": "stream",
     "text": [
      "C для BA model 0.002319458898395755, C графа: 0.16353045916476072\n"
     ]
    }
   ],
   "source": [
    "C_BA = len(g_icis) ** -0.75\n",
    "print(f\"C для BA model {C_BA}, C графа: {coefficient_icis}\")"
   ]
  },
  {
   "cell_type": "markdown",
   "id": "d904fce6",
   "metadata": {},
   "source": [
    "#### Распределение степеней в графе сообщества icis наиболее сопоставима c Random model"
   ]
  },
  {
   "cell_type": "code",
   "execution_count": null,
   "id": "704490d6",
   "metadata": {},
   "outputs": [],
   "source": []
  }
 ],
 "metadata": {
  "kernelspec": {
   "display_name": "Python 3 (ipykernel)",
   "language": "python",
   "name": "python3"
  },
  "language_info": {
   "codemirror_mode": {
    "name": "ipython",
    "version": 3
   },
   "file_extension": ".py",
   "mimetype": "text/x-python",
   "name": "python",
   "nbconvert_exporter": "python",
   "pygments_lexer": "ipython3",
   "version": "3.9.13"
  }
 },
 "nbformat": 4,
 "nbformat_minor": 5
}
