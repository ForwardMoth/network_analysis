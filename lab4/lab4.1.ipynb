{
 "cells": [
  {
   "cell_type": "markdown",
   "metadata": {
    "id": "ZQXiyfK8x76C"
   },
   "source": [
    "# Topic Modeling"
   ]
  },
  {
   "cell_type": "markdown",
   "metadata": {
    "id": "Jhf33dhbx_jG"
   },
   "source": [
    "### Imports"
   ]
  },
  {
   "cell_type": "code",
   "execution_count": 32,
   "metadata": {},
   "outputs": [
    {
     "name": "stdout",
     "output_type": "stream",
     "text": [
      "Requirement already satisfied: keras in c:\\users\\user\\anaconda3\\lib\\site-packages (2.12.0)\n"
     ]
    }
   ],
   "source": [
    "!pip install keras"
   ]
  },
  {
   "cell_type": "code",
   "execution_count": 33,
   "metadata": {},
   "outputs": [
    {
     "name": "stdout",
     "output_type": "stream",
     "text": [
      "Requirement already satisfied: tensorflow in c:\\users\\user\\anaconda3\\lib\\site-packages (2.12.0)\n",
      "Requirement already satisfied: tensorflow-intel==2.12.0 in c:\\users\\user\\anaconda3\\lib\\site-packages (from tensorflow) (2.12.0)\n",
      "Requirement already satisfied: flatbuffers>=2.0 in c:\\users\\user\\anaconda3\\lib\\site-packages (from tensorflow-intel==2.12.0->tensorflow) (23.3.3)\n",
      "Requirement already satisfied: tensorflow-estimator<2.13,>=2.12.0 in c:\\users\\user\\anaconda3\\lib\\site-packages (from tensorflow-intel==2.12.0->tensorflow) (2.12.0)\n",
      "Requirement already satisfied: jax>=0.3.15 in c:\\users\\user\\anaconda3\\lib\\site-packages (from tensorflow-intel==2.12.0->tensorflow) (0.4.8)\n",
      "Requirement already satisfied: tensorflow-io-gcs-filesystem>=0.23.1 in c:\\users\\user\\anaconda3\\lib\\site-packages (from tensorflow-intel==2.12.0->tensorflow) (0.31.0)\n",
      "Requirement already satisfied: grpcio<2.0,>=1.24.3 in c:\\users\\user\\anaconda3\\lib\\site-packages (from tensorflow-intel==2.12.0->tensorflow) (1.54.0)\n",
      "Requirement already satisfied: google-pasta>=0.1.1 in c:\\users\\user\\anaconda3\\lib\\site-packages (from tensorflow-intel==2.12.0->tensorflow) (0.2.0)\n",
      "Requirement already satisfied: numpy<1.24,>=1.22 in c:\\users\\user\\anaconda3\\lib\\site-packages (from tensorflow-intel==2.12.0->tensorflow) (1.23.5)\n",
      "Requirement already satisfied: six>=1.12.0 in c:\\users\\user\\anaconda3\\lib\\site-packages (from tensorflow-intel==2.12.0->tensorflow) (1.16.0)\n",
      "Requirement already satisfied: tensorboard<2.13,>=2.12 in c:\\users\\user\\anaconda3\\lib\\site-packages (from tensorflow-intel==2.12.0->tensorflow) (2.12.3)\n",
      "Requirement already satisfied: packaging in c:\\users\\user\\anaconda3\\lib\\site-packages (from tensorflow-intel==2.12.0->tensorflow) (21.3)\n",
      "Requirement already satisfied: absl-py>=1.0.0 in c:\\users\\user\\anaconda3\\lib\\site-packages (from tensorflow-intel==2.12.0->tensorflow) (1.4.0)\n",
      "Requirement already satisfied: termcolor>=1.1.0 in c:\\users\\user\\anaconda3\\lib\\site-packages (from tensorflow-intel==2.12.0->tensorflow) (2.3.0)\n",
      "Requirement already satisfied: setuptools in c:\\users\\user\\anaconda3\\lib\\site-packages (from tensorflow-intel==2.12.0->tensorflow) (63.4.1)\n",
      "Requirement already satisfied: libclang>=13.0.0 in c:\\users\\user\\anaconda3\\lib\\site-packages (from tensorflow-intel==2.12.0->tensorflow) (16.0.0)\n",
      "Requirement already satisfied: h5py>=2.9.0 in c:\\users\\user\\anaconda3\\lib\\site-packages (from tensorflow-intel==2.12.0->tensorflow) (3.7.0)\n",
      "Requirement already satisfied: protobuf!=4.21.0,!=4.21.1,!=4.21.2,!=4.21.3,!=4.21.4,!=4.21.5,<5.0.0dev,>=3.20.3 in c:\\users\\user\\anaconda3\\lib\\site-packages (from tensorflow-intel==2.12.0->tensorflow) (4.22.4)\n",
      "Requirement already satisfied: keras<2.13,>=2.12.0 in c:\\users\\user\\anaconda3\\lib\\site-packages (from tensorflow-intel==2.12.0->tensorflow) (2.12.0)\n",
      "Requirement already satisfied: typing-extensions>=3.6.6 in c:\\users\\user\\anaconda3\\lib\\site-packages (from tensorflow-intel==2.12.0->tensorflow) (4.3.0)\n",
      "Requirement already satisfied: gast<=0.4.0,>=0.2.1 in c:\\users\\user\\anaconda3\\lib\\site-packages (from tensorflow-intel==2.12.0->tensorflow) (0.4.0)\n",
      "Requirement already satisfied: wrapt<1.15,>=1.11.0 in c:\\users\\user\\anaconda3\\lib\\site-packages (from tensorflow-intel==2.12.0->tensorflow) (1.14.1)\n",
      "Requirement already satisfied: opt-einsum>=2.3.2 in c:\\users\\user\\anaconda3\\lib\\site-packages (from tensorflow-intel==2.12.0->tensorflow) (3.3.0)\n",
      "Requirement already satisfied: astunparse>=1.6.0 in c:\\users\\user\\anaconda3\\lib\\site-packages (from tensorflow-intel==2.12.0->tensorflow) (1.6.3)\n",
      "Requirement already satisfied: wheel<1.0,>=0.23.0 in c:\\users\\user\\anaconda3\\lib\\site-packages (from astunparse>=1.6.0->tensorflow-intel==2.12.0->tensorflow) (0.37.1)\n",
      "Requirement already satisfied: scipy>=1.7 in c:\\users\\user\\anaconda3\\lib\\site-packages (from jax>=0.3.15->tensorflow-intel==2.12.0->tensorflow) (1.9.1)\n",
      "Requirement already satisfied: ml-dtypes>=0.0.3 in c:\\users\\user\\anaconda3\\lib\\site-packages (from jax>=0.3.15->tensorflow-intel==2.12.0->tensorflow) (0.1.0)\n",
      "Requirement already satisfied: requests<3,>=2.21.0 in c:\\users\\user\\anaconda3\\lib\\site-packages (from tensorboard<2.13,>=2.12->tensorflow-intel==2.12.0->tensorflow) (2.28.1)\n",
      "Requirement already satisfied: tensorboard-data-server<0.8.0,>=0.7.0 in c:\\users\\user\\anaconda3\\lib\\site-packages (from tensorboard<2.13,>=2.12->tensorflow-intel==2.12.0->tensorflow) (0.7.0)\n",
      "Requirement already satisfied: werkzeug>=1.0.1 in c:\\users\\user\\anaconda3\\lib\\site-packages (from tensorboard<2.13,>=2.12->tensorflow-intel==2.12.0->tensorflow) (2.0.3)\n",
      "Requirement already satisfied: google-auth<3,>=1.6.3 in c:\\users\\user\\anaconda3\\lib\\site-packages (from tensorboard<2.13,>=2.12->tensorflow-intel==2.12.0->tensorflow) (2.17.3)\n",
      "Requirement already satisfied: markdown>=2.6.8 in c:\\users\\user\\anaconda3\\lib\\site-packages (from tensorboard<2.13,>=2.12->tensorflow-intel==2.12.0->tensorflow) (3.3.4)\n",
      "Requirement already satisfied: google-auth-oauthlib<1.1,>=0.5 in c:\\users\\user\\anaconda3\\lib\\site-packages (from tensorboard<2.13,>=2.12->tensorflow-intel==2.12.0->tensorflow) (1.0.0)\n",
      "Requirement already satisfied: pyparsing!=3.0.5,>=2.0.2 in c:\\users\\user\\anaconda3\\lib\\site-packages (from packaging->tensorflow-intel==2.12.0->tensorflow) (3.0.9)\n",
      "Requirement already satisfied: pyasn1-modules>=0.2.1 in c:\\users\\user\\anaconda3\\lib\\site-packages (from google-auth<3,>=1.6.3->tensorboard<2.13,>=2.12->tensorflow-intel==2.12.0->tensorflow) (0.2.8)\n",
      "Requirement already satisfied: cachetools<6.0,>=2.0.0 in c:\\users\\user\\anaconda3\\lib\\site-packages (from google-auth<3,>=1.6.3->tensorboard<2.13,>=2.12->tensorflow-intel==2.12.0->tensorflow) (5.3.0)\n",
      "Requirement already satisfied: rsa<5,>=3.1.4 in c:\\users\\user\\anaconda3\\lib\\site-packages (from google-auth<3,>=1.6.3->tensorboard<2.13,>=2.12->tensorflow-intel==2.12.0->tensorflow) (4.9)\n",
      "Requirement already satisfied: requests-oauthlib>=0.7.0 in c:\\users\\user\\anaconda3\\lib\\site-packages (from google-auth-oauthlib<1.1,>=0.5->tensorboard<2.13,>=2.12->tensorflow-intel==2.12.0->tensorflow) (1.3.1)\n",
      "Requirement already satisfied: urllib3<1.27,>=1.21.1 in c:\\users\\user\\anaconda3\\lib\\site-packages (from requests<3,>=2.21.0->tensorboard<2.13,>=2.12->tensorflow-intel==2.12.0->tensorflow) (1.26.11)\n",
      "Requirement already satisfied: certifi>=2017.4.17 in c:\\users\\user\\anaconda3\\lib\\site-packages (from requests<3,>=2.21.0->tensorboard<2.13,>=2.12->tensorflow-intel==2.12.0->tensorflow) (2022.9.14)\n",
      "Requirement already satisfied: idna<4,>=2.5 in c:\\users\\user\\anaconda3\\lib\\site-packages (from requests<3,>=2.21.0->tensorboard<2.13,>=2.12->tensorflow-intel==2.12.0->tensorflow) (3.3)\n",
      "Requirement already satisfied: charset-normalizer<3,>=2 in c:\\users\\user\\anaconda3\\lib\\site-packages (from requests<3,>=2.21.0->tensorboard<2.13,>=2.12->tensorflow-intel==2.12.0->tensorflow) (2.0.4)\n",
      "Requirement already satisfied: pyasn1<0.5.0,>=0.4.6 in c:\\users\\user\\anaconda3\\lib\\site-packages (from pyasn1-modules>=0.2.1->google-auth<3,>=1.6.3->tensorboard<2.13,>=2.12->tensorflow-intel==2.12.0->tensorflow) (0.4.8)\n",
      "Requirement already satisfied: oauthlib>=3.0.0 in c:\\users\\user\\anaconda3\\lib\\site-packages (from requests-oauthlib>=0.7.0->google-auth-oauthlib<1.1,>=0.5->tensorboard<2.13,>=2.12->tensorflow-intel==2.12.0->tensorflow) (3.2.2)\n"
     ]
    }
   ],
   "source": [
    "!pip install tensorflow"
   ]
  },
  {
   "cell_type": "markdown",
   "metadata": {
    "id": "Vq73jbAvyYkz"
   },
   "source": [
    "## Data preprocessing"
   ]
  },
  {
   "cell_type": "markdown",
   "metadata": {
    "id": "OL8uoOdoyd-7"
   },
   "source": [
    "### Import data from csv"
   ]
  },
  {
   "cell_type": "code",
   "execution_count": 34,
   "metadata": {},
   "outputs": [],
   "source": [
    "import pandas as pd "
   ]
  },
  {
   "cell_type": "code",
   "execution_count": 35,
   "metadata": {
    "id": "qZ9ij5s3yYDC"
   },
   "outputs": [],
   "source": [
    "tweets=pd.read_csv(\"covid19_tweets.csv\",delimiter=\",\")"
   ]
  },
  {
   "cell_type": "code",
   "execution_count": 36,
   "metadata": {
    "id": "nr8UKgeZyxON"
   },
   "outputs": [],
   "source": [
    "tweets=tweets[[\"text\"]]"
   ]
  },
  {
   "cell_type": "code",
   "execution_count": 37,
   "metadata": {
    "colab": {
     "base_uri": "https://localhost:8080/",
     "height": 206
    },
    "id": "JXr_GqJDzBiW",
    "outputId": "d2b63f36-caaa-467f-bb99-199a604a875d"
   },
   "outputs": [
    {
     "data": {
      "text/html": [
       "<div>\n",
       "<style scoped>\n",
       "    .dataframe tbody tr th:only-of-type {\n",
       "        vertical-align: middle;\n",
       "    }\n",
       "\n",
       "    .dataframe tbody tr th {\n",
       "        vertical-align: top;\n",
       "    }\n",
       "\n",
       "    .dataframe thead th {\n",
       "        text-align: right;\n",
       "    }\n",
       "</style>\n",
       "<table border=\"1\" class=\"dataframe\">\n",
       "  <thead>\n",
       "    <tr style=\"text-align: right;\">\n",
       "      <th></th>\n",
       "      <th>text</th>\n",
       "    </tr>\n",
       "  </thead>\n",
       "  <tbody>\n",
       "    <tr>\n",
       "      <th>0</th>\n",
       "      <td>If I smelled the scent of hand sanitizers toda...</td>\n",
       "    </tr>\n",
       "    <tr>\n",
       "      <th>1</th>\n",
       "      <td>Hey @Yankees @YankeesPR and @MLB - wouldn't it...</td>\n",
       "    </tr>\n",
       "    <tr>\n",
       "      <th>2</th>\n",
       "      <td>@diane3443 @wdunlap @realDonaldTrump Trump nev...</td>\n",
       "    </tr>\n",
       "    <tr>\n",
       "      <th>3</th>\n",
       "      <td>@brookbanktv The one gift #COVID19 has give me...</td>\n",
       "    </tr>\n",
       "    <tr>\n",
       "      <th>4</th>\n",
       "      <td>25 July : Media Bulletin on Novel #CoronaVirus...</td>\n",
       "    </tr>\n",
       "  </tbody>\n",
       "</table>\n",
       "</div>"
      ],
      "text/plain": [
       "                                                text\n",
       "0  If I smelled the scent of hand sanitizers toda...\n",
       "1  Hey @Yankees @YankeesPR and @MLB - wouldn't it...\n",
       "2  @diane3443 @wdunlap @realDonaldTrump Trump nev...\n",
       "3  @brookbanktv The one gift #COVID19 has give me...\n",
       "4  25 July : Media Bulletin on Novel #CoronaVirus..."
      ]
     },
     "execution_count": 37,
     "metadata": {},
     "output_type": "execute_result"
    }
   ],
   "source": [
    "tweets.head(5)"
   ]
  },
  {
   "cell_type": "markdown",
   "metadata": {
    "id": "3-diBH_MzeBa"
   },
   "source": [
    "### To lower case"
   ]
  },
  {
   "cell_type": "code",
   "execution_count": 38,
   "metadata": {
    "id": "uSynP0fCzdSs"
   },
   "outputs": [],
   "source": [
    "lowered = tweets['text'].str.lower()\n",
    "tweets['lowered'] = lowered"
   ]
  },
  {
   "cell_type": "code",
   "execution_count": 39,
   "metadata": {
    "colab": {
     "base_uri": "https://localhost:8080/",
     "height": 206
    },
    "id": "ZdFxlVmp0nYg",
    "outputId": "b319fb73-4102-4614-9ef5-133656481bbe"
   },
   "outputs": [
    {
     "data": {
      "text/html": [
       "<div>\n",
       "<style scoped>\n",
       "    .dataframe tbody tr th:only-of-type {\n",
       "        vertical-align: middle;\n",
       "    }\n",
       "\n",
       "    .dataframe tbody tr th {\n",
       "        vertical-align: top;\n",
       "    }\n",
       "\n",
       "    .dataframe thead th {\n",
       "        text-align: right;\n",
       "    }\n",
       "</style>\n",
       "<table border=\"1\" class=\"dataframe\">\n",
       "  <thead>\n",
       "    <tr style=\"text-align: right;\">\n",
       "      <th></th>\n",
       "      <th>text</th>\n",
       "      <th>lowered</th>\n",
       "    </tr>\n",
       "  </thead>\n",
       "  <tbody>\n",
       "    <tr>\n",
       "      <th>0</th>\n",
       "      <td>If I smelled the scent of hand sanitizers toda...</td>\n",
       "      <td>if i smelled the scent of hand sanitizers toda...</td>\n",
       "    </tr>\n",
       "    <tr>\n",
       "      <th>1</th>\n",
       "      <td>Hey @Yankees @YankeesPR and @MLB - wouldn't it...</td>\n",
       "      <td>hey @yankees @yankeespr and @mlb - wouldn't it...</td>\n",
       "    </tr>\n",
       "    <tr>\n",
       "      <th>2</th>\n",
       "      <td>@diane3443 @wdunlap @realDonaldTrump Trump nev...</td>\n",
       "      <td>@diane3443 @wdunlap @realdonaldtrump trump nev...</td>\n",
       "    </tr>\n",
       "    <tr>\n",
       "      <th>3</th>\n",
       "      <td>@brookbanktv The one gift #COVID19 has give me...</td>\n",
       "      <td>@brookbanktv the one gift #covid19 has give me...</td>\n",
       "    </tr>\n",
       "    <tr>\n",
       "      <th>4</th>\n",
       "      <td>25 July : Media Bulletin on Novel #CoronaVirus...</td>\n",
       "      <td>25 july : media bulletin on novel #coronavirus...</td>\n",
       "    </tr>\n",
       "  </tbody>\n",
       "</table>\n",
       "</div>"
      ],
      "text/plain": [
       "                                                text  \\\n",
       "0  If I smelled the scent of hand sanitizers toda...   \n",
       "1  Hey @Yankees @YankeesPR and @MLB - wouldn't it...   \n",
       "2  @diane3443 @wdunlap @realDonaldTrump Trump nev...   \n",
       "3  @brookbanktv The one gift #COVID19 has give me...   \n",
       "4  25 July : Media Bulletin on Novel #CoronaVirus...   \n",
       "\n",
       "                                             lowered  \n",
       "0  if i smelled the scent of hand sanitizers toda...  \n",
       "1  hey @yankees @yankeespr and @mlb - wouldn't it...  \n",
       "2  @diane3443 @wdunlap @realdonaldtrump trump nev...  \n",
       "3  @brookbanktv the one gift #covid19 has give me...  \n",
       "4  25 july : media bulletin on novel #coronavirus...  "
      ]
     },
     "execution_count": 39,
     "metadata": {},
     "output_type": "execute_result"
    }
   ],
   "source": [
    "tweets.head(5)"
   ]
  },
  {
   "cell_type": "markdown",
   "metadata": {
    "id": "yQvZ4S0aytbb"
   },
   "source": [
    "### Clean text punctuation marks"
   ]
  },
  {
   "cell_type": "code",
   "execution_count": 40,
   "metadata": {},
   "outputs": [],
   "source": [
    "import re"
   ]
  },
  {
   "cell_type": "code",
   "execution_count": 41,
   "metadata": {
    "id": "iY2uvfoQz2Dz"
   },
   "outputs": [],
   "source": [
    "tweets['lowered']=[re.sub(r'[^\\w\\s]','',text) for text in tweets['lowered']]"
   ]
  },
  {
   "cell_type": "code",
   "execution_count": 42,
   "metadata": {
    "colab": {
     "base_uri": "https://localhost:8080/",
     "height": 206
    },
    "id": "_1Kk_QZn0qtb",
    "outputId": "28359572-1235-4459-8a95-3c5ef5d95408"
   },
   "outputs": [
    {
     "data": {
      "text/html": [
       "<div>\n",
       "<style scoped>\n",
       "    .dataframe tbody tr th:only-of-type {\n",
       "        vertical-align: middle;\n",
       "    }\n",
       "\n",
       "    .dataframe tbody tr th {\n",
       "        vertical-align: top;\n",
       "    }\n",
       "\n",
       "    .dataframe thead th {\n",
       "        text-align: right;\n",
       "    }\n",
       "</style>\n",
       "<table border=\"1\" class=\"dataframe\">\n",
       "  <thead>\n",
       "    <tr style=\"text-align: right;\">\n",
       "      <th></th>\n",
       "      <th>text</th>\n",
       "      <th>lowered</th>\n",
       "    </tr>\n",
       "  </thead>\n",
       "  <tbody>\n",
       "    <tr>\n",
       "      <th>0</th>\n",
       "      <td>If I smelled the scent of hand sanitizers toda...</td>\n",
       "      <td>if i smelled the scent of hand sanitizers toda...</td>\n",
       "    </tr>\n",
       "    <tr>\n",
       "      <th>1</th>\n",
       "      <td>Hey @Yankees @YankeesPR and @MLB - wouldn't it...</td>\n",
       "      <td>hey yankees yankeespr and mlb  wouldnt it have...</td>\n",
       "    </tr>\n",
       "    <tr>\n",
       "      <th>2</th>\n",
       "      <td>@diane3443 @wdunlap @realDonaldTrump Trump nev...</td>\n",
       "      <td>diane3443 wdunlap realdonaldtrump trump never ...</td>\n",
       "    </tr>\n",
       "    <tr>\n",
       "      <th>3</th>\n",
       "      <td>@brookbanktv The one gift #COVID19 has give me...</td>\n",
       "      <td>brookbanktv the one gift covid19 has give me i...</td>\n",
       "    </tr>\n",
       "    <tr>\n",
       "      <th>4</th>\n",
       "      <td>25 July : Media Bulletin on Novel #CoronaVirus...</td>\n",
       "      <td>25 july  media bulletin on novel coronavirusup...</td>\n",
       "    </tr>\n",
       "  </tbody>\n",
       "</table>\n",
       "</div>"
      ],
      "text/plain": [
       "                                                text  \\\n",
       "0  If I smelled the scent of hand sanitizers toda...   \n",
       "1  Hey @Yankees @YankeesPR and @MLB - wouldn't it...   \n",
       "2  @diane3443 @wdunlap @realDonaldTrump Trump nev...   \n",
       "3  @brookbanktv The one gift #COVID19 has give me...   \n",
       "4  25 July : Media Bulletin on Novel #CoronaVirus...   \n",
       "\n",
       "                                             lowered  \n",
       "0  if i smelled the scent of hand sanitizers toda...  \n",
       "1  hey yankees yankeespr and mlb  wouldnt it have...  \n",
       "2  diane3443 wdunlap realdonaldtrump trump never ...  \n",
       "3  brookbanktv the one gift covid19 has give me i...  \n",
       "4  25 july  media bulletin on novel coronavirusup...  "
      ]
     },
     "execution_count": 42,
     "metadata": {},
     "output_type": "execute_result"
    }
   ],
   "source": [
    "tweets.head(5)"
   ]
  },
  {
   "cell_type": "markdown",
   "metadata": {
    "id": "S5WXcP9K1UlZ"
   },
   "source": [
    "### Tokenization\n",
    "Breaking down text into smaller pieces"
   ]
  },
  {
   "cell_type": "code",
   "execution_count": 43,
   "metadata": {
    "scrolled": false
   },
   "outputs": [
    {
     "name": "stderr",
     "output_type": "stream",
     "text": [
      "[nltk_data] Downloading package punkt to\n",
      "[nltk_data]     C:\\Users\\User\\AppData\\Roaming\\nltk_data...\n",
      "[nltk_data]   Package punkt is already up-to-date!\n"
     ]
    },
    {
     "data": {
      "text/plain": [
       "True"
      ]
     },
     "execution_count": 43,
     "metadata": {},
     "output_type": "execute_result"
    }
   ],
   "source": [
    "import numpy as np\n",
    "import nltk\n",
    "nltk.download('punkt')"
   ]
  },
  {
   "cell_type": "code",
   "execution_count": 44,
   "metadata": {
    "id": "gCjjikwR1AVH"
   },
   "outputs": [],
   "source": [
    "tokened = tweets.apply(lambda row: nltk.word_tokenize(row['lowered']), axis=1)\n",
    "tweets['tokenized'] = tokened"
   ]
  },
  {
   "cell_type": "code",
   "execution_count": 45,
   "metadata": {
    "colab": {
     "base_uri": "https://localhost:8080/",
     "height": 201
    },
    "id": "eImJ-kVp2KG9",
    "outputId": "4b4c02ac-b054-4cd7-c7ed-5ca4eb2dc896"
   },
   "outputs": [
    {
     "data": {
      "text/html": [
       "<div>\n",
       "<style scoped>\n",
       "    .dataframe tbody tr th:only-of-type {\n",
       "        vertical-align: middle;\n",
       "    }\n",
       "\n",
       "    .dataframe tbody tr th {\n",
       "        vertical-align: top;\n",
       "    }\n",
       "\n",
       "    .dataframe thead th {\n",
       "        text-align: right;\n",
       "    }\n",
       "</style>\n",
       "<table border=\"1\" class=\"dataframe\">\n",
       "  <thead>\n",
       "    <tr style=\"text-align: right;\">\n",
       "      <th></th>\n",
       "      <th>text</th>\n",
       "      <th>lowered</th>\n",
       "      <th>tokenized</th>\n",
       "    </tr>\n",
       "  </thead>\n",
       "  <tbody>\n",
       "    <tr>\n",
       "      <th>0</th>\n",
       "      <td>If I smelled the scent of hand sanitizers toda...</td>\n",
       "      <td>if i smelled the scent of hand sanitizers toda...</td>\n",
       "      <td>[if, i, smelled, the, scent, of, hand, sanitiz...</td>\n",
       "    </tr>\n",
       "    <tr>\n",
       "      <th>1</th>\n",
       "      <td>Hey @Yankees @YankeesPR and @MLB - wouldn't it...</td>\n",
       "      <td>hey yankees yankeespr and mlb  wouldnt it have...</td>\n",
       "      <td>[hey, yankees, yankeespr, and, mlb, wouldnt, i...</td>\n",
       "    </tr>\n",
       "    <tr>\n",
       "      <th>2</th>\n",
       "      <td>@diane3443 @wdunlap @realDonaldTrump Trump nev...</td>\n",
       "      <td>diane3443 wdunlap realdonaldtrump trump never ...</td>\n",
       "      <td>[diane3443, wdunlap, realdonaldtrump, trump, n...</td>\n",
       "    </tr>\n",
       "    <tr>\n",
       "      <th>3</th>\n",
       "      <td>@brookbanktv The one gift #COVID19 has give me...</td>\n",
       "      <td>brookbanktv the one gift covid19 has give me i...</td>\n",
       "      <td>[brookbanktv, the, one, gift, covid19, has, gi...</td>\n",
       "    </tr>\n",
       "    <tr>\n",
       "      <th>4</th>\n",
       "      <td>25 July : Media Bulletin on Novel #CoronaVirus...</td>\n",
       "      <td>25 july  media bulletin on novel coronavirusup...</td>\n",
       "      <td>[25, july, media, bulletin, on, novel, coronav...</td>\n",
       "    </tr>\n",
       "  </tbody>\n",
       "</table>\n",
       "</div>"
      ],
      "text/plain": [
       "                                                text  \\\n",
       "0  If I smelled the scent of hand sanitizers toda...   \n",
       "1  Hey @Yankees @YankeesPR and @MLB - wouldn't it...   \n",
       "2  @diane3443 @wdunlap @realDonaldTrump Trump nev...   \n",
       "3  @brookbanktv The one gift #COVID19 has give me...   \n",
       "4  25 July : Media Bulletin on Novel #CoronaVirus...   \n",
       "\n",
       "                                             lowered  \\\n",
       "0  if i smelled the scent of hand sanitizers toda...   \n",
       "1  hey yankees yankeespr and mlb  wouldnt it have...   \n",
       "2  diane3443 wdunlap realdonaldtrump trump never ...   \n",
       "3  brookbanktv the one gift covid19 has give me i...   \n",
       "4  25 july  media bulletin on novel coronavirusup...   \n",
       "\n",
       "                                           tokenized  \n",
       "0  [if, i, smelled, the, scent, of, hand, sanitiz...  \n",
       "1  [hey, yankees, yankeespr, and, mlb, wouldnt, i...  \n",
       "2  [diane3443, wdunlap, realdonaldtrump, trump, n...  \n",
       "3  [brookbanktv, the, one, gift, covid19, has, gi...  \n",
       "4  [25, july, media, bulletin, on, novel, coronav...  "
      ]
     },
     "execution_count": 45,
     "metadata": {},
     "output_type": "execute_result"
    }
   ],
   "source": [
    "tweets.head(5)"
   ]
  },
  {
   "cell_type": "markdown",
   "metadata": {
    "id": "CtIYbeDI1XVx"
   },
   "source": [
    "### Cleaning text from stop words"
   ]
  },
  {
   "cell_type": "code",
   "execution_count": 46,
   "metadata": {},
   "outputs": [
    {
     "name": "stderr",
     "output_type": "stream",
     "text": [
      "[nltk_data] Downloading package stopwords to\n",
      "[nltk_data]     C:\\Users\\User\\AppData\\Roaming\\nltk_data...\n",
      "[nltk_data]   Unzipping corpora\\stopwords.zip.\n"
     ]
    },
    {
     "data": {
      "text/plain": [
       "True"
      ]
     },
     "execution_count": 46,
     "metadata": {},
     "output_type": "execute_result"
    }
   ],
   "source": [
    "from nltk.corpus import stopwords\n",
    "nltk.download('stopwords')"
   ]
  },
  {
   "cell_type": "code",
   "execution_count": 47,
   "metadata": {
    "id": "cxjQNIf50Cy2"
   },
   "outputs": [],
   "source": [
    "noise = stopwords.words('english')\n",
    "withoutstop = tweets['tokenized'].apply(lambda x: [item for item in x if item not in noise])\n",
    "without_stop = []\n",
    "for a in withoutstop:    \n",
    "    without_stop.append(\", \".join(a))\n",
    "tweets['without_stop'] = without_stop"
   ]
  },
  {
   "cell_type": "code",
   "execution_count": 48,
   "metadata": {
    "colab": {
     "base_uri": "https://localhost:8080/",
     "height": 337
    },
    "id": "LY3c6E7N0PNW",
    "outputId": "9b285ca6-4da6-478f-802b-b57ad5efc668"
   },
   "outputs": [
    {
     "data": {
      "text/html": [
       "<div>\n",
       "<style scoped>\n",
       "    .dataframe tbody tr th:only-of-type {\n",
       "        vertical-align: middle;\n",
       "    }\n",
       "\n",
       "    .dataframe tbody tr th {\n",
       "        vertical-align: top;\n",
       "    }\n",
       "\n",
       "    .dataframe thead th {\n",
       "        text-align: right;\n",
       "    }\n",
       "</style>\n",
       "<table border=\"1\" class=\"dataframe\">\n",
       "  <thead>\n",
       "    <tr style=\"text-align: right;\">\n",
       "      <th></th>\n",
       "      <th>text</th>\n",
       "      <th>lowered</th>\n",
       "      <th>tokenized</th>\n",
       "      <th>without_stop</th>\n",
       "    </tr>\n",
       "  </thead>\n",
       "  <tbody>\n",
       "    <tr>\n",
       "      <th>0</th>\n",
       "      <td>If I smelled the scent of hand sanitizers toda...</td>\n",
       "      <td>if i smelled the scent of hand sanitizers toda...</td>\n",
       "      <td>[if, i, smelled, the, scent, of, hand, sanitiz...</td>\n",
       "      <td>smelled, scent, hand, sanitizers, today, someo...</td>\n",
       "    </tr>\n",
       "    <tr>\n",
       "      <th>1</th>\n",
       "      <td>Hey @Yankees @YankeesPR and @MLB - wouldn't it...</td>\n",
       "      <td>hey yankees yankeespr and mlb  wouldnt it have...</td>\n",
       "      <td>[hey, yankees, yankeespr, and, mlb, wouldnt, i...</td>\n",
       "      <td>hey, yankees, yankeespr, mlb, wouldnt, made, s...</td>\n",
       "    </tr>\n",
       "    <tr>\n",
       "      <th>2</th>\n",
       "      <td>@diane3443 @wdunlap @realDonaldTrump Trump nev...</td>\n",
       "      <td>diane3443 wdunlap realdonaldtrump trump never ...</td>\n",
       "      <td>[diane3443, wdunlap, realdonaldtrump, trump, n...</td>\n",
       "      <td>diane3443, wdunlap, realdonaldtrump, trump, ne...</td>\n",
       "    </tr>\n",
       "    <tr>\n",
       "      <th>3</th>\n",
       "      <td>@brookbanktv The one gift #COVID19 has give me...</td>\n",
       "      <td>brookbanktv the one gift covid19 has give me i...</td>\n",
       "      <td>[brookbanktv, the, one, gift, covid19, has, gi...</td>\n",
       "      <td>brookbanktv, one, gift, covid19, give, appreci...</td>\n",
       "    </tr>\n",
       "    <tr>\n",
       "      <th>4</th>\n",
       "      <td>25 July : Media Bulletin on Novel #CoronaVirus...</td>\n",
       "      <td>25 july  media bulletin on novel coronavirusup...</td>\n",
       "      <td>[25, july, media, bulletin, on, novel, coronav...</td>\n",
       "      <td>25, july, media, bulletin, novel, coronavirusu...</td>\n",
       "    </tr>\n",
       "  </tbody>\n",
       "</table>\n",
       "</div>"
      ],
      "text/plain": [
       "                                                text  \\\n",
       "0  If I smelled the scent of hand sanitizers toda...   \n",
       "1  Hey @Yankees @YankeesPR and @MLB - wouldn't it...   \n",
       "2  @diane3443 @wdunlap @realDonaldTrump Trump nev...   \n",
       "3  @brookbanktv The one gift #COVID19 has give me...   \n",
       "4  25 July : Media Bulletin on Novel #CoronaVirus...   \n",
       "\n",
       "                                             lowered  \\\n",
       "0  if i smelled the scent of hand sanitizers toda...   \n",
       "1  hey yankees yankeespr and mlb  wouldnt it have...   \n",
       "2  diane3443 wdunlap realdonaldtrump trump never ...   \n",
       "3  brookbanktv the one gift covid19 has give me i...   \n",
       "4  25 july  media bulletin on novel coronavirusup...   \n",
       "\n",
       "                                           tokenized  \\\n",
       "0  [if, i, smelled, the, scent, of, hand, sanitiz...   \n",
       "1  [hey, yankees, yankeespr, and, mlb, wouldnt, i...   \n",
       "2  [diane3443, wdunlap, realdonaldtrump, trump, n...   \n",
       "3  [brookbanktv, the, one, gift, covid19, has, gi...   \n",
       "4  [25, july, media, bulletin, on, novel, coronav...   \n",
       "\n",
       "                                        without_stop  \n",
       "0  smelled, scent, hand, sanitizers, today, someo...  \n",
       "1  hey, yankees, yankeespr, mlb, wouldnt, made, s...  \n",
       "2  diane3443, wdunlap, realdonaldtrump, trump, ne...  \n",
       "3  brookbanktv, one, gift, covid19, give, appreci...  \n",
       "4  25, july, media, bulletin, novel, coronavirusu...  "
      ]
     },
     "execution_count": 48,
     "metadata": {},
     "output_type": "execute_result"
    }
   ],
   "source": [
    "tweets.head(5)"
   ]
  },
  {
   "cell_type": "markdown",
   "metadata": {
    "id": "oRTbKRs40Kmn"
   },
   "source": [
    "### Lemmatization \n",
    "Reducing words to its base"
   ]
  },
  {
   "cell_type": "code",
   "execution_count": 55,
   "metadata": {},
   "outputs": [
    {
     "name": "stderr",
     "output_type": "stream",
     "text": [
      "[nltk_data] Downloading package wordnet to\n",
      "[nltk_data]     C:\\Users\\User\\AppData\\Roaming\\nltk_data...\n",
      "[nltk_data]   Package wordnet is already up-to-date!\n",
      "[nltk_data] Downloading package omw-1.4 to\n",
      "[nltk_data]     C:\\Users\\User\\AppData\\Roaming\\nltk_data...\n"
     ]
    },
    {
     "data": {
      "text/plain": [
       "True"
      ]
     },
     "execution_count": 55,
     "metadata": {},
     "output_type": "execute_result"
    }
   ],
   "source": [
    "from nltk.stem import WordNetLemmatizer\n",
    "from nltk.tokenize import word_tokenize\n",
    "nltk.download('wordnet')\n",
    "nltk.download('omw-1.4')"
   ]
  },
  {
   "cell_type": "code",
   "execution_count": 56,
   "metadata": {
    "id": "hJHV49R30KOx"
   },
   "outputs": [],
   "source": [
    "lemmatizer = WordNetLemmatizer()\n",
    "\n",
    "def lemmatize_text(text):\n",
    "    tokens = nltk.word_tokenize(text)\n",
    "    lemmatized_tokens = [lemmatizer.lemmatize(token) for token in tokens]\n",
    "    return ' '.join(lemmatized_tokens)"
   ]
  },
  {
   "cell_type": "code",
   "execution_count": 57,
   "metadata": {
    "id": "v-w591Lr1_6m",
    "scrolled": false
   },
   "outputs": [],
   "source": [
    "tweets['lemmatized'] = tweets['without_stop'].apply(lemmatize_text)"
   ]
  },
  {
   "cell_type": "code",
   "execution_count": 58,
   "metadata": {
    "id": "HvkMcxJl3Axy"
   },
   "outputs": [],
   "source": [
    "tweets['text']=tweets['lemmatized']\n",
    "tweets=tweets[['text']]"
   ]
  },
  {
   "cell_type": "code",
   "execution_count": 59,
   "metadata": {
    "colab": {
     "base_uri": "https://localhost:8080/",
     "height": 206
    },
    "id": "MGxr_xJY1Jec",
    "outputId": "7b7d3536-3711-414f-e2dc-95682bcd03be"
   },
   "outputs": [
    {
     "data": {
      "text/html": [
       "<div>\n",
       "<style scoped>\n",
       "    .dataframe tbody tr th:only-of-type {\n",
       "        vertical-align: middle;\n",
       "    }\n",
       "\n",
       "    .dataframe tbody tr th {\n",
       "        vertical-align: top;\n",
       "    }\n",
       "\n",
       "    .dataframe thead th {\n",
       "        text-align: right;\n",
       "    }\n",
       "</style>\n",
       "<table border=\"1\" class=\"dataframe\">\n",
       "  <thead>\n",
       "    <tr style=\"text-align: right;\">\n",
       "      <th></th>\n",
       "      <th>text</th>\n",
       "    </tr>\n",
       "  </thead>\n",
       "  <tbody>\n",
       "    <tr>\n",
       "      <th>0</th>\n",
       "      <td>smelled , scent , hand , sanitizers , today , ...</td>\n",
       "    </tr>\n",
       "    <tr>\n",
       "      <th>1</th>\n",
       "      <td>hey , yankee , yankeespr , mlb , wouldnt , mad...</td>\n",
       "    </tr>\n",
       "    <tr>\n",
       "      <th>2</th>\n",
       "      <td>diane3443 , wdunlap , realdonaldtrump , trump ...</td>\n",
       "    </tr>\n",
       "    <tr>\n",
       "      <th>3</th>\n",
       "      <td>brookbanktv , one , gift , covid19 , give , ap...</td>\n",
       "    </tr>\n",
       "    <tr>\n",
       "      <th>4</th>\n",
       "      <td>25 , july , medium , bulletin , novel , corona...</td>\n",
       "    </tr>\n",
       "  </tbody>\n",
       "</table>\n",
       "</div>"
      ],
      "text/plain": [
       "                                                text\n",
       "0  smelled , scent , hand , sanitizers , today , ...\n",
       "1  hey , yankee , yankeespr , mlb , wouldnt , mad...\n",
       "2  diane3443 , wdunlap , realdonaldtrump , trump ...\n",
       "3  brookbanktv , one , gift , covid19 , give , ap...\n",
       "4  25 , july , medium , bulletin , novel , corona..."
      ]
     },
     "execution_count": 59,
     "metadata": {},
     "output_type": "execute_result"
    }
   ],
   "source": [
    "tweets.head(5)"
   ]
  },
  {
   "cell_type": "markdown",
   "metadata": {
    "id": "UR7fEDm13Q85"
   },
   "source": [
    "### Create a dictionary of the words and frequencies"
   ]
  },
  {
   "cell_type": "code",
   "execution_count": 61,
   "metadata": {},
   "outputs": [],
   "source": [
    "import gensim\n",
    "from gensim import corpora"
   ]
  },
  {
   "cell_type": "code",
   "execution_count": 62,
   "metadata": {
    "id": "1rc0BDbV6nZf"
   },
   "outputs": [],
   "source": [
    "tokenized_text = [word_tokenize(text) for text in tweets['text']]"
   ]
  },
  {
   "cell_type": "code",
   "execution_count": 63,
   "metadata": {
    "colab": {
     "base_uri": "https://localhost:8080/",
     "height": 165
    },
    "id": "cquXq16k3Kix",
    "outputId": "af8d3075-5dc5-4c48-c933-00ecf3414b3f"
   },
   "outputs": [],
   "source": [
    "dictionary = corpora.Dictionary(tokenized_text)"
   ]
  },
  {
   "cell_type": "code",
   "execution_count": 64,
   "metadata": {
    "id": "giPp2gKK7c_i"
   },
   "outputs": [
    {
     "name": "stdout",
     "output_type": "stream",
     "text": [
      "Dictionary(323408 unique tokens: [',', 'hand', 'httpstcoqzvybrogb0', 'intoxicated', 'past']...)\n"
     ]
    }
   ],
   "source": [
    "print (dictionary)"
   ]
  },
  {
   "cell_type": "code",
   "execution_count": 65,
   "metadata": {
    "colab": {
     "base_uri": "https://localhost:8080/"
    },
    "id": "kJZb3-r5_lQf",
    "outputId": "a967c67a-cba8-4cf1-95e8-948db80045b8"
   },
   "outputs": [],
   "source": [
    "corpus = [dictionary.doc2bow(doc) for doc in tokenized_text]"
   ]
  },
  {
   "cell_type": "markdown",
   "metadata": {
    "id": "7TwF4uSG7uAW"
   },
   "source": [
    "### Explore hidden toppics using LDA model\n",
    "Choosing the optimal number of topics"
   ]
  },
  {
   "cell_type": "code",
   "execution_count": 66,
   "metadata": {},
   "outputs": [],
   "source": [
    "from gensim.models.ldamulticore import LdaMulticore\n",
    "from gensim.models.coherencemodel import CoherenceModel"
   ]
  },
  {
   "cell_type": "markdown",
   "metadata": {
    "id": "j3NnOF1hMXyz"
   },
   "source": [
    "Model №1 \\\n",
    "10 topics"
   ]
  },
  {
   "cell_type": "code",
   "execution_count": 67,
   "metadata": {
    "colab": {
     "base_uri": "https://localhost:8080/"
    },
    "id": "xTwdRnEo345T",
    "outputId": "82d6314d-1f45-48e6-b7e4-136278103021"
   },
   "outputs": [],
   "source": [
    "model1=LdaMulticore(corpus=corpus, id2word=dictionary, num_topics=int(10), \n",
    "random_state=200, workers=4)"
   ]
  },
  {
   "cell_type": "code",
   "execution_count": 68,
   "metadata": {
    "id": "qPwG7YQpKGKV"
   },
   "outputs": [],
   "source": [
    "coherence_model_1 = CoherenceModel(model=model1, texts=tokenized_text, \n",
    "dictionary=dictionary, coherence='c_v')"
   ]
  },
  {
   "cell_type": "code",
   "execution_count": 69,
   "metadata": {
    "colab": {
     "base_uri": "https://localhost:8080/"
    },
    "id": "HVSjiMrwK71S",
    "outputId": "7633acdc-f8dd-40e6-b3c3-242a0a26ff05"
   },
   "outputs": [
    {
     "name": "stdout",
     "output_type": "stream",
     "text": [
      "Coherence Score: 0.31507275776015925\n"
     ]
    }
   ],
   "source": [
    "coherence_score = coherence_model_1.get_coherence()\n",
    "print('Coherence Score:', coherence_score)"
   ]
  },
  {
   "cell_type": "markdown",
   "metadata": {
    "id": "Wz7S11DdMhpq"
   },
   "source": [
    "Model №2 \\\n",
    "5 topics"
   ]
  },
  {
   "cell_type": "code",
   "execution_count": 70,
   "metadata": {
    "colab": {
     "base_uri": "https://localhost:8080/"
    },
    "id": "y2GcD3xlLUJA",
    "outputId": "91083e89-71c4-40d1-ad24-ae6bac2fb398"
   },
   "outputs": [],
   "source": [
    "model2=LdaMulticore(corpus=corpus, id2word=dictionary, num_topics=5, \n",
    "random_state=200, workers=4)"
   ]
  },
  {
   "cell_type": "code",
   "execution_count": 71,
   "metadata": {
    "colab": {
     "base_uri": "https://localhost:8080/"
    },
    "id": "fwMG1dKMLfix",
    "outputId": "91ccb97d-6572-4a6f-c698-a4fa3aff05dc"
   },
   "outputs": [],
   "source": [
    "coherence_model_2 = CoherenceModel(model=model2, texts=tokenized_text, \n",
    "dictionary=dictionary, coherence='c_v')"
   ]
  },
  {
   "cell_type": "code",
   "execution_count": 72,
   "metadata": {
    "colab": {
     "base_uri": "https://localhost:8080/"
    },
    "id": "ml_XruFVLiX_",
    "outputId": "01827824-56dd-4e0e-a9ea-97e85416e7ad"
   },
   "outputs": [
    {
     "name": "stdout",
     "output_type": "stream",
     "text": [
      "Coherence Score: 0.3211961949955794\n"
     ]
    }
   ],
   "source": [
    "coherence_score = coherence_model_2.get_coherence()\n",
    "print('Coherence Score:', coherence_score)"
   ]
  },
  {
   "cell_type": "markdown",
   "metadata": {
    "id": "rooltxV1Mlmg"
   },
   "source": [
    "Model №3 \\\n",
    "20 topics"
   ]
  },
  {
   "cell_type": "code",
   "execution_count": 73,
   "metadata": {
    "colab": {
     "base_uri": "https://localhost:8080/"
    },
    "id": "k4_R-67GLjxz",
    "outputId": "683623f7-c90f-4268-c44e-928684c15648"
   },
   "outputs": [],
   "source": [
    "model3=LdaMulticore(corpus=corpus, id2word=dictionary, num_topics=20, \n",
    "random_state=200, workers=4)"
   ]
  },
  {
   "cell_type": "code",
   "execution_count": 74,
   "metadata": {
    "colab": {
     "base_uri": "https://localhost:8080/"
    },
    "id": "o6J6XGgdLohP",
    "outputId": "f6e0a6e0-90ff-49c8-ae5c-50ad65e35031"
   },
   "outputs": [],
   "source": [
    "coherence_model_3 = CoherenceModel(model=model3, texts=tokenized_text, \n",
    "dictionary=dictionary, coherence='c_v')"
   ]
  },
  {
   "cell_type": "code",
   "execution_count": 75,
   "metadata": {
    "colab": {
     "base_uri": "https://localhost:8080/"
    },
    "id": "yOkTgl8kLra6",
    "outputId": "454c57b3-aed3-438d-8b57-e04183a0bd01"
   },
   "outputs": [
    {
     "name": "stdout",
     "output_type": "stream",
     "text": [
      "Coherence Score: 0.3792560123830891\n"
     ]
    }
   ],
   "source": [
    "coherence_score = coherence_model_3.get_coherence()\n",
    "print('Coherence Score:', coherence_score)"
   ]
  },
  {
   "cell_type": "markdown",
   "metadata": {
    "id": "wJPFxB8ZMLv6"
   },
   "source": [
    "Model 3 with 10 topics has the highest score = 0,38"
   ]
  },
  {
   "cell_type": "markdown",
   "metadata": {
    "id": "JfTXW3qSLLNB"
   },
   "source": [
    "### Result's visualization"
   ]
  },
  {
   "cell_type": "code",
   "execution_count": 90,
   "metadata": {
    "scrolled": false
   },
   "outputs": [
    {
     "name": "stdout",
     "output_type": "stream",
     "text": [
      "Collecting pyLDAvis==2.1.2\n",
      "  Downloading pyLDAvis-2.1.2.tar.gz (1.6 MB)\n",
      "     ---------------------------------------- 1.6/1.6 MB 1.0 MB/s eta 0:00:00\n",
      "  Preparing metadata (setup.py): started\n",
      "  Preparing metadata (setup.py): finished with status 'done'\n",
      "Requirement already satisfied: wheel>=0.23.0 in c:\\users\\user\\anaconda3\\lib\\site-packages (from pyLDAvis==2.1.2) (0.37.1)\n",
      "Requirement already satisfied: numpy>=1.9.2 in c:\\users\\user\\anaconda3\\lib\\site-packages (from pyLDAvis==2.1.2) (1.24.3)\n",
      "Requirement already satisfied: scipy>=0.18.0 in c:\\users\\user\\anaconda3\\lib\\site-packages (from pyLDAvis==2.1.2) (1.9.1)\n",
      "Requirement already satisfied: pandas>=0.17.0 in c:\\users\\user\\anaconda3\\lib\\site-packages (from pyLDAvis==2.1.2) (2.0.1)\n",
      "Requirement already satisfied: joblib>=0.8.4 in c:\\users\\user\\anaconda3\\lib\\site-packages (from pyLDAvis==2.1.2) (1.2.0)\n",
      "Requirement already satisfied: jinja2>=2.7.2 in c:\\users\\user\\anaconda3\\lib\\site-packages (from pyLDAvis==2.1.2) (2.11.3)\n",
      "Requirement already satisfied: numexpr in c:\\users\\user\\anaconda3\\lib\\site-packages (from pyLDAvis==2.1.2) (2.8.3)\n",
      "Requirement already satisfied: pytest in c:\\users\\user\\anaconda3\\lib\\site-packages (from pyLDAvis==2.1.2) (7.1.2)\n",
      "Requirement already satisfied: future in c:\\users\\user\\anaconda3\\lib\\site-packages (from pyLDAvis==2.1.2) (0.18.2)\n",
      "Requirement already satisfied: funcy in c:\\users\\user\\anaconda3\\lib\\site-packages (from pyLDAvis==2.1.2) (2.0)\n",
      "Requirement already satisfied: MarkupSafe>=0.23 in c:\\users\\user\\anaconda3\\lib\\site-packages (from jinja2>=2.7.2->pyLDAvis==2.1.2) (2.0.1)\n",
      "Requirement already satisfied: tzdata>=2022.1 in c:\\users\\user\\anaconda3\\lib\\site-packages (from pandas>=0.17.0->pyLDAvis==2.1.2) (2022.6)\n",
      "Requirement already satisfied: pytz>=2020.1 in c:\\users\\user\\anaconda3\\lib\\site-packages (from pandas>=0.17.0->pyLDAvis==2.1.2) (2022.1)\n",
      "Requirement already satisfied: python-dateutil>=2.8.2 in c:\\users\\user\\anaconda3\\lib\\site-packages (from pandas>=0.17.0->pyLDAvis==2.1.2) (2.8.2)\n",
      "Requirement already satisfied: packaging in c:\\users\\user\\anaconda3\\lib\\site-packages (from numexpr->pyLDAvis==2.1.2) (21.3)\n",
      "Requirement already satisfied: attrs>=19.2.0 in c:\\users\\user\\anaconda3\\lib\\site-packages (from pytest->pyLDAvis==2.1.2) (21.4.0)\n",
      "Requirement already satisfied: iniconfig in c:\\users\\user\\anaconda3\\lib\\site-packages (from pytest->pyLDAvis==2.1.2) (1.1.1)\n",
      "Requirement already satisfied: pluggy<2.0,>=0.12 in c:\\users\\user\\anaconda3\\lib\\site-packages (from pytest->pyLDAvis==2.1.2) (1.0.0)\n",
      "Requirement already satisfied: py>=1.8.2 in c:\\users\\user\\anaconda3\\lib\\site-packages (from pytest->pyLDAvis==2.1.2) (1.11.0)\n",
      "Requirement already satisfied: tomli>=1.0.0 in c:\\users\\user\\anaconda3\\lib\\site-packages (from pytest->pyLDAvis==2.1.2) (2.0.1)\n",
      "Requirement already satisfied: atomicwrites>=1.0 in c:\\users\\user\\anaconda3\\lib\\site-packages (from pytest->pyLDAvis==2.1.2) (1.4.0)\n",
      "Requirement already satisfied: colorama in c:\\users\\user\\anaconda3\\lib\\site-packages (from pytest->pyLDAvis==2.1.2) (0.4.5)\n",
      "Requirement already satisfied: six>=1.5 in c:\\users\\user\\anaconda3\\lib\\site-packages (from python-dateutil>=2.8.2->pandas>=0.17.0->pyLDAvis==2.1.2) (1.16.0)\n",
      "Requirement already satisfied: pyparsing!=3.0.5,>=2.0.2 in c:\\users\\user\\anaconda3\\lib\\site-packages (from packaging->numexpr->pyLDAvis==2.1.2) (3.0.9)\n",
      "Building wheels for collected packages: pyLDAvis\n",
      "  Building wheel for pyLDAvis (setup.py): started\n",
      "  Building wheel for pyLDAvis (setup.py): finished with status 'done'\n",
      "  Created wheel for pyLDAvis: filename=pyLDAvis-2.1.2-py2.py3-none-any.whl size=97721 sha256=8eabd640eeb3cd0bb75c58eded2ff9614e2a8f5073ad38fff0c28f619c87ce3d\n",
      "  Stored in directory: c:\\users\\user\\appdata\\local\\pip\\cache\\wheels\\59\\70\\ee\\99a0df99d8b4a7b87c79640ebee0927c0f6ccff046e9cc2471\n",
      "Successfully built pyLDAvis\n",
      "Installing collected packages: pyLDAvis\n",
      "  Attempting uninstall: pyLDAvis\n",
      "    Found existing installation: pyLDAvis 3.4.1\n",
      "    Uninstalling pyLDAvis-3.4.1:\n",
      "      Successfully uninstalled pyLDAvis-3.4.1\n",
      "Successfully installed pyLDAvis-2.1.2\n",
      "Collecting pyLDAvis==2.1.2\n",
      "  Using cached pyLDAvis-2.1.2-py2.py3-none-any.whl\n",
      "Requirement already satisfied: pytest in c:\\users\\user\\anaconda3\\lib\\site-packages (from pyLDAvis==2.1.2) (7.1.2)\n",
      "Requirement already satisfied: joblib>=0.8.4 in c:\\users\\user\\anaconda3\\lib\\site-packages (from pyLDAvis==2.1.2) (1.2.0)\n",
      "Requirement already satisfied: pandas>=0.17.0 in c:\\users\\user\\anaconda3\\lib\\site-packages (from pyLDAvis==2.1.2) (2.0.1)\n",
      "Requirement already satisfied: wheel>=0.23.0 in c:\\users\\user\\anaconda3\\lib\\site-packages (from pyLDAvis==2.1.2) (0.37.1)\n",
      "Requirement already satisfied: future in c:\\users\\user\\anaconda3\\lib\\site-packages (from pyLDAvis==2.1.2) (0.18.2)\n",
      "Requirement already satisfied: funcy in c:\\users\\user\\anaconda3\\lib\\site-packages (from pyLDAvis==2.1.2) (2.0)\n",
      "Requirement already satisfied: numexpr in c:\\users\\user\\anaconda3\\lib\\site-packages (from pyLDAvis==2.1.2) (2.8.3)\n",
      "Requirement already satisfied: numpy>=1.9.2 in c:\\users\\user\\anaconda3\\lib\\site-packages (from pyLDAvis==2.1.2) (1.24.3)\n",
      "Requirement already satisfied: scipy>=0.18.0 in c:\\users\\user\\anaconda3\\lib\\site-packages (from pyLDAvis==2.1.2) (1.9.1)\n",
      "Requirement already satisfied: jinja2>=2.7.2 in c:\\users\\user\\anaconda3\\lib\\site-packages (from pyLDAvis==2.1.2) (2.11.3)\n",
      "Requirement already satisfied: MarkupSafe>=0.23 in c:\\users\\user\\anaconda3\\lib\\site-packages (from jinja2>=2.7.2->pyLDAvis==2.1.2) (2.0.1)\n",
      "Requirement already satisfied: pytz>=2020.1 in c:\\users\\user\\anaconda3\\lib\\site-packages (from pandas>=0.17.0->pyLDAvis==2.1.2) (2022.1)\n",
      "Requirement already satisfied: python-dateutil>=2.8.2 in c:\\users\\user\\anaconda3\\lib\\site-packages (from pandas>=0.17.0->pyLDAvis==2.1.2) (2.8.2)\n",
      "Requirement already satisfied: tzdata>=2022.1 in c:\\users\\user\\anaconda3\\lib\\site-packages (from pandas>=0.17.0->pyLDAvis==2.1.2) (2022.6)\n",
      "Requirement already satisfied: packaging in c:\\users\\user\\anaconda3\\lib\\site-packages (from numexpr->pyLDAvis==2.1.2) (21.3)\n",
      "Requirement already satisfied: attrs>=19.2.0 in c:\\users\\user\\anaconda3\\lib\\site-packages (from pytest->pyLDAvis==2.1.2) (21.4.0)\n",
      "Requirement already satisfied: iniconfig in c:\\users\\user\\anaconda3\\lib\\site-packages (from pytest->pyLDAvis==2.1.2) (1.1.1)\n",
      "Requirement already satisfied: pluggy<2.0,>=0.12 in c:\\users\\user\\anaconda3\\lib\\site-packages (from pytest->pyLDAvis==2.1.2) (1.0.0)\n",
      "Requirement already satisfied: py>=1.8.2 in c:\\users\\user\\anaconda3\\lib\\site-packages (from pytest->pyLDAvis==2.1.2) (1.11.0)\n",
      "Requirement already satisfied: tomli>=1.0.0 in c:\\users\\user\\anaconda3\\lib\\site-packages (from pytest->pyLDAvis==2.1.2) (2.0.1)\n",
      "Requirement already satisfied: atomicwrites>=1.0 in c:\\users\\user\\anaconda3\\lib\\site-packages (from pytest->pyLDAvis==2.1.2) (1.4.0)\n",
      "Requirement already satisfied: colorama in c:\\users\\user\\anaconda3\\lib\\site-packages (from pytest->pyLDAvis==2.1.2) (0.4.5)\n",
      "Requirement already satisfied: six>=1.5 in c:\\users\\user\\anaconda3\\lib\\site-packages (from python-dateutil>=2.8.2->pandas>=0.17.0->pyLDAvis==2.1.2) (1.16.0)\n",
      "Requirement already satisfied: pyparsing!=3.0.5,>=2.0.2 in c:\\users\\user\\anaconda3\\lib\\site-packages (from packaging->numexpr->pyLDAvis==2.1.2) (3.0.9)\n",
      "Installing collected packages: pyLDAvis\n",
      "  Attempting uninstall: pyLDAvis\n",
      "    Found existing installation: pyldavis 3.4.1\n",
      "    Can't uninstall 'pyldavis'. No files were found to uninstall.\n",
      "Successfully installed pyLDAvis-2.1.2\n"
     ]
    },
    {
     "name": "stderr",
     "output_type": "stream",
     "text": [
      "    WARNING: No metadata found in c:\\users\\user\\anaconda3\\lib\\site-packages\n"
     ]
    },
    {
     "name": "stdout",
     "output_type": "stream",
     "text": [
      "Collecting pyLDAvis==2.1.2\n",
      "  Using cached pyLDAvis-2.1.2.tar.gz (1.6 MB)\n",
      "  Preparing metadata (setup.py): started\n",
      "  Preparing metadata (setup.py): finished with status 'done'\n",
      "Requirement already satisfied: wheel>=0.23.0 in c:\\users\\user\\anaconda3\\lib\\site-packages (from pyLDAvis==2.1.2) (0.37.1)\n",
      "Requirement already satisfied: numpy>=1.9.2 in c:\\users\\user\\anaconda3\\lib\\site-packages (from pyLDAvis==2.1.2) (1.24.3)\n",
      "Requirement already satisfied: scipy>=0.18.0 in c:\\users\\user\\anaconda3\\lib\\site-packages (from pyLDAvis==2.1.2) (1.9.1)\n",
      "Requirement already satisfied: pandas>=0.17.0 in c:\\users\\user\\anaconda3\\lib\\site-packages (from pyLDAvis==2.1.2) (2.0.1)\n",
      "Requirement already satisfied: joblib>=0.8.4 in c:\\users\\user\\anaconda3\\lib\\site-packages (from pyLDAvis==2.1.2) (1.2.0)\n",
      "Requirement already satisfied: jinja2>=2.7.2 in c:\\users\\user\\anaconda3\\lib\\site-packages (from pyLDAvis==2.1.2) (2.11.3)\n",
      "Requirement already satisfied: numexpr in c:\\users\\user\\anaconda3\\lib\\site-packages (from pyLDAvis==2.1.2) (2.8.3)\n",
      "Requirement already satisfied: pytest in c:\\users\\user\\anaconda3\\lib\\site-packages (from pyLDAvis==2.1.2) (7.1.2)\n",
      "Requirement already satisfied: future in c:\\users\\user\\anaconda3\\lib\\site-packages (from pyLDAvis==2.1.2) (0.18.2)\n",
      "Requirement already satisfied: funcy in c:\\users\\user\\anaconda3\\lib\\site-packages (from pyLDAvis==2.1.2) (2.0)\n",
      "Requirement already satisfied: MarkupSafe>=0.23 in c:\\users\\user\\anaconda3\\lib\\site-packages (from jinja2>=2.7.2->pyLDAvis==2.1.2) (2.0.1)\n",
      "Requirement already satisfied: pytz>=2020.1 in c:\\users\\user\\anaconda3\\lib\\site-packages (from pandas>=0.17.0->pyLDAvis==2.1.2) (2022.1)\n",
      "Requirement already satisfied: tzdata>=2022.1 in c:\\users\\user\\anaconda3\\lib\\site-packages (from pandas>=0.17.0->pyLDAvis==2.1.2) (2022.6)\n",
      "Requirement already satisfied: python-dateutil>=2.8.2 in c:\\users\\user\\anaconda3\\lib\\site-packages (from pandas>=0.17.0->pyLDAvis==2.1.2) (2.8.2)\n",
      "Requirement already satisfied: packaging in c:\\users\\user\\anaconda3\\lib\\site-packages (from numexpr->pyLDAvis==2.1.2) (21.3)\n",
      "Requirement already satisfied: attrs>=19.2.0 in c:\\users\\user\\anaconda3\\lib\\site-packages (from pytest->pyLDAvis==2.1.2) (21.4.0)\n",
      "Requirement already satisfied: iniconfig in c:\\users\\user\\anaconda3\\lib\\site-packages (from pytest->pyLDAvis==2.1.2) (1.1.1)\n",
      "Requirement already satisfied: pluggy<2.0,>=0.12 in c:\\users\\user\\anaconda3\\lib\\site-packages (from pytest->pyLDAvis==2.1.2) (1.0.0)\n",
      "Requirement already satisfied: py>=1.8.2 in c:\\users\\user\\anaconda3\\lib\\site-packages (from pytest->pyLDAvis==2.1.2) (1.11.0)\n",
      "Requirement already satisfied: tomli>=1.0.0 in c:\\users\\user\\anaconda3\\lib\\site-packages (from pytest->pyLDAvis==2.1.2) (2.0.1)\n",
      "Requirement already satisfied: atomicwrites>=1.0 in c:\\users\\user\\anaconda3\\lib\\site-packages (from pytest->pyLDAvis==2.1.2) (1.4.0)\n",
      "Requirement already satisfied: colorama in c:\\users\\user\\anaconda3\\lib\\site-packages (from pytest->pyLDAvis==2.1.2) (0.4.5)\n",
      "Requirement already satisfied: six>=1.5 in c:\\users\\user\\anaconda3\\lib\\site-packages (from python-dateutil>=2.8.2->pandas>=0.17.0->pyLDAvis==2.1.2) (1.16.0)\n",
      "Requirement already satisfied: pyparsing!=3.0.5,>=2.0.2 in c:\\users\\user\\anaconda3\\lib\\site-packages (from packaging->numexpr->pyLDAvis==2.1.2) (3.0.9)\n",
      "Building wheels for collected packages: pyLDAvis\n",
      "  Building wheel for pyLDAvis (setup.py): started\n",
      "  Building wheel for pyLDAvis (setup.py): finished with status 'done'\n",
      "  Created wheel for pyLDAvis: filename=pyLDAvis-2.1.2-py2.py3-none-any.whl size=97721 sha256=4dbcfd59ac66cf240ea2da33107a44dbea6408a23c7be183c1645606fd3b8d1c\n",
      "  Stored in directory: c:\\users\\user\\appdata\\local\\pip\\cache\\wheels\\59\\70\\ee\\99a0df99d8b4a7b87c79640ebee0927c0f6ccff046e9cc2471\n",
      "Successfully built pyLDAvis\n",
      "Installing collected packages: pyLDAvis\n",
      "  Attempting uninstall: pyLDAvis\n",
      "    Found existing installation: pyldavis 3.4.1\n",
      "    Can't uninstall 'pyldavis'. No files were found to uninstall.\n",
      "Successfully installed pyLDAvis-2.1.2\n"
     ]
    },
    {
     "name": "stderr",
     "output_type": "stream",
     "text": [
      "WARNING: Error parsing requirements for pyldavis: [Errno 2] No such file or directory: 'c:\\\\users\\\\user\\\\anaconda3\\\\lib\\\\site-packages\\\\pyLDAvis-3.4.1.dist-info\\\\METADATA'\n",
      "    WARNING: No metadata found in c:\\users\\user\\anaconda3\\lib\\site-packages\n"
     ]
    }
   ],
   "source": [
    "!pip install pyLDAvis==2.1.2"
   ]
  },
  {
   "cell_type": "code",
   "execution_count": 97,
   "metadata": {},
   "outputs": [
    {
     "name": "stdout",
     "output_type": "stream",
     "text": [
      "Collecting pandas==1.5.3\n",
      "  Downloading pandas-1.5.3-cp39-cp39-win_amd64.whl (10.9 MB)\n",
      "     ---------------------------------------- 10.9/10.9 MB 3.8 MB/s eta 0:00:00\n",
      "Requirement already satisfied: python-dateutil>=2.8.1 in c:\\users\\user\\anaconda3\\lib\\site-packages (from pandas==1.5.3) (2.8.2)\n",
      "Requirement already satisfied: numpy>=1.20.3 in c:\\users\\user\\anaconda3\\lib\\site-packages (from pandas==1.5.3) (1.24.3)\n",
      "Requirement already satisfied: pytz>=2020.1 in c:\\users\\user\\anaconda3\\lib\\site-packages (from pandas==1.5.3) (2022.1)\n",
      "Requirement already satisfied: six>=1.5 in c:\\users\\user\\anaconda3\\lib\\site-packages (from python-dateutil>=2.8.1->pandas==1.5.3) (1.16.0)\n",
      "Installing collected packages: pandas\n",
      "  Attempting uninstall: pandas\n",
      "    Found existing installation: pandas 2.0.1\n",
      "    Uninstalling pandas-2.0.1:\n",
      "      Successfully uninstalled pandas-2.0.1\n",
      "Successfully installed pandas-1.5.3\n"
     ]
    }
   ],
   "source": [
    "!pip install pandas==1.5.3"
   ]
  },
  {
   "cell_type": "code",
   "execution_count": 98,
   "metadata": {},
   "outputs": [],
   "source": [
    "import pyLDAvis\n",
    "import pyLDAvis.gensim"
   ]
  },
  {
   "cell_type": "code",
   "execution_count": 99,
   "metadata": {},
   "outputs": [],
   "source": [
    "pyLDAvis.enable_notebook()"
   ]
  },
  {
   "cell_type": "code",
   "execution_count": 100,
   "metadata": {
    "colab": {
     "base_uri": "https://localhost:8080/",
     "height": 1000
    },
    "id": "cXDIshyc_ESa",
    "outputId": "6354e325-7fa6-400a-8861-5419259db316"
   },
   "outputs": [],
   "source": [
    "vis = pyLDAvis.gensim.prepare(model3, corpus, dictionary)"
   ]
  },
  {
   "cell_type": "code",
   "execution_count": 101,
   "metadata": {
    "colab": {
     "base_uri": "https://localhost:8080/",
     "height": 211
    },
    "id": "AjXEj1aPBD5O",
    "outputId": "dc0dd43d-0ef3-4628-93d9-557ba6bfb259"
   },
   "outputs": [
    {
     "data": {
      "text/html": [
       "\n",
       "<link rel=\"stylesheet\" type=\"text/css\" href=\"https://cdn.jsdelivr.net/gh/bmabey/pyLDAvis@3.4.0/pyLDAvis/js/ldavis.v1.0.0.css\">\n",
       "\n",
       "\n",
       "<div id=\"ldavis_el599218756010714561908363245\" style=\"background-color:white;\"></div>\n",
       "<script type=\"text/javascript\">\n",
       "\n",
       "var ldavis_el599218756010714561908363245_data = {\"mdsDat\": {\"x\": [0.43905967483707126, 0.42353856303339693, 0.4158084122171631, 0.4053042376157448, 0.4011814204954372, 0.26580267301298854, -0.12070753237928443, -0.1577883392801009, -0.1628342348324151, -0.15987366284548257, -0.16454694255519547, -0.17391456059506125, -0.17593488375352753, -0.17622659149572484, -0.17634390290691368, -0.17656312494462006, -0.17656312503607846, -0.17656312497254245, -0.17656312496542187, -0.1762718306494333], \"y\": [0.0008594747193508192, 0.043128622175534946, 0.0023297385543043854, 0.026234886850599885, 0.002789834047169257, -0.10555377515336715, 0.031452240890752034, 0.007411068342092844, 0.004038331800295914, 0.0033024168509159044, 0.0022045192578392376, -0.001637952010986255, -0.0020221845912871735, -0.0020155967222131076, -0.002052870020260904, -0.002073992603081224, -0.0020739926097204722, -0.0020739926091942022, -0.0020739926073210404, -0.0021727845614249145], \"topics\": [1, 2, 3, 4, 5, 6, 7, 8, 9, 10, 11, 12, 13, 14, 15, 16, 17, 18, 19, 20], \"cluster\": [1, 1, 1, 1, 1, 1, 1, 1, 1, 1, 1, 1, 1, 1, 1, 1, 1, 1, 1, 1], \"Freq\": [31.775709147851245, 19.823382863652185, 16.19916589262404, 13.251806347423681, 12.734409249181718, 2.750688041225959, 0.28579953969003286, 0.2586081407043995, 0.25244432637401315, 0.25123123996045554, 0.24826162306326033, 0.24160919544151832, 0.24089456997133696, 0.24085568897669282, 0.2408556889765762, 0.2408556889765762, 0.2408556889765762, 0.2408556889765762, 0.2408556889765762, 0.2408556889765762]}, \"tinfo\": {\"Term\": [\",\", \"covid19\", \"mask\", \"case\", \"help\", \"spread\", \"total\", \"death\", \"even\", \"face\", \"risk\", \"wear\", \"daily\", \"wearing\", \"trump\", \"symptom\", \"vaccine\", \"social\", \"india\", \"new\", \"realdonaldtrump\", \"positive\", \"slow\", \"distancing\", \"reported\", \"24\", \"coronavirus\", \"school\", \"confirmed\", \"identify\", \"kamalaharris\", \"authorize\", \"insider\", \"jee\", \"hospitality\", \"photographer\", \"16th\", \"expose\", \"hashtag\", \"37\", \"square\", \"250\", \"organized\", \"fm\", \"approves\", \"bcpoli\", \"hiding\", \"virginia\", \"tribute\", \"breakdown\", \"20000\", \"promising\", \"apartment\", \"mix\", \"66\", \"quit\", \"donaldjtrumpjr\", \"landlord\", \"governance\", \"exposing\", \"gmt\", \"hyderabad\", \"coronavirusupdate\", \"budget\", \"neet\", \"useless\", \"bve\", \"senschumer\", \"cont\", \"component\", \"blood\", \"plasma\", \"coronaviruspandemic\", \"tracing\", \"file\", \"theme\", \"ove\", \"murder\", \"utah\", \"alert\", \"type\", \"day\", \",\", \"zealand\", \"refuse\", \"amount\", \"site\", \"coronavirus\", \"topic\", \"2\", \"new\", \"county\", \"covid19\", \"news\", \"pandemic\", \"people\", \"march\", \"3\", \"uk\", \"need\", \"1\", \"year\", \"since\", \"2020\", \"global\", \"government\", \"month\", \"amp\", \"may\", \"rate\", \"case\", \"covid\", \"u\", \"today\", \"health\", \"time\", \"get\", \"death\", \"lockdown\", \"mask\", \"one\", \"like\", \"state\", \"world\", \"counted\", \"pillow\", \"1007\", \"modified\", \"q2\", \"ballot\", \"12th\", \"andersoncooper\", \"mizoram\", \"vice\", \"silent\", \"160000\", \"reflecting\", \"scomo\", \"operational\", \"dated\", \"cuba\", \"fiji\", \"helpline\", \"seattle\", \"thermal\", \"leronlimab\", \"proved\", \"rishisunak\", \"determine\", \"greek\", \"uptick\", \"defence\", \"analyst\", \"votebymail\", \"shah\", \"tally\", \"tot\", \"odisha\", \"faculty\", \"944\", \"56\", \"total\", \"singleday\", \"telangana\", \"24\", \"scene\", \"active\", \"spike\", \"jharkhand\", \"reported\", \"toll\", \"hour\", \"estimate\", \"district\", \"cross\", \"lakh\", \"sample\", \"case\", \"india\", \"confirmed\", \"positive\", \"death\", \"tested\", \"rise\", \"last\", \"recorded\", \"august\", \"update\", \"aug\", \"report\", \",\", \"number\", \"new\", \"covid19\", \"recovered\", \"amp\", \"test\", \"today\", \"2020\", \"coronavirus\", \"state\", \"u\", \"recovery\", \"health\", \"day\", \"vladimir\", \"bitcoin\", \"postpone\", \"8th\", \"effectively\", \"netherlands\", \"midnight\", \"kitateguhkitamenang\", \"ndtv\", \"approaching\", \"erictrump\", \"auckland\", \"tap\", \"225\", \"jumped\", \"830pm\", \"cartoon\", \"02\", \"notification\", \"bi\", \"clinician\", \"dip\", \"adverse\", \"whenever\", \"medic\", \"supplement\", \"indicate\", \"legit\", \"elbow\", \"airbnb\", \"religion\", \"cou\", \"provision\", \"venrap\", \"usps\", \"indeed\", \"writing\", \"consumer\", \"evolution\", \"patent\", \"recognize\", \"strain\", \"developed\", \"covid19uk\", \"radio\", \"safe\", \"caring\", \"behaviour\", \"vaccine\", \"conspiracy\", \"importance\", \"meat\", \",\", \"loved\", \"researcher\", \"research\", \"medium\", \"scientist\", \"covid19\", \"mental\", \"across\", \"dr\", \"world\", \"stay\", \"effective\", \"way\", \"say\", \"one\", \"child\", \"study\", \"health\", \"country\", \"impact\", \"pandemic\", \"business\", \"think\", \"keep\", \"post\", \"expert\", \"amp\", \"still\", \"kid\", \"u\", \"thing\", \"community\", \"coronavirus\", \"find\", \"new\", \"people\", \"need\", \"virus\", \"get\", \"time\", \"case\", \"help\", \"discover\", \"piersmorgan\", \"malaria\", \"equal\", \"lawmaker\", \"anderson\", \"bigdata\", \"garbage\", \"mining\", \"nazi\", \"citing\", \"deadliest\", \"reviewed\", \"hybrid\", \"transform\", \"ke\", \"smartphone\", \"occurring\", \"luck\", \"dumptrump\", \"internal\", \"euro\", \"declares\", \"urgency\", \"doomed\", \"dealt\", \"invisible\", \"ranked\", \"fulfilled\", \"atrupar\", \"wha\", \"bat\", \"diary\", \"laughing\", \"obvious\", \"rnc2020\", \"committed\", \"gopchairwoman\", \"tho\", \"copy\", \"gon\", \"projectlincoln\", \"incompetent\", \"productive\", \"corrupt\", \"na\", \"deliver\", \"trump\", \"mess\", \"ill\", \"wan\", \"cruise\", \"sign\", \"wave\", \"realdonaldtrump\", \"potus\", \"shield\", \"schoolsreopening\", \"donald\", \"school\", \"whitehouse\", \",\", \"gop\", \"american\", \"rapid\", \"brother\", \"class\", \"trumpvirus\", \"student\", \"covid19\", \"joebiden\", \"lost\", \"battle\", \"biden\", \"dead\", \"every\", \"due\", \"test\", \"know\", \"virus\", \"time\", \"still\", \"let\", \"first\", \"would\", \"u\", \"covid\", \"coronavirus\", \"one\", \"back\", \"people\", \"pandemic\", \"go\", \"like\", \"amp\", \"get\", \"year\", \"queensland\", \"ganesha\", \"ramaphosa\", \"mckinsey\", \"ed\", \"fallen\", \"typical\", \"paul\", \"hang\", \"remaining\", \"170k\", \"element\", \"nuclear\", \"gracepoint\", \"wemerry\", \"annastaciamp\", \"nationally\", \"por\", \"feat\", \"810\", \"istanbul\", \"ultimate\", \"xi\", \"machinelearning\", \"waiver\", \"exec\", \"flexible\", \"titled\", \"investigated\", \"remotework\", \"carbon\", \"willing\", \"realdonaldtrumps\", \"40000\", \"abo\", \"covid19sa\", \"nycmayor\", \"peninsula\", \"celebrity\", \"vega\", \"fell\", \"kellyannepolls\", \"pleasure\", \"ganeshchaturthi\", \"devotee\", \"archive\", \"miracle\", \"socially\", \"solidarity\", \"cyril\", \"able\", \"ask\", \"accepted\", \",\", \"involved\", \"make\", \"dont\", \"work\", \"please\", \"watch\", \"get\", \"important\", \"much\", \"like\", \"really\", \"thing\", \"people\", \"care\", \"need\", \"worldwide\", \"person\", \"covid19\", \"know\", \"u\", \"thank\", \"feel\", \"good\", \"amp\", \"life\", \"want\", \"business\", \"time\", \"help\", \"support\", \"take\", \"many\", \"pandemic\", \"mask\", \"going\", \"one\", \"today\", \"estate\", \"adriandix\", \"declined\", \"jointly\", \"davidicke\", \"sanitizing\", \"vac\", \"telegraph\", \"diy\", \"sundaymorning\", \"vacc\", \"steven\", \"tunisia\", \"humidity\", \"flulike\", \"cognitive\", \"attempted\", \"171\", \"gram\", \"costco\", \"handy\", \"worsens\", \"fest\", \"bac\", \"madonna\", \"mentioning\", \"boomer\", \"counsel\", \"endangered\", \"grappling\", \"selfreporting\", \"tanzania\", \"researchgate\", \"sooner\", \"greatly\", \"cloth\", \"burnout\", \"identify\", \"compliance\", \"caution\", \"slow\", \"yale\", \"socialdistance\", \"nhl\", \"constant\", \"covering\", \"besafe\", \"bored\", \"uspoli\", \"facial\", \"wearing\", \"wear\", \"mask\", \"distancing\", \"face\", \"spread\", \"symptom\", \"facemask\", \"resilience\", \"risk\", \"lasting\", \"reduce\", \"herd\", \"help\", \"social\", \"even\", \"daily\", \",\", \"featured\", \"covid19\", \"immunity\", \"wearamask\", \"prevent\", \"cure\", \"case\", \"distance\", \"community\", \"vaccine\", \"stop\", \"coronavirus\", \"read\", \"alberta\", \"ryan\", \"poorer\", \"richer\", \"bbcbreaking\", \"smarter\", \"ima\", \"explaining\", \"steel\", \"921\", \"exponentially\", \"invaluable\", \"hampshire\", \"fe\", \"implementation\", \"4g\", \"nolan\", \"ftc\", \"refresh\", \"semester\", \"sidelined\", \"19yearold\", \"ned\", \"stunt\", \"texan\", \"forged\", \"creat\", \"yakima\", \"snippet\", \"thane\", \"161\", \"patch\", \"relatively\", \"relaxing\", \"trumpfailedamerica\", \"shine\", \"generally\", \"naturally\", \"visible\", \"victoriancho\", \"ag\", \"noble\", \",\", \"covid19\", \"teamtrump\", \"jim_jordan\", \"bbnaijalockdown\", \"inciting\", \"spouse\", \"domain\", \"fairfax\", \"critic\", \"aside\", \"lipstick\", \"hopewell\", \"maskscovid19\", \"grandma\", \"enjoyfromhome\", \"khou11\", \"saved\", \"chip\", \"549\", \"1986\", \"domainnames\", \"pointing\", \"architect\", \"fuel\", \"httpstcoqsgzrjtuau\", \"httpstco8bahluzhpt\", \"httpstcoyievtgquj5\", \"mutsvangwa\", \"httpstcopmcy9hi1za\", \"httpstcoivchl24gwt\", \"pacificnw777\", \"barely\", \"stayathome\", \"write\", \",\", \"khou\", \"insane\", \"attacking\", \"covid19\", \"arrested\", \"coronavirus\", \"realdonaldtrump\", \"life\", \"cant\", \"venezuela\", \"undocumented\", \"relax\", \"innovate\", \"soundcloud\", \"consumed\", \"jjhorgan\", \"despicable\", \"trumpgolfsamericansdie\", \"911s\", \"unofficial\", \"staycation\", \"transforms\", \"cance\", \"carmenbest\", \"playlist\", \"doubling\", \"miserable\", \"lawenforcement\", \"mikesmythnews\", \"mmpadellan\", \"beep\", \"s3599\", \"mayorjenny\", \"folklore\", \"faegredrinker\", \"seattlefire\", \"httpstco8lf8ocazuc\", \"httpstcogq72tezwxl\", \"pandemican\", \"alcoholawareness\", \"milli\", \",\", \"louisiana\", \"covid19\", \"workforce\", \"day\", \"vip\", \"rubyprincess\", \"unders\", \"classaction\", \"flashback\", \"additionally\", \"uh\", \"dallascounty\", \"planting\", \"postsecondary\", \"abysmal\", \"venice\", \"maritime\", \"sayi\", \"highered\", \"ianbremmer\", \"childish\", \"schoolopenings\", \"sendi\", \"republicansvirus\", \"stole\", \"hypothesis\", \"honor\", \"yup\", \"srsly\", \"backtoschool2020\", \"crayon\", \"071bottlehand\", \"httpstcoh6anlhgpa6\", \"httpstcoxzsafevdjl\", \"endangering\", \"jim_jordan\", \"courage\", \",\", \"complacent\", \"covid19\", \"technews\", \"specie\", \"1984\", \"worstpresidentinhistory\", \"rpa\", \"orwell\", \"stabilizing\", \"smt\", \"actuall\", \"370\", \"qanon\", \"earthquake\", \"opentheschools\", \"ml\", \"arabic\", \"hostility\", \"abrogation\", \"girltalkza\", \"springst\", \"bunkerboytrump\", \"necessitated\", \"jobssavelives\", \"weekendreads\", \"httpstcoen9tybz1xm\", \"covid19suicide\", \"httpstcoa5q0dab9mq\", \"httpstcocs8zj1racj\", \"httpstcocza5oonhpk\", \"httpstcoqtyi3amb2d\", \"httpstco763utrpmk4\", \"aga\", \"bunker\", \"mission\", \",\", \"hospitalised\", \"peopl\", \"covid19\", \"ai\", \"realdonaldtrump\", \"abpoli\", \"positivefor\", \"httpstcouqnphbx8ho\", \"httpstcogtbuzhb1fm\", \"saydishonesty\", \"httpstcohwyau04qdn\", \"httpstco2gufgdzd5t\", \"britishholiday\", \"httpstcorcalm8crpk\", \"serenity22\", \"nats\", \"disponible\", \"httpstcohnjktgbmtv\", \"httpstco9kmrbt7mvr\", \"supportaccutrailcom\", \"mbpoli\", \"skpoli\", \"covid19on\", \"cndpoli\", \"httpstcovf9g2ku9sv\", \"lauralynn\", \"httpstconrwmpoomgx\", \"abed\", \"pricelessmedia\", \"httpstco0aqbfifoag\", \"httpstcogjckik4zi8\", \"httpstcozrfys69v7a\", \"httpstcoowcs9wnbqc\", \"httpstco3s7en0lvr7\", \"httpstco32et1uspcr\", \"heasnott\", \"arcamax\", \"safeschools\", \"httpstcoil3zt38hmu\", \"httpstcokatvvf3xoc\", \"chouhanshivraj\", \"booming\", \"meant\", \"consid\", \"staycation\", \",\", \"peaked\", \"sweden\", \"covidiots\", \"actually\", \"hey\", \"covid19\", \"pm\", \"canada\", \"saying\", \"go\", \"cdc\", \"test\", \"look\", \"u\", \"british\", \"youre\", \"2020\", \"aishwaryaarjun\", \"httpstcokqgqnupqvh\", \"httpstcony63t5zc3k\", \"httpstcowispbzs88j\", \"101yrold\", \"httpstco5lh14zatyu\", \"httpstcoulojqefr7f\", \"httpstcomraq4mk182\", \"httpstcobqynpy3lkt\", \"httpstcoxzqs8nviaa\", \"httpstcoowgmdgrt9i\", \"firstyears\", \"httpstcojnpcsknyuq\", \"apogee\", \"httpstcomkajh8eizk\", \"pottcophd\", \"httpstco9td9ucjvmb\", \"sneezeetc\", \"httpstcoozfywpo1dc\", \"httpstconjg4ef5ih2\", \"afterpay\", \"httpstcovtitsqzf9x\", \"aud105\", \"httpstcoci1amkqmp3\", \"458120\", \"httpstcovlrekg4lu6\", \"lego_group\", \"httpstcozwutlch85l\", \"httpstcoyi624oai0y\", \"14150\", \"magagonnamagat\", \"httpstcotkvbm28f77\", \"ivankasincestdaddy\", \"httpstcolffwexv1j0\", \"fyiamerica\", \"sciencedenying\", \"httpstcodxuulsudqb\", \"httpstcojguui9snov\", \"httpstcos5wgcqe42y\", \"pendulumclub\", \"httpstcorfrfzxsbu5\", \"grooganfox26\", \"glamourgirls\", \"httpstcomgm4qee0ge\", \"httpstco2hmrdg4zat\", \"guyra\", \"httpstcor62h27itxm\", \"httpstcomhxxyeyivy\", \"httpstcopkrb1wfs3o\", \"httpstcokkciyhg7iz\", \"reopeningplan\", \"httpstcotk98ts7g8h\", \"httpstcosbll22ws63\", \"httpstco34ne1gxsrn\", \"httpstcow0xj0mcstd\", \"httpstcojyzsdtcgox\", \"httpstcowhar55eoka\", \"httpstcoifbbtpyw5w\", \"heroicfaith\", \"httpstcob2bwkzyrle\", \"viruscovid19\", \"httpstcovtiabixrsb\", \"httpstcoyaelbbricb\", \"beacharoundtheworld\", \"pascodems\", \"httpstcomalhjwzml6\", \"362153\", \"siaw\", \"httpstcolsh7aytfir\", \"recovers\", \"httpstconylfrlpopz\", \"lying\", \"httpstcoc3zi3bmwai\", \"httpstcokz55qu5jav\", \"httpstcoweowzsjpdd\", \"httpstcolg9yjcxwkp\", \"httpstcokhg1xtj2lc\", \"httpstcoy1jyoybqww\", \"httpstcovxgpx3ieko\", \"thetrumpvirus\", \"httpstcoi2xmthfhpm\", \"httpstco6tvnwxpzzq\", \"politikoglobal\", \"httpstcop6o0qcdxbc\", \"httpstcoc5rouupk9l\", \"dissolvetheunion\", \"woriginal\", \"anniewells\", \"httpstcoqfjuirumbu\", \"48771\", \"theyre\", \"httpstcosv910tdi7v\", \",\", \"httpstcovxt113zp5n\", \"kennychesney\", \"httpstcoo3z2fwbohn\", \"httpstconfsbgka8rg\", \"httpstcoeyjnuxbcut\", \"httpstco6u3limymwn\", \"vht\", \"httpstcow8f2mm8mps\", \"httpstcohy2vbu6azy\", \"craigaltemose\", \"httpstcoldspx5pnih\", \"httpstcoyd88odtddh\", \"httpstco5svegwzdis\", \"httpstcozlbfkwhw5e\", \"httpstcom9y5tyehp1\", \"httpstco3xursezsfi\", \"covid19\", \"case\", \"coronavirus\", \"new\", \"people\", \"pandemic\", \"mask\", \"death\", \"one\", \"amp\", \"today\", \"day\", \"u\", \"aged\", \"positive\", \"real\", \"world\", \"dont\", \"test\", \"ahval_en\", \"httpstcovtiabixrsb\", \"httpstco5lh14zatyu\", \"httpstcoo65dat3axg\", \"sciencedenying\", \"httpstcokkciyhg7iz\", \"httpstcomhxxyeyivy\", \"httpstcotkvbm28f77\", \"ivankasincestdaddy\", \"httpstcolffwexv1j0\", \"fyiamerica\", \"magagonnamagat\", \"httpstcof8b4zambz9\", \"httpstcojguui9snov\", \"httpstcodxuulsudqb\", \"httpstcos5wgcqe42y\", \"pendulumclub\", \"httpstcorfrfzxsbu5\", \"grooganfox26\", \"glamourgirls\", \"httpstcomgm4qee0ge\", \"httpstcopkrb1wfs3o\", \"httpstconylfrlpopz\", \"guyra\", \"httpstcosmyqzhxh3l\", \"httpstcozojf3td1dn\", \"httpstcou7boivvqxz\", \"httpstcojdtbwkou5r\", \"httpstcotk98ts7g8h\", \"httpstcosbll22ws63\", \"httpstcoqcwcz3gufl\", \"httpstco2hmrdg4zat\", \"httpstcor62h27itxm\", \"httpstcoyexa1imsrf\", \"viruscovid19\", \"httpstcoepqsfijyvd\", \"httpstcocvybaeqqiv\", \"marico\", \"maricobuzz\", \"q4fy20\", \"saugatagupta\", \"httpstcoo1mzeutght\", \"httpstcodt67xni84a\", \"unsecured\", \"httpstco74dogvfmjm\", \"httpstcorsxf5qqpwu\", \"circling\", \"httpstcopptfpi1qhu\", \"44431\", \"httpstcoeqhfup4nak\", \"httpstcowvr29nqxlc\", \"httpstcoehzgvqsvjl\", \"04269824647\", \"birthed\", \"httpstcoqytqiyyiot\", \"httpstcoxrnngkyj9j\", \"httpstcoken8y0z32r\", \"httpstcoy2avr6bkqh\", \"lowyinstitute\", \"httpstcoyarvvwtfln\", \"httpstcoqyzfdcfr2u\", \"butwhen\", \"httpstcohh5ma2ypsb\", \"33139\", \"edwarsimal\", \"httpstcojzx8jngqkp\", \"httpstcoczgx0imemq\", \"httpstconlszwzzlif\", \"httpstcoawlv3g2jct\", \"wtfbrahh\", \"httpstcoadfsoo7urd\", \"httpstcoojivtihqs9\", \"sbitrichy\", \"httpstco7f314wzei4\", \"httpstcobwlhlwum2b\", \"enogh\", \"folow\", \"httpstco33qunapgdv\", \"httpstcohaooejn0yb\", \"createdits\", \"traveletiquette\", \"httpstcosnqmifggcp\", \"httpstcoifsgt2rz6x\", \"harrased\", \"httpstcoqgmw4ou7zd\", \"httpstcoplwgt4ofcp\", \"httpstcoh6mooqrbmd\", \"httpstcoqxtezr1b7z\", \"httpstcodolpl1w3as\", \"httpstcobik5z500pt\", \"httpstcodrvd5lmj55\", \"httpstcosfanblrxe7\", \"httpstco2xh66oxbab\", \"httpstcolsh7aytfir\", \"httpstcoulojqefr7f\", \"newvisionwire\", \"pottcophd\", \"httpstcoxzqs8nviaa\", \"httpstcoowgmdgrt9i\", \"firstyears\", \"httpstcojnpcsknyuq\", \"apogee\", \"httpstcomkajh8eizk\", \"httpstcoozfywpo1dc\", \"httpstco9td9ucjvmb\", \"httpstcobqynpy3lkt\", \"httpstcovtitsqzf9x\", \"httpstcoci1amkqmp3\", \"458120\", \"httpstconjg4ef5ih2\", \"httpstcojyzsdtcgox\", \"httpstcoyi624oai0y\", \"httpstcosauc3flope\", \"afterpay\", \"lego_group\", \"httpstcoi4idnqnjr3\", \"httpstcozwutlch85l\", \"httpstcoxksxu8ppwr\", \"httpstcowhar55eoka\", \"dear\", \"httpstcoifbbtpyw5w\", \"beacharoundtheworld\", \"aud105\", \"httpstcorgqshbwu2b\", \"httpstcob2bwkzyrle\", \",\", \"expertssigned\", \"644639\", \"httpstcoaybi3rojd9\", \"httpstco9e5bgihpo2\", \"lafd\", \"iiiparamedic\", \"httpstcoyrau8wczou\", \"16yr\", \"httpstcoxm3sjkwoqz\", \"httpstco621yz3rflm\", \"httpstco4i4tfhh8wp\", \"httpstcohdi7cgu7fz\", \"httpstcoqqrnfod5tp\", \"lookfocus\", \"httpstcodffbghfluc\", \"httpstco55vxj2d8f1\", \"httpstcooiuoygmh43\", \"httpstcorhbugj4bzi\", \"weekendmusings\", \"httpstcotwuhckue17\", \"portlandprotesters\", \"covid19\", \"observing\", \"httpstcov3owc1ux7r\", \"costellos\", \"werdope\", \"pineyea\", \"pbd\", \"outside\", \"20226\", \"httpstcou9c5i8vf2z\", \"day4\", \"abled\", \"25days\", \"httpstcoezau9gzuoo\", \"boc\", \"httpstcoqlhey29v1i\", \"httpstcoy6pfvj8bau\", \"httpstcouagbtegqm2\", \"httpstcony06njmdxo\", \"maulana\", \"tariq\", \"special25\", \"srinaga\", \"httpstcoyf1uci2zql\", \"httpstconzyey7omlq\", \"decided\", \"free\", \"ease\", \"lockdown\", \"world\", \"dint\", \"negtives\", \"httpstcoorw3cubclo\", \"httpstcou6xrzynhrf\", \"httpstcoctjpe7jhqb\", \"trumpwall\", \"httpstcobqd0qj00bt\", \"httpstcoywz9qnvtwq\", \"httpstcokkaj8opewq\", \"httpstco2jm0ivq78v\", \"httpstcoxzsvozfozr\", \"httpstcobehon6irpy\", \"httpstcouqurslnjkw\", \"tomm\", \"case\", \"coronavirus\", \"new\", \"people\", \"amp\", \"pandemic\", \"death\", \"u\", \"aged\", \"mask\", \"day\", \"get\", \"sick\", \"real\", \"positive\", \"hate\", \"httpstcoistwu96jp2\", \"httpstcovtiabixrsb\", \"httpstcolsh7aytfir\", \"httpstco5lh14zatyu\", \"httpstcoulojqefr7f\", \"httpstcorgqshbwu2b\", \"httpstcovtitsqzf9x\", \"httpstcoowgmdgrt9i\", \"firstyears\", \"httpstcojnpcsknyuq\", \"apogee\", \"httpstcomkajh8eizk\", \"pottcophd\", \"httpstco9td9ucjvmb\", \"httpstcoozfywpo1dc\", \"httpstcoci1amkqmp3\", \"httpstcow0xj0mcstd\", \"458120\", \"httpstconjg4ef5ih2\", \"httpstcojyzsdtcgox\", \"httpstcowhar55eoka\", \"httpstcoyi624oai0y\", \"httpstcosauc3flope\", \"afterpay\", \"aud105\", \"httpstcoxzqs8nviaa\", \"lego_group\", \"httpstcobqynpy3lkt\", \"httpstcozwutlch85l\", \"httpstcoyaelbbricb\", \"beacharoundtheworld\", \"rwfw\", \"httpstcoifbbtpyw5w\", \"httpstcoi4idnqnjr3\", \"httpstcoxksxu8ppwr\", \"viruscovid19\", \"cost\", \"human\", \"httpstcocq9d3zenwo\", \"magagonnamagat\", \"362153\", \"httpstcokkciyhg7iz\", \"httpstcomhxxyeyivy\", \"httpstcotkvbm28f77\", \"ivankasincestdaddy\", \"httpstcolffwexv1j0\", \"fyiamerica\", \"sciencedenying\", \"httpstcojguui9snov\", \"httpstcof8b4zambz9\", \"httpstcodxuulsudqb\", \"httpstcos5wgcqe42y\", \"pendulumclub\", \"httpstcorfrfzxsbu5\", \"grooganfox26\", \"glamourgirls\", \"httpstcomgm4qee0ge\", \"httpstco2hmrdg4zat\", \"httpstcopkrb1wfs3o\", \"httpstconylfrlpopz\", \",\", \"ucsfmedicines\", \"httpstco8pnzxcn93w\", \"httpstcobqd0qj00bt\", \"httpstcoo1cvfpx2jm\", \"httpstcoayrsw1jkqp\", \"trumpwall\", \"httpstcoorw3cubclo\", \"dint\", \"httpstcoctjpe7jhqb\", \"drago14632623\", \"httpstcou1aiss4li7\", \"sunburn\", \"httpstcoxzsvozfozr\", \"httpstconn4d0czl2o\", \"httpstcokkaj8opewq\", \"httpstcou6xrzynhrf\", \"httpstco8xayjcf2ts\", \"httpstco2jm0ivq78v\", \"negtives\", \"httpstcobehon6irpy\", \"httpstcopidizr50ie\", \"covid19\", \"httpstco1zsn0rnrtf\", \"httpstcoyrau8wczou\", \"httpstcohdi7cgu7fz\", \"16yr\", \"httpstco4i4tfhh8wp\", \"iiiparamedic\", \"httpstcoxm3sjkwoqz\", \"httpstcoqqrnfod5tp\", \"httpstco621yz3rflm\", \"httpstcodffbghfluc\", \"httpstcorhbugj4bzi\", \"lookfocus\", \"httpstco9e5bgihpo2\", \"werdope\", \"httpstco55vxj2d8f1\", \"httpstcooiuoygmh43\", \"weekendmusings\", \"httpstcotwuhckue17\", \"portlandprotesters\", \"lafd\", \"forgottenltd\", \"pineyea\", \"pbd\", \"pursued\", \"httpstcovxt113zp5n\", \"lc\", \"gov\", \"policy\", \"victim\", \"loancharge\", \"look\", \"excluding\", \"coronavirus\", \"new\", \"case\", \"amp\", \"pandemic\", \"death\", \"sick\", \"real\", \"people\", \"positive\", \"health\", \"httpstcolsh7aytfir\", \"httpstcoulojqefr7f\", \"httpstcos5wgcqe42y\", \"httpstcomhxxyeyivy\", \"httpstcotkvbm28f77\", \"ivankasincestdaddy\", \"httpstcolffwexv1j0\", \"fyiamerica\", \"sciencedenying\", \"magagonnamagat\", \"httpstcojguui9snov\", \"httpstcodxuulsudqb\", \"pendulumclub\", \"httpstcopkrb1wfs3o\", \"httpstcorfrfzxsbu5\", \"grooganfox26\", \"glamourgirls\", \"httpstcomgm4qee0ge\", \"httpstco2hmrdg4zat\", \"guyra\", \"httpstcor62h27itxm\", \"bloodontheirhands\", \"httpstcokkciyhg7iz\", \"httpstcof8b4zambz9\", \"reconfiguri\", \"httpstcofhethws30w\", \"httpstcojdtbwkou5r\", \"httpstcotk98ts7g8h\", \"httpstcosbll22ws63\", \"httpstcoyexa1imsrf\", \"httpstcovtitsqzf9x\", \"httpstcoxzqs8nviaa\", \"httpstcoowgmdgrt9i\", \"firstyears\", \"httpstcojnpcsknyuq\", \"apogee\", \"httpstcomkajh8eizk\", \"pottcophd\", \"httpstco9td9ucjvmb\", \"httpstcoozfywpo1dc\", \"httpstcoepqsfijyvd\", \"httpstcobqynpy3lkt\", \"httpstconjg4ef5ih2\", \"httpstcoci1amkqmp3\", \"458120\", \"afterpay\", \"httpstcojyzsdtcgox\", \"httpstcoyi624oai0y\", \"httpstcosauc3flope\", \"aud105\", \"lego_group\", \"httpstcoi4idnqnjr3\", \"httpstcozwutlch85l\", \"httpstco34ne1gxsrn\", \"beacharoundtheworld\", \"httpstcorgqshbwu2b\", \"httpstcow0xj0mcstd\", \"httpstcoyaelbbricb\", \"wtfbrahh\", \"butwhen\", \"httpstcohh5ma2ypsb\", \"33139\", \"edwarsimal\", \"httpstcojzx8jngqkp\", \"httpstcoczgx0imemq\", \"httpstconlszwzzlif\", \"httpstcoawlv3g2jct\", \"httpstcoojivtihqs9\", \"httpstcoadfsoo7urd\", \"sbitrichy\", \"httpstco7f314wzei4\", \"httpstcobwlhlwum2b\", \"enogh\", \"folow\", \"httpstco33qunapgdv\", \"httpstcohaooejn0yb\", \"httpstcoqxtezr1b7z\", \"createdits\", \"httpstcobik5z500pt\", \"httpstcodolpl1w3as\", \"httpstco989awvabx8\", \"tvnewshq\", \"httpstcoifsgt2rz6x\", \"harrased\", \"httpstcoqgmw4ou7zd\", \"httpstcodrvd5lmj55\", \"traveletiquette\", \"visakha\", \"httpstcoh6mooqrbmd\", \"httpstcosnqmifggcp\", \"httpstcozwj4pvywa8\", \"httpstcopbxoouepfg\", \"httpstco2xh66oxbab\", \"viruscovid19\", \"httpstcovtiabixrsb\", \"reopeningplan\", \"httpstcoepnkhraz1y\", \"httpstcob2bwkzyrle\", \"httpstcotk5enzz8fx\", \"httpstcowhar55eoka\", \"httpstco5lh14zatyu\", \",\", \"covid19\", \"case\", \"coronavirus\", \"new\", \"people\", \"death\", \"u\", \"amp\", \"pandemic\", \"mask\", \"today\", \"positive\", \"get\", \"real\", \"hospital\", \"report\", \"test\", \"aged\", \"like\", \"know\", \"world\", \"say\", \"sick\", \"good\", \"httpstcolsh7aytfir\", \"httpstco5lh14zatyu\", \"httpstcoqcwcz3gufl\", \"httpstcojguui9snov\", \"httpstcokkciyhg7iz\", \"httpstcomhxxyeyivy\", \"httpstcotkvbm28f77\", \"ivankasincestdaddy\", \"httpstcolffwexv1j0\", \"fyiamerica\", \"sciencedenying\", \"magagonnamagat\", \"httpstcodxuulsudqb\", \"httpstcof8b4zambz9\", \"httpstcos5wgcqe42y\", \"pendulumclub\", \"httpstcorfrfzxsbu5\", \"grooganfox26\", \"glamourgirls\", \"httpstcomgm4qee0ge\", \"httpstco2hmrdg4zat\", \"guyra\", \"httpstcopkrb1wfs3o\", \"httpstconylfrlpopz\", \"bloodontheirhands\", \"httpstcopdrvekbwq4\", \"httpstcou7boivvqxz\", \"httpstcojdtbwkou5r\", \"httpstcotk98ts7g8h\", \"httpstcosbll22ws63\", \"reopeningplan\", \"httpstcor62h27itxm\", \"httpstcofhethws30w\", \"httpstcoyexa1imsrf\", \"httpstcosgc4v9ncjq\", \"viruscovid19\", \"httpstcovtiabixrsb\", \"afterpay\", \"pottcophd\", \"httpstcobqynpy3lkt\", \"lego_group\", \"httpstcoxzqs8nviaa\", \"httpstcoowgmdgrt9i\", \"firstyears\", \"httpstcojnpcsknyuq\", \"apogee\", \"httpstcomkajh8eizk\", \"httpstco9td9ucjvmb\", \"httpstcosauc3flope\", \"httpstcozwutlch85l\", \"httpstcovtitsqzf9x\", \"httpstcoci1amkqmp3\", \"458120\", \"httpstconjg4ef5ih2\", \"httpstcojyzsdtcgox\", \"httpstcoyi624oai0y\", \"httpstcoozfywpo1dc\", \"httpstcoi4idnqnjr3\", \"httpstcoepnkhraz1y\", \"httpstcob2bwkzyrle\", \"httpstcotk5enzz8fx\", \"httpstcowhar55eoka\", \"beacharoundtheworld\", \"httpstcoulojqefr7f\", \"aud105\", \"httpstcoasajvp1fle\", \"httpstcorgqshbwu2b\", \"httpstcow0xj0mcstd\", \",\", \"covid19\", \"case\", \"coronavirus\", \"new\", \"mask\", \"amp\", \"pandemic\", \"hate\", \"positive\", \"day\", \"total\", \"death\", \"aged\", \"u\", \"people\", \"today\", \"many\", \"news\", \"patient\", \"spread\", \"take\", \"hospital\", \"july\", \"virus\", \"real\", \"health\", \"viruscovid19\", \"httpstcolsh7aytfir\", \"httpstco5lh14zatyu\", \"httpstcodxuulsudqb\", \"httpstcomhxxyeyivy\", \"httpstcotkvbm28f77\", \"ivankasincestdaddy\", \"httpstcolffwexv1j0\", \"fyiamerica\", \"sciencedenying\", \"magagonnamagat\", \"httpstcojguui9snov\", \"httpstcos5wgcqe42y\", \"httpstcopkrb1wfs3o\", \"pendulumclub\", \"httpstcorfrfzxsbu5\", \"grooganfox26\", \"glamourgirls\", \"httpstcomgm4qee0ge\", \"httpstco2hmrdg4zat\", \"guyra\", \"httpstcor62h27itxm\", \"httpstcokkciyhg7iz\", \"httpstcof8b4zambz9\", \"reopeningplan\", \"httpstcofhethws30w\", \"httpstcojdtbwkou5r\", \"httpstcotk98ts7g8h\", \"httpstcosbll22ws63\", \"httpstcoyexa1imsrf\", \"httpstcovtiabixrsb\", \"afterpay\", \"pottcophd\", \"httpstcobqynpy3lkt\", \"lego_group\", \"httpstcoxzqs8nviaa\", \"httpstcoowgmdgrt9i\", \"firstyears\", \"httpstcojnpcsknyuq\", \"apogee\", \"httpstcomkajh8eizk\", \"httpstco9td9ucjvmb\", \"httpstcosauc3flope\", \"httpstcozwutlch85l\", \"httpstcovtitsqzf9x\", \"httpstcoci1amkqmp3\", \"458120\", \"httpstconjg4ef5ih2\", \"httpstcojyzsdtcgox\", \"httpstcoyi624oai0y\", \"httpstcoozfywpo1dc\", \"httpstcoi4idnqnjr3\", \"httpstcoepnkhraz1y\", \"httpstcob2bwkzyrle\", \"httpstcotk5enzz8fx\", \"httpstcowhar55eoka\", \"beacharoundtheworld\", \"httpstcoulojqefr7f\", \"aud105\", \"httpstcoasajvp1fle\", \"httpstcorgqshbwu2b\", \"httpstcow0xj0mcstd\", \",\", \"covid19\", \"case\", \"coronavirus\", \"new\", \"mask\", \"pandemic\", \"u\", \"people\", \"amp\", \"death\", \"aged\", \"real\", \"day\", \"health\", \"sick\", \"number\", \"india\", \"total\", \"one\", \"say\", \"lockdown\", \"spread\", \"test\", \"even\", \"reported\", \"july\", \"httpstcolsh7aytfir\", \"httpstco5lh14zatyu\", \"httpstcoulojqefr7f\", \"httpstcodxuulsudqb\", \"httpstcomhxxyeyivy\", \"httpstcotkvbm28f77\", \"ivankasincestdaddy\", \"httpstcolffwexv1j0\", \"fyiamerica\", \"sciencedenying\", \"magagonnamagat\", \"httpstcojguui9snov\", \"httpstcos5wgcqe42y\", \"httpstcopkrb1wfs3o\", \"pendulumclub\", \"httpstcorfrfzxsbu5\", \"grooganfox26\", \"glamourgirls\", \"httpstcomgm4qee0ge\", \"httpstco2hmrdg4zat\", \"guyra\", \"httpstcor62h27itxm\", \"httpstcokkciyhg7iz\", \"httpstcof8b4zambz9\", \"reopeningplan\", \"httpstcofhethws30w\", \"httpstcojdtbwkou5r\", \"httpstcotk98ts7g8h\", \"httpstcosbll22ws63\", \"httpstcoyexa1imsrf\", \"httpstcodgxifpga0k\", \"httpstcogdgh8i6pnt\", \"httpstcobuelh5rz1t\", \"549m\", \"sarahgilliland\", \"httpstcodkuxqr2i7k\", \"tiantongyuan\", \"httpstco5hsgqvue5j\", \"httpstcobr4nfh1hrw\", \"httpstcops2o74aqx2\", \"httpstcowpccqovmci\", \"krunal\", \"httpstcoz81hkazr4m\", \"gcshospital\", \"httpstcovaenn9pr6y\", \"48771\", \"httpstcoa8xlz2n0in\", \"httpstco4unxpvpz9y\", \"httpstco79pbr1e7yf\", \"offres\", \"httpstco7a9eqf29x5\", \"httpstcorqapqflowp\", \"httpstcofw6uoyigma\", \"httpstcoc3zi3bmwai\", \"httpstcolg9yjcxwkp\", \"httpstcoptguaijox0\", \"httpstcokhg1xtj2lc\", \"httpstco9td9ucjvmb\", \"lego_group\", \"httpstcoxzqs8nviaa\", \"httpstcoowgmdgrt9i\", \"firstyears\", \"httpstcojnpcsknyuq\", \"apogee\", \"httpstcomkajh8eizk\", \"pottcophd\", \"httpstcolwec5uwjld\", \"httpstcobqynpy3lkt\", \"httpstcovtitsqzf9x\", \"httpstcoci1amkqmp3\", \"458120\", \"httpstconjg4ef5ih2\", \"httpstcojyzsdtcgox\", \"httpstcoyi624oai0y\", \"httpstcosauc3flope\", \"afterpay\", \"aud105\", \"httpstcoozfywpo1dc\", \"httpstcoi4idnqnjr3\", \"httpstcozwutlch85l\", \"httpstcoxksxu8ppwr\", \"httpstcowhar55eoka\", \"beacharoundtheworld\", \"httpstcorgqshbwu2b\", \"counse\", \"httpstcol6m8slbkua\", \"httpstcoczgx0imemq\", \"httpstcopklpxuwzld\", \"httpstcoeqkxb2eyei\", \"httpstcoofiuiwvyeb\", \"httpstcoxgotunyinv\", \"httpstcokkzgg4uj40\", \"arvs\", \"httpstcopnioidhac0\", \"httpstcoiw7ud594vr\", \"httpstcougzkxwxezs\", \"httpstcoprvjskh0wl\", \"httpstcommi7hoidcv\", \"httpstcoqxtezr1b7z\", \"traveletiquette\", \"httpstcodolpl1w3as\", \"httpstcozmhfmjua7h\", \"visakha\", \"jamesgunn\", \"httpstcos7qu2psyvg\", \"httpstcozwj4pvywa8\", \"httpstcopbxoouepfg\", \"httpstco7imapwwlwy\", \"httpstco2xh66oxbab\", \"uk_aso\", \"httpstcodutpughzvl\", \"viruscovid19\", \"httpstcovtiabixrsb\", \"httpstcow0xj0mcstd\", \"httpstcoyaelbbricb\", \",\", \"covid19\", \"case\", \"coronavirus\", \"pandemic\", \"new\", \"amp\", \"mask\", \"death\", \"people\", \"hate\", \"positive\", \"day\", \"sick\", \"spread\", \"dont\", \"total\", \"one\", \"test\", \"take\", \"india\", \"u\", \"covid\", \"get\", \"health\", \"httpstco5lh14zatyu\", \"viruscovid19\", \"httpstcoulojqefr7f\", \"httpstcodxuulsudqb\", \"httpstcomhxxyeyivy\", \"httpstcotkvbm28f77\", \"ivankasincestdaddy\", \"httpstcolffwexv1j0\", \"fyiamerica\", \"sciencedenying\", \"magagonnamagat\", \"httpstcojguui9snov\", \"httpstcos5wgcqe42y\", \"httpstcopkrb1wfs3o\", \"pendulumclub\", \"httpstcorfrfzxsbu5\", \"grooganfox26\", \"glamourgirls\", \"httpstcomgm4qee0ge\", \"httpstco2hmrdg4zat\", \"guyra\", \"httpstcor62h27itxm\", \"httpstcokkciyhg7iz\", \"httpstcof8b4zambz9\", \"reopeningplan\", \"httpstcofhethws30w\", \"httpstcojdtbwkou5r\", \"httpstcotk98ts7g8h\", \"httpstcosbll22ws63\", \"httpstcoyexa1imsrf\", \"httpstcovtiabixrsb\", \"aud105\", \"httpstco9td9ucjvmb\", \"httpstcoxzqs8nviaa\", \"httpstcoowgmdgrt9i\", \"firstyears\", \"httpstcojnpcsknyuq\", \"apogee\", \"httpstcomkajh8eizk\", \"pottcophd\", \"httpstcoozfywpo1dc\", \"afterpay\", \"lego_group\", \"httpstcoci1amkqmp3\", \"458120\", \"httpstcojyzsdtcgox\", \"httpstcoyi624oai0y\", \"httpstcosauc3flope\", \"httpstconjg4ef5ih2\", \"httpstcovtitsqzf9x\", \"httpstcozwutlch85l\", \"httpstcobqynpy3lkt\", \"httpstco34ne1gxsrn\", \"beacharoundtheworld\", \"httpstcorgqshbwu2b\", \"httpstcow0xj0mcstd\", \"httpstcoyaelbbricb\", \"httpstcoi4idnqnjr3\", \"httpstcoxksxu8ppwr\", \"httpstcowhar55eoka\", \"httpstcolsh7aytfir\", \"mask\", \"coronavirus\", \"httpstconylfrlpopz\", \",\", \"nonmarital\", \"httpstcocwatgnadhp\", \"httpstcocvybaeqqiv\", \"httpstcotvowwj54hs\", \"httpstcozxemwhwlr3\", \"3834\", \"httpstcoovvqtik14s\", \"httpstcooixsqv98lx\", \"httpstco1x3teavx1p\", \"baskin\", \"httpstcopptfpi1qhu\", \"httpstco6b4527geya\", \"httpstcob5xdmhkblb\", \"httpstcommivwdl8bu\", \"httpstcolv9lw2ui7c\", \"httpstcoh5qascyjzu\", \"httpstcoxp1iowrbue\", \"sneezeetc\", \"httpstcoks8aikd7qw\", \"bullflag\", \"httpstcodixrk0wx5p\", \"httpstco6oop6opp8w\", \"covid19\", \"case\", \"new\", \"pandemic\", \"amp\", \"death\", \"u\", \"people\", \"sick\", \"aged\", \"get\", \"hate\", \"real\", \"positive\", \"number\", \"test\", \"one\", \"2020\", \"health\", \"july\", \"lockdown\", \"day\"], \"Freq\": [2013749.0, 115265.0, 6691.0, 21601.0, 4331.0, 2976.0, 5318.0, 11188.0, 3047.0, 2107.0, 2417.0, 1866.0, 2496.0, 1431.0, 4686.0, 1492.0, 4588.0, 1823.0, 5031.0, 15761.0, 4071.0, 4557.0, 880.0, 941.0, 3013.0, 2314.0, 15539.0, 4364.0, 2515.0, 714.0, 217.32918899433076, 196.9379668172779, 149.12167292903848, 124.09169976307962, 119.87748517365331, 142.02936403679573, 98.77920379777134, 98.17680660098799, 96.26440847083903, 88.5539753931457, 84.53148424009474, 96.80644504210395, 77.25929791497097, 72.17156170441427, 75.37827069707541, 79.16319110377204, 69.24513736864255, 72.03883754917453, 71.15196090891182, 66.85137709416419, 66.27163359085714, 67.06815849663776, 65.83376524587875, 63.335546017330394, 62.87659298596105, 61.01278331346375, 60.79592346063591, 60.22648002737145, 60.119847537015595, 58.69255409456725, 791.801234590589, 180.16031562902214, 781.0658296879844, 130.3480416802523, 122.61937120255524, 92.1125480688749, 95.72641440018222, 88.5236289502245, 93.66066890107471, 355.9158930611903, 957.1851398803485, 695.051015378861, 896.5648344598296, 289.90154432924214, 100.83200960315149, 102.9235698835396, 157.06462362732603, 99.71867909320676, 108.95577452384448, 897.41342732721, 512.5554818985506, 3914.2847455405426, 683253.9256250396, 517.121329434709, 189.81236728646556, 275.4191843766794, 329.10769032978607, 8094.704989746146, 169.48783713999313, 1859.5724304215332, 7740.424518917274, 821.9466969336083, 36292.59494335255, 2079.4890413119406, 4313.037300867596, 4653.147828742956, 421.0806706036931, 1194.7402699994716, 1219.740865815121, 2645.7077404611637, 1544.285440526968, 1616.852128977465, 1219.4103775462272, 2077.4192810005857, 1358.8753194849266, 1481.2940515990804, 1100.0590727428234, 3977.6386673996785, 1176.6256586443428, 1067.4946814057862, 4642.868137333562, 1786.580448756374, 2436.081896324282, 1852.687405824171, 1867.0852055242872, 1795.4797092731771, 1794.6311902414243, 2360.782551298326, 1306.402111043405, 1687.6838278518983, 1586.4133915218351, 1453.936327209669, 1363.8889062665207, 1311.276000817683, 513.1148401682298, 119.24904622408987, 104.93442405960867, 96.57954860411749, 90.6635440956457, 84.53481672312947, 81.35464301316156, 73.60057361996793, 73.3628560353167, 71.99385240704042, 71.65634019037896, 60.48490922251454, 59.15595702859456, 58.90361456710822, 58.609153611901895, 92.0910702625645, 55.92208007994908, 55.76790854367477, 55.58840257508768, 54.428361950787625, 53.39586867753136, 53.309328559881116, 52.92229904369921, 51.90627315144625, 51.22155253993814, 50.865379210748095, 51.44597530545069, 51.18429365096178, 50.07066685822384, 50.93119115650607, 135.59061873966127, 1340.1705569237076, 272.3170491738107, 888.2939222915107, 99.5571677699192, 119.72420501776709, 86.20603133976958, 4789.558631171384, 398.3414323347708, 356.6683409661362, 2049.8120506840464, 89.67620944798698, 1545.866340383666, 1141.7994645340198, 89.70871813090469, 2479.315617827807, 928.7648948469039, 1882.8074728782062, 120.56329293161738, 699.7446208086537, 654.5016085202213, 689.8710555346964, 609.4499402896566, 15229.303694468023, 3820.6940283589797, 1941.5385829925667, 3338.851550811602, 7540.393770243795, 1805.0315026796416, 1071.2489665562682, 2585.100230888879, 560.2435172850045, 2448.576199537607, 2487.0782721388596, 846.9833205866678, 2095.668110171844, 420583.9042332674, 2169.4333172970664, 6128.384067927095, 25693.387500824945, 1032.2468383237656, 3939.1080862409935, 2044.7011283718705, 2191.165838211427, 1819.1121037834591, 3668.6712204456244, 1514.7352978325146, 1754.421413937049, 1114.224086526665, 1350.196451229771, 1134.344692669474, 159.7434423173573, 135.87595272715944, 125.26826008628845, 107.39676776620391, 88.84404514736573, 84.96633420640948, 72.5636083857969, 95.74256528592947, 71.93551804031245, 70.68715260190065, 69.41781631421307, 286.5324724457868, 68.12945710895268, 61.532753460773584, 70.69122726097015, 59.83435463203629, 59.13962055553496, 58.21047124866146, 57.41979918321394, 55.66411987005137, 54.6246818696566, 53.857394394942894, 52.5045323014793, 50.97261105611102, 50.717502580256486, 49.56012060885071, 48.42408119349495, 47.43772197943181, 46.60056774660814, 46.31160572340354, 99.96820317787228, 67.28674609511158, 171.57297747149596, 88.85911103459506, 228.5525205640916, 137.40583193784394, 91.09001981119773, 265.64592062022297, 73.50746128342355, 97.6337152502808, 77.95684783286255, 165.16055569065705, 384.9279795567015, 113.52351171786881, 178.9217615526882, 1418.8112691996237, 156.34459321490084, 102.17931268731039, 2420.7147147641845, 191.72242064829518, 255.03707051268785, 169.03279924842766, 337628.5201133346, 314.7853867893602, 324.5146939763612, 586.2329255625143, 692.5663202351518, 408.1925325281881, 21526.803965007177, 323.9947561867334, 597.3374160700293, 782.9602885281167, 1614.6376149444689, 828.3956919868052, 362.7067651541646, 1028.529018240214, 1387.6327684647347, 1784.1919140920058, 921.7921476270119, 620.7318311550479, 1543.8529010772027, 1166.7656948060178, 699.3158377138848, 1913.8914176730311, 900.0190516191409, 795.2609032042412, 759.1396622223673, 505.6031202006461, 496.93732726168275, 1785.6608239814168, 844.69974859656, 611.9997144352025, 1299.154134602192, 662.0771050141748, 660.3602149497062, 1458.4862904315764, 569.7288812979205, 1188.9016519079314, 1005.3032733380178, 798.5175438820822, 705.4621927267526, 746.5427360802361, 734.0076920582922, 835.7251849569293, 697.0955343432206, 116.12765137385956, 83.57597376346534, 78.59104316929633, 94.97891300674877, 70.04210467275311, 70.25654406219202, 69.07402506983485, 62.175082818774435, 60.71999193233488, 60.278861563555694, 57.119056052105314, 53.51866673981983, 50.526515171609525, 50.047860219120544, 66.55734142412976, 56.32599751246205, 43.95726116478737, 43.13733611634379, 142.30891023697419, 40.93947479018593, 41.075069829156966, 39.41702517824413, 39.18094631710386, 39.13561966844589, 38.76856465236903, 49.234055192022595, 47.442794227416464, 49.29889277665604, 37.84302882047798, 37.082198544185026, 55.494964047915644, 176.21147286092096, 81.98946407903588, 77.6425630309642, 102.67562121009753, 54.67636307956193, 129.89036307405811, 70.35130046815856, 76.21721390863641, 388.61806064372263, 262.4743053542003, 136.43690756771093, 136.80595640206266, 65.54523615822322, 145.97026881851428, 432.58789672029377, 438.1891865962985, 2852.5141435174464, 152.54708239887282, 692.735423845865, 135.65585427748718, 171.18828251066668, 838.1791552807332, 444.64105936352547, 2307.1064631115373, 467.8762631210935, 155.3034322389849, 164.97548318106237, 245.89345084364888, 2035.6697983471513, 291.1782370159846, 270611.191604818, 527.6915503885326, 1283.7419591421715, 385.83429002872606, 418.90380612450144, 470.4716756451656, 265.4833851323968, 974.2704471524271, 17487.050613101837, 402.86454655954833, 543.7895929509641, 266.3974622828124, 302.9760369572323, 499.88362064430913, 730.9725781919317, 978.9630485760565, 1265.0731688964117, 1079.023288286773, 955.3563017867581, 1289.118709668982, 905.8883001183912, 791.4279196163033, 893.2849052164167, 806.0129389392931, 1509.4011721668282, 1081.6379461609886, 1611.313953886078, 1015.440716030604, 740.7801933804199, 1130.0633117399814, 1084.4150655829756, 751.2036597735001, 854.5663399837206, 1134.2592291671074, 831.0706927517306, 695.7465667255968, 226.91976113985538, 142.48850034570359, 118.43092696607731, 109.35917397493346, 88.5315531247998, 78.86928110323548, 66.23365632679076, 86.93318072300264, 61.2891931257883, 136.89394912056355, 57.4136170102467, 53.72597265513801, 53.64012746574465, 53.362459390094706, 53.34159082365249, 52.57339307536874, 46.12438094941655, 44.92164209465209, 44.544731816554254, 42.25048038520397, 41.94645843931284, 41.84619537115455, 41.34961078124568, 40.806314187508605, 43.45649266806154, 40.59344149415833, 43.45300101142888, 40.50335009521593, 38.80759228295138, 56.13897000230907, 47.58155208855303, 645.8842766840198, 397.3250771293605, 52.565022716301264, 319.3441933142302, 113.63487766590679, 63.04880682799585, 47.55101858696131, 73.11231606163362, 77.2707681474637, 102.69976364534205, 51.10652741077231, 66.30149211348879, 127.1366478170011, 59.04453505474592, 178.25732679374434, 84.41463843725863, 125.22622339881548, 109.17714178264578, 82.96173939919282, 633.2203339804781, 355.62259449846573, 69.15601757919467, 259193.8330864581, 120.96567734436825, 1300.630732985448, 1609.1075888851906, 1209.5785070725522, 1086.5240053283178, 771.4568546666086, 1854.6241943585255, 658.7763015004813, 737.577132818077, 1394.2956649495056, 658.793523061161, 762.2393546013618, 2338.396298205412, 838.3529714660923, 1507.5071274656593, 416.5544883244045, 650.994641659328, 10127.137455732198, 1066.3818810075595, 1778.57058664338, 510.6402832739389, 455.3757032465275, 814.6501267280956, 2023.139236931259, 878.444054561016, 762.7178891018984, 790.7028068451921, 1121.4298007818834, 968.1453644407991, 654.3913133954524, 754.2464791242433, 798.033806258249, 932.9804762289662, 790.3287261405306, 697.4127249338676, 756.207902442483, 733.4356137873998, 80.47557210088623, 48.31903229741682, 40.37323121638222, 34.62312660068587, 41.173128526767066, 32.28650094541834, 29.11140765019872, 70.26049084100887, 30.36720759831208, 57.24403206760588, 25.66409456273962, 25.047090730754324, 24.898232715930156, 23.200439928699712, 24.966930023443417, 22.350874810131145, 24.312092497980462, 19.64252756371152, 19.28986583216164, 18.128666895787855, 32.197353597396265, 17.95399306173722, 17.84362228520772, 27.662813578976284, 17.47157312269258, 17.233625284573503, 16.932943535657753, 16.856334980249574, 16.284885938455375, 16.456006022694197, 525.7153113517857, 53.67194465109763, 90.15671523481124, 579.7655450003872, 42.541507561769606, 120.81329138569572, 32.39244551377396, 633.6978657415638, 97.24712362283317, 47.7608858487806, 760.913672044514, 54.00851543813089, 50.250156563410975, 51.05595654996706, 47.91791876649921, 358.7019046023307, 70.13897305068117, 57.56179226885466, 40.37086311511374, 35.90377723093652, 920.4286666910417, 1099.8351495288348, 3148.737689519939, 580.6731062293064, 1071.798262236529, 1405.8318253034265, 776.8915357307923, 218.73005396587442, 135.35777948690608, 903.5482016856536, 70.29289004567809, 202.46571713829132, 115.00619574446513, 1070.400079001216, 564.1028656859078, 798.4506274128877, 628.1352501908041, 42085.24338752246, 126.45864027739796, 4107.946203617855, 180.9174017550857, 236.18249372514674, 177.063385650719, 163.34130939894405, 577.2113448478732, 154.68376126027573, 210.37419106302917, 237.07609562027275, 196.77172789394896, 277.2558136544563, 208.98505838479107, 53.04122378278273, 16.528488140281944, 12.596844042432426, 12.198684021030438, 10.304643008538502, 19.38940685658459, 12.075889624237321, 28.51215446008745, 16.604263062743804, 8.187467687730358, 12.922857773441505, 7.6925731434404065, 15.706600320271768, 31.14520783314358, 40.983117377714954, 6.349974629241221, 6.168784093407256, 6.119099593363573, 5.227111569235093, 65.27518071078798, 6.976322745570824, 4.880234199976702, 4.608804020763257, 10.210999862349107, 39.96406414185276, 3.731967062948305, 7.686053028203771, 3.7684097787425586, 5.129309840685563, 19.555099334842943, 20.62446995624694, 7.845183553044607, 17.72177814067613, 15.01681888074264, 24.374589476913535, 19.07174880798612, 15.181095501832068, 12.9931366199512, 13.159181070207456, 9.108717202748695, 17.191181017934685, 12.605468020479172, 226.90519551294705, 12.737578385548876, 37.99314679345096, 43.475085928307735, 39.93897626414999, 4.310148036273163, 3.8849356059998637, 23.17157809495403, 5.0902460333745445, 15.102998738899892, 38.045621078682395, 2.4909753339271172, 2.211883152608637, 1.771099066527388, 15.770633124872564, 9.505635285625065, 1.2563338037873306, 42.63354078596993, 6.517633243585689, 1.4818563823968744, 0.8270052572657606, 0.5343095663843981, 12.66047471575213, 2.171385850766869, 16.83382209092323, 0.21559458328603953, 0.21447370815034555, 0.21387316890794755, 0.21381593177189911, 0.21368258501892012, 0.21342276447614908, 0.21217246731235606, 6.001423381632399, 1.6722608983522784, 1.4738639149111814, 51.27989733217661, 0.5606194948069787, 0.8198747269666237, 0.5910387791861709, 5.174477464704537, 0.8297295045757406, 1.6842568105585878, 1.2479999415728447, 1.128590957022111, 0.9251210507199019, 18.973263517588798, 12.71107430970522, 29.3938217293808, 14.729979417138821, 13.695975630687492, 6.627713620277417, 28.655346646495474, 10.012096418653146, 3.256917765281377, 4.4831932984628065, 3.404573890791154, 14.486463849869724, 2.3571211567908996, 3.116577618523094, 2.4192046158280425, 5.215574274288379, 17.733416292426618, 4.476703241622963, 1.1661867811475308, 0.8690234649060655, 13.656666909704883, 0.7370309660485062, 9.056583956829677, 2.2949681865701415, 1.807410145528293, 0.3557694196590179, 0.3202573804612356, 0.21439736544839721, 0.2123226802557774, 0.21197301627174128, 1.196205713724908, 0.7558220826951858, 35.30231691770731, 0.8619541482027597, 3.743870296455824, 0.887834452365783, 0.831475620584347, 13.185855015785771, 22.151448098814708, 4.421199682928989, 4.73988162485017, 3.7407477705241954, 3.6998719515585954, 18.828233508988806, 2.408882152026257, 4.2875707229428395, 1.9973357142935002, 2.0994169717272357, 6.134166200934707, 7.211840647173311, 2.219458749944325, 20.051416413614596, 1.5857897143908521, 1.5090188317783395, 4.433135223583961, 1.0219597621943237, 0.9279689484276386, 3.4434246407481717, 2.829712047501094, 22.155198259640684, 10.289591332300303, 0.503260206560653, 8.16418943549742, 0.47137471807923387, 0.21265446698729176, 0.212526438166285, 0.21217553557693405, 2.797375666979207, 3.9489213929625415, 2.7488027946993903, 43.43313909727209, 1.1760743551451416, 4.370247349950747, 9.364207849953498, 17.793411657626997, 6.272394017498799, 6.927940525958193, 3.5884848664449382, 3.3523034893861703, 3.0078323540264877, 3.1789626327928517, 2.3653570695588724, 3.018220108444537, 25.209173406916946, 13.955976615868927, 1.7200752973229556, 18.258947118273237, 2.145193440212037, 2.4483363751452587, 0.9120197583454738, 1.0839072552016358, 6.9583630841158355, 0.5211003130015645, 0.7223381050884763, 0.3693641482568753, 0.3534923494463574, 0.21171890981529015, 0.21167349908373598, 0.21072493938825487, 0.2104571080112401, 0.205131829920001, 0.20089127160976453, 0.19551000077052735, 0.8126196149488819, 0.4653994988608572, 0.9745965035730908, 29.290386956394553, 0.7045120764473123, 0.5534734955328018, 2.3601601637659253, 0.5139132309711751, 0.5698066486275334, 14.09193957612383, 0.4275084926449884, 0.20809381251104841, 0.20775226152994505, 0.20693059527511687, 0.17480189029296025, 0.10053723658648865, 0.0924464450837137, 0.08930337077761451, 0.09216024613391202, 0.08848957310790165, 0.07122009461234287, 0.07056150193309287, 0.06829998548145928, 0.06752035080475821, 0.029747050060682765, 0.029747050060682765, 0.029747032516457314, 0.029747032516457314, 0.029747010586175498, 0.029747010586175498, 0.029747010586175498, 0.02974700181406277, 0.029746995234978226, 0.029746995234978226, 0.029746995234978226, 0.029746993041950047, 0.029746993041950047, 0.029746993041950047, 0.029746993041950047, 0.029746993041950047, 0.029746993041950047, 0.029746995234978226, 0.03434516566980078, 0.034768795116654067, 0.20547021394847603, 0.09929194746389174, 0.2092411522229457, 0.08826370874943007, 0.09646973072497504, 4.707565382411123, 0.08900068025588777, 0.2076487155113262, 0.2169131192036131, 0.20781103468520992, 0.20498909865390044, 0.8191840276342943, 0.20677285514407617, 0.18641620263076528, 0.1739834872640662, 0.20884689838858395, 0.17265623152015663, 0.21642161772756982, 0.17450284897012758, 0.14571909092423582, 0.09343343057497792, 0.0937661129501152, 0.09268945015045207, 0.20755956986886762, 0.2035990956354208, 0.17391677457755175, 0.029727554045998732, 0.029727554045998732, 0.029727551859457035, 0.029727551859457035, 0.029727545299831938, 0.029727545299831938, 0.029727545299831938, 0.029727545299831938, 0.029727545299831938, 0.029727545299831938, 0.029727545299831938, 0.029727545299831938, 0.029727545299831938, 0.029727545299831938, 0.029727545299831938, 0.029727545299831938, 0.029727545299831938, 0.029727545299831938, 0.029727545299831938, 0.029727545299831938, 0.029727545299831938, 0.029727545299831938, 0.029727545299831938, 0.029727545299831938, 0.029727545299831938, 0.029727545299831938, 0.029727545299831938, 0.029727545299831938, 0.029727545299831938, 0.029727545299831938, 0.029727545299831938, 0.029727545299831938, 0.029727545299831938, 0.029727545299831938, 0.029727545299831938, 0.029727545299831938, 0.029727545299831938, 0.029727545299831938, 0.029727545299831938, 0.029727545299831938, 0.029727545299831938, 0.029727545299831938, 0.029727545299831938, 0.029727545299831938, 0.029727545299831938, 0.029727545299831938, 0.029727545299831938, 0.029727545299831938, 0.029727545299831938, 0.029727545299831938, 0.029727545299831938, 0.029727545299831938, 0.029727545299831938, 0.029727545299831938, 0.029727545299831938, 0.029727545299831938, 0.029727545299831938, 0.029727549672915334, 0.029727549672915334, 0.029727545299831938, 0.029727545299831938, 0.029727545299831938, 0.029727545299831938, 0.029727545299831938, 0.029727545299831938, 0.029727549672915334, 0.3663366947370547, 0.029727545299831938, 0.17393781785486406, 0.029727545299831938, 0.029727545299831938, 0.029727545299831938, 0.029727545299831938, 0.029727545299831938, 0.029727545299831938, 0.029727545299831938, 0.029727545299831938, 0.029727545299831938, 0.029727545299831938, 0.029727545299831938, 0.029727545299831938, 0.029727545299831938, 0.029727545299831938, 0.029727545299831938, 0.029727545299831938, 0.029727545299831938, 0.029727545299831938, 0.17344400927753512, 0.029727545299831938, 0.9780954477592536, 0.029727545299831938, 0.029727545299831938, 0.029727545299831938, 0.029727545299831938, 0.029727545299831938, 0.029727545299831938, 0.029727545299831938, 0.029727545299831938, 0.029727545299831938, 0.029727545299831938, 0.029727545299831938, 0.029727545299831938, 0.029727545299831938, 0.029727545299831938, 0.029727545299831938, 0.029727545299831938, 0.35053289610583305, 0.02972756716524893, 0.02972756279216553, 0.029727560605623832, 0.029727556232540434, 0.029727556232540434, 0.029727554045998732, 0.029727554045998732, 0.029727551859457035, 0.029727551859457035, 0.029727551859457035, 0.029727551859457035, 0.029727551859457035, 0.029727551859457035, 0.029727549672915334, 0.029727549672915334, 0.029727549672915334, 0.029727549672915334, 0.029727549672915334, 0.2046968436173722, 0.029726826626888147, 0.029726826626888147, 0.02972682006832179, 0.02972682006832179, 0.02972682006832179, 0.02972682006832179, 0.02972682006832179, 0.02972682006832179, 0.02972682006832179, 0.02972682006832179, 0.02972682006832179, 0.02972682006832179, 0.02972682006832179, 0.02972682006832179, 0.02972682006832179, 0.02972682006832179, 0.02972682006832179, 0.02972682006832179, 0.02972682006832179, 0.02972682006832179, 0.02972682006832179, 0.02972682006832179, 0.02972682006832179, 0.02972682006832179, 0.02972682006832179, 0.02972682006832179, 0.02972682006832179, 0.02972682006832179, 0.02972682006832179, 0.02972682006832179, 0.02972682006832179, 0.02972682006832179, 0.02972682006832179, 0.02972682444069936, 0.02972682006832179, 0.02972682006832179, 0.02972682006832179, 0.02972682006832179, 0.02972682006832179, 0.02972682006832179, 0.02972682006832179, 0.02972682006832179, 0.02972682006832179, 0.02972682006832179, 0.02972682006832179, 0.02972682006832179, 0.02972682006832179, 0.02972682006832179, 0.02972682006832179, 0.02972682006832179, 0.02972682006832179, 0.02972682006832179, 0.02972682006832179, 0.02972682006832179, 0.02972682006832179, 0.02972682006832179, 0.02972682006832179, 0.02972682006832179, 0.02972682006832179, 0.02972682006832179, 0.02972682006832179, 0.02972682006832179, 0.02972682006832179, 0.02972682006832179, 0.02972682006832179, 0.02972682006832179, 0.02972682006832179, 0.02972682006832179, 0.02972682006832179, 0.02972682006832179, 0.02972682006832179, 0.02972682006832179, 0.02972682006832179, 0.02972682006832179, 0.02972682006832179, 0.02972682006832179, 0.02972682006832179, 0.02972682006832179, 0.02972682006832179, 0.02972682006832179, 0.02972682006832179, 0.02972682006832179, 0.02972682006832179, 0.02972682006832179, 0.02972682006832179, 0.02972682006832179, 0.02972682006832179, 0.02972682006832179, 0.02972682006832179, 0.02972682006832179, 0.02972682006832179, 0.02972682006832179, 0.02972682444069936, 0.02972682444069936, 0.04208303228638621, 0.02972682006832179, 0.02972682006832179, 0.02972682006832179, 0.02972682006832179, 0.02972682006832179, 0.02972682006832179, 0.02972682006832179, 0.02972682006832179, 0.02972682006832179, 0.02972682006832179, 0.02972682006832179, 0.02972682006832179, 0.02972682006832179, 0.02972682006832179, 0.02972682006832179, 0.02972682006832179, 0.02972682006832179, 0.02972682006832179, 0.02972682006832179, 0.02972682006832179, 0.02972682006832179, 0.02972682006832179, 0.02972682006832179, 0.2058291145132837, 0.02972682006832179, 0.02972682006832179, 0.02972682006832179, 0.02972682006832179, 0.02972682006832179, 0.4538360719482137, 0.02972682006832179, 0.02972682006832179, 0.02972682006832179, 0.02972682006832179, 0.02972682006832179, 0.02972682006832179, 0.02972682006832179, 0.02972682006832179, 0.02972682006832179, 0.02972682006832179, 0.02972682006832179, 0.02972682006832179, 0.02972682006832179, 0.02972682006832179, 0.02972682006832179, 0.02972682006832179, 0.02972682006832179, 0.02972682006832179, 0.02972682006832179, 0.02972682006832179, 0.02972682006832179, 0.212941486213714, 0.04148615027934778, 0.02972682006832179, 0.02972682006832179, 0.02972682006832179, 0.02972682006832179, 0.02972682006832179, 0.0484984688638098, 0.02972682006832179, 0.02972682006832179, 0.02972682006832179, 0.02972682006832179, 0.02972682006832179, 0.02972682006832179, 0.02972682006832179, 0.02972682006832179, 0.02972682006832179, 0.02972682006832179, 0.02972682006832179, 0.02972682006832179, 0.02972682006832179, 0.02972682006832179, 0.02972682006832179, 0.02972682006832179, 0.02972682006832179, 0.044165149741171784, 0.046663897937611366, 0.03927956872461234, 0.046702514776322715, 0.042608906881663744, 0.02972682006832179, 0.02972682006832179, 0.02972682006832179, 0.02972682006832179, 0.02972682006832179, 0.02972682006832179, 0.02972682006832179, 0.02972682006832179, 0.02972682006832179, 0.02972682006832179, 0.02972682006832179, 0.02972682006832179, 0.02972682006832179, 0.02972682006832179, 0.02972683974402086, 0.02972683537164329, 0.029726833185454504, 0.029726830999265718, 0.029726830999265718, 0.029726830999265718, 0.029726828813076932, 0.029726828813076932, 0.029726826626888147, 0.029726826626888147, 0.029726826626888147, 0.029726826626888147, 0.029726826626888147, 0.029726826626888147, 0.029726826626888147, 0.029726826626888147, 0.13655110050841016, 0.02972799623787412, 0.02972799623787412, 0.02972799623787412, 0.02972799623787412, 0.029727989679307763, 0.029727989679307763, 0.029727989679307763, 0.029727989679307763, 0.029727989679307763, 0.029727989679307763, 0.029727989679307763, 0.029727989679307763, 0.029727989679307763, 0.029727989679307763, 0.029727989679307763, 0.029727989679307763, 0.029727989679307763, 0.029727989679307763, 0.029727989679307763, 0.029727989679307763, 0.029727989679307763, 0.029727989679307763, 0.029727989679307763, 0.029727989679307763, 0.029727989679307763, 0.029727989679307763, 0.029727989679307763, 0.029727989679307763, 0.029727989679307763, 0.029727989679307763, 0.029727989679307763, 0.029727989679307763, 0.029727989679307763, 0.029727989679307763, 0.029727994051685334, 0.12810769837242791, 0.14105482430213942, 0.029727989679307763, 0.029727989679307763, 0.029727989679307763, 0.029727989679307763, 0.029727989679307763, 0.029727989679307763, 0.029727989679307763, 0.029727989679307763, 0.029727989679307763, 0.029727989679307763, 0.029727989679307763, 0.029727989679307763, 0.029727989679307763, 0.029727989679307763, 0.029727989679307763, 0.029727989679307763, 0.029727989679307763, 0.029727989679307763, 0.029727989679307763, 0.029727989679307763, 0.029727989679307763, 0.029727989679307763, 0.3053293870612675, 0.029727989679307763, 0.029727989679307763, 0.029727989679307763, 0.029727989679307763, 0.029727989679307763, 0.029727989679307763, 0.029727989679307763, 0.029727989679307763, 0.029727989679307763, 0.029727989679307763, 0.029727989679307763, 0.029727989679307763, 0.029727989679307763, 0.029727989679307763, 0.029727989679307763, 0.029727989679307763, 0.029727989679307763, 0.029727989679307763, 0.029727989679307763, 0.029727989679307763, 0.029727989679307763, 0.12379828303797528, 0.030449007857977852, 0.029727989679307763, 0.029727989679307763, 0.029727989679307763, 0.029727989679307763, 0.029727989679307763, 0.029727989679307763, 0.029727989679307763, 0.029727989679307763, 0.029727989679307763, 0.029727989679307763, 0.029727989679307763, 0.029727989679307763, 0.029727989679307763, 0.029727989679307763, 0.029727989679307763, 0.029727989679307763, 0.029727989679307763, 0.029727989679307763, 0.029727989679307763, 0.03025926634707461, 0.029727989679307763, 0.029727989679307763, 0.0305627333986121, 0.029727989679307763, 0.030473298601576222, 0.03150114619013627, 0.03055507955167322, 0.030508633970920154, 0.030412876715915912, 0.030381126696180597, 0.030103843627729925, 0.029728009355006836, 0.02972800716881805, 0.029728004982629265, 0.02972799842406291, 0.02972799842406291, 0.02972799842406291, 0.02972799623787412, 0.02972799623787412, 0.02972799623787412, 0.02972799623787412, 0.02972799623787412, 0.029730140889072932, 0.029730140889072932, 0.029730134330506575, 0.029730134330506575, 0.029730134330506575, 0.029730134330506575, 0.029730134330506575, 0.029730134330506575, 0.029730134330506575, 0.029730134330506575, 0.029730134330506575, 0.029730134330506575, 0.029730134330506575, 0.029730134330506575, 0.029730134330506575, 0.029730134330506575, 0.029730134330506575, 0.029730134330506575, 0.029730134330506575, 0.029730134330506575, 0.029730134330506575, 0.029730134330506575, 0.029730134330506575, 0.029730134330506575, 0.029730134330506575, 0.029730134330506575, 0.029730134330506575, 0.029730134330506575, 0.029730134330506575, 0.029730134330506575, 0.029730134330506575, 0.029730134330506575, 0.029730134330506575, 0.029730134330506575, 0.029730134330506575, 0.029730134330506575, 0.029730134330506575, 0.029730134330506575, 0.029730134330506575, 0.029730134330506575, 0.029730134330506575, 0.029730134330506575, 0.029730134330506575, 0.029730134330506575, 0.029730134330506575, 0.029730134330506575, 0.029730134330506575, 0.029730134330506575, 0.029730134330506575, 0.029730134330506575, 0.029730134330506575, 0.029730134330506575, 0.029730134330506575, 0.029730134330506575, 0.029730134330506575, 0.029730134330506575, 0.029730134330506575, 0.029730134330506575, 0.029730134330506575, 0.029730134330506575, 0.029730134330506575, 0.029730134330506575, 0.029730134330506575, 0.029730134330506575, 0.029730134330506575, 0.029730134330506575, 0.029730134330506575, 0.029730134330506575, 0.029730134330506575, 0.029730134330506575, 0.029730134330506575, 0.029730134330506575, 0.029730134330506575, 0.029730134330506575, 0.029730134330506575, 0.029730134330506575, 0.029730134330506575, 0.029730134330506575, 0.029730134330506575, 0.029730134330506575, 0.029730134330506575, 0.029730134330506575, 0.029730134330506575, 0.029730134330506575, 0.029730134330506575, 0.029730134330506575, 0.029730134330506575, 0.029730134330506575, 0.029730134330506575, 0.029730134330506575, 0.029730134330506575, 0.029730134330506575, 0.029730134330506575, 0.029730138702884146, 0.029730138702884146, 0.029730134330506575, 0.029730134330506575, 0.029730134330506575, 0.029730134330506575, 0.029730134330506575, 0.029730138702884146, 0.029731391389058375, 0.029730298294665506, 0.029730156192394434, 0.02973015400620565, 0.029730145261450503, 0.029730143075261718, 0.029730143075261718, 0.029730143075261718, 0.029730143075261718, 0.029730143075261718, 0.029730143075261718, 0.029730140889072932, 0.029730140889072932, 0.029730140889072932, 0.029730140889072932, 0.029730138702884146, 0.029730138702884146, 0.029730138702884146, 0.029730138702884146, 0.029730138702884146, 0.029730138702884146, 0.029730138702884146, 0.029730138702884146, 0.029730138702884146, 0.029730138702884146, 0.029730140889072932, 0.029730140889072932, 0.029730134330506575, 0.029730134330506575, 0.029730134330506575, 0.029730134330506575, 0.029730134330506575, 0.029730134330506575, 0.029730134330506575, 0.029730134330506575, 0.029730134330506575, 0.029730134330506575, 0.029730134330506575, 0.029730134330506575, 0.029730134330506575, 0.029730134330506575, 0.029730134330506575, 0.029730134330506575, 0.029730134330506575, 0.029730134330506575, 0.029730134330506575, 0.029730134330506575, 0.029730134330506575, 0.029730134330506575, 0.029730134330506575, 0.029730134330506575, 0.029730134330506575, 0.029730134330506575, 0.029730134330506575, 0.029730134330506575, 0.029730134330506575, 0.029730134330506575, 0.029730134330506575, 0.029730134330506575, 0.029730134330506575, 0.029730138702884146, 0.029730138702884146, 0.029730134330506575, 0.029730134330506575, 0.029730134330506575, 0.029730134330506575, 0.029730134330506575, 0.029730134330506575, 0.029730134330506575, 0.029730134330506575, 0.029730134330506575, 0.029730134330506575, 0.029730134330506575, 0.029730134330506575, 0.029730134330506575, 0.029730134330506575, 0.029730134330506575, 0.029730134330506575, 0.029730134330506575, 0.029730134330506575, 0.029730134330506575, 0.029730134330506575, 0.029730134330506575, 0.029730134330506575, 0.029730134330506575, 0.029730134330506575, 0.029730134330506575, 0.029730134330506575, 0.029730138702884146, 0.029730134330506575, 0.029730134330506575, 0.029730134330506575, 0.029730134330506575, 0.029731288638185447, 0.029730237081379507, 0.02973015837858322, 0.029730151820016863, 0.02973014744763929, 0.029730145261450503, 0.029730143075261718, 0.029730140889072932, 0.029730140889072932, 0.029730140889072932, 0.029730140889072932, 0.029730140889072932, 0.029730140889072932, 0.029730140889072932, 0.029730140889072932, 0.029730140889072932, 0.029730138702884146, 0.029730138702884146, 0.029730138702884146, 0.029730138702884146, 0.029730138702884146, 0.029730138702884146, 0.029730138702884146, 0.029730138702884146, 0.029730138702884146, 0.029730138702884146, 0.029730138702884146, 0.029730140889072932, 0.029730140889072932, 0.029730140889072932, 0.029730134330506575, 0.029730134330506575, 0.029730134330506575, 0.029730134330506575, 0.029730134330506575, 0.029730134330506575, 0.029730134330506575, 0.029730134330506575, 0.029730134330506575, 0.029730134330506575, 0.029730134330506575, 0.029730134330506575, 0.029730134330506575, 0.029730134330506575, 0.029730134330506575, 0.029730134330506575, 0.029730134330506575, 0.029730134330506575, 0.029730134330506575, 0.029730134330506575, 0.029730134330506575, 0.029730134330506575, 0.029730134330506575, 0.029730134330506575, 0.029730134330506575, 0.029730134330506575, 0.029730134330506575, 0.029730138702884146, 0.029730134330506575, 0.029730134330506575, 0.029730134330506575, 0.029730134330506575, 0.029730134330506575, 0.029730134330506575, 0.029730134330506575, 0.029730134330506575, 0.029730134330506575, 0.029730134330506575, 0.029730134330506575, 0.029730134330506575, 0.029730134330506575, 0.029730134330506575, 0.029730134330506575, 0.029730134330506575, 0.029730134330506575, 0.029730134330506575, 0.029730134330506575, 0.029730134330506575, 0.029730134330506575, 0.029730134330506575, 0.029730134330506575, 0.029730134330506575, 0.029730134330506575, 0.029730134330506575, 0.029730138702884146, 0.029730134330506575, 0.029730134330506575, 0.029730134330506575, 0.029730134330506575, 0.02973135203766023, 0.029730293922287935, 0.029730156192394434, 0.029730149633828074, 0.02973014744763929, 0.029730145261450503, 0.029730143075261718, 0.029730143075261718, 0.029730143075261718, 0.029730143075261718, 0.029730143075261718, 0.029730140889072932, 0.029730140889072932, 0.029730140889072932, 0.029730140889072932, 0.029730140889072932, 0.029730138702884146, 0.029730138702884146, 0.029730138702884146, 0.029730138702884146, 0.029730138702884146, 0.029730138702884146, 0.029730138702884146, 0.029730138702884146, 0.029730138702884146, 0.029730138702884146, 0.029730138702884146, 0.029730140889072932, 0.029730140889072932, 0.029730140889072932, 0.029730134330506575, 0.029730134330506575, 0.029730134330506575, 0.029730134330506575, 0.029730134330506575, 0.029730134330506575, 0.029730134330506575, 0.029730134330506575, 0.029730134330506575, 0.029730134330506575, 0.029730134330506575, 0.029730134330506575, 0.029730134330506575, 0.029730134330506575, 0.029730134330506575, 0.029730134330506575, 0.029730134330506575, 0.029730134330506575, 0.029730134330506575, 0.029730134330506575, 0.029730134330506575, 0.029730134330506575, 0.029730134330506575, 0.029730134330506575, 0.029730134330506575, 0.029730134330506575, 0.029730134330506575, 0.029730134330506575, 0.029730134330506575, 0.029730134330506575, 0.029730134330506575, 0.029730134330506575, 0.029730134330506575, 0.029730134330506575, 0.029730134330506575, 0.029730134330506575, 0.029730134330506575, 0.029730134330506575, 0.029730134330506575, 0.029730134330506575, 0.029730134330506575, 0.029730134330506575, 0.029730134330506575, 0.029730134330506575, 0.029730134330506575, 0.029730134330506575, 0.029730134330506575, 0.029730134330506575, 0.029730134330506575, 0.029730134330506575, 0.029730134330506575, 0.029730134330506575, 0.029730134330506575, 0.029730134330506575, 0.029730134330506575, 0.029730134330506575, 0.029730134330506575, 0.029730134330506575, 0.029730134330506575, 0.029730134330506575, 0.029730134330506575, 0.029730134330506575, 0.029730134330506575, 0.029730134330506575, 0.029730134330506575, 0.029730134330506575, 0.029730134330506575, 0.029730134330506575, 0.029730134330506575, 0.029730134330506575, 0.029730134330506575, 0.029730134330506575, 0.029730134330506575, 0.029730134330506575, 0.029730134330506575, 0.029730134330506575, 0.029730134330506575, 0.029730134330506575, 0.029730134330506575, 0.029730134330506575, 0.029730134330506575, 0.029730134330506575, 0.029730134330506575, 0.029730134330506575, 0.029730134330506575, 0.029730134330506575, 0.029730134330506575, 0.029730134330506575, 0.029730134330506575, 0.029730134330506575, 0.029730134330506575, 0.029730134330506575, 0.029730134330506575, 0.029730134330506575, 0.029730134330506575, 0.029730134330506575, 0.029730134330506575, 0.029730134330506575, 0.029730134330506575, 0.029730134330506575, 0.029730134330506575, 0.029730134330506575, 0.029730134330506575, 0.029730134330506575, 0.029730134330506575, 0.029730134330506575, 0.029730134330506575, 0.029730134330506575, 0.029730138702884146, 0.029730138702884146, 0.029730134330506575, 0.029730134330506575, 0.029731356410037806, 0.029730302667043077, 0.029730160564772005, 0.029730149633828074, 0.029730145261450503, 0.029730145261450503, 0.029730143075261718, 0.029730143075261718, 0.029730143075261718, 0.029730143075261718, 0.029730140889072932, 0.029730140889072932, 0.029730140889072932, 0.029730140889072932, 0.029730138702884146, 0.029730138702884146, 0.029730138702884146, 0.029730138702884146, 0.029730138702884146, 0.029730138702884146, 0.029730138702884146, 0.029730138702884146, 0.029730138702884146, 0.029730138702884146, 0.029730138702884146, 0.02972795470028719, 0.029727952514098405, 0.029727952514098405, 0.029727945955532048, 0.029727945955532048, 0.029727945955532048, 0.029727945955532048, 0.029727945955532048, 0.029727945955532048, 0.029727945955532048, 0.029727945955532048, 0.029727945955532048, 0.029727945955532048, 0.029727945955532048, 0.029727945955532048, 0.029727945955532048, 0.029727945955532048, 0.029727945955532048, 0.029727945955532048, 0.029727945955532048, 0.029727945955532048, 0.029727945955532048, 0.029727945955532048, 0.029727945955532048, 0.029727945955532048, 0.029727945955532048, 0.029727945955532048, 0.029727945955532048, 0.029727945955532048, 0.029727945955532048, 0.02972795032790962, 0.029727945955532048, 0.029727945955532048, 0.029727945955532048, 0.029727945955532048, 0.029727945955532048, 0.029727945955532048, 0.029727945955532048, 0.029727945955532048, 0.029727945955532048, 0.029727945955532048, 0.029727945955532048, 0.029727945955532048, 0.029727945955532048, 0.029727945955532048, 0.029727945955532048, 0.029727945955532048, 0.029727945955532048, 0.029727945955532048, 0.029727945955532048, 0.029727945955532048, 0.029727945955532048, 0.029727945955532048, 0.029727945955532048, 0.029727945955532048, 0.029727945955532048, 0.029727945955532048, 0.029727945955532048, 0.029727945955532048, 0.029727945955532048, 0.02972795032790962, 0.17073635965593897, 0.17131195692895915, 0.029727945955532048, 0.3108101448576098, 0.029727945955532048, 0.029727945955532048, 0.029727945955532048, 0.029727945955532048, 0.029727945955532048, 0.029727945955532048, 0.029727945955532048, 0.029727945955532048, 0.029727945955532048, 0.029727945955532048, 0.029727945955532048, 0.029727945955532048, 0.029727945955532048, 0.029727945955532048, 0.029727945955532048, 0.029727945955532048, 0.029727945955532048, 0.029727945955532048, 0.029727945955532048, 0.029727945955532048, 0.029727945955532048, 0.029727945955532048, 0.1741571504622739, 0.029727963445042336, 0.029727959072664765, 0.02972795688647598, 0.02972795470028719, 0.02972795470028719, 0.02972795470028719, 0.02972795470028719, 0.029727952514098405, 0.029727952514098405, 0.029727952514098405, 0.029727952514098405, 0.029727952514098405, 0.029727952514098405, 0.02972795032790962, 0.02972795032790962, 0.02972795032790962, 0.02972795032790962, 0.02972795032790962, 0.02972795032790962, 0.02972795032790962, 0.02972795032790962], \"Total\": [2013749.0, 115265.0, 6691.0, 21601.0, 4331.0, 2976.0, 5318.0, 11188.0, 3047.0, 2107.0, 2417.0, 1866.0, 2496.0, 1431.0, 4686.0, 1492.0, 4588.0, 1823.0, 5031.0, 15761.0, 4071.0, 4557.0, 880.0, 941.0, 3013.0, 2314.0, 15539.0, 4364.0, 2515.0, 714.0, 218.0248250665464, 197.63360391106673, 149.81730897697463, 124.81142117590892, 120.57312121120319, 142.89041061798693, 99.4748398709225, 98.89365204617854, 96.97891910604127, 89.2496114325596, 85.22712027388576, 97.67375348360692, 77.97327699291887, 72.86719773820529, 76.11569900279015, 79.94865006192087, 69.94077343431863, 72.7764292879035, 71.8922936529086, 67.54701312795521, 66.96726962464815, 67.77408399684103, 66.52940128890474, 64.0311820511214, 63.572229019752065, 61.70841934725477, 61.491559516610515, 60.92211606116247, 60.81548357080661, 59.38819012835827, 812.0579721854945, 183.41705122078562, 809.3792889884123, 132.67243000774792, 124.74522254216264, 93.52859771509658, 97.28872382841737, 89.85555474480618, 95.25419113210677, 373.97687506542087, 1037.1485573928924, 746.0392937244716, 972.6674230213533, 304.3157670410694, 102.79226446273114, 105.28421372091418, 164.379350453411, 101.91163250480491, 112.07152596573818, 1086.1126477355833, 610.5657188019808, 5882.880651959921, 2013749.703548079, 639.6809878741408, 209.21722089206926, 318.05274896915137, 392.01261160831456, 15539.092338021408, 185.7908181064748, 2935.355311243361, 15761.339670954685, 1172.0873627454048, 115265.10655027242, 3703.075411123963, 9139.817652880729, 10141.952985075954, 553.1415579713168, 1976.0583493385327, 2039.1414439781533, 5521.565667588829, 2850.5054341278433, 3067.4398477211566, 2140.8459575335123, 4271.687578156921, 2468.951680546393, 2944.7283526385786, 2012.9287496704098, 12915.357764592418, 2302.22330778443, 2019.3223812266747, 21601.66620703716, 4775.586281905567, 8819.277979155879, 5528.67878938059, 5697.336097095063, 5346.339367146627, 5646.152733451679, 11188.420185007792, 2927.9729484705426, 6691.6746971501925, 5851.886826858378, 4582.037445863346, 3850.877295064158, 4234.314859720711, 513.8087922382384, 119.94299834890015, 105.62837610967969, 97.27350066254223, 91.35749614571672, 85.24239918078189, 82.09080219655668, 74.29452575991586, 74.05680808538771, 72.68780445711144, 72.35029226463813, 61.17886127634441, 59.849909086784244, 59.59756663355798, 59.30310566197291, 93.18827256174208, 56.61603215337228, 56.461860607442105, 56.28235463267641, 55.12231400085864, 54.08982074121039, 54.00328061732309, 53.61625110599259, 52.6002252097827, 51.91550459836289, 51.55933126081911, 52.14864170877917, 51.88923223798487, 50.76461892560327, 51.64386373979892, 138.2875868130741, 1431.1711999501024, 281.64884176288854, 942.9739730837384, 101.637140456606, 122.88159355533261, 87.90277941012506, 5318.951748097181, 423.8423189873632, 379.6357043956331, 2314.3064950728663, 92.06815890400033, 1740.0297972677258, 1281.377313560666, 92.35827914565752, 3013.411002809212, 1077.095083295096, 2268.9195525954397, 126.02531447369053, 803.170416985722, 753.188663476585, 801.7524338109416, 702.7917951563587, 21601.66620703716, 5031.682229259232, 2515.846984738138, 4557.45255518859, 11188.420185007792, 2452.0286876463174, 1404.8447312144892, 3815.875638982047, 694.4865680142024, 3718.7404932357504, 4117.332691523701, 1198.4222164720327, 3515.9433422276993, 2013749.703548079, 3920.4215798113332, 15761.339670954685, 115265.10655027242, 1590.183476779843, 12915.357764592418, 4788.493912026087, 5528.67878938059, 4271.687578156921, 15539.092338021408, 3850.877295064158, 8819.277979155879, 2195.5997327523496, 5697.336097095063, 5882.880651959921, 160.433783340993, 136.5662937360532, 125.95860111565672, 108.08710878522707, 89.53438622196397, 85.65667522092608, 73.25394939469061, 96.65512372369743, 72.62585904920616, 71.37749362002933, 70.10815734247022, 289.42049944753046, 68.81979811784639, 62.223094482514384, 71.50598904992933, 60.524695646552885, 59.829961564428686, 58.900812267684636, 58.11014019661423, 56.3544608825572, 55.31502287855032, 54.54773540383662, 53.194873310373026, 51.66353935969952, 51.40784358915021, 50.26057400614649, 49.114422202388674, 48.12806299193763, 47.290908758622784, 47.001946740562694, 101.81968094470318, 68.29884086278494, 177.23744159634222, 91.23707838667984, 246.158653941766, 144.90886815747115, 94.62517519068581, 296.90967330218564, 75.99256637811857, 103.721091029624, 81.45842869612186, 187.17215225171682, 485.311660256662, 123.75006127630547, 208.53380265758415, 2205.707511290413, 179.9360881999082, 111.36809212330441, 4588.550252774419, 232.90402677511688, 329.7631910515439, 204.27101290978385, 2013749.703548079, 438.9727818971216, 468.59835713389447, 986.9811933914685, 1250.0847622431497, 660.3794945557963, 115265.10655027242, 490.44598724963197, 1118.36127628696, 1608.4542008755498, 4234.314859720711, 1774.3431161359604, 586.0422809262614, 2509.342895978115, 4058.569921968034, 5851.886826858378, 2304.160891497435, 1340.357893204133, 5697.336097095063, 3818.1541050095707, 1729.386316047078, 9139.817652880729, 2750.9526140922444, 2287.1405285655774, 2154.418857832462, 1065.2822520394668, 1047.4614933529613, 12915.357764592418, 3020.0669466595878, 1662.596820542875, 8819.277979155879, 1982.0204179263753, 1980.771875526759, 15539.092338021408, 1452.074208381617, 15761.339670954685, 10141.952985075954, 5521.565667588829, 3140.64795550955, 5646.152733451679, 5346.339367146627, 21601.66620703716, 4331.014262952293, 116.81502381818144, 84.26334620778722, 79.27841562285317, 95.90456787931817, 70.72947711707499, 70.95008391851078, 69.76139751415673, 62.86245530498258, 61.407364382279646, 60.997429174701416, 57.80642849642721, 54.20603918414172, 51.21388764238651, 50.73523266344244, 67.49613138182971, 57.139664882866995, 44.64463360910926, 43.82470856628856, 144.66499433224496, 41.62684723450783, 41.77892905340606, 40.104397622566026, 39.86831882514189, 39.822992112767785, 39.45593710119749, 50.1207422299234, 48.30187863524579, 50.19245403152678, 38.53040129758469, 37.76957099412979, 56.60317069089416, 183.59122569259765, 84.13382752393709, 80.28814176982102, 107.11022075137762, 56.08552811419779, 136.88437259174844, 72.92437678114278, 79.33921969470111, 446.7187010312602, 295.827714772261, 147.50136715156896, 148.1111710757426, 68.09127794266429, 162.04385667552432, 536.6676919138654, 547.550534028197, 4686.565049625739, 174.68221528463505, 957.8802587676322, 153.68271332962942, 200.2264756600456, 1224.2158590847403, 593.8762344122589, 4071.669928790059, 648.2099021602244, 185.24234101501085, 200.3349488635547, 326.33556760972783, 4364.669942772753, 402.7958984741727, 2013749.703548079, 861.8350123350533, 2772.5679028333566, 596.2043397004416, 672.8760357197837, 799.017373783818, 374.3087018635971, 2170.152294394977, 115265.10655027242, 679.3942361960696, 1047.9146907800052, 383.6949589793061, 482.72347736550734, 1027.1904369536912, 1842.9612695863873, 3148.807534794505, 4788.493912026087, 3784.1203558920483, 3140.64795550955, 5346.339367146627, 3020.0669466595878, 2401.8047011737153, 3106.900057290694, 2574.6317299630505, 8819.277979155879, 4775.586281905567, 15539.092338021408, 5851.886826858378, 2839.360265420036, 10141.952985075954, 9139.817652880729, 2991.612382839712, 4582.037445863346, 12915.357764592418, 5646.152733451679, 3067.4398477211566, 227.604973095569, 143.1737123784859, 119.13553689299108, 110.04438592051756, 89.2167650703839, 79.67628967603075, 66.91886827237487, 87.86696692384903, 61.974405071372416, 138.50128462624994, 58.11086526715273, 54.41118461274641, 54.32533941132876, 54.04773580008409, 54.02689584606478, 53.25860502095286, 46.80959290326609, 45.60685404023621, 45.23432765337937, 42.935692340917534, 42.631670395026404, 42.531407316738665, 42.034822726829795, 41.49152613309272, 44.18852547579833, 41.27865345981382, 44.18747072674433, 41.18856204392096, 39.492804258952695, 57.132296734182674, 48.45607489922634, 678.8107919067445, 415.59489328622357, 53.657397944275104, 344.24040251681515, 118.67091885088003, 64.79589340772034, 48.49071117609136, 75.61843801284846, 80.99314290729806, 110.84970349321108, 52.41976212922152, 69.58371427792031, 141.28751925173435, 61.39193213147671, 208.22777964164138, 91.03337372749937, 143.42532052039422, 125.67408744652867, 91.24505324573705, 1062.3565568244403, 536.0748534047001, 73.80714671636089, 2013749.703548079, 147.50251111549568, 2894.602509219291, 4123.9353558722605, 2943.6300412634077, 2692.688908607593, 1720.6460996888695, 5646.152733451679, 1460.6521802158165, 1729.7976185363293, 4582.037445863346, 1600.6674749833116, 1982.0204179263753, 10141.952985075954, 2343.469592243399, 5521.565667588829, 855.6301804729356, 1659.5603695820826, 115265.10655027242, 3784.1203558920483, 8819.277979155879, 1227.599330809295, 1025.8503293759995, 2746.2983851437934, 12915.357764592418, 3169.241947565198, 2518.308469538755, 2750.9526140922444, 5346.339367146627, 4331.014262952293, 2054.9404342852717, 3022.818428390804, 3623.57738169793, 9139.817652880729, 6691.6746971501925, 2538.5332244999618, 5851.886826858378, 5528.67878938059, 81.16925496939002, 49.01271515771398, 41.06691406528657, 35.31685952910134, 42.04464517840734, 32.980183794322684, 29.80509051279937, 72.03570231961343, 31.142646661323557, 58.72142534358495, 26.357777411643955, 25.740773579658658, 25.591915574963938, 23.894122782110617, 25.72264076167684, 23.04455765903548, 25.089130537965016, 20.35599987678279, 20.01664486461086, 18.82234974469219, 33.4405643971003, 18.647675920771, 18.53730514883637, 28.74748689561455, 18.165255971596913, 17.927308133477837, 17.626626389068658, 17.55001782915391, 16.97856879097181, 17.15801815919986, 561.4553813596506, 56.18001793859059, 95.29467802939666, 630.2456987864759, 44.789760224410976, 130.20988113863922, 34.0508730009769, 714.4322242753987, 104.9861750643762, 50.64385369023344, 880.0291597710668, 57.71197711014471, 53.602414980699514, 54.53917999957138, 51.15124390889793, 426.3950252571419, 76.9324768700287, 63.907784503783105, 43.32654780262554, 38.122560394833364, 1431.765649093032, 1866.9667587613542, 6691.6746971501925, 941.717993098015, 2107.1873631376848, 2976.7706855941024, 1492.6522605131875, 330.3686651044399, 197.27978027990565, 2417.8418147347866, 86.18797042433737, 371.56840529735786, 172.44718621236257, 4331.014262952293, 1823.69545952406, 3047.170444302671, 2496.986263431206, 2013749.703548079, 218.5451547639459, 115265.10655027242, 466.01056416194047, 785.7017009789287, 563.9625850740275, 513.3839512255007, 21601.66620703716, 442.28412088401797, 1980.771875526759, 4588.550252774419, 1741.3152547240281, 15539.092338021408, 2720.52315799063, 53.75519691310796, 17.32273265219753, 13.310817124819561, 12.912657103417573, 11.018616090925637, 20.980096369875884, 13.082219230369805, 30.90157887772611, 18.028693242905902, 8.901440775740369, 14.113283107899212, 8.40654622943964, 17.387290119436962, 34.543881998874205, 45.53768172268026, 7.063947711628359, 6.937842232845544, 6.909510143339701, 5.94108465162223, 74.24275913809659, 7.978588913700741, 5.627630458444379, 5.322777103150394, 11.796105788212222, 46.749468525537466, 4.445940145335442, 9.167556888893229, 4.51677343514254, 6.1524596151753315, 23.53894184406158, 25.178759423977393, 9.564714635179573, 24.357545538698748, 20.736777300137653, 46.323929125904186, 34.8846456869017, 27.035196394081552, 22.44872872677353, 23.149647847983033, 14.572368494716011, 62.24978901714539, 31.23032611371132, 2013749.703548079, 115265.10655027242, 39.28134508096885, 48.10857910843761, 45.76430757711516, 5.024877932238209, 4.599665494593954, 27.527679349489528, 6.277922539786943, 19.050823289275602, 48.05692776693323, 3.205705222521206, 2.9266130412027254, 2.4858289551214767, 22.358898468894665, 13.705644653299185, 1.97106369238142, 67.03856204722615, 11.452629891250345, 2.972299304552059, 1.7639208970729154, 1.2490394549784873, 30.102776607291382, 7.210642853779871, 58.55346811975914, 0.930324471880129, 0.9292035967444351, 0.9286030575020371, 0.9285458203659885, 0.9284124736130096, 0.9281526530702385, 0.9269023559064454, 42.58224404775485, 146.3742497589703, 132.27074114690657, 2013749.703548079, 16.11775225048216, 54.32808148616701, 31.14683195751566, 115265.10655027242, 164.66463436885553, 15539.092338021408, 4071.669928790059, 3169.241947565198, 1955.669361304478, 19.688302179671105, 13.426112961658083, 31.052742951957928, 15.78920845760314, 15.08516355097673, 7.342752272230281, 32.463991225390224, 11.675233013223119, 3.971956417234239, 5.4857658093777655, 4.196012074971599, 18.181421256682217, 3.1027948612729217, 4.140686953838173, 3.427620597643407, 7.860821998434855, 29.117632255461046, 7.736090163445265, 2.030336667697851, 1.5840621214538009, 26.53380405612671, 1.6034561129913336, 20.713062926060275, 6.851965895253559, 6.091369418916047, 1.218327694173571, 1.3272352943031267, 0.9294360174012603, 0.9273613322086406, 0.9270116682246045, 41.39874400193283, 15.22164932115854, 2013749.703548079, 94.89474129427892, 115265.10655027242, 130.44338365194068, 5882.880651959921, 13.96641655280024, 23.69374231022223, 5.1363119854271675, 5.57273792952511, 4.455860073022374, 4.444376294907413, 23.094272604837883, 3.1239944545244347, 5.66155297859477, 2.712448016791678, 2.8682835256117962, 8.52951293732114, 10.206263734846223, 3.157822982456355, 28.538170459715097, 2.30090201688903, 2.592094489532721, 7.666708865082109, 1.7798639090348414, 1.6430812591912436, 6.3807433687703075, 5.640370248351218, 45.48631257745024, 23.46592841242007, 1.2183725090588313, 22.729380345752507, 1.56614205973219, 0.9277667694854702, 0.9276387406644634, 0.9272878380751125, 16.4940050586238, 48.10857910843761, 51.4987098453499, 2013749.703548079, 33.75523622292249, 115265.10655027242, 10.10394633531007, 19.338353364160575, 7.2714649103115025, 8.206157897593533, 4.328807910465571, 4.067535119387922, 3.7230639896511155, 4.086230135096564, 3.0806844459014933, 4.124460433916448, 34.642214158400336, 19.370611515423352, 2.5034320952266174, 26.77188548031485, 3.38594722563227, 3.8749055764839255, 1.6272513883472255, 2.114018518895927, 14.190415357401276, 1.2363319430033162, 2.053854769823714, 1.0861919058765963, 1.0978076884010148, 0.926950539817042, 0.9280987975531916, 0.9259565693900067, 0.9256887380129919, 0.9223836151295282, 0.9294202060616082, 0.9107416307722792, 29.143157462652816, 8.609995828004243, 78.95216792964732, 2013749.703548079, 49.36251526263393, 89.14746648180964, 115265.10655027242, 381.59686521312005, 4071.669928790059, 17.850174834166385, 1.1430319268773297, 0.9236172467433897, 0.9232756957622863, 0.9224540295074581, 0.8903253245253016, 0.9692470510177338, 0.9087640010232957, 0.9096967714279948, 0.9754744701298383, 0.9802137535376857, 0.9942478774349531, 0.990782762614175, 0.9957046068184381, 0.9922473435669851, 0.7452705432470177, 0.7452705522601558, 0.7452705693001513, 0.7452705704627138, 0.7452704718579312, 0.7452704718579312, 0.7452705393604405, 0.7452705638380182, 0.7452704441033341, 0.7452704441033341, 0.7452704820303023, 0.7452704362874294, 0.7452704362874294, 0.7452704407939985, 0.7452704410589076, 0.7452704410589076, 0.7452704410589076, 0.7452705316570775, 0.9774939116532523, 1.0204216428704007, 41.55227613486845, 13.540369556408416, 116.62710930311037, 12.396375615619707, 18.181421256682217, 2013749.703548079, 17.491207443452662, 270.67875042358486, 425.32778198863355, 552.7226586781952, 590.9025638094084, 115265.10655027242, 1140.5329167076827, 795.2866407260344, 646.3149334182593, 2991.612382839712, 965.5529069528639, 4788.493912026087, 2090.508403669306, 8819.277979155879, 201.769044894354, 1221.9082558672694, 4271.687578156921, 0.9231024321060733, 0.9191419578726265, 0.8894596368147575, 0.7452704208780766, 0.7452704329023606, 0.7452705583243233, 0.745270560846095, 0.7452704075370377, 0.7452704075370377, 0.7452704075370377, 0.7452704075370377, 0.7452704075370377, 0.7452704075370377, 0.7452704075370377, 0.7452704075370377, 0.7452704075370377, 0.7452704075370377, 0.7452704075370377, 0.7452704075370377, 0.7452704075370377, 0.7452704075370377, 0.7452704075370377, 0.7452704075370377, 0.7452704075370377, 0.7452704075370377, 0.7452704075370377, 0.7452704075370377, 0.7452704075370377, 0.7452704075370377, 0.7452704075370377, 0.7452704075370377, 0.7452704075370377, 0.7452704075370377, 0.7452704075370377, 0.7452704075370377, 0.7452704075370377, 0.7452704075370377, 0.7452704075370377, 0.7452704075370377, 0.7452704075370377, 0.7452704075370377, 0.7452704075370377, 0.7452704075370377, 0.7452704075370377, 0.7452704075370377, 0.7452704075370377, 0.7452704075370377, 0.7452704075370377, 0.7452704075370377, 0.7452704075370377, 0.7452704075370377, 0.7452704075370377, 0.7452704075370377, 0.7452704075370377, 0.7452704075370377, 0.7452704075370377, 0.7452704075370377, 0.7452704075370377, 0.7452704075370377, 0.7452704075370377, 0.7452705321598594, 0.7452705333898021, 0.7452704075370377, 0.7452704075370377, 0.7452704075370377, 0.7452704075370377, 0.7452704075370377, 0.7452704075370377, 0.7452705507260937, 52.33849360673689, 0.7452704075370377, 154.64838185529052, 0.7452704075370377, 0.7452704075370377, 0.7452704075370377, 0.7452704075370377, 0.7452704075370377, 0.7452704075370377, 0.7452704075370377, 0.7452704075370377, 0.7452704075370377, 0.7452704075370377, 0.7452704075370377, 0.7452704075370377, 0.7452704075370377, 0.7452704075370377, 0.7452704075370377, 0.7452704075370377, 0.7452704075370377, 0.7452704075370377, 541.5215391014665, 0.7452704075370377, 2013749.703548079, 0.7452704075370377, 0.7452704075370377, 0.7452704075370377, 0.7452704075370377, 0.7452704075370377, 0.7452704075370377, 0.7452704075370377, 0.7452704075370377, 0.7452704075370377, 0.7452704075370377, 0.7452704075370377, 0.7452704075370377, 0.7452704075370377, 0.7452704075370377, 0.7452704075370377, 0.7452704075370377, 115265.10655027242, 21601.66620703716, 15539.092338021408, 15761.339670954685, 10141.952985075954, 9139.817652880729, 6691.6746971501925, 11188.420185007792, 5851.886826858378, 12915.357764592418, 5528.67878938059, 5882.880651959921, 8819.277979155879, 285.7635468114155, 4557.45255518859, 1127.540251282599, 4234.314859720711, 4123.9353558722605, 4788.493912026087, 0.920240431086088, 0.7452705333898021, 0.7452705583243233, 0.7452704075370377, 0.7452704075370377, 0.7452704075370377, 0.7452704075370377, 0.7452704075370377, 0.7452704075370377, 0.7452704075370377, 0.7452704075370377, 0.7452704075370377, 0.7452704075370377, 0.7452704075370377, 0.7452704075370377, 0.7452704075370377, 0.7452704075370377, 0.7452704075370377, 0.7452704075370377, 0.7452704075370377, 0.7452704075370377, 0.7452704075370377, 0.7452704075370377, 0.7452704075370377, 0.7452704075370377, 0.7452704075370377, 0.7452704075370377, 0.7452704075370377, 0.7452704075370377, 0.7452704075370377, 0.7452704075370377, 0.7452704075370377, 0.7452704075370377, 0.7452704075370377, 0.7452705321598594, 0.7452704075370377, 0.7452704075370377, 0.7452704075370377, 0.7452704075370377, 0.7452704075370377, 0.7452704075370377, 0.7452704075370377, 0.7452704075370377, 0.7452704075370377, 0.7452704075370377, 0.7452704075370377, 0.7452704075370377, 0.7452704075370377, 0.7452704075370377, 0.7452704075370377, 0.7452704075370377, 0.7452704075370377, 0.7452704075370377, 0.7452704075370377, 0.7452704075370377, 0.7452704075370377, 0.7452704075370377, 0.7452704075370377, 0.7452704075370377, 0.7452704075370377, 0.7452704075370377, 0.7452704075370377, 0.7452704075370377, 0.7452704075370377, 0.7452704075370377, 0.7452704075370377, 0.7452704075370377, 0.7452704075370377, 0.7452704075370377, 0.7452704075370377, 0.7452704075370377, 0.7452704075370377, 0.7452704075370377, 0.7452704075370377, 0.7452704075370377, 0.7452704075370377, 0.7452704075370377, 0.7452704075370377, 0.7452704075370377, 0.7452704075370377, 0.7452704075370377, 0.7452704075370377, 0.7452704075370377, 0.7452704075370377, 0.7452704075370377, 0.7452704075370377, 0.7452704075370377, 0.7452704075370377, 0.7452704075370377, 0.7452704075370377, 0.7452704075370377, 0.7452704075370377, 0.7452704075370377, 0.7452705507260937, 0.745270560846095, 2.0869307487704054, 0.7452704075370377, 0.7452704075370377, 0.7452704075370377, 0.7452704075370377, 0.7452704075370377, 0.7452704075370377, 0.7452704075370377, 0.7452704075370377, 0.7452704075370377, 0.7452704075370377, 0.7452704075370377, 0.7452704075370377, 0.7452704075370377, 0.7452704075370377, 0.7452704075370377, 0.7452704075370377, 0.7452704075370377, 0.7452704075370377, 0.7452704075370377, 0.7452704075370377, 0.7452704075370377, 0.7452704075370377, 0.7452704075370377, 376.2773485522265, 0.7452704075370377, 0.7452704075370377, 0.7452704075370377, 0.7452704075370377, 0.7452704075370377, 2013749.703548079, 0.7452704075370377, 0.7452704075370377, 0.7452704075370377, 0.7452704075370377, 0.7452704075370377, 0.7452704075370377, 0.7452704075370377, 0.7452704075370377, 0.7452704075370377, 0.7452704075370377, 0.7452704075370377, 0.7452704075370377, 0.7452704075370377, 0.7452704075370377, 0.7452704075370377, 0.7452704075370377, 0.7452704075370377, 0.7452704075370377, 0.7452704075370377, 0.7452704075370377, 0.7452704075370377, 115265.10655027242, 28.471212437685274, 0.7452704075370377, 0.7452704075370377, 0.7452704075370377, 0.7452704075370377, 0.7452704075370377, 489.3845621183559, 0.7452704075370377, 0.7452704075370377, 0.7452704075370377, 0.7452704075370377, 0.7452704075370377, 0.7452704075370377, 0.7452704075370377, 0.7452704075370377, 0.7452704075370377, 0.7452704075370377, 0.7452704075370377, 0.7452704075370377, 0.7452704075370377, 0.7452704075370377, 0.7452704075370377, 0.7452704075370377, 0.7452704075370377, 249.52973352389563, 1413.0265114812737, 90.1775080167398, 2927.9729484705426, 4234.314859720711, 0.7452704075370377, 0.7452704075370377, 0.7452704075370377, 0.7452704075370377, 0.7452704075370377, 0.7452704075370377, 0.7452704075370377, 0.7452704075370377, 0.7452704075370377, 0.7452704075370377, 0.7452704075370377, 0.7452704075370377, 0.7452704075370377, 0.7452704075370377, 21601.66620703716, 15539.092338021408, 15761.339670954685, 10141.952985075954, 12915.357764592418, 9139.817652880729, 11188.420185007792, 8819.277979155879, 285.7635468114155, 6691.6746971501925, 5882.880651959921, 5646.152733451679, 672.7590116855006, 1127.540251282599, 4557.45255518859, 234.98694277015642, 0.9109690085560909, 0.7452705333898021, 0.7452705507260937, 0.7452705583243233, 0.745270560846095, 0.7452704075370377, 0.7452704075370377, 0.7452704075370377, 0.7452704075370377, 0.7452704075370377, 0.7452704075370377, 0.7452704075370377, 0.7452704075370377, 0.7452704075370377, 0.7452704075370377, 0.7452704075370377, 0.7452704075370377, 0.7452704075370377, 0.7452704075370377, 0.7452704075370377, 0.7452704075370377, 0.7452704075370377, 0.7452704075370377, 0.7452704075370377, 0.7452704075370377, 0.7452704075370377, 0.7452704075370377, 0.7452704075370377, 0.7452704075370377, 0.7452704075370377, 0.7452704075370377, 0.7452704075370377, 0.7452704075370377, 0.7452704075370377, 0.7452704075370377, 0.7452705321598594, 469.8525070082953, 758.12048265308, 0.7452704075370377, 0.7452704075370377, 0.7452704075370377, 0.7452704075370377, 0.7452704075370377, 0.7452704075370377, 0.7452704075370377, 0.7452704075370377, 0.7452704075370377, 0.7452704075370377, 0.7452704075370377, 0.7452704075370377, 0.7452704075370377, 0.7452704075370377, 0.7452704075370377, 0.7452704075370377, 0.7452704075370377, 0.7452704075370377, 0.7452704075370377, 0.7452704075370377, 0.7452704075370377, 0.7452704075370377, 2013749.703548079, 0.7452704075370377, 0.7452704075370377, 0.7452704075370377, 0.7452704075370377, 0.7452704075370377, 0.7452704075370377, 0.7452704075370377, 0.7452704075370377, 0.7452704075370377, 0.7452704075370377, 0.7452704075370377, 0.7452704075370377, 0.7452704075370377, 0.7452704075370377, 0.7452704075370377, 0.7452704075370377, 0.7452704075370377, 0.7452704075370377, 0.7452704075370377, 0.7452704075370377, 0.7452704075370377, 115265.10655027242, 0.9925777204249723, 0.7452704075370377, 0.7452704075370377, 0.7452704075370377, 0.7452704075370377, 0.7452704075370377, 0.7452704075370377, 0.7452704075370377, 0.7452704075370377, 0.7452704075370377, 0.7452704075370377, 0.7452704075370377, 0.7452704075370377, 0.7452704075370377, 0.7452704075370377, 0.7452704075370377, 0.7452704075370377, 0.7452704075370377, 0.7452704075370377, 0.7452704075370377, 0.9900387186250934, 0.7452704075370377, 0.7452704075370377, 1.757250466770611, 0.7452704075370377, 6.935399595534965, 385.0128922361008, 637.9704101745185, 294.50225748096767, 12.649743235510167, 2090.508403669306, 7.217978771513217, 15539.092338021408, 15761.339670954685, 21601.66620703716, 12915.357764592418, 9139.817652880729, 11188.420185007792, 672.7590116855006, 1127.540251282599, 10141.952985075954, 4557.45255518859, 5697.336097095063, 0.7452705507260937, 0.745270560846095, 0.7452704075370377, 0.7452704075370377, 0.7452704075370377, 0.7452704075370377, 0.7452704075370377, 0.7452704075370377, 0.7452704075370377, 0.7452704075370377, 0.7452704075370377, 0.7452704075370377, 0.7452704075370377, 0.7452704075370377, 0.7452704075370377, 0.7452704075370377, 0.7452704075370377, 0.7452704075370377, 0.7452704075370377, 0.7452704075370377, 0.7452704075370377, 0.7452704075370377, 0.7452704075370377, 0.7452704075370377, 0.7452704075370377, 0.7452704075370377, 0.7452704075370377, 0.7452704075370377, 0.7452704075370377, 0.7452704075370377, 0.7452704075370377, 0.7452704075370377, 0.7452704075370377, 0.7452704075370377, 0.7452704075370377, 0.7452704075370377, 0.7452704075370377, 0.7452704075370377, 0.7452704075370377, 0.7452704075370377, 0.7452704075370377, 0.7452704075370377, 0.7452704075370377, 0.7452704075370377, 0.7452704075370377, 0.7452704075370377, 0.7452704075370377, 0.7452704075370377, 0.7452704075370377, 0.7452704075370377, 0.7452704075370377, 0.7452704075370377, 0.7452704075370377, 0.7452704075370377, 0.7452704075370377, 0.7452704075370377, 0.7452704075370377, 0.7452704075370377, 0.7452704075370377, 0.7452704075370377, 0.7452704075370377, 0.7452704075370377, 0.7452704075370377, 0.7452704075370377, 0.7452704075370377, 0.7452704075370377, 0.7452704075370377, 0.7452704075370377, 0.7452704075370377, 0.7452704075370377, 0.7452704075370377, 0.7452704075370377, 0.7452704075370377, 0.7452704075370377, 0.7452704075370377, 0.7452704075370377, 0.7452704075370377, 0.7452704075370377, 0.7452704075370377, 0.7452704075370377, 0.7452704075370377, 0.7452704075370377, 0.7452704075370377, 0.7452704075370377, 0.7452704075370377, 0.7452704075370377, 0.7452704075370377, 0.7452704075370377, 0.7452704075370377, 0.7452704075370377, 0.7452704075370377, 0.7452704075370377, 0.7452704075370377, 0.7452705321598594, 0.7452705333898021, 0.7452704075370377, 0.7452704075370377, 0.7452704075370377, 0.7452704075370377, 0.7452704075370377, 0.7452705583243233, 2013749.703548079, 115265.10655027242, 21601.66620703716, 15539.092338021408, 15761.339670954685, 10141.952985075954, 11188.420185007792, 8819.277979155879, 12915.357764592418, 9139.817652880729, 6691.6746971501925, 5528.67878938059, 4557.45255518859, 5646.152733451679, 1127.540251282599, 2352.081389863164, 3515.9433422276993, 4788.493912026087, 285.7635468114155, 4582.037445863346, 3784.1203558920483, 4234.314859720711, 4058.569921968034, 672.7590116855006, 2746.2983851437934, 0.7452705507260937, 0.7452705583243233, 0.7452704075370377, 0.7452704075370377, 0.7452704075370377, 0.7452704075370377, 0.7452704075370377, 0.7452704075370377, 0.7452704075370377, 0.7452704075370377, 0.7452704075370377, 0.7452704075370377, 0.7452704075370377, 0.7452704075370377, 0.7452704075370377, 0.7452704075370377, 0.7452704075370377, 0.7452704075370377, 0.7452704075370377, 0.7452704075370377, 0.7452704075370377, 0.7452704075370377, 0.7452704075370377, 0.7452704075370377, 0.7452704075370377, 0.7452704075370377, 0.7452704075370377, 0.7452704075370377, 0.7452704075370377, 0.7452704075370377, 0.7452704075370377, 0.7452704075370377, 0.7452704075370377, 0.7452704075370377, 0.7452704075370377, 0.7452705321598594, 0.7452705333898021, 0.7452704075370377, 0.7452704075370377, 0.7452704075370377, 0.7452704075370377, 0.7452704075370377, 0.7452704075370377, 0.7452704075370377, 0.7452704075370377, 0.7452704075370377, 0.7452704075370377, 0.7452704075370377, 0.7452704075370377, 0.7452704075370377, 0.7452704075370377, 0.7452704075370377, 0.7452704075370377, 0.7452704075370377, 0.7452704075370377, 0.7452704075370377, 0.7452704075370377, 0.7452704075370377, 0.7452704075370377, 0.7452704075370377, 0.7452704075370377, 0.7452704075370377, 0.7452704075370377, 0.745270560846095, 0.7452704075370377, 0.7452704075370377, 0.7452704075370377, 0.7452704075370377, 2013749.703548079, 115265.10655027242, 21601.66620703716, 15539.092338021408, 15761.339670954685, 6691.6746971501925, 12915.357764592418, 9139.817652880729, 234.98694277015642, 4557.45255518859, 5882.880651959921, 5318.951748097181, 11188.420185007792, 285.7635468114155, 8819.277979155879, 10141.952985075954, 5528.67878938059, 3623.57738169793, 3703.075411123963, 2435.3722728901653, 2976.7706855941024, 3022.818428390804, 2352.081389863164, 939.6733306048708, 3140.64795550955, 1127.540251282599, 5697.336097095063, 0.7452705321598594, 0.7452705507260937, 0.7452705583243233, 0.7452704075370377, 0.7452704075370377, 0.7452704075370377, 0.7452704075370377, 0.7452704075370377, 0.7452704075370377, 0.7452704075370377, 0.7452704075370377, 0.7452704075370377, 0.7452704075370377, 0.7452704075370377, 0.7452704075370377, 0.7452704075370377, 0.7452704075370377, 0.7452704075370377, 0.7452704075370377, 0.7452704075370377, 0.7452704075370377, 0.7452704075370377, 0.7452704075370377, 0.7452704075370377, 0.7452704075370377, 0.7452704075370377, 0.7452704075370377, 0.7452704075370377, 0.7452704075370377, 0.7452704075370377, 0.7452705333898021, 0.7452704075370377, 0.7452704075370377, 0.7452704075370377, 0.7452704075370377, 0.7452704075370377, 0.7452704075370377, 0.7452704075370377, 0.7452704075370377, 0.7452704075370377, 0.7452704075370377, 0.7452704075370377, 0.7452704075370377, 0.7452704075370377, 0.7452704075370377, 0.7452704075370377, 0.7452704075370377, 0.7452704075370377, 0.7452704075370377, 0.7452704075370377, 0.7452704075370377, 0.7452704075370377, 0.7452704075370377, 0.7452704075370377, 0.7452704075370377, 0.7452704075370377, 0.7452704075370377, 0.745270560846095, 0.7452704075370377, 0.7452704075370377, 0.7452704075370377, 0.7452704075370377, 2013749.703548079, 115265.10655027242, 21601.66620703716, 15539.092338021408, 15761.339670954685, 6691.6746971501925, 9139.817652880729, 8819.277979155879, 10141.952985075954, 12915.357764592418, 11188.420185007792, 285.7635468114155, 1127.540251282599, 5882.880651959921, 5697.336097095063, 672.7590116855006, 3920.4215798113332, 5031.682229259232, 5318.951748097181, 5851.886826858378, 4058.569921968034, 2927.9729484705426, 2976.7706855941024, 4788.493912026087, 3047.170444302671, 3013.411002809212, 939.6733306048708, 0.7452705507260937, 0.7452705583243233, 0.745270560846095, 0.7452704075370377, 0.7452704075370377, 0.7452704075370377, 0.7452704075370377, 0.7452704075370377, 0.7452704075370377, 0.7452704075370377, 0.7452704075370377, 0.7452704075370377, 0.7452704075370377, 0.7452704075370377, 0.7452704075370377, 0.7452704075370377, 0.7452704075370377, 0.7452704075370377, 0.7452704075370377, 0.7452704075370377, 0.7452704075370377, 0.7452704075370377, 0.7452704075370377, 0.7452704075370377, 0.7452704075370377, 0.7452704075370377, 0.7452704075370377, 0.7452704075370377, 0.7452704075370377, 0.7452704075370377, 0.7452704075370377, 0.7452704075370377, 0.7452704075370377, 0.7452704075370377, 0.7452704075370377, 0.7452704075370377, 0.7452704075370377, 0.7452704075370377, 0.7452704075370377, 0.7452704075370377, 0.7452704075370377, 0.7452704075370377, 0.7452704075370377, 0.7452704075370377, 0.7452704075370377, 0.7452704075370377, 0.7452704075370377, 0.7452704075370377, 0.7452704075370377, 0.7452704075370377, 0.7452704075370377, 0.7452704075370377, 0.7452704075370377, 0.7452704075370377, 0.7452704075370377, 0.7452704075370377, 0.7452704075370377, 0.7452704075370377, 0.7452704075370377, 0.7452704075370377, 0.7452704075370377, 0.7452704075370377, 0.7452704075370377, 0.7452704075370377, 0.7452704075370377, 0.7452704075370377, 0.7452704075370377, 0.7452704075370377, 0.7452704075370377, 0.7452704075370377, 0.7452704075370377, 0.7452704075370377, 0.7452704075370377, 0.7452704075370377, 0.7452704075370377, 0.7452704075370377, 0.7452704075370377, 0.7452704075370377, 0.7452704075370377, 0.7452704075370377, 0.7452704075370377, 0.7452704075370377, 0.7452704075370377, 0.7452704075370377, 0.7452704075370377, 0.7452704075370377, 0.7452704075370377, 0.7452704075370377, 0.7452704075370377, 0.7452704075370377, 0.7452704075370377, 0.7452704075370377, 0.7452704075370377, 0.7452704075370377, 0.7452704075370377, 0.7452704075370377, 0.7452704075370377, 0.7452704075370377, 0.7452704075370377, 0.7452704075370377, 0.7452704075370377, 0.7452704075370377, 0.7452704075370377, 0.7452704075370377, 0.7452704075370377, 0.7452704075370377, 0.7452704075370377, 0.7452704075370377, 0.7452704075370377, 0.7452704075370377, 0.7452704075370377, 0.7452705321598594, 0.7452705333898021, 0.7452704075370377, 0.7452704075370377, 2013749.703548079, 115265.10655027242, 21601.66620703716, 15539.092338021408, 9139.817652880729, 15761.339670954685, 12915.357764592418, 6691.6746971501925, 11188.420185007792, 10141.952985075954, 234.98694277015642, 4557.45255518859, 5882.880651959921, 672.7590116855006, 2976.7706855941024, 4123.9353558722605, 5318.951748097181, 5851.886826858378, 4788.493912026087, 3022.818428390804, 5031.682229259232, 8819.277979155879, 4775.586281905567, 5646.152733451679, 5697.336097095063, 0.7452705583243233, 0.7452705321598594, 0.745270560846095, 0.7452704075370377, 0.7452704075370377, 0.7452704075370377, 0.7452704075370377, 0.7452704075370377, 0.7452704075370377, 0.7452704075370377, 0.7452704075370377, 0.7452704075370377, 0.7452704075370377, 0.7452704075370377, 0.7452704075370377, 0.7452704075370377, 0.7452704075370377, 0.7452704075370377, 0.7452704075370377, 0.7452704075370377, 0.7452704075370377, 0.7452704075370377, 0.7452704075370377, 0.7452704075370377, 0.7452704075370377, 0.7452704075370377, 0.7452704075370377, 0.7452704075370377, 0.7452704075370377, 0.7452704075370377, 0.7452705333898021, 0.7452704075370377, 0.7452704075370377, 0.7452704075370377, 0.7452704075370377, 0.7452704075370377, 0.7452704075370377, 0.7452704075370377, 0.7452704075370377, 0.7452704075370377, 0.7452704075370377, 0.7452704075370377, 0.7452704075370377, 0.7452704075370377, 0.7452704075370377, 0.7452704075370377, 0.7452704075370377, 0.7452704075370377, 0.7452704075370377, 0.7452704075370377, 0.7452704075370377, 0.7452704075370377, 0.7452704075370377, 0.7452704075370377, 0.7452704075370377, 0.7452704075370377, 0.7452704075370377, 0.7452704075370377, 0.7452704075370377, 0.7452704075370377, 0.7452705507260937, 6691.6746971501925, 15539.092338021408, 0.7452704075370377, 2013749.703548079, 0.7452704075370377, 0.7452704075370377, 0.7452704075370377, 0.7452704075370377, 0.7452704075370377, 0.7452704075370377, 0.7452704075370377, 0.7452704075370377, 0.7452704075370377, 0.7452704075370377, 0.7452704075370377, 0.7452704075370377, 0.7452704075370377, 0.7452704075370377, 0.7452704075370377, 0.7452704075370377, 0.7452704075370377, 0.7452704075370377, 0.7452704075370377, 0.7452704075370377, 0.7452704075370377, 0.7452704075370377, 115265.10655027242, 21601.66620703716, 15761.339670954685, 9139.817652880729, 12915.357764592418, 11188.420185007792, 8819.277979155879, 10141.952985075954, 672.7590116855006, 285.7635468114155, 5646.152733451679, 234.98694277015642, 1127.540251282599, 4557.45255518859, 3920.4215798113332, 4788.493912026087, 5851.886826858378, 4271.687578156921, 5697.336097095063, 939.6733306048708, 2927.9729484705426, 5882.880651959921], \"Category\": [\"Default\", \"Default\", \"Default\", \"Default\", \"Default\", \"Default\", \"Default\", \"Default\", \"Default\", \"Default\", \"Default\", \"Default\", \"Default\", \"Default\", \"Default\", \"Default\", \"Default\", \"Default\", \"Default\", \"Default\", \"Default\", \"Default\", \"Default\", \"Default\", \"Default\", \"Default\", \"Default\", \"Default\", \"Default\", \"Default\", \"Topic1\", \"Topic1\", \"Topic1\", \"Topic1\", \"Topic1\", \"Topic1\", \"Topic1\", \"Topic1\", \"Topic1\", \"Topic1\", \"Topic1\", \"Topic1\", \"Topic1\", \"Topic1\", \"Topic1\", \"Topic1\", \"Topic1\", \"Topic1\", \"Topic1\", \"Topic1\", \"Topic1\", \"Topic1\", \"Topic1\", \"Topic1\", \"Topic1\", \"Topic1\", \"Topic1\", \"Topic1\", \"Topic1\", \"Topic1\", \"Topic1\", \"Topic1\", \"Topic1\", \"Topic1\", \"Topic1\", \"Topic1\", \"Topic1\", \"Topic1\", \"Topic1\", \"Topic1\", \"Topic1\", \"Topic1\", \"Topic1\", \"Topic1\", \"Topic1\", \"Topic1\", \"Topic1\", \"Topic1\", \"Topic1\", \"Topic1\", \"Topic1\", \"Topic1\", \"Topic1\", \"Topic1\", \"Topic1\", \"Topic1\", \"Topic1\", \"Topic1\", \"Topic1\", \"Topic1\", \"Topic1\", \"Topic1\", \"Topic1\", \"Topic1\", \"Topic1\", \"Topic1\", \"Topic1\", \"Topic1\", \"Topic1\", \"Topic1\", \"Topic1\", \"Topic1\", \"Topic1\", \"Topic1\", \"Topic1\", \"Topic1\", \"Topic1\", \"Topic1\", \"Topic1\", \"Topic1\", \"Topic1\", \"Topic1\", \"Topic1\", \"Topic1\", \"Topic1\", \"Topic1\", \"Topic1\", \"Topic1\", \"Topic1\", \"Topic1\", \"Topic1\", \"Topic1\", \"Topic1\", \"Topic1\", \"Topic2\", \"Topic2\", \"Topic2\", \"Topic2\", \"Topic2\", \"Topic2\", \"Topic2\", \"Topic2\", \"Topic2\", \"Topic2\", \"Topic2\", \"Topic2\", \"Topic2\", \"Topic2\", \"Topic2\", \"Topic2\", \"Topic2\", \"Topic2\", \"Topic2\", \"Topic2\", \"Topic2\", \"Topic2\", \"Topic2\", \"Topic2\", \"Topic2\", \"Topic2\", \"Topic2\", \"Topic2\", \"Topic2\", \"Topic2\", \"Topic2\", \"Topic2\", \"Topic2\", \"Topic2\", \"Topic2\", \"Topic2\", \"Topic2\", \"Topic2\", \"Topic2\", \"Topic2\", \"Topic2\", \"Topic2\", \"Topic2\", \"Topic2\", \"Topic2\", \"Topic2\", \"Topic2\", \"Topic2\", \"Topic2\", \"Topic2\", \"Topic2\", \"Topic2\", \"Topic2\", \"Topic2\", \"Topic2\", \"Topic2\", \"Topic2\", \"Topic2\", \"Topic2\", \"Topic2\", \"Topic2\", \"Topic2\", \"Topic2\", \"Topic2\", \"Topic2\", \"Topic2\", \"Topic2\", \"Topic2\", \"Topic2\", \"Topic2\", \"Topic2\", \"Topic2\", \"Topic2\", \"Topic2\", \"Topic2\", \"Topic2\", \"Topic2\", \"Topic2\", \"Topic2\", \"Topic2\", \"Topic2\", \"Topic3\", \"Topic3\", \"Topic3\", \"Topic3\", \"Topic3\", \"Topic3\", \"Topic3\", \"Topic3\", \"Topic3\", \"Topic3\", \"Topic3\", \"Topic3\", \"Topic3\", \"Topic3\", \"Topic3\", \"Topic3\", \"Topic3\", \"Topic3\", \"Topic3\", \"Topic3\", \"Topic3\", \"Topic3\", \"Topic3\", \"Topic3\", \"Topic3\", \"Topic3\", \"Topic3\", \"Topic3\", \"Topic3\", \"Topic3\", \"Topic3\", \"Topic3\", \"Topic3\", \"Topic3\", \"Topic3\", \"Topic3\", \"Topic3\", \"Topic3\", \"Topic3\", \"Topic3\", \"Topic3\", \"Topic3\", \"Topic3\", \"Topic3\", \"Topic3\", \"Topic3\", \"Topic3\", \"Topic3\", \"Topic3\", \"Topic3\", \"Topic3\", \"Topic3\", \"Topic3\", \"Topic3\", \"Topic3\", \"Topic3\", \"Topic3\", \"Topic3\", \"Topic3\", \"Topic3\", \"Topic3\", \"Topic3\", \"Topic3\", \"Topic3\", \"Topic3\", \"Topic3\", \"Topic3\", \"Topic3\", \"Topic3\", \"Topic3\", \"Topic3\", \"Topic3\", \"Topic3\", \"Topic3\", \"Topic3\", \"Topic3\", \"Topic3\", \"Topic3\", \"Topic3\", \"Topic3\", \"Topic3\", \"Topic3\", \"Topic3\", \"Topic3\", \"Topic3\", \"Topic3\", \"Topic3\", \"Topic3\", \"Topic3\", \"Topic3\", \"Topic3\", \"Topic3\", \"Topic3\", \"Topic3\", \"Topic3\", \"Topic4\", \"Topic4\", \"Topic4\", \"Topic4\", \"Topic4\", \"Topic4\", \"Topic4\", \"Topic4\", \"Topic4\", \"Topic4\", \"Topic4\", \"Topic4\", \"Topic4\", \"Topic4\", \"Topic4\", \"Topic4\", \"Topic4\", \"Topic4\", \"Topic4\", \"Topic4\", \"Topic4\", \"Topic4\", \"Topic4\", \"Topic4\", \"Topic4\", \"Topic4\", \"Topic4\", \"Topic4\", \"Topic4\", \"Topic4\", \"Topic4\", \"Topic4\", \"Topic4\", \"Topic4\", \"Topic4\", \"Topic4\", \"Topic4\", \"Topic4\", \"Topic4\", \"Topic4\", \"Topic4\", \"Topic4\", \"Topic4\", \"Topic4\", \"Topic4\", \"Topic4\", \"Topic4\", \"Topic4\", \"Topic4\", \"Topic4\", \"Topic4\", \"Topic4\", \"Topic4\", \"Topic4\", \"Topic4\", \"Topic4\", \"Topic4\", \"Topic4\", \"Topic4\", \"Topic4\", \"Topic4\", \"Topic4\", \"Topic4\", \"Topic4\", \"Topic4\", \"Topic4\", \"Topic4\", \"Topic4\", \"Topic4\", \"Topic4\", \"Topic4\", \"Topic4\", \"Topic4\", \"Topic4\", \"Topic4\", \"Topic4\", \"Topic4\", \"Topic4\", \"Topic4\", \"Topic4\", \"Topic4\", \"Topic4\", \"Topic4\", \"Topic4\", \"Topic4\", \"Topic4\", \"Topic4\", \"Topic4\", \"Topic4\", \"Topic4\", \"Topic4\", \"Topic4\", \"Topic4\", \"Topic4\", \"Topic4\", \"Topic4\", \"Topic4\", \"Topic5\", \"Topic5\", \"Topic5\", \"Topic5\", \"Topic5\", \"Topic5\", \"Topic5\", \"Topic5\", \"Topic5\", \"Topic5\", \"Topic5\", \"Topic5\", \"Topic5\", \"Topic5\", \"Topic5\", \"Topic5\", \"Topic5\", \"Topic5\", \"Topic5\", \"Topic5\", \"Topic5\", \"Topic5\", \"Topic5\", \"Topic5\", \"Topic5\", \"Topic5\", \"Topic5\", \"Topic5\", \"Topic5\", \"Topic5\", \"Topic5\", \"Topic5\", \"Topic5\", \"Topic5\", \"Topic5\", \"Topic5\", \"Topic5\", \"Topic5\", \"Topic5\", \"Topic5\", \"Topic5\", \"Topic5\", \"Topic5\", \"Topic5\", \"Topic5\", \"Topic5\", \"Topic5\", \"Topic5\", \"Topic5\", \"Topic5\", \"Topic5\", \"Topic5\", \"Topic5\", \"Topic5\", \"Topic5\", \"Topic5\", \"Topic5\", \"Topic5\", \"Topic5\", \"Topic5\", \"Topic5\", \"Topic5\", \"Topic5\", \"Topic5\", \"Topic5\", \"Topic5\", \"Topic5\", \"Topic5\", \"Topic5\", \"Topic5\", \"Topic5\", \"Topic5\", \"Topic5\", \"Topic5\", \"Topic5\", \"Topic5\", \"Topic5\", \"Topic5\", \"Topic5\", \"Topic5\", \"Topic5\", \"Topic5\", \"Topic5\", \"Topic5\", \"Topic5\", \"Topic5\", \"Topic5\", \"Topic5\", \"Topic5\", \"Topic5\", \"Topic5\", \"Topic6\", \"Topic6\", \"Topic6\", \"Topic6\", \"Topic6\", \"Topic6\", \"Topic6\", \"Topic6\", \"Topic6\", \"Topic6\", \"Topic6\", \"Topic6\", \"Topic6\", \"Topic6\", \"Topic6\", \"Topic6\", \"Topic6\", \"Topic6\", \"Topic6\", \"Topic6\", \"Topic6\", \"Topic6\", \"Topic6\", \"Topic6\", \"Topic6\", \"Topic6\", \"Topic6\", \"Topic6\", \"Topic6\", \"Topic6\", \"Topic6\", \"Topic6\", \"Topic6\", \"Topic6\", \"Topic6\", \"Topic6\", \"Topic6\", \"Topic6\", \"Topic6\", \"Topic6\", \"Topic6\", \"Topic6\", \"Topic6\", \"Topic6\", \"Topic6\", \"Topic6\", \"Topic6\", \"Topic6\", \"Topic6\", \"Topic6\", \"Topic6\", \"Topic6\", \"Topic6\", \"Topic6\", \"Topic6\", \"Topic6\", \"Topic6\", \"Topic6\", \"Topic6\", \"Topic6\", \"Topic6\", \"Topic6\", \"Topic6\", \"Topic6\", \"Topic6\", \"Topic6\", \"Topic6\", \"Topic6\", \"Topic6\", \"Topic6\", \"Topic6\", \"Topic6\", \"Topic6\", \"Topic6\", \"Topic6\", \"Topic6\", \"Topic6\", \"Topic6\", \"Topic6\", \"Topic6\", \"Topic6\", \"Topic7\", \"Topic7\", \"Topic7\", \"Topic7\", \"Topic7\", \"Topic7\", \"Topic7\", \"Topic7\", \"Topic7\", \"Topic7\", \"Topic7\", \"Topic7\", \"Topic7\", \"Topic7\", \"Topic7\", \"Topic7\", \"Topic7\", \"Topic7\", \"Topic7\", \"Topic7\", \"Topic7\", \"Topic7\", \"Topic7\", \"Topic7\", \"Topic7\", \"Topic7\", \"Topic7\", \"Topic7\", \"Topic7\", \"Topic7\", \"Topic7\", \"Topic7\", \"Topic7\", \"Topic7\", \"Topic7\", \"Topic7\", \"Topic7\", \"Topic7\", \"Topic7\", \"Topic7\", \"Topic7\", \"Topic7\", \"Topic7\", \"Topic7\", \"Topic8\", \"Topic8\", \"Topic8\", \"Topic8\", \"Topic8\", \"Topic8\", \"Topic8\", \"Topic8\", \"Topic8\", \"Topic8\", \"Topic8\", \"Topic8\", \"Topic8\", \"Topic8\", \"Topic8\", \"Topic8\", \"Topic8\", \"Topic8\", \"Topic8\", \"Topic8\", \"Topic8\", \"Topic8\", \"Topic8\", \"Topic8\", \"Topic8\", \"Topic8\", \"Topic8\", \"Topic8\", \"Topic8\", \"Topic8\", \"Topic8\", \"Topic8\", \"Topic8\", \"Topic8\", \"Topic8\", \"Topic8\", \"Topic8\", \"Topic8\", \"Topic8\", \"Topic8\", \"Topic8\", \"Topic8\", \"Topic8\", \"Topic9\", \"Topic9\", \"Topic9\", \"Topic9\", \"Topic9\", \"Topic9\", \"Topic9\", \"Topic9\", \"Topic9\", \"Topic9\", \"Topic9\", \"Topic9\", \"Topic9\", \"Topic9\", \"Topic9\", \"Topic9\", \"Topic9\", \"Topic9\", \"Topic9\", \"Topic9\", \"Topic9\", \"Topic9\", \"Topic9\", \"Topic9\", \"Topic9\", \"Topic9\", \"Topic9\", \"Topic9\", \"Topic9\", \"Topic9\", \"Topic9\", \"Topic9\", \"Topic9\", \"Topic9\", \"Topic9\", \"Topic9\", \"Topic9\", \"Topic10\", \"Topic10\", \"Topic10\", \"Topic10\", \"Topic10\", \"Topic10\", \"Topic10\", \"Topic10\", \"Topic10\", \"Topic10\", \"Topic10\", \"Topic10\", \"Topic10\", \"Topic10\", \"Topic10\", \"Topic10\", \"Topic10\", \"Topic10\", \"Topic10\", \"Topic10\", \"Topic10\", \"Topic10\", \"Topic10\", \"Topic10\", \"Topic10\", \"Topic10\", \"Topic10\", \"Topic10\", \"Topic10\", \"Topic10\", \"Topic10\", \"Topic10\", \"Topic10\", \"Topic10\", \"Topic10\", \"Topic10\", \"Topic11\", \"Topic11\", \"Topic11\", \"Topic11\", \"Topic11\", \"Topic11\", \"Topic11\", \"Topic11\", \"Topic11\", \"Topic11\", \"Topic11\", \"Topic11\", \"Topic11\", \"Topic11\", \"Topic11\", \"Topic11\", \"Topic11\", \"Topic11\", \"Topic11\", \"Topic11\", \"Topic11\", \"Topic11\", \"Topic11\", \"Topic11\", \"Topic11\", \"Topic11\", \"Topic11\", \"Topic11\", \"Topic11\", \"Topic11\", \"Topic11\", \"Topic11\", \"Topic11\", \"Topic11\", \"Topic11\", \"Topic11\", \"Topic11\", \"Topic11\", \"Topic11\", \"Topic12\", \"Topic12\", \"Topic12\", \"Topic12\", \"Topic12\", \"Topic12\", \"Topic12\", \"Topic12\", \"Topic12\", \"Topic12\", \"Topic12\", \"Topic12\", \"Topic12\", \"Topic12\", \"Topic12\", \"Topic12\", \"Topic12\", \"Topic12\", \"Topic12\", \"Topic12\", \"Topic12\", \"Topic12\", \"Topic12\", \"Topic12\", \"Topic12\", \"Topic12\", \"Topic12\", \"Topic12\", \"Topic12\", \"Topic12\", \"Topic12\", \"Topic12\", \"Topic12\", \"Topic12\", \"Topic12\", \"Topic12\", \"Topic12\", \"Topic12\", \"Topic12\", \"Topic12\", \"Topic12\", \"Topic12\", \"Topic12\", \"Topic12\", \"Topic12\", \"Topic12\", \"Topic12\", \"Topic12\", \"Topic12\", \"Topic12\", \"Topic12\", \"Topic12\", \"Topic12\", \"Topic12\", \"Topic12\", \"Topic12\", \"Topic12\", \"Topic12\", \"Topic13\", \"Topic13\", \"Topic13\", \"Topic13\", \"Topic13\", \"Topic13\", \"Topic13\", \"Topic13\", \"Topic13\", \"Topic13\", \"Topic13\", \"Topic13\", \"Topic13\", \"Topic13\", \"Topic13\", \"Topic13\", \"Topic13\", \"Topic13\", \"Topic13\", \"Topic13\", \"Topic13\", \"Topic13\", \"Topic13\", \"Topic13\", \"Topic13\", \"Topic13\", \"Topic13\", \"Topic13\", \"Topic13\", \"Topic13\", \"Topic13\", \"Topic13\", \"Topic13\", \"Topic13\", \"Topic13\", \"Topic13\", \"Topic13\", \"Topic13\", \"Topic13\", \"Topic13\", \"Topic13\", \"Topic13\", \"Topic13\", \"Topic13\", \"Topic13\", \"Topic13\", \"Topic13\", \"Topic13\", \"Topic13\", \"Topic13\", \"Topic13\", \"Topic13\", \"Topic13\", \"Topic13\", \"Topic13\", \"Topic13\", \"Topic13\", \"Topic13\", \"Topic13\", \"Topic13\", \"Topic13\", \"Topic13\", \"Topic13\", \"Topic13\", \"Topic13\", \"Topic13\", \"Topic13\", \"Topic13\", \"Topic13\", \"Topic13\", \"Topic13\", \"Topic13\", \"Topic13\", \"Topic13\", \"Topic13\", \"Topic13\", \"Topic13\", \"Topic13\", \"Topic13\", \"Topic13\", \"Topic13\", \"Topic13\", \"Topic13\", \"Topic13\", \"Topic13\", \"Topic13\", \"Topic13\", \"Topic13\", \"Topic13\", \"Topic13\", \"Topic13\", \"Topic13\", \"Topic13\", \"Topic13\", \"Topic13\", \"Topic13\", \"Topic13\", \"Topic13\", \"Topic13\", \"Topic13\", \"Topic13\", \"Topic13\", \"Topic13\", \"Topic13\", \"Topic13\", \"Topic13\", \"Topic13\", \"Topic13\", \"Topic13\", \"Topic13\", \"Topic13\", \"Topic13\", \"Topic13\", \"Topic13\", \"Topic13\", \"Topic13\", \"Topic13\", \"Topic13\", \"Topic13\", \"Topic13\", \"Topic13\", \"Topic13\", \"Topic13\", \"Topic13\", \"Topic13\", \"Topic13\", \"Topic13\", \"Topic13\", \"Topic14\", \"Topic14\", \"Topic14\", \"Topic14\", \"Topic14\", \"Topic14\", \"Topic14\", \"Topic14\", \"Topic14\", \"Topic14\", \"Topic14\", \"Topic14\", \"Topic14\", \"Topic14\", \"Topic14\", \"Topic14\", \"Topic14\", \"Topic14\", \"Topic14\", \"Topic14\", \"Topic14\", \"Topic14\", \"Topic14\", \"Topic14\", \"Topic14\", \"Topic14\", \"Topic14\", \"Topic14\", \"Topic14\", \"Topic14\", \"Topic14\", \"Topic14\", \"Topic14\", \"Topic14\", \"Topic14\", \"Topic14\", \"Topic14\", \"Topic14\", \"Topic14\", \"Topic14\", \"Topic14\", \"Topic14\", \"Topic14\", \"Topic14\", \"Topic14\", \"Topic14\", \"Topic14\", \"Topic14\", \"Topic14\", \"Topic14\", \"Topic14\", \"Topic14\", \"Topic14\", \"Topic14\", \"Topic14\", \"Topic14\", \"Topic14\", \"Topic14\", \"Topic14\", \"Topic14\", \"Topic14\", \"Topic14\", \"Topic14\", \"Topic14\", \"Topic14\", \"Topic14\", \"Topic14\", \"Topic14\", \"Topic14\", \"Topic14\", \"Topic14\", \"Topic14\", \"Topic14\", \"Topic14\", \"Topic14\", \"Topic14\", \"Topic14\", \"Topic14\", \"Topic14\", \"Topic14\", \"Topic14\", \"Topic14\", \"Topic14\", \"Topic14\", \"Topic14\", \"Topic14\", \"Topic14\", \"Topic14\", \"Topic14\", \"Topic14\", \"Topic14\", \"Topic14\", \"Topic14\", \"Topic14\", \"Topic14\", \"Topic14\", \"Topic14\", \"Topic14\", \"Topic14\", \"Topic14\", \"Topic14\", \"Topic14\", \"Topic14\", \"Topic14\", \"Topic14\", \"Topic14\", \"Topic14\", \"Topic14\", \"Topic14\", \"Topic14\", \"Topic14\", \"Topic14\", \"Topic14\", \"Topic14\", \"Topic14\", \"Topic14\", \"Topic14\", \"Topic14\", \"Topic14\", \"Topic14\", \"Topic14\", \"Topic14\", \"Topic14\", \"Topic14\", \"Topic14\", \"Topic14\", \"Topic14\", \"Topic14\", \"Topic14\", \"Topic14\", \"Topic14\", \"Topic14\", \"Topic14\", \"Topic14\", \"Topic14\", \"Topic14\", \"Topic14\", \"Topic14\", \"Topic14\", \"Topic14\", \"Topic14\", \"Topic14\", \"Topic14\", \"Topic14\", \"Topic14\", \"Topic14\", \"Topic14\", \"Topic14\", \"Topic14\", \"Topic14\", \"Topic14\", \"Topic14\", \"Topic14\", \"Topic14\", \"Topic14\", \"Topic14\", \"Topic14\", \"Topic14\", \"Topic14\", \"Topic14\", \"Topic14\", \"Topic14\", \"Topic14\", \"Topic14\", \"Topic14\", \"Topic14\", \"Topic14\", \"Topic14\", \"Topic14\", \"Topic14\", \"Topic14\", \"Topic14\", \"Topic14\", \"Topic14\", \"Topic14\", \"Topic14\", \"Topic14\", \"Topic14\", \"Topic14\", \"Topic14\", \"Topic14\", \"Topic14\", \"Topic14\", \"Topic14\", \"Topic14\", \"Topic14\", \"Topic14\", \"Topic14\", \"Topic14\", \"Topic14\", \"Topic14\", \"Topic14\", \"Topic14\", \"Topic14\", \"Topic14\", \"Topic14\", \"Topic14\", \"Topic14\", \"Topic14\", \"Topic14\", \"Topic14\", \"Topic14\", \"Topic14\", \"Topic14\", \"Topic14\", \"Topic14\", \"Topic14\", \"Topic15\", \"Topic15\", \"Topic15\", \"Topic15\", \"Topic15\", \"Topic15\", \"Topic15\", \"Topic15\", \"Topic15\", \"Topic15\", \"Topic15\", \"Topic15\", \"Topic15\", \"Topic15\", \"Topic15\", \"Topic15\", \"Topic15\", \"Topic15\", \"Topic15\", \"Topic15\", \"Topic15\", \"Topic15\", \"Topic15\", \"Topic15\", \"Topic15\", \"Topic15\", \"Topic15\", \"Topic15\", \"Topic15\", \"Topic15\", \"Topic15\", \"Topic15\", \"Topic15\", \"Topic15\", \"Topic15\", \"Topic15\", \"Topic15\", \"Topic15\", \"Topic15\", \"Topic15\", \"Topic15\", \"Topic15\", \"Topic15\", \"Topic15\", \"Topic15\", \"Topic15\", \"Topic15\", \"Topic15\", \"Topic15\", \"Topic15\", \"Topic15\", \"Topic15\", \"Topic15\", \"Topic15\", \"Topic15\", \"Topic15\", \"Topic15\", \"Topic15\", \"Topic15\", \"Topic15\", \"Topic15\", \"Topic15\", \"Topic15\", \"Topic15\", \"Topic15\", \"Topic15\", \"Topic15\", \"Topic15\", \"Topic15\", \"Topic15\", \"Topic15\", \"Topic15\", \"Topic15\", \"Topic15\", \"Topic15\", \"Topic15\", \"Topic15\", \"Topic15\", \"Topic15\", \"Topic15\", \"Topic15\", \"Topic15\", \"Topic15\", \"Topic15\", \"Topic15\", \"Topic15\", \"Topic15\", \"Topic15\", \"Topic15\", \"Topic15\", \"Topic15\", \"Topic15\", \"Topic15\", \"Topic15\", \"Topic15\", \"Topic15\", \"Topic15\", \"Topic15\", \"Topic15\", \"Topic15\", \"Topic15\", \"Topic15\", \"Topic15\", \"Topic15\", \"Topic15\", \"Topic15\", \"Topic15\", \"Topic15\", \"Topic15\", \"Topic15\", \"Topic15\", \"Topic15\", \"Topic15\", \"Topic15\", \"Topic15\", \"Topic15\", \"Topic15\", \"Topic15\", \"Topic15\", \"Topic15\", \"Topic15\", \"Topic15\", \"Topic15\", \"Topic15\", \"Topic15\", \"Topic15\", \"Topic16\", \"Topic16\", \"Topic16\", \"Topic16\", \"Topic16\", \"Topic16\", \"Topic16\", \"Topic16\", \"Topic16\", \"Topic16\", \"Topic16\", \"Topic16\", \"Topic16\", \"Topic16\", \"Topic16\", \"Topic16\", \"Topic16\", \"Topic16\", \"Topic16\", \"Topic16\", \"Topic16\", \"Topic16\", \"Topic16\", \"Topic16\", \"Topic16\", \"Topic16\", \"Topic16\", \"Topic16\", \"Topic16\", \"Topic16\", \"Topic16\", \"Topic16\", \"Topic16\", \"Topic16\", \"Topic16\", \"Topic16\", \"Topic16\", \"Topic16\", \"Topic16\", \"Topic16\", \"Topic16\", \"Topic16\", \"Topic16\", \"Topic16\", \"Topic16\", \"Topic16\", \"Topic16\", \"Topic16\", \"Topic16\", \"Topic16\", \"Topic16\", \"Topic16\", \"Topic16\", \"Topic16\", \"Topic16\", \"Topic16\", \"Topic16\", \"Topic16\", \"Topic16\", \"Topic16\", \"Topic16\", \"Topic16\", \"Topic16\", \"Topic16\", \"Topic16\", \"Topic16\", \"Topic16\", \"Topic16\", \"Topic16\", \"Topic16\", \"Topic16\", \"Topic16\", \"Topic16\", \"Topic16\", \"Topic16\", \"Topic16\", \"Topic16\", \"Topic16\", \"Topic16\", \"Topic16\", \"Topic16\", \"Topic16\", \"Topic16\", \"Topic16\", \"Topic16\", \"Topic16\", \"Topic16\", \"Topic16\", \"Topic16\", \"Topic16\", \"Topic16\", \"Topic16\", \"Topic16\", \"Topic16\", \"Topic16\", \"Topic16\", \"Topic16\", \"Topic16\", \"Topic16\", \"Topic16\", \"Topic16\", \"Topic16\", \"Topic16\", \"Topic16\", \"Topic16\", \"Topic16\", \"Topic16\", \"Topic16\", \"Topic16\", \"Topic16\", \"Topic16\", \"Topic16\", \"Topic16\", \"Topic16\", \"Topic16\", \"Topic16\", \"Topic16\", \"Topic16\", \"Topic16\", \"Topic16\", \"Topic16\", \"Topic16\", \"Topic16\", \"Topic16\", \"Topic16\", \"Topic16\", \"Topic17\", \"Topic17\", \"Topic17\", \"Topic17\", \"Topic17\", \"Topic17\", \"Topic17\", \"Topic17\", \"Topic17\", \"Topic17\", \"Topic17\", \"Topic17\", \"Topic17\", \"Topic17\", \"Topic17\", \"Topic17\", \"Topic17\", \"Topic17\", \"Topic17\", \"Topic17\", \"Topic17\", \"Topic17\", \"Topic17\", \"Topic17\", \"Topic17\", \"Topic17\", \"Topic17\", \"Topic17\", \"Topic17\", \"Topic17\", \"Topic17\", \"Topic17\", \"Topic17\", \"Topic17\", \"Topic17\", \"Topic17\", \"Topic17\", \"Topic17\", \"Topic17\", \"Topic17\", \"Topic17\", \"Topic17\", \"Topic17\", \"Topic17\", \"Topic17\", \"Topic17\", \"Topic17\", \"Topic17\", \"Topic17\", \"Topic17\", \"Topic17\", \"Topic17\", \"Topic17\", \"Topic17\", \"Topic17\", \"Topic17\", \"Topic17\", \"Topic17\", \"Topic17\", \"Topic17\", \"Topic17\", \"Topic17\", \"Topic17\", \"Topic17\", \"Topic17\", \"Topic17\", \"Topic17\", \"Topic17\", \"Topic17\", \"Topic17\", \"Topic17\", \"Topic17\", \"Topic17\", \"Topic17\", \"Topic17\", \"Topic17\", \"Topic17\", \"Topic17\", \"Topic17\", \"Topic17\", \"Topic17\", \"Topic17\", \"Topic17\", \"Topic17\", \"Topic17\", \"Topic17\", \"Topic17\", \"Topic17\", \"Topic17\", \"Topic17\", \"Topic17\", \"Topic17\", \"Topic17\", \"Topic17\", \"Topic17\", \"Topic18\", \"Topic18\", \"Topic18\", \"Topic18\", \"Topic18\", \"Topic18\", \"Topic18\", \"Topic18\", \"Topic18\", \"Topic18\", \"Topic18\", \"Topic18\", \"Topic18\", \"Topic18\", \"Topic18\", \"Topic18\", \"Topic18\", \"Topic18\", \"Topic18\", \"Topic18\", \"Topic18\", \"Topic18\", \"Topic18\", \"Topic18\", \"Topic18\", \"Topic18\", \"Topic18\", \"Topic18\", \"Topic18\", \"Topic18\", \"Topic18\", \"Topic18\", \"Topic18\", \"Topic18\", \"Topic18\", \"Topic18\", \"Topic18\", \"Topic18\", \"Topic18\", \"Topic18\", \"Topic18\", \"Topic18\", \"Topic18\", \"Topic18\", \"Topic18\", \"Topic18\", \"Topic18\", \"Topic18\", \"Topic18\", \"Topic18\", \"Topic18\", \"Topic18\", \"Topic18\", \"Topic18\", \"Topic18\", \"Topic18\", \"Topic18\", \"Topic18\", \"Topic18\", \"Topic18\", \"Topic18\", \"Topic18\", \"Topic18\", \"Topic18\", \"Topic18\", \"Topic18\", \"Topic18\", \"Topic18\", \"Topic18\", \"Topic18\", \"Topic18\", \"Topic18\", \"Topic18\", \"Topic18\", \"Topic18\", \"Topic18\", \"Topic18\", \"Topic18\", \"Topic18\", \"Topic18\", \"Topic18\", \"Topic18\", \"Topic18\", \"Topic18\", \"Topic18\", \"Topic18\", \"Topic18\", \"Topic18\", \"Topic18\", \"Topic19\", \"Topic19\", \"Topic19\", \"Topic19\", \"Topic19\", \"Topic19\", \"Topic19\", \"Topic19\", \"Topic19\", \"Topic19\", \"Topic19\", \"Topic19\", \"Topic19\", \"Topic19\", \"Topic19\", \"Topic19\", \"Topic19\", \"Topic19\", \"Topic19\", \"Topic19\", \"Topic19\", \"Topic19\", \"Topic19\", \"Topic19\", \"Topic19\", \"Topic19\", \"Topic19\", \"Topic19\", \"Topic19\", \"Topic19\", \"Topic19\", \"Topic19\", \"Topic19\", \"Topic19\", \"Topic19\", \"Topic19\", \"Topic19\", \"Topic19\", \"Topic19\", \"Topic19\", \"Topic19\", \"Topic19\", \"Topic19\", \"Topic19\", \"Topic19\", \"Topic19\", \"Topic19\", \"Topic19\", \"Topic19\", \"Topic19\", \"Topic19\", \"Topic19\", \"Topic19\", \"Topic19\", \"Topic19\", \"Topic19\", \"Topic19\", \"Topic19\", \"Topic19\", \"Topic19\", \"Topic19\", \"Topic19\", \"Topic19\", \"Topic19\", \"Topic19\", \"Topic19\", \"Topic19\", \"Topic19\", \"Topic19\", \"Topic19\", \"Topic19\", \"Topic19\", \"Topic19\", \"Topic19\", \"Topic19\", \"Topic19\", \"Topic19\", \"Topic19\", \"Topic19\", \"Topic19\", \"Topic19\", \"Topic19\", \"Topic19\", \"Topic19\", \"Topic19\", \"Topic19\", \"Topic19\", \"Topic19\", \"Topic19\", \"Topic19\", \"Topic19\", \"Topic19\", \"Topic19\", \"Topic19\", \"Topic19\", \"Topic19\", \"Topic19\", \"Topic19\", \"Topic19\", \"Topic19\", \"Topic19\", \"Topic19\", \"Topic19\", \"Topic19\", \"Topic19\", \"Topic19\", \"Topic19\", \"Topic19\", \"Topic19\", \"Topic19\", \"Topic19\", \"Topic19\", \"Topic19\", \"Topic19\", \"Topic19\", \"Topic19\", \"Topic19\", \"Topic19\", \"Topic19\", \"Topic19\", \"Topic19\", \"Topic19\", \"Topic19\", \"Topic19\", \"Topic19\", \"Topic19\", \"Topic19\", \"Topic19\", \"Topic19\", \"Topic19\", \"Topic19\", \"Topic19\", \"Topic19\", \"Topic19\", \"Topic19\", \"Topic19\", \"Topic19\", \"Topic19\", \"Topic19\", \"Topic19\", \"Topic20\", \"Topic20\", \"Topic20\", \"Topic20\", \"Topic20\", \"Topic20\", \"Topic20\", \"Topic20\", \"Topic20\", \"Topic20\", \"Topic20\", \"Topic20\", \"Topic20\", \"Topic20\", \"Topic20\", \"Topic20\", \"Topic20\", \"Topic20\", \"Topic20\", \"Topic20\", \"Topic20\", \"Topic20\", \"Topic20\", \"Topic20\", \"Topic20\", \"Topic20\", \"Topic20\", \"Topic20\", \"Topic20\", \"Topic20\", \"Topic20\", \"Topic20\", \"Topic20\", \"Topic20\", \"Topic20\", \"Topic20\", \"Topic20\", \"Topic20\", \"Topic20\", \"Topic20\", \"Topic20\", \"Topic20\", \"Topic20\", \"Topic20\", \"Topic20\", \"Topic20\", \"Topic20\", \"Topic20\", \"Topic20\", \"Topic20\", \"Topic20\", \"Topic20\", \"Topic20\", \"Topic20\", \"Topic20\", \"Topic20\", \"Topic20\", \"Topic20\", \"Topic20\", \"Topic20\", \"Topic20\", \"Topic20\", \"Topic20\", \"Topic20\", \"Topic20\", \"Topic20\", \"Topic20\", \"Topic20\", \"Topic20\", \"Topic20\", \"Topic20\", \"Topic20\", \"Topic20\", \"Topic20\", \"Topic20\", \"Topic20\", \"Topic20\", \"Topic20\", \"Topic20\", \"Topic20\", \"Topic20\", \"Topic20\", \"Topic20\", \"Topic20\", \"Topic20\", \"Topic20\", \"Topic20\", \"Topic20\", \"Topic20\", \"Topic20\", \"Topic20\", \"Topic20\", \"Topic20\", \"Topic20\", \"Topic20\", \"Topic20\", \"Topic20\", \"Topic20\", \"Topic20\", \"Topic20\", \"Topic20\", \"Topic20\", \"Topic20\", \"Topic20\", \"Topic20\", \"Topic20\", \"Topic20\", \"Topic20\", \"Topic20\"], \"logprob\": [30.0, 29.0, 28.0, 27.0, 26.0, 25.0, 24.0, 23.0, 22.0, 21.0, 20.0, 19.0, 18.0, 17.0, 16.0, 15.0, 14.0, 13.0, 12.0, 11.0, 10.0, 9.0, 8.0, 7.0, 6.0, 5.0, 4.0, 3.0, 2.0, 1.0, -8.6719, -8.7704, -9.0486, -9.2323, -9.2669, -9.0973, -9.4604, -9.4666, -9.4862, -9.5697, -9.6162, -9.4806, -9.7062, -9.7743, -9.7308, -9.6818, -9.8157, -9.7761, -9.7885, -9.8509, -9.8596, -9.8476, -9.8662, -9.9049, -9.9122, -9.9423, -9.9458, -9.9552, -9.957, -9.981, -7.379, -8.8595, -7.3927, -9.1831, -9.2442, -9.5303, -9.4918, -9.5701, -9.5137, -8.1786, -7.1893, -7.5093, -7.2548, -8.3838, -9.4399, -9.4193, -8.9967, -9.451, -9.3624, -7.2538, -7.8139, -5.7809, -0.6187, -7.8051, -8.8073, -8.435, -8.2569, -5.0544, -8.9206, -6.5252, -5.0991, -7.3417, -3.554, -6.4135, -5.6839, -5.608, -8.0105, -6.9677, -6.9469, -6.1726, -6.711, -6.6651, -6.9472, -6.4145, -6.8389, -6.7527, -7.0502, -5.7649, -6.9829, -7.0803, -5.6102, -6.5653, -6.2552, -6.5289, -6.5212, -6.5603, -6.5608, -6.2866, -6.8783, -6.6222, -6.6841, -6.7713, -6.8352, -6.8746, -7.341, -8.8003, -8.9282, -9.0111, -9.0743, -9.1443, -9.1827, -9.2828, -9.2861, -9.3049, -9.3096, -9.4791, -9.5013, -9.5056, -9.5106, -9.0587, -9.5575, -9.5603, -9.5635, -9.5846, -9.6038, -9.6054, -9.6127, -9.6321, -9.6453, -9.6523, -9.641, -9.6461, -9.6681, -9.651, -8.6719, -6.3809, -7.9745, -6.7922, -8.9808, -8.7963, -9.1248, -5.1073, -7.5942, -7.7047, -5.956, -9.0853, -6.2382, -6.5411, -9.0849, -5.7658, -6.7476, -6.041, -8.7893, -7.0308, -7.0976, -7.045, -7.1689, -3.9505, -5.3333, -6.0103, -5.4681, -4.6535, -6.0832, -6.6049, -5.724, -7.2531, -5.7782, -5.7626, -6.8398, -5.9339, -0.6321, -5.8993, -4.8608, -3.4275, -6.642, -5.3028, -5.9585, -5.8893, -6.0754, -5.3739, -6.2585, -6.1116, -6.5656, -6.3735, -6.5477, -8.306, -8.4679, -8.5491, -8.7031, -8.8927, -8.9373, -9.0951, -8.8179, -9.1038, -9.1213, -9.1394, -7.7217, -9.1582, -9.26, -9.1213, -9.288, -9.2997, -9.3155, -9.3292, -9.3603, -9.3791, -9.3933, -9.4187, -9.4483, -9.4533, -9.4764, -9.4996, -9.5202, -9.538, -9.5442, -8.7747, -9.1706, -8.2346, -8.8925, -7.9478, -8.4567, -8.8677, -7.7974, -9.0822, -8.7984, -9.0234, -8.2727, -7.4265, -8.6476, -8.1926, -6.122, -8.3275, -8.7529, -5.5878, -8.1235, -7.8382, -8.2495, -0.6499, -7.6277, -7.5973, -7.0059, -6.8392, -7.3679, -3.4025, -7.5989, -6.9871, -6.7165, -5.9927, -6.6601, -7.486, -6.4437, -6.1442, -5.8929, -6.5533, -6.9487, -6.0376, -6.3176, -6.8295, -5.8227, -6.5772, -6.7009, -6.7474, -7.1538, -7.1711, -5.892, -6.6406, -6.9629, -6.2101, -6.8842, -6.8868, -6.0944, -7.0344, -6.2988, -6.4665, -6.6968, -6.8207, -6.7641, -6.7811, -6.6513, -6.8327, -8.4241, -8.753, -8.8145, -8.6251, -8.9297, -8.9266, -8.9436, -9.0488, -9.0725, -9.0798, -9.1336, -9.1987, -9.2563, -9.2658, -8.9807, -9.1476, -9.3955, -9.4144, -8.2208, -9.4667, -9.4634, -9.5046, -9.5106, -9.5117, -9.5212, -9.2822, -9.3192, -9.2809, -9.5453, -9.5656, -9.1625, -8.0071, -8.7722, -8.8267, -8.5472, -9.1773, -8.3121, -8.9253, -8.8452, -7.2162, -7.6086, -8.2629, -8.2602, -8.996, -8.1954, -7.109, -7.0961, -5.2228, -8.1513, -6.6381, -8.2686, -8.036, -6.4475, -7.0815, -5.435, -7.0306, -8.1334, -8.073, -7.6739, -5.5602, -7.5048, -0.6703, -6.9103, -6.0212, -7.2234, -7.1411, -7.025, -7.5972, -6.2971, -3.4096, -7.1802, -6.8802, -7.5938, -7.4651, -6.9644, -6.5844, -6.2923, -6.0359, -6.195, -6.3167, -6.0171, -6.3699, -6.5049, -6.3839, -6.4867, -5.8593, -6.1925, -5.794, -6.2557, -6.5711, -6.1487, -6.19, -6.5571, -6.4282, -6.145, -6.4561, -6.6338, -7.7143, -8.1797, -8.3646, -8.4443, -8.6556, -8.7711, -8.9458, -8.6738, -9.0233, -8.2197, -9.0887, -9.155, -9.1566, -9.1618, -9.1622, -9.1767, -9.3076, -9.334, -9.3424, -9.3953, -9.4025, -9.4049, -9.4169, -9.4301, -9.3672, -9.4353, -9.3673, -9.4376, -9.4803, -9.1111, -9.2765, -6.6683, -7.1542, -9.1769, -7.3727, -8.406, -8.995, -9.2771, -8.8469, -8.7916, -8.5071, -9.205, -8.9447, -8.2937, -9.0606, -7.9557, -8.7032, -8.3088, -8.446, -8.7206, -6.6881, -7.2651, -8.9026, -0.6736, -8.3434, -5.9683, -5.7555, -6.0409, -6.1482, -6.4907, -5.6135, -6.6486, -6.5356, -5.8988, -6.6485, -6.5027, -5.3817, -6.4075, -5.8207, -7.1069, -6.6604, -3.916, -6.1669, -5.6554, -6.9033, -7.0178, -6.4362, -5.5265, -6.3608, -6.5021, -6.466, -6.1166, -6.2636, -6.6552, -6.5132, -6.4568, -6.3006, -6.4665, -6.5916, -6.5106, -6.5412, -7.2185, -7.7287, -7.9083, -8.062, -7.8887, -8.1318, -8.2354, -7.3543, -8.1931, -7.5592, -8.3614, -8.3857, -8.3917, -8.4623, -8.3889, -8.4996, -8.4155, -8.6288, -8.6469, -8.709, -8.1346, -8.7187, -8.7248, -8.2864, -8.7459, -8.7596, -8.7772, -8.7818, -8.8162, -8.8058, -5.3417, -7.6236, -7.1049, -5.2439, -7.856, -6.8122, -8.1286, -5.1549, -7.0292, -7.7403, -4.972, -7.6173, -7.6895, -7.6736, -7.737, -5.724, -7.356, -7.5536, -7.9084, -8.0256, -4.7816, -4.6036, -3.5517, -5.2423, -4.6294, -4.3581, -4.9512, -6.2186, -6.6986, -4.8002, -7.3538, -6.2959, -6.8615, -4.6307, -5.2712, -4.9238, -5.1637, -0.959, -6.7666, -3.2858, -6.4084, -6.1419, -6.43, -6.5106, -5.2483, -6.5651, -6.2576, -6.1381, -6.3244, -5.9815, -6.2642, -5.3711, -6.5371, -6.8087, -6.8408, -7.0096, -6.3774, -6.851, -5.9918, -6.5325, -7.2396, -6.7832, -7.3019, -6.5881, -5.9035, -5.629, -7.4937, -7.5227, -7.5308, -7.6883, -5.1636, -7.3996, -7.757, -7.8142, -7.0187, -5.6542, -8.0252, -7.3028, -8.0155, -7.7072, -6.3689, -6.3157, -7.2823, -6.4674, -6.633, -6.1486, -6.394, -6.6221, -6.7777, -6.765, -7.1329, -6.4978, -6.808, -3.9176, -6.7976, -5.6048, -5.47, -5.5548, -7.7812, -7.8851, -6.0993, -7.6149, -6.5273, -5.6034, -8.3295, -8.4483, -8.6706, -6.484, -6.9903, -9.014, -5.4896, -7.3677, -8.8489, -9.4321, -9.869, -6.7037, -8.4668, -6.4188, -10.7765, -10.7818, -10.7846, -10.7848, -10.7855, -10.7867, -10.7925, -7.4502, -8.728, -8.8543, -5.3049, -9.8209, -9.4408, -9.7681, -7.5985, -9.4288, -8.7209, -9.0206, -9.1212, -9.32, -6.275, -6.6756, -5.8373, -6.5282, -6.601, -7.3268, -5.8627, -6.9143, -8.0373, -7.7177, -7.9929, -6.5449, -8.3606, -8.0813, -8.3346, -7.5664, -6.3426, -7.7192, -9.0643, -9.3585, -6.6038, -9.5232, -7.0146, -8.3873, -8.6262, -10.2515, -10.3567, -10.758, -10.7677, -10.7694, -9.0389, -9.498, -5.6541, -9.3666, -7.8979, -9.337, -9.4026, -6.6341, -6.1153, -7.7268, -7.6572, -7.894, -7.905, -6.2779, -8.3341, -7.7575, -8.5214, -8.4716, -7.3994, -7.2375, -8.416, -6.215, -8.7522, -8.8018, -7.7241, -9.1915, -9.288, -7.9768, -8.1731, -6.1152, -6.8821, -9.8999, -7.1135, -9.9654, -10.7613, -10.7619, -10.7636, -8.1846, -7.8398, -8.2021, -5.442, -9.0511, -7.7384, -6.9645, -6.3225, -7.3652, -7.2658, -7.9236, -7.9917, -8.1001, -8.0448, -8.3404, -8.0967, -5.9742, -6.5655, -8.659, -6.2967, -8.4381, -8.306, -9.2935, -9.1208, -7.2614, -9.8532, -9.5266, -10.1973, -10.2413, -10.7539, -10.7541, -10.7586, -10.7598, -10.7855, -10.8064, -10.8335, -9.4089, -9.9662, -9.2271, -5.8241, -9.5516, -9.7929, -8.3426, -9.8671, -9.7638, -6.5286, -10.024, -10.744, -10.7456, -10.7496, -10.9183, -11.4714, -11.5553, -11.5899, -11.5584, -11.5991, -11.8162, -11.8255, -11.858, -11.8695, -12.6892, -12.6892, -12.6892, -12.6892, -12.6892, -12.6892, -12.6892, -12.6892, -12.6892, -12.6892, -12.6892, -12.6892, -12.6892, -12.6892, -12.6892, -12.6892, -12.6892, -12.6892, -12.5455, -12.5332, -10.7567, -11.4839, -10.7385, -11.6016, -11.5127, -7.625, -11.5933, -10.7461, -10.7025, -10.7453, -10.759, -9.3736, -10.7503, -10.854, -10.923, -10.7404, -10.9307, -10.7047, -10.92, -11.1003, -11.5447, -11.5412, -11.5527, -10.7436, -10.7628, -10.9204, -12.6869, -12.6869, -12.6869, -12.6869, -12.6869, -12.6869, -12.6869, -12.6869, -12.6869, -12.6869, -12.6869, -12.6869, -12.6869, -12.6869, -12.6869, -12.6869, -12.6869, -12.6869, -12.6869, -12.6869, -12.6869, -12.6869, -12.6869, -12.6869, -12.6869, -12.6869, -12.6869, -12.6869, -12.6869, -12.6869, -12.6869, -12.6869, -12.6869, -12.6869, -12.6869, -12.6869, -12.6869, -12.6869, -12.6869, -12.6869, -12.6869, -12.6869, -12.6869, -12.6869, -12.6869, -12.6869, -12.6869, -12.6869, -12.6869, -12.6869, -12.6869, -12.6869, -12.6869, -12.6869, -12.6869, -12.6869, -12.6869, -12.6869, -12.6869, -12.6869, -12.6869, -12.6869, -12.6869, -12.6869, -12.6869, -12.6869, -10.1754, -12.6869, -10.9203, -12.6869, -12.6869, -12.6869, -12.6869, -12.6869, -12.6869, -12.6869, -12.6869, -12.6869, -12.6869, -12.6869, -12.6869, -12.6869, -12.6869, -12.6869, -12.6869, -12.6869, -12.6869, -10.9231, -12.6869, -9.1934, -12.6869, -12.6869, -12.6869, -12.6869, -12.6869, -12.6869, -12.6869, -12.6869, -12.6869, -12.6869, -12.6869, -12.6869, -12.6869, -12.6869, -12.6869, -12.6869, -10.2195, -12.6869, -12.6869, -12.6869, -12.6869, -12.6869, -12.6869, -12.6869, -12.6869, -12.6869, -12.6869, -12.6869, -12.6869, -12.6869, -12.6869, -12.6869, -12.6869, -12.6869, -12.6869, -10.7573, -12.6868, -12.6868, -12.6868, -12.6868, -12.6868, -12.6868, -12.6868, -12.6868, -12.6868, -12.6868, -12.6868, -12.6868, -12.6868, -12.6868, -12.6868, -12.6868, -12.6868, -12.6868, -12.6868, -12.6868, -12.6868, -12.6868, -12.6868, -12.6868, -12.6868, -12.6868, -12.6868, -12.6868, -12.6868, -12.6868, -12.6868, -12.6868, -12.6868, -12.6868, -12.6868, -12.6868, -12.6868, -12.6868, -12.6868, -12.6868, -12.6868, -12.6868, -12.6868, -12.6868, -12.6868, -12.6868, -12.6868, -12.6868, -12.6868, -12.6868, -12.6868, -12.6868, -12.6868, -12.6868, -12.6868, -12.6868, -12.6868, -12.6868, -12.6868, -12.6868, -12.6868, -12.6868, -12.6868, -12.6868, -12.6868, -12.6868, -12.6868, -12.6868, -12.6868, -12.6868, -12.6868, -12.6868, -12.6868, -12.6868, -12.6868, -12.6868, -12.6868, -12.6868, -12.6868, -12.6868, -12.6868, -12.6868, -12.6868, -12.6868, -12.6868, -12.6868, -12.6868, -12.6868, -12.6868, -12.6868, -12.6868, -12.6868, -12.6868, -12.6868, -12.3392, -12.6868, -12.6868, -12.6868, -12.6868, -12.6868, -12.6868, -12.6868, -12.6868, -12.6868, -12.6868, -12.6868, -12.6868, -12.6868, -12.6868, -12.6868, -12.6868, -12.6868, -12.6868, -12.6868, -12.6868, -12.6868, -12.6868, -12.6868, -10.7518, -12.6868, -12.6868, -12.6868, -12.6868, -12.6868, -9.9611, -12.6868, -12.6868, -12.6868, -12.6868, -12.6868, -12.6868, -12.6868, -12.6868, -12.6868, -12.6868, -12.6868, -12.6868, -12.6868, -12.6868, -12.6868, -12.6868, -12.6868, -12.6868, -12.6868, -12.6868, -12.6868, -10.7178, -12.3535, -12.6868, -12.6868, -12.6868, -12.6868, -12.6868, -12.1973, -12.6868, -12.6868, -12.6868, -12.6868, -12.6868, -12.6868, -12.6868, -12.6868, -12.6868, -12.6868, -12.6868, -12.6868, -12.6868, -12.6868, -12.6868, -12.6868, -12.6868, -12.2909, -12.2359, -12.4081, -12.235, -12.3268, -12.6868, -12.6868, -12.6868, -12.6868, -12.6868, -12.6868, -12.6868, -12.6868, -12.6868, -12.6868, -12.6868, -12.6868, -12.6868, -12.6868, -12.6868, -12.6868, -12.6868, -12.6868, -12.6868, -12.6868, -12.6868, -12.6868, -12.6868, -12.6868, -12.6868, -12.6868, -12.6868, -12.6868, -12.6868, -12.6868, -11.1621, -12.6867, -12.6867, -12.6867, -12.6867, -12.6867, -12.6867, -12.6867, -12.6867, -12.6867, -12.6867, -12.6867, -12.6867, -12.6867, -12.6867, -12.6867, -12.6867, -12.6867, -12.6867, -12.6867, -12.6867, -12.6867, -12.6867, -12.6867, -12.6867, -12.6867, -12.6867, -12.6867, -12.6867, -12.6867, -12.6867, -12.6867, -12.6867, -12.6867, -12.6867, -12.6867, -11.226, -11.1297, -12.6867, -12.6867, -12.6867, -12.6867, -12.6867, -12.6867, -12.6867, -12.6867, -12.6867, -12.6867, -12.6867, -12.6867, -12.6867, -12.6867, -12.6867, -12.6867, -12.6867, -12.6867, -12.6867, -12.6867, -12.6867, -12.6867, -10.3574, -12.6867, -12.6867, -12.6867, -12.6867, -12.6867, -12.6867, -12.6867, -12.6867, -12.6867, -12.6867, -12.6867, -12.6867, -12.6867, -12.6867, -12.6867, -12.6867, -12.6867, -12.6867, -12.6867, -12.6867, -12.6867, -11.2602, -12.6628, -12.6867, -12.6867, -12.6867, -12.6867, -12.6867, -12.6867, -12.6867, -12.6867, -12.6867, -12.6867, -12.6867, -12.6867, -12.6867, -12.6867, -12.6867, -12.6867, -12.6867, -12.6867, -12.6867, -12.669, -12.6867, -12.6867, -12.659, -12.6867, -12.662, -12.6288, -12.6593, -12.6608, -12.664, -12.665, -12.6742, -12.6867, -12.6867, -12.6867, -12.6867, -12.6867, -12.6867, -12.6867, -12.6867, -12.6867, -12.6867, -12.6867, -12.6867, -12.6867, -12.6867, -12.6867, -12.6867, -12.6867, -12.6867, -12.6867, -12.6867, -12.6867, -12.6867, -12.6867, -12.6867, -12.6867, -12.6867, -12.6867, -12.6867, -12.6867, -12.6867, -12.6867, -12.6867, -12.6867, -12.6867, -12.6867, -12.6867, -12.6867, -12.6867, -12.6867, -12.6867, -12.6867, -12.6867, -12.6867, -12.6867, -12.6867, -12.6867, -12.6867, -12.6867, -12.6867, -12.6867, -12.6867, -12.6867, -12.6867, -12.6867, -12.6867, -12.6867, -12.6867, -12.6867, -12.6867, -12.6867, -12.6867, -12.6867, -12.6867, -12.6867, -12.6867, -12.6867, -12.6867, -12.6867, -12.6867, -12.6867, -12.6867, -12.6867, -12.6867, -12.6867, -12.6867, -12.6867, -12.6867, -12.6867, -12.6867, -12.6867, -12.6867, -12.6867, -12.6867, -12.6867, -12.6867, -12.6867, -12.6867, -12.6867, -12.6867, -12.6867, -12.6867, -12.6867, -12.6867, -12.6867, -12.6867, -12.6867, -12.6867, -12.6867, -12.6867, -12.6867, -12.6867, -12.6867, -12.6867, -12.6867, -12.6867, -12.6867, -12.6867, -12.6867, -12.6867, -12.6867, -12.6867, -12.6867, -12.6866, -12.6867, -12.6867, -12.6867, -12.6867, -12.6867, -12.6867, -12.6867, -12.6867, -12.6867, -12.6867, -12.6867, -12.6867, -12.6867, -12.6867, -12.6867, -12.6867, -12.6867, -12.6867, -12.6867, -12.6867, -12.6867, -12.6867, -12.6867, -12.6867, -12.6867, -12.6867, -12.6867, -12.6867, -12.6867, -12.6867, -12.6867, -12.6867, -12.6867, -12.6867, -12.6867, -12.6867, -12.6867, -12.6867, -12.6867, -12.6867, -12.6867, -12.6867, -12.6867, -12.6867, -12.6867, -12.6867, -12.6867, -12.6867, -12.6867, -12.6867, -12.6867, -12.6867, -12.6867, -12.6867, -12.6867, -12.6867, -12.6867, -12.6867, -12.6867, -12.6867, -12.6867, -12.6867, -12.6867, -12.6867, -12.6867, -12.6867, -12.6867, -12.6867, -12.6867, -12.6867, -12.6867, -12.6867, -12.6867, -12.6867, -12.6867, -12.6867, -12.6867, -12.6867, -12.6867, -12.6867, -12.6867, -12.6867, -12.6867, -12.6867, -12.6867, -12.6867, -12.6867, -12.6867, -12.6867, -12.6867, -12.6867, -12.6867, -12.6866, -12.6867, -12.6867, -12.6867, -12.6867, -12.6867, -12.6867, -12.6867, -12.6867, -12.6867, -12.6867, -12.6867, -12.6867, -12.6867, -12.6867, -12.6867, -12.6867, -12.6867, -12.6867, -12.6867, -12.6867, -12.6867, -12.6867, -12.6867, -12.6867, -12.6867, -12.6867, -12.6867, -12.6867, -12.6867, -12.6867, -12.6867, -12.6867, -12.6867, -12.6867, -12.6867, -12.6867, -12.6867, -12.6867, -12.6867, -12.6867, -12.6867, -12.6867, -12.6867, -12.6867, -12.6867, -12.6867, -12.6867, -12.6867, -12.6867, -12.6867, -12.6867, -12.6867, -12.6867, -12.6867, -12.6867, -12.6867, -12.6867, -12.6867, -12.6867, -12.6867, -12.6867, -12.6867, -12.6867, -12.6867, -12.6867, -12.6867, -12.6867, -12.6867, -12.6867, -12.6867, -12.6867, -12.6867, -12.6867, -12.6867, -12.6867, -12.6867, -12.6867, -12.6867, -12.6867, -12.6867, -12.6867, -12.6867, -12.6867, -12.6867, -12.6867, -12.6867, -12.6867, -12.6867, -12.6866, -12.6867, -12.6867, -12.6867, -12.6867, -12.6867, -12.6867, -12.6867, -12.6867, -12.6867, -12.6867, -12.6867, -12.6867, -12.6867, -12.6867, -12.6867, -12.6867, -12.6867, -12.6867, -12.6867, -12.6867, -12.6867, -12.6867, -12.6867, -12.6867, -12.6867, -12.6867, -12.6867, -12.6867, -12.6867, -12.6867, -12.6867, -12.6867, -12.6867, -12.6867, -12.6867, -12.6867, -12.6867, -12.6867, -12.6867, -12.6867, -12.6867, -12.6867, -12.6867, -12.6867, -12.6867, -12.6867, -12.6867, -12.6867, -12.6867, -12.6867, -12.6867, -12.6867, -12.6867, -12.6867, -12.6867, -12.6867, -12.6867, -12.6867, -12.6867, -12.6867, -12.6867, -12.6867, -12.6867, -12.6867, -12.6867, -12.6867, -12.6867, -12.6867, -12.6867, -12.6867, -12.6867, -12.6867, -12.6867, -12.6867, -12.6867, -12.6867, -12.6867, -12.6867, -12.6867, -12.6867, -12.6867, -12.6867, -12.6867, -12.6867, -12.6867, -12.6867, -12.6867, -12.6867, -12.6867, -12.6867, -12.6867, -12.6867, -12.6867, -12.6867, -12.6867, -12.6867, -12.6867, -12.6867, -12.6867, -12.6867, -12.6867, -12.6867, -12.6867, -12.6867, -12.6867, -12.6867, -12.6867, -12.6867, -12.6867, -12.6867, -12.6867, -12.6867, -12.6867, -12.6867, -12.6867, -12.6867, -12.6867, -12.6867, -12.6867, -12.6867, -12.6867, -12.6867, -12.6867, -12.6867, -12.6867, -12.6867, -12.6867, -12.6867, -12.6867, -12.6867, -12.6867, -12.6867, -12.6867, -12.6867, -12.6867, -12.6867, -12.6867, -12.6867, -12.6867, -12.6867, -12.6867, -12.6866, -12.6867, -12.6867, -12.6867, -12.6867, -12.6867, -12.6867, -12.6867, -12.6867, -12.6867, -12.6867, -12.6867, -12.6867, -12.6867, -12.6867, -12.6867, -12.6867, -12.6867, -12.6867, -12.6867, -12.6867, -12.6867, -12.6867, -12.6867, -12.6867, -12.6867, -12.6867, -12.6867, -12.6867, -12.6867, -12.6867, -12.6867, -12.6867, -12.6867, -12.6867, -12.6867, -12.6867, -12.6867, -12.6867, -12.6867, -12.6867, -12.6867, -12.6867, -12.6867, -12.6867, -12.6867, -12.6867, -12.6867, -12.6867, -12.6867, -12.6867, -12.6867, -12.6867, -12.6867, -12.6867, -12.6867, -12.6867, -12.6867, -12.6867, -12.6867, -12.6867, -12.6867, -12.6867, -12.6867, -12.6867, -12.6867, -12.6867, -12.6867, -12.6867, -12.6867, -12.6867, -12.6867, -12.6867, -12.6867, -12.6867, -12.6867, -12.6867, -12.6867, -12.6867, -12.6867, -12.6867, -12.6867, -12.6867, -12.6867, -12.6867, -12.6867, -10.9387, -10.9353, -12.6867, -10.3396, -12.6867, -12.6867, -12.6867, -12.6867, -12.6867, -12.6867, -12.6867, -12.6867, -12.6867, -12.6867, -12.6867, -12.6867, -12.6867, -12.6867, -12.6867, -12.6867, -12.6867, -12.6867, -12.6867, -12.6867, -12.6867, -12.6867, -10.9189, -12.6867, -12.6867, -12.6867, -12.6867, -12.6867, -12.6867, -12.6867, -12.6867, -12.6867, -12.6867, -12.6867, -12.6867, -12.6867, -12.6867, -12.6867, -12.6867, -12.6867, -12.6867, -12.6867, -12.6867, -12.6867], \"loglift\": [30.0, 29.0, 28.0, 27.0, 26.0, 25.0, 24.0, 23.0, 22.0, 21.0, 20.0, 19.0, 18.0, 17.0, 16.0, 15.0, 14.0, 13.0, 12.0, 11.0, 10.0, 9.0, 8.0, 7.0, 6.0, 5.0, 4.0, 3.0, 2.0, 1.0, 1.1433, 1.1429, 1.1418, 1.1407, 1.1407, 1.1404, 1.1394, 1.1392, 1.1391, 1.1386, 1.1383, 1.1375, 1.1373, 1.1369, 1.1367, 1.1366, 1.1365, 1.1363, 1.1361, 1.1361, 1.136, 1.136, 1.136, 1.1355, 1.1355, 1.1351, 1.1351, 1.135, 1.135, 1.1347, 1.1212, 1.1286, 1.1109, 1.1288, 1.1293, 1.1312, 1.1303, 1.1315, 1.1296, 1.097, 1.0662, 1.0757, 1.065, 1.0979, 1.1272, 1.1238, 1.1009, 1.1247, 1.1183, 0.9556, 0.9715, 0.7391, 0.0656, 0.9338, 1.0491, 1.0025, 0.9716, 0.4943, 1.0546, 0.69, 0.4354, 0.7916, -0.0092, 0.5694, 0.3955, 0.3673, 0.8737, 0.6433, 0.6326, 0.4107, 0.5335, 0.5061, 0.5836, 0.4256, 0.5493, 0.4594, 0.5422, -0.0313, 0.4752, 0.509, -0.391, 0.1633, -0.1401, 0.0532, 0.0308, 0.0553, 0.0003, -0.4094, 0.3394, -0.231, -0.1588, -0.0014, 0.1085, -0.0258, 1.617, 1.6125, 1.6117, 1.6111, 1.6107, 1.61, 1.6093, 1.6089, 1.6089, 1.6087, 1.6087, 1.6069, 1.6066, 1.6066, 1.6065, 1.6065, 1.606, 1.6059, 1.6059, 1.6056, 1.6054, 1.6054, 1.6053, 1.605, 1.6049, 1.6048, 1.6047, 1.6046, 1.6045, 1.6044, 1.5986, 1.5526, 1.5846, 1.5586, 1.5976, 1.5923, 1.5988, 1.5135, 1.5563, 1.5559, 1.4969, 1.592, 1.5, 1.503, 1.5892, 1.4232, 1.4701, 1.4318, 1.574, 1.4805, 1.4779, 1.468, 1.4758, 1.2688, 1.343, 1.3592, 1.3072, 1.2237, 1.312, 1.3472, 1.2289, 1.4035, 1.2004, 1.1142, 1.2712, 1.1009, 0.0522, 1.0266, 0.6737, 0.1173, 1.1862, 0.4308, 0.7673, 0.6928, 0.7646, 0.1748, 0.6852, 0.0035, 0.94, 0.1786, -0.0277, 1.8159, 1.8151, 1.8147, 1.8138, 1.8125, 1.8121, 1.8107, 1.8107, 1.8107, 1.8105, 1.8103, 1.8102, 1.8101, 1.8091, 1.8088, 1.8087, 1.8086, 1.8084, 1.8083, 1.8079, 1.8077, 1.8075, 1.8071, 1.8067, 1.8067, 1.8062, 1.8061, 1.8058, 1.8055, 1.8054, 1.8019, 1.8053, 1.7877, 1.7938, 1.746, 1.767, 1.7821, 1.7089, 1.787, 1.7597, 1.7763, 1.6951, 1.5885, 1.734, 1.6671, 1.379, 1.6797, 1.7341, 1.1807, 1.6256, 1.5632, 1.6309, 0.0344, 1.4877, 1.4528, 1.2993, 1.2296, 1.3391, 0.1423, 1.4056, 1.1931, 1.1003, 0.8561, 1.0585, 1.3404, 0.9283, 0.747, 0.6324, 0.9041, 1.0504, 0.5145, 0.6347, 0.9148, 0.2567, 0.7029, 0.7638, 0.7771, 1.075, 1.0745, -0.1584, 0.5462, 0.8208, -0.095, 0.7237, 0.7218, -0.5457, 0.8846, -0.7643, -0.4912, -0.1134, 0.3269, -0.2031, -0.1654, -1.432, -0.0064, 2.0151, 2.0128, 2.0123, 2.0113, 2.0113, 2.0112, 2.0111, 2.01, 2.0098, 2.0092, 2.0091, 2.0083, 2.0075, 2.0074, 2.007, 2.0067, 2.0055, 2.0052, 2.0046, 2.0044, 2.004, 2.0037, 2.0036, 2.0036, 2.0035, 2.0032, 2.0031, 2.0031, 2.003, 2.0027, 2.0013, 1.98, 1.9952, 1.9875, 1.9788, 1.9956, 1.9686, 1.9851, 1.9809, 1.8817, 1.9014, 1.9431, 1.9416, 1.9829, 1.9166, 1.8054, 1.7982, 1.5245, 1.8855, 1.697, 1.8963, 1.8644, 1.6422, 1.7316, 1.453, 1.695, 1.8448, 1.8268, 1.738, 1.2583, 1.6965, 0.014, 1.5305, 1.251, 1.5859, 1.5471, 1.4914, 1.6775, 1.2202, 0.1353, 1.4984, 1.365, 1.6562, 1.5552, 1.3008, 1.0963, 0.8528, 0.6899, 0.7663, 0.8309, 0.5986, 0.8169, 0.9109, 0.7746, 0.8597, 0.2558, 0.536, -0.2453, 0.2696, 0.6774, -0.1734, -0.1106, 0.6391, 0.3417, -0.4114, 0.105, 0.5374, 2.0578, 2.0561, 2.0549, 2.0546, 2.0532, 2.0507, 2.0506, 2.0502, 2.0497, 2.0492, 2.0488, 2.0482, 2.0482, 2.0481, 2.0481, 2.0479, 2.0461, 2.0457, 2.0455, 2.0448, 2.0447, 2.0446, 2.0444, 2.0442, 2.0442, 2.0441, 2.0441, 2.0441, 2.0434, 2.0433, 2.0426, 2.0111, 2.0159, 2.0403, 1.9858, 2.0175, 2.0335, 2.0413, 2.0272, 2.0138, 1.9845, 2.0355, 2.0125, 1.9553, 2.0219, 1.9055, 1.9854, 1.9252, 1.9201, 1.9657, 1.5434, 1.6505, 1.9958, 0.0107, 1.8625, 1.2609, 1.1197, 1.1715, 1.1533, 1.2587, 0.9476, 1.2646, 1.2085, 0.8711, 1.1731, 1.1053, 0.5936, 1.0329, 0.7627, 1.341, 1.1251, -0.3712, 0.7943, 0.4597, 1.1837, 1.2487, 0.8456, 0.2071, 0.7778, 0.8664, 0.8141, 0.4991, 0.5627, 0.9166, 0.6726, 0.5478, -0.2211, -0.0753, 0.7689, 0.0147, 0.0409, 3.5847, 3.5791, 3.5763, 3.5735, 3.5724, 3.5721, 3.5698, 3.5684, 3.5681, 3.5678, 3.5666, 3.566, 3.5658, 3.5639, 3.5635, 3.5628, 3.5619, 3.5576, 3.5563, 3.5558, 3.5554, 3.5554, 3.5552, 3.5549, 3.5544, 3.5539, 3.5532, 3.553, 3.5516, 3.5515, 3.5275, 3.5476, 3.5379, 3.5098, 3.5418, 3.5184, 3.5434, 3.4734, 3.5167, 3.5347, 3.4479, 3.527, 3.5287, 3.5273, 3.528, 3.4204, 3.5009, 3.4887, 3.5227, 3.5334, 3.1515, 3.0642, 2.8395, 3.1098, 2.9173, 2.8431, 2.9403, 3.1809, 3.2166, 2.609, 3.3895, 2.9862, 3.1882, 2.1955, 2.4199, 2.254, 2.2132, -0.2747, 3.0462, 0.259, 2.6472, 2.3913, 2.4348, 2.4481, -0.029, 2.5427, 1.351, 0.6304, 1.413, -0.4329, 1.027, 5.8443, 5.8107, 5.8025, 5.8008, 5.7906, 5.7788, 5.7776, 5.7772, 5.7753, 5.774, 5.7695, 5.7689, 5.756, 5.7541, 5.7523, 5.7511, 5.7401, 5.7362, 5.7296, 5.7289, 5.7234, 5.7151, 5.7136, 5.7133, 5.7008, 5.6826, 5.6814, 5.6765, 5.6758, 5.6722, 5.6581, 5.6595, 5.5396, 5.5349, 5.2155, 5.2538, 5.2805, 5.3108, 5.2928, 5.3877, 4.5709, 4.9504, -3.2333, -3.2528, 5.9243, 5.8563, 5.8215, 5.8042, 5.7887, 5.7853, 5.7479, 5.7254, 5.724, 5.7054, 5.6776, 5.6186, 5.6085, 5.5917, 5.5072, 5.505, 5.3939, 5.2616, 5.2001, 5.1085, 5.0915, 4.7574, 4.7111, 4.4955, 4.4915, 4.4893, 4.4891, 4.4886, 4.4877, 4.4832, 3.9982, 1.4856, 1.4606, -4.6206, 2.599, 1.764, 1.993, -4.0536, 0.667, -3.1722, -2.1327, -1.9827, -1.6987, 5.9447, 5.927, 5.9268, 5.9123, 5.8851, 5.8793, 5.8569, 5.8281, 5.7833, 5.7799, 5.7727, 5.7545, 5.7069, 5.6976, 5.6333, 5.5715, 5.4858, 5.4347, 5.4273, 5.3814, 5.3175, 5.2044, 5.1545, 4.8879, 4.7668, 4.7508, 4.56, 4.515, 4.5075, 4.5062, 2.4376, 2.9791, -4.9698, 1.2804, -4.3531, 0.9918, -2.8826, 5.929, 5.9192, 5.8366, 5.8247, 5.8116, 5.8032, 5.7823, 5.7266, 5.7086, 5.6805, 5.6745, 5.6569, 5.6393, 5.6339, 5.6336, 5.6143, 5.4455, 5.4388, 5.4317, 5.4152, 5.3697, 5.2968, 5.2672, 5.1621, 5.1024, 4.9627, 4.7858, 4.5134, 4.513, 4.5117, 4.2122, 3.4865, 3.0562, -4.7577, 2.6296, -4.1936, 5.9224, 5.9152, 5.8506, 5.8291, 5.8109, 5.8051, 5.7851, 5.7474, 5.7342, 5.6862, 5.6806, 5.6706, 5.6231, 5.6157, 5.542, 5.5393, 5.4195, 5.3304, 5.2858, 5.1345, 4.9535, 4.9198, 4.8652, 4.5218, 4.5203, 4.5182, 4.5172, 4.4951, 4.4666, 4.4598, 2.4187, 3.0807, 1.6039, -5.1398, 1.749, 0.9166, -4.7978, -0.6116, -2.8758, 5.7892, 5.0421, 4.5353, 4.534, 4.5309, 4.3977, 3.7596, 3.7401, 3.7045, 3.6662, 3.6207, 3.3894, 3.3836, 3.3461, 3.3381, 2.8046, 2.8046, 2.8046, 2.8046, 2.8046, 2.8046, 2.8046, 2.8046, 2.8046, 2.8046, 2.8046, 2.8046, 2.8046, 2.8046, 2.8046, 2.8046, 2.8046, 2.8046, 2.6771, 2.6464, 0.7162, 1.1102, -0.2976, 1.0808, 0.7867, -6.9407, 0.7448, -1.1472, -1.5555, -1.8604, -1.9408, -5.8288, -2.5898, -2.3329, -2.1945, -3.5441, -2.6036, -3.9789, -3.3654, -4.9852, -1.652, -3.4495, -4.7127, 4.5362, 4.5213, 4.3965, 2.8069, 2.8069, 2.8069, 2.8069, 2.8069, 2.8069, 2.8069, 2.8069, 2.8069, 2.8069, 2.8069, 2.8069, 2.8069, 2.8069, 2.8069, 2.8069, 2.8069, 2.8069, 2.8069, 2.8069, 2.8069, 2.8069, 2.8069, 2.8069, 2.8069, 2.8069, 2.8069, 2.8069, 2.8069, 2.8069, 2.8069, 2.8069, 2.8069, 2.8069, 2.8069, 2.8069, 2.8069, 2.8069, 2.8069, 2.8069, 2.8069, 2.8069, 2.8069, 2.8069, 2.8069, 2.8069, 2.8069, 2.8069, 2.8069, 2.8069, 2.8069, 2.8069, 2.8069, 2.8069, 2.8069, 2.8069, 2.8069, 2.8069, 2.8069, 2.8069, 2.8069, 2.8069, 2.8069, 2.8069, 2.8069, 2.8069, 1.0666, 2.8069, -0.7616, 2.8069, 2.8069, 2.8069, 2.8069, 2.8069, 2.8069, 2.8069, 2.8069, 2.8069, 2.8069, 2.8069, 2.8069, 2.8069, 2.8069, 2.8069, 2.8069, 2.8069, 2.8069, -2.0177, 2.8069, -8.5091, 2.8069, 2.8069, 2.8069, 2.8069, 2.8069, 2.8069, 2.8069, 2.8069, 2.8069, 2.8069, 2.8069, 2.8069, 2.8069, 2.8069, 2.8069, 2.8069, -6.6747, -7.4676, -7.1382, -7.1524, -6.7116, -6.6075, -6.2957, -6.8097, -6.1616, -6.9533, -6.1048, -6.1669, -6.5718, -3.1423, -5.9116, -4.5149, -5.8381, -5.8117, -5.9611, 4.5256, 2.807, 2.807, 2.807, 2.807, 2.807, 2.807, 2.807, 2.807, 2.807, 2.807, 2.807, 2.807, 2.807, 2.807, 2.807, 2.807, 2.807, 2.807, 2.807, 2.807, 2.807, 2.807, 2.807, 2.807, 2.807, 2.807, 2.807, 2.807, 2.807, 2.807, 2.807, 2.807, 2.807, 2.807, 2.807, 2.807, 2.807, 2.807, 2.807, 2.807, 2.807, 2.807, 2.807, 2.807, 2.807, 2.807, 2.807, 2.807, 2.807, 2.807, 2.807, 2.807, 2.807, 2.807, 2.807, 2.807, 2.807, 2.807, 2.807, 2.807, 2.807, 2.807, 2.807, 2.807, 2.807, 2.807, 2.807, 2.807, 2.807, 2.807, 2.807, 2.807, 2.807, 2.807, 2.807, 2.807, 2.807, 2.807, 2.807, 2.807, 2.807, 2.807, 2.807, 2.807, 2.807, 2.807, 2.807, 2.807, 2.807, 2.807, 2.807, 2.807, 2.807, 2.807, 2.1249, 2.807, 2.807, 2.807, 2.807, 2.807, 2.807, 2.807, 2.807, 2.807, 2.807, 2.807, 2.807, 2.807, 2.807, 2.807, 2.807, 2.807, 2.807, 2.807, 2.807, 2.807, 2.807, 2.807, -1.4823, 2.807, 2.807, 2.807, 2.807, 2.807, -9.2768, 2.807, 2.807, 2.807, 2.807, 2.807, 2.807, 2.807, 2.807, 2.807, 2.807, 2.807, 2.807, 2.807, 2.807, 2.807, 2.807, 2.807, 2.807, 2.807, 2.807, 2.807, -7.173, -0.5026, 2.807, 2.807, 2.807, 2.807, 2.807, -3.1906, 2.807, 2.807, 2.807, 2.807, 2.807, 2.807, 2.807, 2.807, 2.807, 2.807, 2.807, 2.807, 2.807, 2.807, 2.807, 2.807, 2.807, -2.6107, -4.2895, -1.7101, -5.0173, -5.4779, 2.807, 2.807, 2.807, 2.807, 2.807, 2.807, 2.807, 2.807, 2.807, 2.807, 2.807, 2.807, 2.807, 2.807, -7.4675, -7.1381, -7.1523, -6.7114, -6.9532, -6.6074, -6.8096, -6.5717, -3.1421, -6.2956, -6.1668, -6.1257, -3.9984, -4.5148, -5.9115, -2.9465, 4.1309, 2.8071, 2.8071, 2.8071, 2.8071, 2.8071, 2.8071, 2.8071, 2.8071, 2.8071, 2.8071, 2.8071, 2.8071, 2.8071, 2.8071, 2.8071, 2.8071, 2.8071, 2.8071, 2.8071, 2.8071, 2.8071, 2.8071, 2.8071, 2.8071, 2.8071, 2.8071, 2.8071, 2.8071, 2.8071, 2.8071, 2.8071, 2.8071, 2.8071, 2.8071, 2.8071, -2.1786, -2.5607, 2.8071, 2.8071, 2.8071, 2.8071, 2.8071, 2.8071, 2.8071, 2.8071, 2.8071, 2.8071, 2.8071, 2.8071, 2.8071, 2.8071, 2.8071, 2.8071, 2.8071, 2.8071, 2.8071, 2.8071, 2.8071, 2.8071, -9.6731, 2.8071, 2.8071, 2.8071, 2.8071, 2.8071, 2.8071, 2.8071, 2.8071, 2.8071, 2.8071, 2.8071, 2.8071, 2.8071, 2.8071, 2.8071, 2.8071, 2.8071, 2.8071, 2.8071, 2.8071, 2.8071, -7.7154, 2.5445, 2.8071, 2.8071, 2.8071, 2.8071, 2.8071, 2.8071, 2.8071, 2.8071, 2.8071, 2.8071, 2.8071, 2.8071, 2.8071, 2.8071, 2.8071, 2.8071, 2.8071, 2.8071, 2.8071, 2.5408, 2.8071, 2.8071, 1.977, 2.8071, 0.6012, -3.3823, -3.9178, -3.1463, -0.0018, -5.1104, 0.549, -7.1381, -7.1523, -7.4675, -6.9531, -6.6073, -6.8096, -3.9983, -4.5147, -6.7114, -5.9115, -6.1347, 2.8071, 2.8071, 2.8071, 2.8071, 2.8071, 2.8071, 2.8071, 2.8071, 2.8071, 2.8071, 2.8071, 2.8071, 2.8071, 2.8071, 2.8071, 2.8071, 2.8071, 2.8071, 2.8071, 2.8071, 2.8071, 2.8071, 2.8071, 2.8071, 2.8071, 2.8071, 2.8071, 2.8071, 2.8071, 2.8071, 2.8071, 2.8071, 2.8071, 2.8071, 2.8071, 2.8071, 2.8071, 2.8071, 2.8071, 2.8071, 2.8071, 2.8071, 2.8071, 2.8071, 2.8071, 2.8071, 2.8071, 2.8071, 2.8071, 2.8071, 2.8071, 2.8071, 2.8071, 2.8071, 2.8071, 2.8071, 2.8071, 2.8071, 2.8071, 2.8071, 2.8071, 2.8071, 2.8071, 2.8071, 2.8071, 2.8071, 2.8071, 2.8071, 2.8071, 2.8071, 2.8071, 2.8071, 2.8071, 2.8071, 2.8071, 2.8071, 2.8071, 2.8071, 2.8071, 2.8071, 2.8071, 2.8071, 2.8071, 2.8071, 2.8071, 2.8071, 2.8071, 2.8071, 2.8071, 2.8071, 2.8071, 2.8071, 2.8071, 2.8071, 2.8071, 2.8071, 2.8071, 2.8071, 2.8071, 2.8071, 2.8071, -12.0023, -9.1419, -7.4674, -7.138, -7.1522, -6.7113, -6.8095, -6.5716, -6.953, -6.6073, -6.2955, -6.1046, -5.9114, -6.1256, -4.5147, -5.2499, -5.6519, -5.9608, -3.142, -5.9168, -5.7254, -5.8378, -5.7955, -3.9983, -5.4049, 2.8071, 2.8071, 2.8071, 2.8071, 2.8071, 2.8071, 2.8071, 2.8071, 2.8071, 2.8071, 2.8071, 2.8071, 2.8071, 2.8071, 2.8071, 2.8071, 2.8071, 2.8071, 2.8071, 2.8071, 2.8071, 2.8071, 2.8071, 2.8071, 2.8071, 2.8071, 2.8071, 2.8071, 2.8071, 2.8071, 2.8071, 2.8071, 2.8071, 2.8071, 2.8071, 2.8071, 2.8071, 2.8071, 2.8071, 2.8071, 2.8071, 2.8071, 2.8071, 2.8071, 2.8071, 2.8071, 2.8071, 2.8071, 2.8071, 2.8071, 2.8071, 2.8071, 2.8071, 2.8071, 2.8071, 2.8071, 2.8071, 2.8071, 2.8071, 2.8071, 2.8071, 2.8071, 2.8071, 2.8071, 2.8071, 2.8071, 2.8071, 2.8071, -12.0023, -9.1419, -7.4674, -7.138, -7.1522, -6.2955, -6.953, -6.6073, -2.9464, -5.9114, -6.1667, -6.0659, -6.8095, -3.142, -6.5716, -6.7113, -6.1046, -5.6821, -5.7038, -5.2847, -5.4855, -5.5008, -5.2499, -4.3324, -5.5391, -4.5147, -6.1346, 2.8071, 2.8071, 2.8071, 2.8071, 2.8071, 2.8071, 2.8071, 2.8071, 2.8071, 2.8071, 2.8071, 2.8071, 2.8071, 2.8071, 2.8071, 2.8071, 2.8071, 2.8071, 2.8071, 2.8071, 2.8071, 2.8071, 2.8071, 2.8071, 2.8071, 2.8071, 2.8071, 2.8071, 2.8071, 2.8071, 2.8071, 2.8071, 2.8071, 2.8071, 2.8071, 2.8071, 2.8071, 2.8071, 2.8071, 2.8071, 2.8071, 2.8071, 2.8071, 2.8071, 2.8071, 2.8071, 2.8071, 2.8071, 2.8071, 2.8071, 2.8071, 2.8071, 2.8071, 2.8071, 2.8071, 2.8071, 2.8071, 2.8071, 2.8071, 2.8071, 2.8071, 2.8071, -12.0023, -9.1419, -7.4674, -7.138, -7.1522, -6.2955, -6.6073, -6.5716, -6.7113, -6.953, -6.8095, -3.142, -4.5147, -6.1667, -6.1346, -3.9983, -5.7608, -6.0104, -6.0659, -6.1614, -5.7955, -5.4689, -5.4855, -5.9608, -5.5088, -5.4977, -4.3324, 2.8071, 2.8071, 2.8071, 2.8071, 2.8071, 2.8071, 2.8071, 2.8071, 2.8071, 2.8071, 2.8071, 2.8071, 2.8071, 2.8071, 2.8071, 2.8071, 2.8071, 2.8071, 2.8071, 2.8071, 2.8071, 2.8071, 2.8071, 2.8071, 2.8071, 2.8071, 2.8071, 2.8071, 2.8071, 2.8071, 2.8071, 2.8071, 2.8071, 2.8071, 2.8071, 2.8071, 2.8071, 2.8071, 2.8071, 2.8071, 2.8071, 2.8071, 2.8071, 2.8071, 2.8071, 2.8071, 2.8071, 2.8071, 2.8071, 2.8071, 2.8071, 2.8071, 2.8071, 2.8071, 2.8071, 2.8071, 2.8071, 2.8071, 2.8071, 2.8071, 2.8071, 2.8071, 2.8071, 2.8071, 2.8071, 2.8071, 2.8071, 2.8071, 2.8071, 2.8071, 2.8071, 2.8071, 2.8071, 2.8071, 2.8071, 2.8071, 2.8071, 2.8071, 2.8071, 2.8071, 2.8071, 2.8071, 2.8071, 2.8071, 2.8071, 2.8071, 2.8071, 2.8071, 2.8071, 2.8071, 2.8071, 2.8071, 2.8071, 2.8071, 2.8071, 2.8071, 2.8071, 2.8071, 2.8071, 2.8071, 2.8071, 2.8071, 2.8071, 2.8071, 2.8071, 2.8071, 2.8071, 2.8071, 2.8071, 2.8071, 2.8071, 2.8071, 2.8071, 2.8071, 2.8071, -12.0023, -9.1419, -7.4674, -7.138, -6.6073, -7.1522, -6.953, -6.2955, -6.8095, -6.7113, -2.9464, -5.9114, -6.1667, -3.9983, -5.4855, -5.8114, -6.0659, -6.1614, -5.9608, -5.5008, -6.0104, -6.5716, -5.9581, -6.1256, -6.1346, 2.8071, 2.8071, 2.8071, 2.8071, 2.8071, 2.8071, 2.8071, 2.8071, 2.8071, 2.8071, 2.8071, 2.8071, 2.8071, 2.8071, 2.8071, 2.8071, 2.8071, 2.8071, 2.8071, 2.8071, 2.8071, 2.8071, 2.8071, 2.8071, 2.8071, 2.8071, 2.8071, 2.8071, 2.8071, 2.8071, 2.8071, 2.8071, 2.8071, 2.8071, 2.8071, 2.8071, 2.8071, 2.8071, 2.8071, 2.8071, 2.8071, 2.8071, 2.8071, 2.8071, 2.8071, 2.8071, 2.8071, 2.8071, 2.8071, 2.8071, 2.8071, 2.8071, 2.8071, 2.8071, 2.8071, 2.8071, 2.8071, 2.8071, 2.8071, 2.8071, 2.8071, -4.5475, -5.3867, 2.8071, -9.6554, 2.8071, 2.8071, 2.8071, 2.8071, 2.8071, 2.8071, 2.8071, 2.8071, 2.8071, 2.8071, 2.8071, 2.8071, 2.8071, 2.8071, 2.8071, 2.8071, 2.8071, 2.8071, 2.8071, 2.8071, 2.8071, 2.8071, -7.3741, -7.4675, -7.1523, -6.6073, -6.9531, -6.8096, -6.5716, -6.7114, -3.9983, -3.1421, -6.1257, -2.9465, -4.5147, -5.9115, -5.7609, -5.9609, -6.1615, -5.8467, -6.1347, -4.3325, -5.469, -6.1667]}, \"token.table\": {\"Topic\": [1, 2, 3, 4, 5, 6, 7, 8, 9, 10, 11, 12, 13, 3, 1, 2, 3, 4, 5, 6, 7, 2, 2, 2, 2, 7, 1, 5, 6, 11, 8, 7, 1, 2, 3, 4, 5, 6, 1, 1, 2, 3, 4, 5, 6, 3, 1, 2, 3, 4, 5, 6, 1, 1, 2, 3, 4, 5, 6, 1, 11, 5, 7, 1, 8, 1, 2, 1, 5, 3, 3, 9, 7, 1, 2, 1, 2, 3, 4, 5, 6, 1, 2, 3, 4, 5, 6, 2, 12, 11, 10, 2, 5, 1, 2, 3, 4, 5, 6, 1, 2, 3, 4, 5, 6, 11, 1, 2, 3, 4, 5, 10, 6, 3, 1, 2, 7, 1, 11, 1, 2, 3, 4, 5, 1, 2, 3, 4, 5, 11, 3, 7, 3, 9, 1, 2, 3, 4, 5, 6, 7, 1, 2, 3, 4, 5, 6, 1, 2, 3, 4, 1, 2, 3, 4, 5, 6, 7, 2, 4, 2, 5, 1, 3, 1, 1, 11, 4, 8, 1, 2, 3, 5, 1, 5, 8, 1, 2, 3, 4, 8, 1, 2, 3, 4, 5, 6, 4, 1, 2, 3, 4, 6, 8, 6, 1, 3, 1, 2, 3, 5, 1, 2, 3, 4, 5, 6, 1, 6, 1, 2, 3, 4, 5, 6, 4, 10, 2, 1, 2, 8, 1, 4, 6, 1, 2, 3, 4, 5, 6, 7, 3, 8, 1, 9, 1, 3, 4, 1, 2, 3, 6, 3, 1, 2, 3, 4, 5, 4, 3, 1, 2, 3, 4, 5, 6, 1, 1, 4, 6, 1, 1, 2, 3, 4, 1, 2, 4, 5, 6, 1, 2, 5, 11, 5, 6, 1, 2, 3, 4, 5, 6, 1, 3, 1, 2, 3, 4, 5, 9, 1, 2, 3, 4, 5, 6, 8, 5, 1, 2, 3, 4, 5, 6, 7, 1, 3, 4, 9, 3, 1, 2, 3, 4, 5, 6, 7, 3, 5, 6, 1, 2, 3, 4, 5, 6, 3, 5, 1, 2, 3, 4, 5, 6, 10, 2, 5, 8, 1, 2, 3, 4, 5, 6, 4, 1, 2, 3, 4, 5, 6, 10, 3, 1, 2, 4, 5, 6, 6, 4, 6, 1, 2, 3, 4, 5, 6, 3, 4, 6, 10, 1, 2, 3, 6, 1, 2, 3, 5, 1, 2, 3, 4, 5, 7, 1, 5, 1, 2, 3, 4, 5, 6, 1, 2, 6, 9, 1, 2, 3, 4, 1, 2, 1, 2, 3, 4, 5, 1, 2, 3, 4, 5, 6, 7, 8, 10, 1, 2, 3, 4, 5, 6, 1, 2, 3, 4, 5, 1, 2, 4, 1, 2, 3, 4, 5, 6, 6, 3, 6, 2, 1, 2, 3, 4, 5, 6, 10, 1, 2, 3, 4, 5, 6, 2, 4, 10, 1, 2, 3, 4, 5, 6, 1, 2, 3, 4, 5, 6, 1, 2, 3, 4, 5, 6, 7, 8, 9, 10, 11, 12, 4, 5, 6, 1, 2, 3, 5, 6, 1, 2, 3, 4, 5, 6, 7, 1, 3, 4, 8, 1, 2, 3, 4, 5, 6, 1, 2, 3, 4, 5, 2, 1, 2, 3, 4, 5, 6, 3, 5, 1, 2, 3, 4, 5, 6, 10, 2, 6, 1, 2, 3, 4, 5, 6, 9, 1, 2, 3, 4, 5, 6, 4, 4, 1, 2, 3, 4, 5, 1, 2, 3, 4, 5, 6, 7, 1, 2, 3, 4, 5, 6, 4, 6, 2, 1, 2, 3, 4, 5, 2, 9, 2, 1, 2, 3, 4, 5, 6, 2, 5, 2, 4, 5, 3, 4, 1, 2, 3, 4, 5, 6, 1, 2, 3, 4, 5, 6, 1, 2, 3, 4, 5, 6, 1, 3, 8, 8, 1, 2, 3, 4, 5, 1, 1, 2, 3, 4, 5, 6, 4, 4, 9, 1, 2, 3, 4, 5, 6, 1, 2, 3, 4, 5, 6, 4, 1, 11, 1, 2, 3, 5, 5, 1, 2, 3, 4, 5, 7, 3, 3, 5, 6, 1, 3, 4, 10, 3, 8, 4, 3, 6, 2, 4, 4, 1, 2, 3, 4, 5, 6, 1, 2, 3, 4, 5, 6, 3, 5, 2, 5, 1, 2, 3, 4, 5, 6, 4, 7, 2, 7, 1, 1, 1, 2, 3, 4, 5, 6, 1, 2, 3, 4, 5, 6, 3, 6, 2, 4, 1, 8, 5, 1, 2, 7, 5, 1, 2, 3, 4, 5, 6, 1, 2, 3, 4, 5, 6, 1, 3, 5, 6, 2, 1, 4, 1, 2, 3, 4, 5, 6, 1, 2, 3, 4, 5, 6, 10, 5, 6, 1, 3, 9, 7, 1, 2, 3, 4, 5, 6, 7, 3, 5, 8, 4, 5, 4, 5, 4, 2, 3, 4, 5, 7, 1, 2, 3, 4, 5, 6, 7, 11, 1, 2, 3, 4, 5, 6, 7, 1, 2, 3, 4, 5, 1, 2, 3, 4, 5, 6, 8, 1, 2, 3, 4, 5, 6, 1, 2, 3, 4, 1, 2, 3, 4, 5, 6, 7, 1, 2, 3, 4, 5, 6, 4, 5, 1, 2, 3, 4, 5, 6, 1, 1, 2, 3, 4, 5, 6, 7, 5, 6, 3, 8, 6, 1, 6, 2, 1, 7, 2, 6, 5, 1, 1, 2, 3, 4, 1, 2, 3, 4, 5, 6, 7, 1, 2, 3, 4, 5, 6, 2, 1, 2, 3, 4, 5, 6, 1, 2, 3, 4, 5, 6, 1, 1, 3, 10, 1, 10, 8, 1, 2, 3, 4, 5, 6, 1, 2, 3, 5, 11, 1, 5, 11, 1, 2, 3, 4, 5, 6, 1, 2, 3, 4, 5, 6, 6, 4, 1, 2, 3, 5, 10, 10, 1, 2, 3, 4, 5, 6, 1, 2, 3, 4, 5, 6, 7, 1, 2, 3, 4, 5, 6, 1, 2, 3, 4, 5, 6, 1, 2, 3, 7, 1, 2, 3, 4, 7, 1, 2, 3, 4, 5, 7, 8, 1, 2, 3, 4, 6, 1, 2, 3, 1, 2, 3, 4, 5, 6, 7, 3, 9, 1, 6, 8, 1, 4, 7, 5, 4, 1, 2, 5, 6, 5, 1, 1, 2, 8, 10, 1, 3, 9, 1, 2, 3, 4, 6, 1, 2, 3, 4, 5, 6, 3, 1, 4, 1, 2, 3, 4, 5, 6, 1, 5, 2, 8, 8, 1, 2, 3, 4, 5, 6, 3, 1, 2, 3, 4, 5, 6, 1, 2, 3, 4, 5, 1, 1, 2, 3, 4, 5, 6, 5, 6, 2, 4, 9, 4, 1, 3, 2, 1, 2, 3, 4, 5, 6, 1, 2, 3, 4, 5, 6, 7, 8, 1, 2, 3, 4, 5, 6, 7, 8, 2, 1, 2, 3, 4, 5, 6, 1, 2, 3, 4, 5, 6, 7, 1, 2, 3, 4, 5, 6, 1, 2, 3, 9, 1, 2, 3, 4, 2, 4, 1, 2, 3, 4, 5, 5, 6, 1, 2, 3, 4, 5, 6, 4, 1, 2, 3, 4, 5, 6, 9, 1, 2, 3, 4, 5, 6, 3, 10, 1, 2, 3, 4, 5, 6, 8, 1, 2, 3, 4, 5, 6, 1, 3, 9, 5, 1, 2, 3, 4, 5, 1, 2, 3, 5, 3, 1, 2, 3, 4, 5, 6, 1, 2, 3, 4, 5, 6, 6, 1, 2, 4, 5, 3, 9, 1, 2, 9, 4, 1, 3, 5, 3, 4, 5, 9, 1, 3, 11, 1, 2, 2, 11, 1, 9, 2, 1, 2, 3, 4, 5, 6, 1, 2, 3, 4, 5, 6, 1, 6, 1, 2, 3, 4, 5, 5, 1, 2, 7, 4, 3, 11, 7, 1, 2, 3, 4, 5, 6, 1, 2, 3, 1, 2, 3, 4, 5, 6, 7, 1, 2, 3, 4, 5, 6, 7, 3, 1, 2, 6, 4, 7, 7, 3, 5, 1, 2, 3, 4, 5, 6, 2, 5, 3, 1, 2, 4, 4, 1, 2, 3, 4, 5, 6, 1, 2, 3, 4, 5, 6, 11, 2, 1, 11, 1, 2, 3, 4, 5, 6, 1, 2, 3, 1, 2, 3, 4, 5, 6, 7, 10, 3, 7, 1, 2, 3, 4, 1, 2, 3, 4, 5, 6, 7, 5, 2, 5, 1, 2, 5, 11, 1, 2, 3, 4, 5, 6, 1, 2, 3, 4, 5, 6, 1, 4, 2, 4, 10, 1, 2, 3, 4, 5, 1, 2, 9, 1, 2, 3, 4, 5, 6, 10, 1, 2, 5, 1, 2, 3, 4, 5, 6, 2, 5, 8, 1, 2, 3, 4, 5, 6, 7, 5, 1, 2, 3, 4, 5, 6, 1, 2, 3, 4, 5, 6, 3, 10, 1, 2, 3, 4, 5, 1, 2, 3, 4, 5, 6, 1, 4, 1, 2, 3, 4, 1, 2, 3, 4, 2, 2, 3, 5, 11, 5, 1, 1, 2, 3, 4, 5, 6, 5, 4, 1, 2, 3, 4, 5, 6, 1, 2, 3, 4, 5, 6, 9, 1, 2, 3, 4, 5, 6, 1, 2, 3, 4, 5, 6, 1, 2, 3, 4, 5, 6, 7, 8, 11, 1, 2, 3, 4, 5, 1, 2, 3, 4, 5, 6, 2, 3, 1, 2, 3, 4, 5, 1, 2, 3, 4, 5, 6, 1, 3, 4, 1, 2, 3, 4, 5, 6, 1, 2, 3, 4, 5, 6, 2, 7, 1, 2, 3, 5, 1, 7, 1, 9, 1, 6, 7, 1, 2, 3, 1, 5, 5, 1, 2, 3, 4, 5, 6, 1, 2, 3, 4, 5, 6, 10, 1, 2, 3, 4, 5, 6, 1, 2, 3, 4, 5, 6, 3, 6, 2, 3, 6, 4, 7, 1, 2, 3, 4, 5, 2, 1, 2, 3, 4, 5, 6, 2, 4, 11, 4, 10, 7, 3, 9, 1, 2, 3, 4, 5, 6, 1, 2, 3, 4, 5, 6, 1, 2, 8, 1, 2, 3, 4, 5, 6, 10, 1, 2, 3, 4, 5, 6, 2, 3, 1, 2, 3, 4, 5, 6, 1, 10, 1, 2, 4, 7, 1, 2, 3, 4, 5, 6, 2, 2, 1, 3, 4, 5, 6, 1, 7, 10, 1, 4, 2, 4, 5, 1, 2, 3, 4, 1, 3, 4, 5, 7, 1, 2, 3, 4, 5, 7, 1, 2, 3, 4, 5, 6, 2, 1, 2, 3, 4, 5, 6, 1, 2, 3, 4, 5, 1, 2, 3, 4, 1, 2, 3, 4, 5, 6, 3, 7, 4, 11, 7, 1, 2, 3, 4, 5, 6, 1, 2, 6, 1, 5, 6, 2, 3, 4, 5, 1, 3, 4, 5, 6, 9, 1, 11, 1, 2, 3, 4, 5, 6, 8, 1, 2, 3, 4, 5, 6, 1, 11, 1, 10, 11, 1, 2, 3, 4, 5, 6, 1, 2, 3, 4, 5, 6, 1, 2, 3, 4, 5, 8, 2, 9, 1, 7, 6, 1, 2, 3, 4, 5, 6, 1, 10, 1, 2, 3, 4, 5, 6, 1, 2, 3, 4, 1, 2, 3, 4, 5, 6, 1, 2, 3, 4, 5, 6, 1, 7, 1, 6, 3, 1, 2, 3, 4, 5, 6, 1, 2, 3, 5, 6, 1, 2, 3, 4, 5, 6, 1, 2, 3, 4, 5, 6, 7, 1, 2, 3, 4, 5, 6, 3, 6, 3, 3, 8, 11, 1, 2, 3, 4, 4, 6, 1, 2, 3, 4, 5, 6, 1, 2, 3, 4, 5, 6, 2, 6, 7, 1, 3, 7, 1, 2, 3, 4, 5, 6, 1, 2, 3, 6, 2, 1, 2, 3, 4, 5, 6, 1, 2, 3, 4, 5, 6, 1, 2, 3, 4, 5, 6, 1, 2, 4, 1, 2, 3, 4, 5, 6, 7, 5, 1, 2, 3, 4, 5, 6, 7, 1, 2, 3, 4, 5, 6, 1, 2, 4, 5, 1, 2, 3, 5, 1, 2, 3, 4, 5, 6, 7, 1, 3, 4, 5, 6, 4, 9, 1, 1, 2, 3, 4, 5, 6, 3, 7, 9, 1, 2, 3, 4, 5, 6, 1, 2, 3, 5, 6, 5, 1, 2, 3, 4, 5, 6, 7, 1, 3, 10, 1, 2, 3, 4, 5, 6, 5, 10, 9, 9, 1, 2, 3, 4, 5, 6, 7, 2, 4, 1, 4, 1, 6, 1, 3, 1, 3, 7, 6, 6, 1, 2, 3, 4, 5, 6, 2, 5, 9, 5, 10, 2, 3, 5, 2, 1, 2, 3, 4, 5, 1, 3, 7, 10, 1, 1, 2, 3, 4, 5, 6, 1, 2, 7, 3, 2, 5, 1, 2, 3, 4, 5, 1, 2, 3, 4, 5, 6, 1, 2, 3, 4, 5, 6, 1, 2, 3, 4, 5, 1, 2, 3, 4, 5, 6, 7, 1, 2, 3, 4, 5, 6, 1, 2, 3, 4, 5, 6, 1, 2, 3, 4, 5, 6, 5, 4, 3, 1, 2, 3, 4, 5, 6, 1, 2, 3, 5, 1, 2, 3, 4, 5, 6, 1, 3, 4, 5, 6, 9, 1, 2, 3, 4, 5, 6, 1, 2, 3, 4, 5, 6, 11, 1, 2, 3, 4, 5, 6, 1, 2, 3, 4, 5, 8, 1, 2, 3, 5, 7, 3, 6, 1, 2, 3, 4, 5, 6, 1, 2, 3, 4, 5, 6, 1, 2, 5, 10, 1, 2, 3, 4, 5], \"Freq\": [0.33929440128341504, 0.20885614496129382, 0.167661849635594, 0.13438164610189804, 0.12871212323126316, 0.020898823684914428, 0.00011272503211299929, 2.5325888272083542e-05, 1.738051155927302e-05, 2.135319991567828e-05, 1.4400995291969073e-05, 2.4829302227532886e-06, 4.965860445506577e-07, 0.984706284463604, 0.5416583254023548, 0.28907154153597175, 0.06630403076492555, 0.054727136504382996, 0.04630757704217023, 0.001403259910368795, 0.0003508149775921987, 0.9940510672148627, 0.9867122482985988, 0.9807309052219931, 0.1588640620709396, 0.8340363258724329, 0.9952265329450277, 0.9808836908201976, 0.9825113048271912, 0.8251432240966374, 0.5669188463379619, 0.8884734058003744, 0.6336541245537117, 0.2238229891568756, 0.04599102516922102, 0.04258428256409353, 0.051782487597937736, 0.0020440455630764895, 0.9855560838888953, 0.4862246973820475, 0.4258270219248649, 0.06859115856183914, 0.004447890828242129, 0.01381187151927819, 0.0007022985518277046, 0.9964146032213638, 0.09765344412295933, 0.8857945152746312, 0.009073992595496221, 0.0034567590839985605, 0.0030246641984987403, 0.0008641897709996401, 0.9931020006954069, 0.6047392276650208, 0.2560653131368205, 0.06781176276745839, 0.046051271730139655, 0.01923020138181656, 0.005566637242104793, 0.9972032210723044, 0.7273678698261391, 0.9877482328726072, 0.8493834106562065, 0.3364398728178235, 0.3364398728178235, 0.011376204560430717, 0.9783535921970415, 0.9909987579706498, 0.978207121164183, 0.9913308833535164, 0.9899422900894944, 0.729159818153759, 0.8987309135171556, 0.024413745893107446, 0.9765498357242979, 0.16002160377129704, 0.11483903329469553, 0.11766294394948312, 0.01129564261915038, 0.5958451481601825, 0.000941303551595865, 0.011619786552523019, 0.034859359657569054, 0.005809893276261509, 0.011619786552523019, 0.9266779775637107, 0.005809893276261509, 0.16806558075038047, 0.7843060435017756, 0.6145331982267871, 0.6972811377053132, 0.054195293788715404, 0.9348688178553407, 0.2253296902738426, 0.20297555433397726, 0.5338167662439842, 0.02593079769024379, 0.003576661750378454, 0.007153323500756908, 0.06551611942451101, 0.8884905318446843, 0.03620627652407187, 0.005172325217724553, 0.003448216811816369, 0.0011494056039387896, 0.6492063809588732, 0.37270047964495845, 0.016283030664100126, 0.34918054646348046, 0.1555934041236234, 0.10312586087263413, 0.9000138004928607, 0.9793377054412259, 0.9963366148230862, 0.6425724589842842, 0.06425724589842842, 0.2730932950683208, 0.9607744128577084, 0.0343133718877753, 0.24145836923537103, 0.38843302876994473, 0.010498189966755262, 0.07698672642287192, 0.279951732446807, 0.08123756462906645, 0.12316663024406849, 0.5267338867884631, 0.05765246522062781, 0.20964532807501018, 0.0026205666009376273, 0.9786828671992428, 0.9859511832069243, 0.9420575657604289, 0.024155322198985356, 0.82588118448868, 0.06076717745401659, 0.08194361808193146, 0.018414296198186846, 0.010127862909002765, 0.0009207148099093423, 0.0009207148099093423, 0.17240335196534584, 0.06492176433841476, 0.08151288189156519, 0.4631085856140253, 0.21640588112804918, 0.0018033823427337432, 0.8646364506872187, 0.06288265095907045, 0.04401785567134932, 0.02515306038362818, 0.3080054050771808, 0.3049857442430908, 0.13828498076114754, 0.08780244579123253, 0.1566352273683099, 0.004181068847201549, 7.742720087410277e-05, 0.9849379559664608, 0.9866091219905815, 0.9960357003843375, 0.9951443523379722, 0.992042596526522, 0.9947113074320195, 0.9853420645490064, 0.2953383302698306, 0.5906766605396612, 0.5547355597986899, 0.27736777989934497, 0.10085109698687111, 0.03361703232895703, 0.004802433189851006, 0.8548331077934789, 0.9230883157309527, 0.07287539334718048, 0.006072949445598373, 0.06242596311086338, 0.08323461748115119, 0.04161730874057559, 0.020808654370287796, 0.7907288660709362, 0.08394350101333341, 0.052231511741629676, 0.0652893896770371, 0.12311713481955566, 0.6640863635721488, 0.009327055668148156, 0.9796245767724129, 0.2889539460153128, 0.1284239760068057, 0.16052997000850713, 0.2889539460153128, 0.09631798200510427, 0.03210599400170142, 0.9565895463648317, 0.006910360543975854, 0.9916367380605351, 0.238647111234252, 0.7067625986552847, 0.040052662025329006, 0.014185317800637356, 0.2847738372511557, 0.6585563054089522, 0.018016852781706734, 0.017210128030287028, 0.020705935286439082, 0.0008067247514197045, 0.9967940476795037, 0.9739981829253889, 0.3328214497853456, 0.0676208659881337, 0.16482586084607592, 0.26097427967295356, 0.17222189306352803, 0.001056576031064589, 0.6159428804057218, 0.35196736023184105, 0.9971563543129774, 0.8219388334900443, 0.02348396667114412, 0.14090380002686473, 0.02723441701060335, 0.9586514787732379, 0.00544688340212067, 0.20328648624285625, 0.0807933470965198, 0.01303118501556771, 0.693259042828202, 0.0026062370031135415, 0.005212474006227083, 0.9075549885285035, 0.10925544960064672, 0.8740435968051737, 0.9881342579119705, 0.6236528657678359, 0.06285462798671047, 0.915881722092067, 0.008979232569530069, 0.012998411603066161, 0.051993646412264644, 0.012998411603066161, 0.9098888122146312, 0.9937101539610875, 0.2817347951299743, 0.0310736906393354, 0.029002111263379707, 0.6276885509145751, 0.0310736906393354, 0.9890856900622982, 0.9958533418418185, 0.9227222013456163, 0.004820910142871559, 0.06363601388590458, 0.0028925460857229354, 0.004820910142871559, 0.9644500101586503, 0.960091963948453, 0.07823773017360691, 0.015647546034721384, 0.9075576700138402, 0.9919017421700203, 0.6294325280000063, 0.059473939653543896, 0.2775450517165382, 0.034693131464567276, 0.12483725908018731, 0.05498784030913012, 0.6227001375547438, 0.18131125723551014, 0.016347736308119767, 0.9798569302786431, 0.015074722004286816, 0.8130085240264939, 0.808844263597028, 0.029367822668491073, 0.9397703253917143, 0.24900465260323482, 0.05961571244807374, 0.32715939758089246, 0.06506836907442194, 0.2875367594294288, 0.01163233413620951, 0.9867536156534418, 0.010278683496390018, 0.45518179416357646, 0.2791446361997624, 0.1634630752521131, 0.041494472948613324, 0.06035559701616484, 0.7245174613403644, 0.16720617833982082, 0.10175544186429462, 0.11914079374060627, 0.3119136660161795, 0.2781656300209863, 0.020964689027316984, 0.0005113338787150484, 0.9905878695256511, 0.27352605816675946, 0.20141076357989152, 0.07040842370907224, 0.0921710274009673, 0.3575894488981972, 0.004267177194489227, 0.0004267177194489227, 0.10003551916723942, 0.8669744994494083, 0.027787644213122062, 0.58349515152729, 0.9861279943572263, 0.21493712362278114, 0.7049919137737097, 0.03870071836068168, 0.008147519654880354, 0.006295810642407546, 0.02671090250492025, 0.00013887817593546058, 0.019745732742152043, 0.019745732742152043, 0.9477951716232981, 0.32209524487007973, 0.1771006008771178, 0.38423580658134915, 0.04867677334049437, 0.04764109731197321, 0.019677844541901978, 0.026448575936733533, 0.965373021690774, 0.2421705888938013, 0.15623908960890406, 0.40014566838724874, 0.147993137657323, 0.04513573699812784, 0.008679949422716892, 0.7715768109828981, 0.08731618933778577, 0.2619485680133573, 0.6112133253645005, 0.19252856267208976, 0.2406607033401122, 0.1203303516700561, 0.28879284400813465, 0.1203303516700561, 0.04813214066802244, 0.9860495014585263, 0.2891051028165744, 0.06507993656477, 0.05131302690683789, 0.5882225035661904, 0.0012515372416301925, 0.003754611724890577, 0.8972250378955257, 0.9943049308821225, 0.015359817415627058, 0.007679908707813529, 0.015359817415627058, 0.038399543539067646, 0.929268953645437, 0.9546722625580135, 0.9497066578061414, 0.043832614975668066, 0.1650871582135317, 0.07421349314186287, 0.33320343859611906, 0.05603876012752911, 0.26504818979236744, 0.10601927591694697, 0.029625033384329286, 0.8591259681455493, 0.029625033384329286, 0.029625033384329286, 0.03810025460540162, 0.01905012730270081, 0.009525063651350404, 0.9239311741809892, 0.9519305169276145, 0.0026739621262011643, 0.04278339401921863, 0.0026739621262011643, 0.2110621207176752, 0.7719070403648309, 0.013514335413184475, 0.001987402266644776, 0.0015899218133158207, 0.0003974804533289552, 0.3226749595228392, 0.6453499190456784, 0.06011059660002297, 0.042936140428587836, 0.8243738962288865, 0.021468070214293918, 0.012880842128576351, 0.038642526385729056, 0.01954986670081833, 0.01954986670081833, 0.9383936016392798, 0.9533210083191089, 0.030312249176334762, 0.003368027686259418, 0.8958953645450052, 0.07072858141144778, 0.9868332183896523, 0.010498225727549493, 0.02910108748523222, 0.055963629779292735, 0.004477090382343419, 0.8707940793657949, 0.03805526824991906, 0.5209441982781046, 0.23611417708244173, 0.09382787413088035, 0.10367400907054064, 0.027221667186119607, 0.017826009008404566, 0.00019306146940510361, 0.00012870764627006908, 6.435382313503454e-05, 0.9222062739735736, 0.043180226875016825, 0.008224805119050823, 0.02056201279762706, 0.0041124025595254115, 0.0010281006398813529, 0.9649369716095878, 0.019768235013768766, 0.006177573441802739, 0.0024710293767210957, 0.0049420587534421915, 0.04936935076791682, 0.04319818192192722, 0.900990651514482, 0.4937719742674567, 0.09790306386337504, 0.11067302871511961, 0.17877950792442399, 0.11492968366570114, 0.0021283274752907618, 0.9563099317648113, 0.9809829735559588, 0.9686599845932792, 0.9984258886759894, 0.2294302366818178, 0.2540494629924238, 0.30564507557954496, 0.16578691760227246, 0.041119346071969626, 0.0036666932803030242, 0.00026190666287878746, 0.7013129107327053, 0.21073514470921922, 0.02900807659964961, 0.029861255323168717, 0.019623110640939443, 0.008531787235191062, 0.1553436974251184, 0.7767184871255919, 0.058253886534419395, 0.07973826612891637, 0.018761944971509733, 0.004690486242877433, 0.03283340370014203, 0.02110718809294845, 0.8419422805964993, 0.37419489346697477, 0.19997544670451087, 0.12354504037242033, 0.22656904014060814, 0.05800334946298378, 0.017589463375056454, 0.31486545309504355, 0.22290353749678876, 0.18676076953619164, 0.15171113377987563, 0.08785833200599306, 0.0356395801205312, 0.00011278348139408609, 4.337826207464849e-05, 3.4702609659718794e-05, 3.4702609659718794e-05, 1.7351304829859397e-05, 8.675652414929698e-06, 0.016853328678723453, 0.9606397346872368, 0.016853328678723453, 0.00808080407950045, 0.04040402039750225, 0.9212116650630514, 0.0161616081590009, 0.00808080407950045, 0.1998458685265745, 0.07288496381557423, 0.13401428830605583, 0.36442481907787116, 0.1504721833611855, 0.07758721954561128, 0.8726425259157368, 0.10498233958875008, 0.05249116979437504, 0.05249116979437504, 0.7873675469156256, 0.0902828246061539, 0.869636031132806, 0.029209149137285086, 0.006638442985746611, 0.003983065791447966, 0.001327688597149322, 0.054937789639150136, 0.044949100613850115, 0.01997737805060005, 0.8540329116631521, 0.024971722563250063, 0.9891191217409327, 0.2298474654658015, 0.052592216674378314, 0.292178981524324, 0.0818101148268107, 0.025322178398774743, 0.3175011599230987, 0.07671648764506626, 0.9096383535057857, 0.36483981243379343, 0.24709787516097756, 0.08370090098645755, 0.01762124231293843, 0.034842001846037356, 0.25150318573921215, 0.640206001999597, 0.987248689893304, 0.9751539066633904, 0.6653203135603345, 0.19276270709693902, 0.028047483836856207, 0.06051457118739885, 0.05031548615581477, 0.002549771257896019, 0.00016998475052640126, 0.2521440919642017, 0.16842057108033548, 0.04867646563015476, 0.4867646563015476, 0.03894117250412381, 0.004867646563015476, 0.9961989625650051, 0.9776391533712306, 0.1940058318176114, 0.09833172297604961, 0.15945684806926966, 0.4172454191145889, 0.12756547845541572, 0.21102174935865226, 0.6739110504719348, 0.044063414838549586, 0.037091921212977844, 0.03280177128954908, 0.0008937812340476589, 8.93781234047659e-05, 0.29255030640670854, 0.10820353798604289, 0.25247492196743343, 0.10820353798604289, 0.21640707597208578, 0.02003769221963757, 0.9782203300583041, 0.9740201062200479, 0.9828628754053154, 0.04200525535203948, 0.09314208795452233, 0.02374210085115275, 0.7999261671388388, 0.04017893990195081, 0.08565139546828927, 0.8565139546828927, 0.9823654878162976, 0.1339345524185924, 0.03502903678640109, 0.7933046566332012, 0.016484252605365218, 0.018544784181035872, 0.002060531575670652, 0.016288785273257146, 0.9610383311221716, 0.011885825587995363, 0.9746376982156197, 0.011885825587995363, 0.9899586041513633, 0.993022953798734, 0.2848847472709551, 0.009043960230823971, 0.10626653271218166, 0.038436830981001875, 0.21253306542436332, 0.35045345894442886, 0.12530290476006486, 0.008495112187123042, 0.16459279862550893, 0.004247556093561521, 0.0807035657776689, 0.616957522589811, 0.06598848622800083, 0.8715460445207657, 0.03361677600294382, 0.011205592000981273, 0.016185855112528506, 0.9633092628976, 0.10898121712012865, 0.036327072373376214, 0.835522664587653, 0.8006152215721827, 0.20531013671217976, 0.0061286607973785, 0.012257321594757, 0.7538252780775555, 0.0183859823921355, 0.9920060652148897, 0.2674629703953501, 0.06425900920649844, 0.10184446742162016, 0.14694701727976625, 0.39016130495568296, 0.02934090609051438, 0.9884443981135692, 0.37777796983945827, 0.6181821324645681, 0.15294187417092248, 0.24371225477642933, 0.4868027946172045, 0.03792461107490354, 0.07087550266457383, 0.007460579227849877, 0.2940795808469227, 0.1822912304601875, 0.1305256022981482, 0.3109113495131073, 0.07526658818652342, 0.0066691913582995425, 0.9849412752549709, 0.2581229816115448, 0.7227443485123255, 0.4103018681014298, 0.1552493554978383, 0.17742783485467234, 0.26614175228200854, 0.9975703549639702, 0.17916796008991645, 0.04948448421531026, 0.6194092334537111, 0.10067532995528639, 0.04948448421531026, 0.001706361524665871, 0.9940314973440575, 0.993848526783285, 0.9924430130372481, 0.9423644711742633, 0.1818842657885246, 0.3031404429808743, 0.3031404429808743, 0.1818842657885246, 0.21888791632123983, 0.7296263877374661, 0.9905680417594245, 0.9841936033626301, 0.9855948539895929, 0.9601245631111706, 0.03967456872360209, 0.9724619321561733, 0.22118880854209694, 0.05119503580499573, 0.19952937031690646, 0.14899068112479527, 0.1168296970934518, 0.2618822985409397, 0.3174239251003308, 0.04991966001577852, 0.08844461502795542, 0.39664425512537066, 0.13999209004424845, 0.007053865002229574, 0.9737794566878543, 0.013159181847133166, 0.9698005801328342, 0.9932494537379932, 0.26063010595847047, 0.15561431234883036, 0.47448044930901034, 0.07160167746111826, 0.024821914853187663, 0.013365646459408742, 0.06472161205463849, 0.9384633747922579, 0.0708552356212779, 0.9211180630766128, 0.9909635044546514, 0.9934635130735714, 0.19741955901850117, 0.07640516587014108, 0.026101143620234527, 0.08637105707059425, 0.10487914072857875, 0.508735017470753, 0.24518063774115306, 0.030269214535944822, 0.015134607267972411, 0.02421537162875586, 0.021188450175161376, 0.6628957983371916, 0.02623118672101381, 0.9443227219564972, 0.9838923010894332, 0.009838923010894332, 0.15928836229857934, 0.7964418114928967, 0.9915120335198766, 0.02894868619666401, 0.05789737239332802, 0.8974092720965843, 0.9948196941231233, 0.004575713431304922, 0.21963424470263623, 0.10066569548870827, 0.07778712833218367, 0.018302853725219687, 0.57653989234442, 0.2203050420985588, 0.03704244070683732, 0.14134615532872136, 0.135497348901326, 0.4435344874108153, 0.02047082249588378, 0.036084895799878954, 0.027063671849909217, 0.9291860668468831, 0.9710149266831215, 0.9918199541695367, 0.9825642087748641, 0.009728358502721426, 0.30576949679097476, 0.07713104423556119, 0.39254192155598105, 0.10054582552135656, 0.11431922627770677, 0.009641380529445149, 0.3601660753052353, 0.08786893526213516, 0.20631497253856643, 0.2874247589343835, 0.05600437632092131, 0.001931185390376597, 0.8976942575503346, 0.9731265286920888, 0.9719064318328671, 0.9880989283913328, 0.49250009212769874, 0.3283333947517992, 0.8996972224641149, 0.37932763160834965, 0.14932486990552568, 0.23000276170282394, 0.11677063286451062, 0.10120121514924253, 0.02335412657290212, 0.8683683612192962, 0.6660578997683533, 0.034156815372736064, 0.29033293066825655, 0.9862342129922759, 0.9918021796111346, 0.09908872400155858, 0.8988762820141386, 0.9862802796868447, 0.03698881951598903, 0.33289937564390126, 0.03698881951598903, 0.03698881951598903, 0.5548322927398355, 0.31791559398759967, 0.0696049183493742, 0.1323024783892685, 0.14717986551737902, 0.3285422990791072, 0.004427793788128129, 0.00017711175152512518, 0.473032753053773, 0.5504360456739459, 0.21628612832221275, 0.15674668850317666, 0.010935815476965812, 0.06277968144184078, 0.0016201208114023427, 0.0008100604057011714, 0.9752998272629325, 0.01231439175837036, 0.004925756703348144, 0.002462878351674072, 0.003694317527511108, 0.22295669179135674, 0.07587881414788303, 0.22161962017641607, 0.2510351957051108, 0.2232909596950919, 0.00401121484482201, 0.0003342679037351675, 0.2926887041812721, 0.07169494503498185, 0.13432953987323523, 0.19972163259744943, 0.2745680037878151, 0.026787122320762448, 0.0033803458907487303, 0.020282075344492383, 0.087888993159467, 0.8856506233761674, 0.28620342357986195, 0.04952120306216441, 0.19225878835899124, 0.14382996477613927, 0.2967630918798823, 0.030950751913852756, 0.00036412649310415006, 0.2657121104647954, 0.022045982964328005, 0.0626570042144059, 0.6126462634297466, 0.03364913189292169, 0.0023206297857187373, 0.9598985015680108, 0.02742567147337174, 0.33765103096932225, 0.20259061858159333, 0.08571141555375103, 0.06493289057102351, 0.30648324349523093, 0.0025973156228409405, 0.9865908560957646, 0.5029326384802091, 0.11206466623799392, 0.10017901981881275, 0.15383422365397348, 0.11580015511259373, 0.01426277570301741, 0.0003395898976908907, 0.9806146217862014, 0.9492100263811807, 0.2683495346761873, 0.7155987591364995, 0.9325086295832513, 0.04465306333365846, 0.960040861673657, 0.9891516967512697, 0.05751327510674689, 0.9202124017079503, 0.029903801506613086, 0.9569216482116187, 0.9842772985033055, 0.9899058567050961, 0.7617444522229564, 0.1021333343762623, 0.09362222317824045, 0.03830000039109836, 0.3276970093008799, 0.2369528455041178, 0.271003847006191, 0.06441606985186017, 0.08881343690746933, 0.010882278830559484, 0.0001755206262993465, 0.28653796193089787, 0.01916410220811001, 0.16093227998858647, 0.06234105537577955, 0.22350422816205412, 0.2470552935262375, 0.9949832476889217, 0.01159775374668666, 0.01739663062002999, 0.028994384366716648, 0.22615619806038986, 0.04639101498674664, 0.666870840434483, 0.20646381903218525, 0.05246211795080117, 0.3756964575831568, 0.13877076361179663, 0.2216947565017727, 0.0016923263855097152, 0.9865489987009922, 0.03504078866623965, 0.24528552066367756, 0.7008157733247931, 0.5056466153601162, 0.4836619799096764, 0.6833838200823696, 0.4425867253090939, 0.3316211774650271, 0.12159443173717661, 0.05824628373424195, 0.04379100163961256, 0.0021257767786219688, 0.48619888740084816, 0.28361601765049477, 0.020258286975035338, 0.18232458277531804, 0.020258286975035338, 0.9952466917547961, 0.25807080463297283, 0.5161416092659457, 0.1300178314663235, 0.8299104293257191, 0.007051814588003987, 0.017188798058259718, 0.014103629176007973, 0.0017629536470009967, 0.311296166506551, 0.023742927953889482, 0.47222045597180196, 0.179391011207165, 0.0013190515529938602, 0.010552412423950882, 0.962579802980671, 0.9855084400948808, 0.9813700460342022, 0.005452055811301123, 0.010904111622602247, 0.35458665157391683, 0.5318799773608752, 0.869224323904123, 0.046190525677183326, 0.0013997128993085857, 0.034992822482714646, 0.006998564496542929, 0.02379511928824596, 0.8874179781616434, 0.10961704141923596, 0.08038583037410638, 0.019835464637766507, 0.7234724733669573, 0.06681419667458192, 0.0010439718230403426, 0.9172755622488362, 0.09012671220347021, 0.042917482001652484, 0.16523230570636208, 0.2489213956095844, 0.06437622300247872, 0.388403212114955, 0.30993653357056444, 0.1624853842039713, 0.40418962120489654, 0.04915038312219772, 0.04163326570350866, 0.032381428880506734, 0.02195983550699607, 0.02195983550699607, 0.04391967101399214, 0.9003532557868389, 0.060649582921078304, 0.11523420755004878, 0.7732821822437483, 0.048519666336862645, 0.0030324791460539153, 0.12665575179757416, 0.027385027415691706, 0.292335167662509, 0.10132460143805931, 0.45116832667352086, 0.0006846256853922926, 0.7960392379558358, 0.020255055565429496, 0.006751685188476499, 0.027006740753905994, 0.9249808708212802, 0.013503370376952997, 0.027603555606087796, 0.013801777803043898, 0.945421779508507, 0.1740968447701367, 0.7593881779300141, 0.030009844246907127, 0.026233771129746626, 0.009340812447712813, 0.0009937034518843419, 0.0001987406903768684, 0.97730967499126, 0.9500159580689364, 0.27610030742240166, 0.6994541121367509, 0.018406687161493445, 0.9945446291716518, 0.9813559353709054, 0.9516393274546069, 0.9875216696256514, 0.9730470393278696, 0.006779545598494874, 0.16270909436387698, 0.8203250174178798, 0.006779545598494874, 0.9851830718999907, 0.993498822717792, 0.0216547993152386, 0.974465969185737, 0.8938114738969367, 0.08314525338576156, 0.061606719460784956, 0.030803359730392478, 0.8932974321813819, 0.21195352025100542, 0.039741285047063514, 0.15454944184969144, 0.5931754768135776, 0.9910280944193169, 0.5970159860117371, 0.27775610044396326, 0.0851359694847397, 0.00851359694847397, 0.029797589319658896, 0.0010641996185592462, 0.9929238227922976, 0.9952995028605865, 0.9800547503174328, 0.2395077438744396, 0.08587002445110722, 0.35229918139670474, 0.11186311293360454, 0.15224523254034145, 0.05755612449695835, 0.01907677485324848, 0.9729155175156724, 0.9306508604232503, 0.062043390694883356, 0.5073402771636515, 0.1317216521131633, 0.16359949486201106, 0.36809886343952486, 0.2514139296041199, 0.06495862295991615, 0.019246999395530713, 0.9932220486772104, 0.19343993614268704, 0.08244980884770267, 0.13768061028734965, 0.28513892226497173, 0.2817035135629841, 0.019291141172699665, 0.1047704958009616, 0.8606147869364703, 0.003741803421462914, 0.022450820528777483, 0.008730874650080133, 0.9848640178513052, 0.22668453635212132, 0.6774329785783048, 0.026992493924009823, 0.03957152021869401, 0.0267304308762039, 0.002620630478059206, 0.17403820888401345, 0.8121783081253962, 0.024910278852060402, 0.9715008752303557, 0.49252915337133496, 0.9896863776347798, 0.8651267915208263, 0.9765612218358631, 0.9814218579713236, 0.26480088064162716, 0.04912972313791196, 0.13989480486727474, 0.3293356864583759, 0.1898572351770157, 0.02664662949852852, 0.27987765360781197, 0.11548502956083335, 0.12368888411979967, 0.1956303779445811, 0.277037857798939, 0.007572788823661204, 0.00031553286765255016, 0.00031553286765255016, 0.31732608412283236, 0.0456128965486052, 0.12352583467229925, 0.1865982131533849, 0.304231472673472, 0.022479082988068593, 0.00021824352415600575, 0.6238876818583621, 0.9486358558103996, 0.4460423723116031, 0.19194166404220592, 0.14549314747683226, 0.0942631659709054, 0.10758296116244638, 0.014002861611620005, 0.3582860507450431, 0.11528296158819143, 0.1124128463619294, 0.1439841138508117, 0.22434734018614846, 0.044008433469351085, 0.0009567050754206757, 0.19944371601893743, 0.16222694604411178, 0.09924471993286839, 0.5191262273411578, 0.019085523064013152, 0.0009542761532006576, 0.7060454466304483, 0.010537991740752959, 0.26344979351882397, 0.010537991740752959, 0.08656573156033566, 0.041004820212790574, 0.7175843537238351, 0.15262905301427604, 0.00691252230448611, 0.9815781672370276, 0.27158383098570504, 0.17458960563366754, 0.14225819718298838, 0.31038152112652007, 0.09052794366190169, 0.988153577877178, 0.9358524882105211, 0.25184805087335466, 0.042492881011553664, 0.07876729163117265, 0.1651349359635988, 0.4494572211059457, 0.011745999629209957, 0.996488128317578, 0.2983239727292554, 0.10845635641313356, 0.1749652161982867, 0.18931567557101686, 0.22022435729689716, 0.008279111176575081, 0.0002759703725525027, 0.7611071595199704, 0.1771698376079741, 0.009039277428978271, 0.001807855485795654, 0.04700424263068701, 0.003615710971591308, 0.1959580951422606, 0.6858533329979121, 0.25225374459981964, 0.09369851769199461, 0.02660021714381984, 0.03855537091632314, 0.11805714350347009, 0.4705847403701611, 0.80456058566679, 0.5112449326788803, 0.04126445930713138, 0.20979719837204688, 0.07514475221193398, 0.14420842621018545, 0.018243234641047556, 0.14594351683692883, 0.4378305505107865, 0.29188703367385765, 0.9905094120723987, 0.4458654622473198, 0.008574335812448458, 0.008574335812448458, 0.43729112643487134, 0.09431769393693304, 0.1419682586721584, 0.024477285977958344, 0.827332266054992, 0.0048954571955916685, 0.9920665104646349, 0.15998915116853388, 0.19918649320482468, 0.5543624087989698, 0.005599620290898685, 0.04799674535056016, 0.032797775989549444, 0.24263630061964442, 0.05097401273521942, 0.6606232050484436, 0.03262336815054043, 0.010194802547043883, 0.0020389605094087767, 0.9482739892362222, 0.08587021853116716, 0.017174043706233433, 0.8758762290179051, 0.022898724941644577, 0.9965333009784587, 0.6312883733891903, 0.06569590317719189, 0.8540467413034944, 0.06569590317719189, 0.9933661966056111, 0.0219699646196441, 0.05492491154911026, 0.9227385140250522, 0.12926426384289325, 0.12926426384289325, 0.12926426384289325, 0.517057055371573, 0.7219561095623308, 0.2533179331797652, 0.01266589665898826, 0.9838956268166636, 0.9857297645860025, 0.2988209405677585, 0.6723471162774566, 0.452253283193639, 0.5276288303925789, 0.9971883333006484, 0.5464674296991934, 0.10879669736738487, 0.10432560021530056, 0.14406868601160555, 0.09389304019377051, 0.0019871542898152487, 0.21852267337484557, 0.07341899343546399, 0.10174600665072174, 0.1549314192181445, 0.42663950516041277, 0.024280297041649506, 0.9812422541193736, 0.019624845082387474, 0.02608690668535155, 0.05776386480327843, 0.09689422483130575, 0.8068307567683729, 0.014906803820200884, 0.9827045515021002, 0.04454595234194031, 0.3563676187355225, 0.579097380445224, 0.9836480129048603, 0.9913824213937061, 0.4868893432449617, 0.9393592673720356, 0.479211904611009, 0.05469463159203504, 0.14470533325177484, 0.04165485187472867, 0.2731109418569167, 0.006700997910282439, 0.9860097043670528, 0.00801633905989474, 0.9923336363542903, 0.4910750076824642, 0.3887994376069949, 0.07543774988817183, 0.013450633285359484, 0.029756353824686787, 0.00126892766843014, 6.3446383421507e-05, 0.5614252396142748, 0.13583304258103907, 0.17769014317758192, 0.07588287269437768, 0.038886596683239814, 0.009721649170809954, 0.000540091620600553, 0.4791725842312631, 0.018335442520548695, 0.03667088504109739, 0.9351075685479834, 0.5763628575142321, 0.41626206376027874, 0.8648222024413361, 0.9808959298177892, 0.9940112769684617, 0.2668080405909657, 0.5532568260437902, 0.12345611056025563, 0.03749596746354871, 0.017089998775903156, 0.0015304476515734168, 0.015433076811019807, 0.9722838390942479, 0.9834495127765769, 0.028008531575745208, 0.00933617719191507, 0.9616262507672522, 0.9811816531525562, 0.03499566365769622, 0.9417014947889165, 0.01060474656293825, 0.007423322594056775, 0.0031814239688814747, 0.001060474656293825, 0.2710236966170882, 0.09740448112972275, 0.30485893743057085, 0.1734483304327519, 0.1291891012878428, 0.023753022591283264, 0.7989032352079655, 0.9948888737176665, 0.9875178134041069, 0.7375474118712555, 0.35350522552478997, 0.057214718582046936, 0.09808237471208046, 0.05925810138854861, 0.4025464128808302, 0.028607359291023468, 0.9551078013567009, 0.024333956722463718, 0.018250467541847788, 0.4718912525175608, 0.08982673737929919, 0.2094133682630678, 0.11860192852516484, 0.10208081117525718, 0.007658796122473744, 0.00021882274635639268, 0.00010941137317819634, 0.1045509498340852, 0.8364075986726816, 0.009641240658704486, 0.028923721976113453, 0.9448415845530396, 0.01928248131740897, 0.4644053858171719, 0.2985169898223554, 0.1412515055005368, 0.05337992940427263, 0.041061484157132795, 0.0012318445247139838, 0.00041061484157132793, 0.9901331870872428, 0.9719168933853946, 0.9898803056463872, 0.16826053046679368, 0.2692168487468699, 0.549651066191526, 0.011217368697786246, 0.45878737624271815, 0.08943050725384598, 0.09909334045216672, 0.11141838279696357, 0.2305275920170804, 0.010550236247146108, 0.1753476434685415, 0.14220633628376564, 0.12653953652368977, 0.15425772071459323, 0.39227256322343823, 0.008435969101579318, 0.9937685768125657, 0.9968747240687804, 0.9921379458419317, 0.17662998187613987, 0.7065199275045595, 0.9315863197102303, 0.005361647883224347, 0.04557400700740695, 0.0040212359124182605, 0.012063707737254781, 0.1272131591580508, 0.1272131591580508, 0.6360657957902539, 0.22468247188378304, 0.13146709925100694, 0.07576070126329214, 0.11846893972054015, 0.40368569741764, 0.04567924634992614, 0.0003713759865847654, 0.014371178807816402, 0.014371178807816402, 0.9484978013158826, 0.3436989798870217, 0.5681554565479338, 0.0508534204934879, 0.007014264895653504, 0.014028529791307007, 0.015782096015220383, 0.03321952699066915, 0.49829290486003724, 0.431853850878699, 0.39500264586105915, 0.0940482490145379, 0.1833940855783489, 0.1473422567894427, 0.1739892606768951, 0.004702412450726895, 0.9766492829174246, 0.9866937973906111, 0.11409882905045012, 0.7326461349989479, 0.050905631422508514, 0.0923761673658452, 0.007899149703492701, 0.0019747874258731752, 0.3003898726251797, 0.07322003145238755, 0.4749914860885654, 0.06664900298871174, 0.08166849661997072, 0.001877436703907373, 0.9923895541299596, 0.7373413195824591, 0.08639176879799954, 0.08022092816957099, 0.10798971099749942, 0.7219883535261389, 0.003085420314214269, 0.3723651276838422, 0.04078284731775415, 0.10993637103046772, 0.0336901782190143, 0.12766804377731733, 0.31385060761923844, 0.029372337550839973, 0.9692871391777191, 0.04067758906827311, 0.006779598178045519, 0.027118392712182075, 0.9220253522141906, 0.9885784661157927, 0.9885062626856485, 0.9704495757263836, 0.02821074348041813, 0.5690708404464112, 0.996086843873802, 0.1443325757741024, 0.08659954546446146, 0.7216628788705121, 0.9973420040549159, 0.9885198915358981, 0.04315847064266192, 0.05274924189658679, 0.858374027226276, 0.009590771253924872, 0.014386156880887306, 0.019181542507849744, 0.9904685291844445, 0.9762423644243858, 0.09560480560849192, 0.026836436662032823, 0.21636877058763962, 0.6474290344715418, 0.008386386456885256, 0.003354554582754103, 0.5283950744664312, 0.3179284328092304, 0.11736610370060375, 0.006437803156573201, 0.028227290763436344, 0.0009904312548574157, 0.0004952156274287079, 0.3572842220236479, 0.10733229715113703, 0.16834997292883822, 0.05770948853674149, 0.23230825958739248, 0.07682345926228644, 0.2846905018555712, 0.08868862986154867, 0.12416408180616814, 0.17560348712586638, 0.2926724785431106, 0.03458856564600398, 0.15939405977165183, 0.03733112031631907, 0.1274661279221684, 0.566597990590448, 0.10560777457906052, 0.0024559947576525704, 0.00024559947576525704, 0.00024559947576525704, 0.00024559947576525704, 0.0096247573409069, 0.026468082687493975, 0.00481237867045345, 0.00481237867045345, 0.9552571660850099, 0.13119526902499812, 0.05185336823368973, 0.253644186781663, 0.14868797156166452, 0.4117032489879702, 0.0024989575052380593, 0.03682860138625319, 0.957543636042583, 0.179989082232968, 0.8063510884036967, 0.0043197379735912325, 0.0043197379735912325, 0.0043197379735912325, 0.3150579837582869, 0.6489817150470102, 0.01697917277739271, 0.016350314526378164, 0.0018865747530436342, 0.0006288582510145448, 0.19106396288625363, 0.03821279257725073, 0.7451494552563892, 0.34204777346122417, 0.5073784549078612, 0.03006012389938854, 0.07606122259390737, 0.044179273003646796, 0.0004554564227180082, 0.18839061395432846, 0.1291821352829681, 0.032295533820742024, 0.02691294485061835, 0.07535624558173139, 0.5436414859824907, 0.9857993253498205, 0.841597165028567, 0.9081470406206045, 0.028678327598545404, 0.028678327598545404, 0.033458048864969635, 0.24633023842518648, 0.7389907152755595, 0.032203274330615886, 0.9338949555878606, 0.14467050287414165, 0.04822350095804722, 0.7233525143707084, 0.009821283967125036, 0.009821283967125036, 0.9821283967125037, 0.007220149637590232, 0.9891605003498617, 0.9801811444855636, 0.28299659668849175, 0.5961415745317374, 0.09414258643607112, 0.010807910225289133, 0.015358609267516136, 0.0005688373802783754, 0.11216525050346735, 0.8226557869766141, 0.04181308154862984, 0.013273994142422172, 0.009623645753256074, 0.0006636997071211085, 0.6086126260683049, 0.2836933488447363, 0.03647485913718038, 0.5937296515107695, 0.009118714784295094, 0.07497609933753745, 0.0020263810631766877, 0.17498994341665994, 0.02987633180284438, 0.6935577025660302, 0.03841242660365706, 0.05761863990548559, 0.00640207110060951, 0.041975061805299065, 0.944438890619229, 0.1571372390825679, 0.1571372390825679, 0.6843073314886022, 0.9958236397931742, 0.9293207357627408, 0.12599257132635816, 0.7623618298899977, 0.08755415973526584, 0.01494827117431368, 0.00783004680559288, 0.9885889231958827, 0.24112412832265842, 0.03722327881481863, 0.17743096235063543, 0.06865626981399879, 0.10174362876050425, 0.37388715609551154, 0.017829911451736062, 0.9806451298454834, 0.9240419262608937, 0.04220523659399167, 0.9285152050678167, 0.9813694144753432, 0.5310658321884534, 0.4345084081541891, 0.0852334223996969, 0.07616603703802702, 0.6433309914104782, 0.07888625264652799, 0.0698188672848581, 0.046243665344516405, 0.11098592860300309, 0.8665439810157549, 0.007114482602756609, 0.007114482602756609, 0.007114482602756609, 0.9702796139513505, 0.014916787733238334, 0.32816933013124333, 0.6414218725292484, 0.23579734201941327, 0.1288631242175059, 0.3419923832005701, 0.1554734825645243, 0.11358680738866199, 0.02439282848476689, 0.633347724401028, 0.38371386328390483, 0.10521186573913519, 0.08664506590281722, 0.24136839787213368, 0.13306206549361216, 0.04951146623018127, 0.977536654054777, 0.021723036756772823, 0.21742766633967445, 0.1388421135951978, 0.15006862113012304, 0.4664728436960771, 0.021765677873834637, 0.005269585169454702, 0.39130219404358074, 0.5217362587247744, 0.009983280557613399, 0.14475756808539428, 0.8236206460031054, 0.019966561115226798, 0.08177116407335308, 0.03785702040433013, 0.6178265729986677, 0.18777082120547745, 0.033314177955810514, 0.04088558203667654, 0.9899733048291689, 0.9796395702683826, 0.03027845233014222, 0.014248683449478692, 0.005343256293554509, 0.012467598018293854, 0.936850936803224, 0.10775461597702013, 0.8755062548132886, 0.5618407086765782, 0.9904785547511671, 0.011128972525294012, 0.9834577573750977, 0.007231307039522777, 0.007231307039522777, 0.10796667700490423, 0.03239000310147127, 0.016195001550735635, 0.8367417467880078, 0.05733181348466295, 0.3153249741656462, 0.028665906742331475, 0.028665906742331475, 0.544652228104298, 0.21255753920223847, 0.01783699629669134, 0.06986156882870775, 0.21850320463446893, 0.4815989000106662, 0.8773481220444483, 0.09802192898376233, 0.1012893266165544, 0.04329301863449503, 0.6845198040699403, 0.0628974044312475, 0.009802192898376232, 0.995158384939803, 0.5694010798443531, 0.24756568688884917, 0.05511839821298906, 0.07707233648426437, 0.04904603230816823, 0.0014013152088048065, 0.040109255820929134, 0.9390284598076349, 0.004718735978932839, 0.011796839947332098, 0.0023593679894664196, 0.8392587132597801, 0.06887533513074183, 0.03571313673445873, 0.05356970510168809, 0.06363425504510327, 0.002272651965896545, 0.03636243145434472, 0.00909060786358618, 0.022726519658965452, 0.8647440730236355, 0.04766422338439982, 0.9056202443035967, 0.9855607817335131, 0.7341730398963703, 0.8126831076903397, 0.20891646026219296, 0.02632018397004006, 0.2922637095006531, 0.029610206966295065, 0.1332459313483278, 0.30926216164797066, 0.018655875866041997, 0.018655875866041997, 0.9327937933020998, 0.1115563133618718, 0.8715336981396234, 0.013944539170233975, 0.02387126941563374, 0.07957089805211247, 0.02387126941563374, 0.8673227887680258, 0.04125375238587494, 0.017453510624793243, 0.006346731136288452, 0.014280145056649018, 0.9202760147618255, 0.9280641839042926, 0.05171071089502802, 0.9307927961105044, 0.07335856426144666, 0.8912285147507669, 0.014047384645808935, 0.015608205162009928, 0.004682461548602979, 0.0015608205162009928, 0.8696284555260054, 0.2586695722738629, 0.007726493717271229, 0.15654548140210403, 0.021163874095134236, 0.08331175834275065, 0.4723239202818847, 0.49329070528925845, 0.49329070528925845, 0.9973351173528345, 0.820767041742004, 0.8057879231565738, 0.3542050020000118, 0.39341684606306293, 0.06985421227126332, 0.1485375814838759, 0.0322004547272738, 0.0015580865190616354, 0.18598432118284472, 0.08848344977486855, 0.4666515695133195, 0.1561141120231757, 0.08904703862693777, 0.01239895474552298, 0.2937675176529116, 0.06148622462502801, 0.39624455869462494, 0.054654421888913784, 0.17079506840285558, 0.013663605472228446, 0.16500360217424753, 0.7700168101464885, 0.05546713710897984, 0.9429413308526572, 0.9712217825402091, 0.20231339595826184, 0.07052823787088343, 0.27979512206993656, 0.2999933498169971, 0.14469877910599088, 0.0026489479012538376, 0.3134431028504816, 0.4701646542757224, 0.298624846126678, 0.03675382721559114, 0.16137227261845483, 0.1544809300155315, 0.23545420559988073, 0.11313287439799147, 0.005342675114699535, 0.0908254769498921, 0.8815413939254233, 0.02137070045879814, 0.30366532418118813, 0.12303283999450264, 0.09999298231762949, 0.448816427545489, 0.021657466216260763, 0.0027647829212247782, 0.3640818638620714, 0.07311480052967828, 0.4633090931523491, 0.06863838417071838, 0.02238208179479947, 0.008206763324759806, 0.08477373956745064, 0.8477373956745065, 0.017029559383971007, 0.9706848848863474, 0.9948155385946323, 0.30219854047301853, 0.10900559269880218, 0.17810735235607855, 0.08175419452410164, 0.31825740011168135, 0.009732642205250195, 0.6502172768441475, 0.11822132306257228, 0.007388832691410768, 0.022166498074232304, 0.19580406632238534, 0.239171580309844, 0.012729019680355842, 0.12595029999509993, 0.022108297339565413, 0.07905391169905208, 0.520549910086131, 0.20212924278262573, 0.11049290849328477, 0.18228021730479016, 0.2090764016998682, 0.2494360868381339, 0.04598357569031911, 0.0003308170912972598, 0.046814804547727025, 0.9362960909545406, 0.00698728426085478, 0.00698728426085478, 0.001397456852170956, 0.000698728426085478, 0.03559984623333808, 0.9611958483001282, 0.9880877575891377, 0.0254573767252304, 0.9673803155587551, 0.8907410729754047, 0.03687745867393457, 0.9403751961853315, 0.015804625145971956, 0.005268208381990653, 0.01388200528070268, 0.9717403696491876, 0.2286731527944427, 0.42706538581245235, 0.059726503834895535, 0.26417492080819177, 0.01837738579535247, 0.0018795053654337755, 0.1406998220445629, 0.7361251559143074, 0.028547789980056245, 0.053425149819819544, 0.036296475831785795, 0.004486081282580267, 0.1283437050567201, 0.021390617509453348, 0.855624700378134, 0.1274483797901409, 0.0424827932633803, 0.8496558652676061, 0.23216043936103625, 0.09612256787579745, 0.10834153836848358, 0.10019555804002617, 0.41625959478417374, 0.04724668590505299, 0.9783043094478614, 0.009498100091726809, 0.009498100091726809, 0.009498100091726809, 0.9798516481238758, 0.3305501020273549, 0.04985951259630493, 0.1255721057981013, 0.232677725449423, 0.2382176712934569, 0.022159783376135524, 0.10191620538971842, 0.02522678351230654, 0.33400261370293854, 0.1281520602425172, 0.38445618072755167, 0.02522678351230654, 0.22560922407492773, 0.048532216806815846, 0.34759560685962704, 0.1473455591342067, 0.2037478651529386, 0.02667085788482673, 0.025208213638803604, 0.012604106819401802, 0.9579121182745369, 0.3357437447817687, 0.06827101217010895, 0.13729019981605473, 0.24109954708841216, 0.20967617710326614, 0.007481754758368105, 0.0001870438689592026, 0.995421980410001, 0.3351614500663733, 0.39629721375899835, 0.09839602203783436, 0.033642757534994835, 0.1325814046943614, 0.003436625769703774, 0.00018087504051072495, 0.06684646612603085, 0.8625050976539257, 0.04920642645388382, 0.015783193390868394, 0.003713692562557269, 0.0018568462812786346, 0.9096251457547695, 0.026911986560791995, 0.010764794624316797, 0.04844157580942559, 0.01775260274000823, 0.9657415890564478, 0.007101041096003293, 0.007101041096003293, 0.07764687847520857, 0.9005533847366806, 0.010904404241070453, 0.006204229999229741, 0.004324160302493455, 0.0001880069696736285, 0.0001880069696736285, 0.9529575244152978, 0.016430302145091343, 0.0032860604290182683, 0.01971636257410961, 0.006572120858036537, 0.9926494841752771, 0.6445801573809169, 0.9875884659179669, 0.2052676085391845, 0.02987262494333246, 0.11180896764504436, 0.6087614211666251, 0.04374205795273682, 0.00021337589245237472, 0.4533294216672322, 0.518090767619694, 0.7552952965402793, 0.018701141504722192, 0.037402283009444384, 0.16296709025543624, 0.7079717855359116, 0.06946138273182528, 0.97687099376246, 0.840204394387849, 0.003275650660381478, 0.1015451704718258, 0.05241041056610365, 0.003275650660381478, 0.9862689209172686, 0.2762130874837395, 0.19888249402564823, 0.14729096906460493, 0.171102442123548, 0.20171719319933193, 0.004535518677893916, 0.0001133879669473479, 0.12990233774981713, 0.043300779249939046, 0.8227148057488419, 0.5982910129176261, 0.1579095952126849, 0.11720619023550216, 0.068165943275041, 0.05296346671729805, 0.005394427165650727, 0.9875055317878108, 0.7787688931959096, 0.9682623732665616, 0.7149645774125437, 0.30019434731240857, 0.6040318299077347, 0.03618847714364796, 0.023801817181728187, 0.017244173672476545, 0.01797280072906006, 0.00024287568552783866, 0.9779736984293151, 0.979333744927119, 0.9836563601674758, 0.010691916958342129, 0.0461610744781933, 0.9232214895638661, 0.0690611511225671, 0.9302943298275216, 0.9725931637026413, 0.017845746122984243, 0.008922873061492122, 0.9729881540720825, 0.9864261160546146, 0.2743786012235038, 0.0220113095500984, 0.5276176279285962, 0.11790216303567559, 0.006102145221809457, 0.05165030062745862, 0.037040172690096684, 0.9506977657124817, 0.9650400439108557, 0.11723998865450687, 0.7034399319270412, 0.010960456183853374, 0.9754806003629503, 0.010960456183853374, 0.9905375535518166, 0.28183145592819064, 0.11884458984923703, 0.04414227622971661, 0.5297073147565994, 0.020373358259869204, 0.2744920979352405, 0.06862302448381012, 0.617607220354291, 0.930804258261474, 0.9893313082889524, 0.2757392780941273, 0.11271559404771485, 0.22447597119672025, 0.30407737942250757, 0.05062649563160074, 0.032158968923218074, 0.129591604144483, 0.21598600690747166, 0.5615636179594263, 0.997296184556896, 0.9875326187242119, 0.9731033008456171, 0.05205530164502654, 0.006506912705628317, 0.039041476233769905, 0.8849401279654511, 0.013013825411256634, 0.20648780969046315, 0.08616895135159712, 0.12190722610571575, 0.25016792327883036, 0.30298115152658345, 0.03216444727870676, 0.21387314920049072, 0.19992490033958915, 0.0430071006544465, 0.07671536873495863, 0.44808749465646286, 0.01801648811199786, 0.19532689351477694, 0.025257787954497016, 0.023573935424197216, 0.7493143759834116, 0.005051557590899403, 0.29848451608605203, 0.035068941809843227, 0.410067512753735, 0.19965386189467565, 0.054595966226687755, 0.0019925535119229105, 0.0003985107023845821, 0.27638413891329383, 0.04285025409508431, 0.003213769057131323, 0.01660447346184517, 0.07123854743307767, 0.5891909938074092, 0.23291282145882458, 0.06618287822873704, 0.28764097076335715, 0.05090990632979772, 0.059819139937512325, 0.3003684473458066, 0.14248141805135925, 0.05797038087383734, 0.04260473775065154, 0.026540656303684563, 0.0873047904726466, 0.642563257878679, 0.9809928771589868, 0.9716770161224897, 0.987156525318954, 0.14647616875816596, 0.017378528496731552, 0.08440999555555326, 0.7224502560784117, 0.024826469281045076, 0.0024826469281045076, 0.01325848101901778, 0.030936455711041488, 0.0029463291153372846, 0.9516643042539429, 0.24969170367772764, 0.07745538563064204, 0.14709728937749125, 0.0995369648674479, 0.4110570904082319, 0.01528724716394251, 0.42930502438838614, 0.030664644599170437, 0.03833080574896305, 0.37564189633983786, 0.10732625609709653, 0.007666161149792609, 0.3096132534854698, 0.17429029830074502, 0.3814076311052889, 0.09848110351139658, 0.03495252594649087, 0.0007084971475640041, 0.2991946822849332, 0.16479082110224835, 0.035061876830265605, 0.014024750732106241, 0.4873600879406919, 0.965267740413186, 0.8530179515620531, 0.3130544810039948, 0.08156506328888201, 0.12351281012316419, 0.3130544810039948, 0.16157650632464246, 0.006602886075766639, 0.2948497881075954, 0.02268075293135349, 0.00756025097711783, 0.06048200781694264, 0.6123803291465443, 0.00756025097711783, 0.01056801213825845, 0.0211360242765169, 0.961689104581519, 0.9753817749261188, 0.8855879218732094, 0.05198227734035913, 0.9356809921264643, 0.5271497014688948, 0.11084161935647759, 0.10725556696553272, 0.22689931491796586, 0.026406385787866717, 0.0013040190512526775, 0.21278193248269753, 0.029462113728373502, 0.12930594358563927, 0.40837763195717713, 0.1775910744182514, 0.04173799444852913, 0.21307488508971992, 0.042614977017943985, 0.2983048391256079, 0.42614977017943984, 0.8082153601565556, 0.05471477293129487, 0.12506233812867398, 0.0031265584532168497, 0.00937967535965055], \"Term\": [\",\", \",\", \",\", \",\", \",\", \",\", \",\", \",\", \",\", \",\", \",\", \",\", \",\", \"02\", \"1\", \"1\", \"1\", \"1\", \"1\", \"1\", \"1\", \"1007\", \"12th\", \"160000\", \"161\", \"161\", \"16th\", \"170k\", \"171\", \"1984\", \"1986\", \"19yearold\", \"2\", \"2\", \"2\", \"2\", \"2\", \"2\", \"20000\", \"2020\", \"2020\", \"2020\", \"2020\", \"2020\", \"2020\", \"225\", \"24\", \"24\", \"24\", \"24\", \"24\", \"24\", \"250\", \"3\", \"3\", \"3\", \"3\", \"3\", \"3\", \"37\", \"370\", \"40000\", \"4g\", \"549\", \"549\", \"56\", \"56\", \"66\", \"810\", \"830pm\", \"8th\", \"911s\", \"921\", \"944\", \"944\", \"able\", \"able\", \"able\", \"able\", \"able\", \"able\", \"abo\", \"abo\", \"abo\", \"abo\", \"abo\", \"abo\", \"abpoli\", \"abpoli\", \"abrogation\", \"abysmal\", \"accepted\", \"accepted\", \"across\", \"across\", \"across\", \"across\", \"across\", \"across\", \"active\", \"active\", \"active\", \"active\", \"active\", \"active\", \"actuall\", \"actually\", \"actually\", \"actually\", \"actually\", \"actually\", \"additionally\", \"adriandix\", \"adverse\", \"ag\", \"ag\", \"ag\", \"aga\", \"aga\", \"aged\", \"aged\", \"aged\", \"aged\", \"aged\", \"ai\", \"ai\", \"ai\", \"ai\", \"ai\", \"ai\", \"airbnb\", \"alberta\", \"alcoholawareness\", \"alcoholawareness\", \"alert\", \"alert\", \"alert\", \"alert\", \"alert\", \"alert\", \"alert\", \"american\", \"american\", \"american\", \"american\", \"american\", \"american\", \"amount\", \"amount\", \"amount\", \"amount\", \"amp\", \"amp\", \"amp\", \"amp\", \"amp\", \"amp\", \"amp\", \"analyst\", \"anderson\", \"andersoncooper\", \"annastaciamp\", \"apartment\", \"approaching\", \"approves\", \"arabic\", \"arabic\", \"architect\", \"architect\", \"archive\", \"archive\", \"archive\", \"archive\", \"arrested\", \"arrested\", \"arrested\", \"aside\", \"aside\", \"aside\", \"aside\", \"aside\", \"ask\", \"ask\", \"ask\", \"ask\", \"ask\", \"ask\", \"atrupar\", \"attacking\", \"attacking\", \"attacking\", \"attacking\", \"attacking\", \"attacking\", \"attempted\", \"auckland\", \"auckland\", \"aug\", \"aug\", \"aug\", \"aug\", \"august\", \"august\", \"august\", \"august\", \"august\", \"august\", \"authorize\", \"bac\", \"back\", \"back\", \"back\", \"back\", \"back\", \"back\", \"backtoschool2020\", \"backtoschool2020\", \"ballot\", \"barely\", \"barely\", \"barely\", \"bat\", \"bat\", \"bat\", \"battle\", \"battle\", \"battle\", \"battle\", \"battle\", \"battle\", \"bbcbreaking\", \"bbnaijalockdown\", \"bbnaijalockdown\", \"bcpoli\", \"beep\", \"behaviour\", \"behaviour\", \"behaviour\", \"besafe\", \"besafe\", \"besafe\", \"besafe\", \"bi\", \"biden\", \"biden\", \"biden\", \"biden\", \"biden\", \"bigdata\", \"bitcoin\", \"blood\", \"blood\", \"blood\", \"blood\", \"blood\", \"boomer\", \"booming\", \"bored\", \"bored\", \"bored\", \"breakdown\", \"british\", \"british\", \"british\", \"british\", \"brother\", \"brother\", \"brother\", \"brother\", \"brother\", \"budget\", \"budget\", \"bunker\", \"bunkerboytrump\", \"burnout\", \"burnout\", \"business\", \"business\", \"business\", \"business\", \"business\", \"business\", \"bve\", \"bve\", \"canada\", \"canada\", \"canada\", \"canada\", \"canada\", \"cance\", \"cant\", \"cant\", \"cant\", \"cant\", \"cant\", \"cant\", \"cant\", \"carbon\", \"care\", \"care\", \"care\", \"care\", \"care\", \"care\", \"care\", \"caring\", \"caring\", \"caring\", \"carmenbest\", \"cartoon\", \"case\", \"case\", \"case\", \"case\", \"case\", \"case\", \"case\", \"caution\", \"caution\", \"caution\", \"cdc\", \"cdc\", \"cdc\", \"cdc\", \"cdc\", \"cdc\", \"celebrity\", \"celebrity\", \"child\", \"child\", \"child\", \"child\", \"child\", \"child\", \"childish\", \"chip\", \"chip\", \"chip\", \"chouhanshivraj\", \"chouhanshivraj\", \"chouhanshivraj\", \"chouhanshivraj\", \"chouhanshivraj\", \"chouhanshivraj\", \"citing\", \"class\", \"class\", \"class\", \"class\", \"class\", \"class\", \"classaction\", \"clinician\", \"cloth\", \"cloth\", \"cloth\", \"cloth\", \"cloth\", \"cognitive\", \"committed\", \"committed\", \"community\", \"community\", \"community\", \"community\", \"community\", \"community\", \"complacent\", \"complacent\", \"complacent\", \"complacent\", \"compliance\", \"compliance\", \"compliance\", \"compliance\", \"component\", \"component\", \"component\", \"component\", \"confirmed\", \"confirmed\", \"confirmed\", \"confirmed\", \"confirmed\", \"confirmed\", \"consid\", \"consid\", \"conspiracy\", \"conspiracy\", \"conspiracy\", \"conspiracy\", \"conspiracy\", \"conspiracy\", \"constant\", \"constant\", \"constant\", \"consumed\", \"consumer\", \"consumer\", \"consumer\", \"consumer\", \"cont\", \"cont\", \"copy\", \"copy\", \"copy\", \"copy\", \"copy\", \"coronavirus\", \"coronavirus\", \"coronavirus\", \"coronavirus\", \"coronavirus\", \"coronavirus\", \"coronavirus\", \"coronavirus\", \"coronavirus\", \"coronaviruspandemic\", \"coronaviruspandemic\", \"coronaviruspandemic\", \"coronaviruspandemic\", \"coronaviruspandemic\", \"coronaviruspandemic\", \"coronavirusupdate\", \"coronavirusupdate\", \"coronavirusupdate\", \"coronavirusupdate\", \"coronavirusupdate\", \"corrupt\", \"corrupt\", \"corrupt\", \"cost\", \"cost\", \"cost\", \"cost\", \"cost\", \"cost\", \"costco\", \"cou\", \"counsel\", \"counted\", \"country\", \"country\", \"country\", \"country\", \"country\", \"country\", \"country\", \"county\", \"county\", \"county\", \"county\", \"county\", \"county\", \"courage\", \"courage\", \"courage\", \"covering\", \"covering\", \"covering\", \"covering\", \"covering\", \"covering\", \"covid\", \"covid\", \"covid\", \"covid\", \"covid\", \"covid\", \"covid19\", \"covid19\", \"covid19\", \"covid19\", \"covid19\", \"covid19\", \"covid19\", \"covid19\", \"covid19\", \"covid19\", \"covid19\", \"covid19\", \"covid19sa\", \"covid19sa\", \"covid19sa\", \"covid19uk\", \"covid19uk\", \"covid19uk\", \"covid19uk\", \"covid19uk\", \"covidiots\", \"covidiots\", \"covidiots\", \"covidiots\", \"covidiots\", \"covidiots\", \"creat\", \"critic\", \"critic\", \"critic\", \"critic\", \"cross\", \"cross\", \"cross\", \"cross\", \"cross\", \"cross\", \"cruise\", \"cruise\", \"cruise\", \"cruise\", \"cruise\", \"cuba\", \"cure\", \"cure\", \"cure\", \"cure\", \"cure\", \"cure\", \"cyril\", \"cyril\", \"daily\", \"daily\", \"daily\", \"daily\", \"daily\", \"daily\", \"dallascounty\", \"dated\", \"davidicke\", \"day\", \"day\", \"day\", \"day\", \"day\", \"day\", \"day\", \"dead\", \"dead\", \"dead\", \"dead\", \"dead\", \"dead\", \"deadliest\", \"dealt\", \"dear\", \"dear\", \"dear\", \"dear\", \"dear\", \"death\", \"death\", \"death\", \"death\", \"death\", \"death\", \"death\", \"decided\", \"decided\", \"decided\", \"decided\", \"decided\", \"decided\", \"declares\", \"declined\", \"defence\", \"deliver\", \"deliver\", \"deliver\", \"deliver\", \"deliver\", \"despicable\", \"despicable\", \"determine\", \"developed\", \"developed\", \"developed\", \"developed\", \"developed\", \"developed\", \"devotee\", \"devotee\", \"diary\", \"diary\", \"diary\", \"dip\", \"discover\", \"distance\", \"distance\", \"distance\", \"distance\", \"distance\", \"distance\", \"distancing\", \"distancing\", \"distancing\", \"distancing\", \"distancing\", \"distancing\", \"district\", \"district\", \"district\", \"district\", \"district\", \"diy\", \"domain\", \"domain\", \"domain\", \"domainnames\", \"donald\", \"donald\", \"donald\", \"donald\", \"donald\", \"donaldjtrumpjr\", \"dont\", \"dont\", \"dont\", \"dont\", \"dont\", \"dont\", \"doomed\", \"doubling\", \"doubling\", \"dr\", \"dr\", \"dr\", \"dr\", \"dr\", \"dr\", \"due\", \"due\", \"due\", \"due\", \"due\", \"due\", \"dumptrump\", \"earthquake\", \"earthquake\", \"ease\", \"ease\", \"ease\", \"ease\", \"ed\", \"effective\", \"effective\", \"effective\", \"effective\", \"effective\", \"effective\", \"effectively\", \"elbow\", \"element\", \"endangered\", \"endangering\", \"endangering\", \"endangering\", \"endangering\", \"enjoyfromhome\", \"enjoyfromhome\", \"equal\", \"erictrump\", \"estate\", \"estimate\", \"estimate\", \"euro\", \"even\", \"even\", \"even\", \"even\", \"even\", \"even\", \"every\", \"every\", \"every\", \"every\", \"every\", \"every\", \"evolution\", \"evolution\", \"excluding\", \"exec\", \"expert\", \"expert\", \"expert\", \"expert\", \"expert\", \"expert\", \"explaining\", \"explaining\", \"exponentially\", \"exponentially\", \"expose\", \"exposing\", \"face\", \"face\", \"face\", \"face\", \"face\", \"face\", \"facemask\", \"facemask\", \"facemask\", \"facemask\", \"facemask\", \"facemask\", \"facial\", \"facial\", \"faculty\", \"faculty\", \"fairfax\", \"fairfax\", \"fallen\", \"fe\", \"fe\", \"fe\", \"feat\", \"featured\", \"featured\", \"featured\", \"featured\", \"featured\", \"featured\", \"feel\", \"feel\", \"feel\", \"feel\", \"feel\", \"feel\", \"fell\", \"fell\", \"fell\", \"fest\", \"fiji\", \"file\", \"file\", \"find\", \"find\", \"find\", \"find\", \"find\", \"find\", \"first\", \"first\", \"first\", \"first\", \"first\", \"first\", \"flashback\", \"flexible\", \"flulike\", \"fm\", \"folklore\", \"folklore\", \"forged\", \"free\", \"free\", \"free\", \"free\", \"free\", \"free\", \"ftc\", \"fuel\", \"fuel\", \"fuel\", \"fulfilled\", \"ganesha\", \"ganeshchaturthi\", \"ganeshchaturthi\", \"garbage\", \"generally\", \"generally\", \"generally\", \"generally\", \"generally\", \"get\", \"get\", \"get\", \"get\", \"get\", \"get\", \"get\", \"girltalkza\", \"global\", \"global\", \"global\", \"global\", \"global\", \"global\", \"global\", \"gmt\", \"gmt\", \"gmt\", \"gmt\", \"gmt\", \"go\", \"go\", \"go\", \"go\", \"go\", \"go\", \"go\", \"going\", \"going\", \"going\", \"going\", \"going\", \"going\", \"gon\", \"gon\", \"gon\", \"gon\", \"good\", \"good\", \"good\", \"good\", \"good\", \"good\", \"good\", \"gop\", \"gop\", \"gop\", \"gop\", \"gop\", \"gop\", \"gopchairwoman\", \"gopchairwoman\", \"gov\", \"gov\", \"gov\", \"gov\", \"gov\", \"gov\", \"governance\", \"government\", \"government\", \"government\", \"government\", \"government\", \"government\", \"government\", \"gracepoint\", \"gram\", \"grandma\", \"grandma\", \"grappling\", \"greatly\", \"greatly\", \"greek\", \"hampshire\", \"hampshire\", \"handy\", \"handy\", \"hang\", \"hashtag\", \"hate\", \"hate\", \"hate\", \"hate\", \"health\", \"health\", \"health\", \"health\", \"health\", \"health\", \"health\", \"help\", \"help\", \"help\", \"help\", \"help\", \"help\", \"helpline\", \"herd\", \"herd\", \"herd\", \"herd\", \"herd\", \"herd\", \"hey\", \"hey\", \"hey\", \"hey\", \"hey\", \"hey\", \"hiding\", \"highered\", \"highered\", \"highered\", \"honor\", \"honor\", \"hopewell\", \"hospital\", \"hospital\", \"hospital\", \"hospital\", \"hospital\", \"hospital\", \"hospitalised\", \"hospitalised\", \"hospitalised\", \"hospitalised\", \"hospitalised\", \"hospitality\", \"hostility\", \"hostility\", \"hour\", \"hour\", \"hour\", \"hour\", \"hour\", \"hour\", \"human\", \"human\", \"human\", \"human\", \"human\", \"human\", \"humidity\", \"hybrid\", \"hyderabad\", \"hyderabad\", \"hyderabad\", \"hypothesis\", \"hypothesis\", \"ianbremmer\", \"identify\", \"identify\", \"identify\", \"identify\", \"identify\", \"identify\", \"ill\", \"ill\", \"ill\", \"ill\", \"ill\", \"ill\", \"ima\", \"immunity\", \"immunity\", \"immunity\", \"immunity\", \"immunity\", \"immunity\", \"impact\", \"impact\", \"impact\", \"impact\", \"impact\", \"impact\", \"implementation\", \"implementation\", \"implementation\", \"implementation\", \"importance\", \"importance\", \"importance\", \"importance\", \"importance\", \"important\", \"important\", \"important\", \"important\", \"important\", \"important\", \"inciting\", \"incompetent\", \"incompetent\", \"incompetent\", \"incompetent\", \"incompetent\", \"indeed\", \"indeed\", \"indeed\", \"india\", \"india\", \"india\", \"india\", \"india\", \"india\", \"india\", \"indicate\", \"innovate\", \"insane\", \"insane\", \"insane\", \"insider\", \"internal\", \"invaluable\", \"investigated\", \"invisible\", \"involved\", \"involved\", \"involved\", \"involved\", \"istanbul\", \"jee\", \"jharkhand\", \"jharkhand\", \"jim_jordan\", \"jim_jordan\", \"jjhorgan\", \"jjhorgan\", \"jjhorgan\", \"joebiden\", \"joebiden\", \"joebiden\", \"joebiden\", \"jointly\", \"july\", \"july\", \"july\", \"july\", \"july\", \"july\", \"jumped\", \"kamalaharris\", \"ke\", \"keep\", \"keep\", \"keep\", \"keep\", \"keep\", \"keep\", \"kellyannepolls\", \"kellyannepolls\", \"khou\", \"khou\", \"khou11\", \"kid\", \"kid\", \"kid\", \"kid\", \"kid\", \"kid\", \"kitateguhkitamenang\", \"know\", \"know\", \"know\", \"know\", \"know\", \"know\", \"lakh\", \"lakh\", \"lakh\", \"lakh\", \"lakh\", \"landlord\", \"last\", \"last\", \"last\", \"last\", \"last\", \"last\", \"lasting\", \"lasting\", \"laughing\", \"laughing\", \"lawenforcement\", \"lawmaker\", \"lc\", \"legit\", \"leronlimab\", \"let\", \"let\", \"let\", \"let\", \"let\", \"let\", \"life\", \"life\", \"life\", \"life\", \"life\", \"life\", \"life\", \"life\", \"like\", \"like\", \"like\", \"like\", \"like\", \"like\", \"like\", \"lipstick\", \"loancharge\", \"lockdown\", \"lockdown\", \"lockdown\", \"lockdown\", \"lockdown\", \"lockdown\", \"look\", \"look\", \"look\", \"look\", \"look\", \"look\", \"look\", \"lost\", \"lost\", \"lost\", \"lost\", \"lost\", \"lost\", \"louisiana\", \"louisiana\", \"louisiana\", \"louisiana\", \"loved\", \"loved\", \"loved\", \"loved\", \"luck\", \"luck\", \"lying\", \"lying\", \"lying\", \"lying\", \"lying\", \"machinelearning\", \"madonna\", \"make\", \"make\", \"make\", \"make\", \"make\", \"make\", \"malaria\", \"many\", \"many\", \"many\", \"many\", \"many\", \"many\", \"many\", \"march\", \"march\", \"march\", \"march\", \"march\", \"march\", \"maritime\", \"maritime\", \"mask\", \"mask\", \"mask\", \"mask\", \"mask\", \"mask\", \"maskscovid19\", \"may\", \"may\", \"may\", \"may\", \"may\", \"may\", \"mayorjenny\", \"mayorjenny\", \"mayorjenny\", \"mckinsey\", \"meant\", \"meant\", \"meant\", \"meant\", \"meant\", \"meat\", \"meat\", \"meat\", \"meat\", \"medic\", \"medium\", \"medium\", \"medium\", \"medium\", \"medium\", \"medium\", \"mental\", \"mental\", \"mental\", \"mental\", \"mental\", \"mental\", \"mentioning\", \"mess\", \"mess\", \"mess\", \"mess\", \"midnight\", \"mikesmythnews\", \"milli\", \"milli\", \"milli\", \"mining\", \"miracle\", \"miracle\", \"miracle\", \"miserable\", \"miserable\", \"miserable\", \"miserable\", \"mission\", \"mission\", \"mission\", \"mix\", \"mizoram\", \"ml\", \"ml\", \"mmpadellan\", \"mmpadellan\", \"modified\", \"month\", \"month\", \"month\", \"month\", \"month\", \"month\", \"much\", \"much\", \"much\", \"much\", \"much\", \"much\", \"murder\", \"murder\", \"na\", \"na\", \"na\", \"na\", \"na\", \"nationally\", \"naturally\", \"naturally\", \"naturally\", \"nazi\", \"ndtv\", \"necessitated\", \"ned\", \"need\", \"need\", \"need\", \"need\", \"need\", \"need\", \"neet\", \"neet\", \"netherlands\", \"new\", \"new\", \"new\", \"new\", \"new\", \"new\", \"new\", \"news\", \"news\", \"news\", \"news\", \"news\", \"news\", \"news\", \"newvisionwire\", \"nhl\", \"nhl\", \"nhl\", \"noble\", \"noble\", \"nolan\", \"notification\", \"nuclear\", \"number\", \"number\", \"number\", \"number\", \"number\", \"number\", \"nycmayor\", \"nycmayor\", \"observing\", \"obvious\", \"obvious\", \"obvious\", \"occurring\", \"odisha\", \"odisha\", \"odisha\", \"odisha\", \"odisha\", \"odisha\", \"one\", \"one\", \"one\", \"one\", \"one\", \"one\", \"opentheschools\", \"operational\", \"organized\", \"orwell\", \"outside\", \"outside\", \"outside\", \"outside\", \"outside\", \"outside\", \"ove\", \"ove\", \"ove\", \"pandemic\", \"pandemic\", \"pandemic\", \"pandemic\", \"pandemic\", \"pandemic\", \"pandemic\", \"pandemic\", \"patch\", \"patch\", \"patent\", \"patent\", \"patent\", \"patent\", \"patient\", \"patient\", \"patient\", \"patient\", \"patient\", \"patient\", \"patient\", \"paul\", \"peaked\", \"peninsula\", \"peopl\", \"peopl\", \"peopl\", \"peopl\", \"people\", \"people\", \"people\", \"people\", \"people\", \"people\", \"person\", \"person\", \"person\", \"person\", \"person\", \"person\", \"photographer\", \"piersmorgan\", \"pillow\", \"planting\", \"planting\", \"plasma\", \"plasma\", \"plasma\", \"plasma\", \"plasma\", \"playlist\", \"playlist\", \"playlist\", \"please\", \"please\", \"please\", \"please\", \"please\", \"please\", \"please\", \"pleasure\", \"pleasure\", \"pleasure\", \"pm\", \"pm\", \"pm\", \"pm\", \"pm\", \"pm\", \"pointing\", \"pointing\", \"pointing\", \"policy\", \"policy\", \"policy\", \"policy\", \"policy\", \"policy\", \"poorer\", \"por\", \"positive\", \"positive\", \"positive\", \"positive\", \"positive\", \"positive\", \"post\", \"post\", \"post\", \"post\", \"post\", \"post\", \"postpone\", \"postsecondary\", \"potus\", \"potus\", \"potus\", \"potus\", \"potus\", \"prevent\", \"prevent\", \"prevent\", \"prevent\", \"prevent\", \"prevent\", \"productive\", \"productive\", \"projectlincoln\", \"projectlincoln\", \"projectlincoln\", \"projectlincoln\", \"promising\", \"proved\", \"provision\", \"provision\", \"pursued\", \"q2\", \"qanon\", \"qanon\", \"qanon\", \"queensland\", \"quit\", \"radio\", \"radio\", \"radio\", \"radio\", \"radio\", \"radio\", \"ramaphosa\", \"ranked\", \"rapid\", \"rapid\", \"rapid\", \"rapid\", \"rapid\", \"rapid\", \"rate\", \"rate\", \"rate\", \"rate\", \"rate\", \"rate\", \"rate\", \"read\", \"read\", \"read\", \"read\", \"read\", \"read\", \"real\", \"real\", \"real\", \"real\", \"real\", \"real\", \"realdonaldtrump\", \"realdonaldtrump\", \"realdonaldtrump\", \"realdonaldtrump\", \"realdonaldtrump\", \"realdonaldtrump\", \"realdonaldtrump\", \"realdonaldtrump\", \"realdonaldtrump\", \"realdonaldtrumps\", \"realdonaldtrumps\", \"realdonaldtrumps\", \"realdonaldtrumps\", \"realdonaldtrumps\", \"really\", \"really\", \"really\", \"really\", \"really\", \"really\", \"recognize\", \"recognize\", \"recorded\", \"recorded\", \"recorded\", \"recorded\", \"recorded\", \"recovered\", \"recovered\", \"recovered\", \"recovered\", \"recovered\", \"recovered\", \"recovers\", \"recovers\", \"recovers\", \"recovery\", \"recovery\", \"recovery\", \"recovery\", \"recovery\", \"recovery\", \"reduce\", \"reduce\", \"reduce\", \"reduce\", \"reduce\", \"reduce\", \"reflecting\", \"refresh\", \"refuse\", \"refuse\", \"refuse\", \"refuse\", \"relatively\", \"relatively\", \"relax\", \"relax\", \"relaxing\", \"relaxing\", \"relaxing\", \"religion\", \"religion\", \"religion\", \"remaining\", \"remaining\", \"remotework\", \"report\", \"report\", \"report\", \"report\", \"report\", \"report\", \"reported\", \"reported\", \"reported\", \"reported\", \"reported\", \"reported\", \"republicansvirus\", \"research\", \"research\", \"research\", \"research\", \"research\", \"research\", \"researcher\", \"researcher\", \"researcher\", \"researcher\", \"researcher\", \"researcher\", \"researchgate\", \"researchgate\", \"resilience\", \"resilience\", \"resilience\", \"reviewed\", \"richer\", \"rise\", \"rise\", \"rise\", \"rise\", \"rise\", \"rishisunak\", \"risk\", \"risk\", \"risk\", \"risk\", \"risk\", \"risk\", \"rnc2020\", \"rnc2020\", \"rpa\", \"rubyprincess\", \"rubyprincess\", \"ryan\", \"s3599\", \"s3599\", \"safe\", \"safe\", \"safe\", \"safe\", \"safe\", \"safe\", \"sample\", \"sample\", \"sample\", \"sample\", \"sample\", \"sanitizing\", \"saved\", \"saved\", \"saved\", \"say\", \"say\", \"say\", \"say\", \"say\", \"say\", \"sayi\", \"saying\", \"saying\", \"saying\", \"saying\", \"saying\", \"saying\", \"scene\", \"scene\", \"school\", \"school\", \"school\", \"school\", \"school\", \"school\", \"schoolopenings\", \"schoolopenings\", \"schoolsreopening\", \"schoolsreopening\", \"schoolsreopening\", \"schoolsreopening\", \"scientist\", \"scientist\", \"scientist\", \"scientist\", \"scientist\", \"scientist\", \"scomo\", \"seattle\", \"selfreporting\", \"selfreporting\", \"selfreporting\", \"selfreporting\", \"selfreporting\", \"semester\", \"semester\", \"sendi\", \"senschumer\", \"senschumer\", \"shah\", \"shah\", \"shah\", \"shield\", \"shield\", \"shield\", \"shield\", \"shine\", \"shine\", \"shine\", \"shine\", \"shine\", \"sick\", \"sick\", \"sick\", \"sick\", \"sick\", \"sidelined\", \"sign\", \"sign\", \"sign\", \"sign\", \"sign\", \"sign\", \"silent\", \"since\", \"since\", \"since\", \"since\", \"since\", \"since\", \"singleday\", \"singleday\", \"singleday\", \"singleday\", \"singleday\", \"site\", \"site\", \"site\", \"site\", \"slow\", \"slow\", \"slow\", \"slow\", \"slow\", \"slow\", \"smarter\", \"smarter\", \"smartphone\", \"smt\", \"snippet\", \"social\", \"social\", \"social\", \"social\", \"social\", \"social\", \"socialdistance\", \"socialdistance\", \"socialdistance\", \"socially\", \"socially\", \"socially\", \"solidarity\", \"solidarity\", \"solidarity\", \"solidarity\", \"sooner\", \"sooner\", \"sooner\", \"sooner\", \"sooner\", \"soundcloud\", \"specie\", \"specie\", \"spike\", \"spike\", \"spike\", \"spike\", \"spike\", \"spike\", \"spouse\", \"spread\", \"spread\", \"spread\", \"spread\", \"spread\", \"spread\", \"springst\", \"springst\", \"square\", \"srsly\", \"stabilizing\", \"state\", \"state\", \"state\", \"state\", \"state\", \"state\", \"stay\", \"stay\", \"stay\", \"stay\", \"stay\", \"stay\", \"stayathome\", \"stayathome\", \"stayathome\", \"stayathome\", \"stayathome\", \"stayathome\", \"staycation\", \"staycation\", \"steel\", \"steel\", \"steven\", \"still\", \"still\", \"still\", \"still\", \"still\", \"still\", \"stole\", \"stole\", \"stop\", \"stop\", \"stop\", \"stop\", \"stop\", \"stop\", \"strain\", \"strain\", \"strain\", \"strain\", \"student\", \"student\", \"student\", \"student\", \"student\", \"student\", \"study\", \"study\", \"study\", \"study\", \"study\", \"study\", \"stunt\", \"stunt\", \"sundaymorning\", \"sundaymorning\", \"supplement\", \"support\", \"support\", \"support\", \"support\", \"support\", \"support\", \"sweden\", \"sweden\", \"sweden\", \"sweden\", \"sweden\", \"symptom\", \"symptom\", \"symptom\", \"symptom\", \"symptom\", \"symptom\", \"take\", \"take\", \"take\", \"take\", \"take\", \"take\", \"take\", \"tally\", \"tally\", \"tally\", \"tally\", \"tally\", \"tally\", \"tanzania\", \"tanzania\", \"tap\", \"teamtrump\", \"teamtrump\", \"technews\", \"telangana\", \"telangana\", \"telangana\", \"telangana\", \"telegraph\", \"telegraph\", \"test\", \"test\", \"test\", \"test\", \"test\", \"test\", \"tested\", \"tested\", \"tested\", \"tested\", \"tested\", \"tested\", \"texan\", \"texan\", \"texan\", \"thane\", \"thane\", \"thane\", \"thank\", \"thank\", \"thank\", \"thank\", \"thank\", \"thank\", \"theme\", \"theme\", \"theme\", \"theme\", \"thermal\", \"theyre\", \"theyre\", \"theyre\", \"theyre\", \"theyre\", \"theyre\", \"thing\", \"thing\", \"thing\", \"thing\", \"thing\", \"thing\", \"think\", \"think\", \"think\", \"think\", \"think\", \"think\", \"tho\", \"tho\", \"tho\", \"time\", \"time\", \"time\", \"time\", \"time\", \"time\", \"time\", \"titled\", \"today\", \"today\", \"today\", \"today\", \"today\", \"today\", \"today\", \"toll\", \"toll\", \"toll\", \"toll\", \"toll\", \"toll\", \"topic\", \"topic\", \"topic\", \"topic\", \"tot\", \"tot\", \"tot\", \"tot\", \"total\", \"total\", \"total\", \"total\", \"total\", \"total\", \"total\", \"tracing\", \"tracing\", \"tracing\", \"tracing\", \"tracing\", \"transform\", \"transforms\", \"tribute\", \"trump\", \"trump\", \"trump\", \"trump\", \"trump\", \"trump\", \"trumpfailedamerica\", \"trumpfailedamerica\", \"trumpgolfsamericansdie\", \"trumpvirus\", \"trumpvirus\", \"trumpvirus\", \"trumpvirus\", \"trumpvirus\", \"tunisia\", \"type\", \"type\", \"type\", \"type\", \"type\", \"typical\", \"u\", \"u\", \"u\", \"u\", \"u\", \"u\", \"u\", \"uh\", \"uh\", \"uh\", \"uk\", \"uk\", \"uk\", \"uk\", \"uk\", \"uk\", \"ultimate\", \"unders\", \"undocumented\", \"unofficial\", \"update\", \"update\", \"update\", \"update\", \"update\", \"update\", \"update\", \"uptick\", \"urgency\", \"useless\", \"useless\", \"uspoli\", \"uspoli\", \"usps\", \"usps\", \"utah\", \"utah\", \"utah\", \"vac\", \"vacc\", \"vaccine\", \"vaccine\", \"vaccine\", \"vaccine\", \"vaccine\", \"vaccine\", \"vega\", \"vega\", \"venezuela\", \"venice\", \"venice\", \"venrap\", \"venrap\", \"venrap\", \"vice\", \"victim\", \"victim\", \"victim\", \"victim\", \"victim\", \"victoriancho\", \"victoriancho\", \"victoriancho\", \"vip\", \"virginia\", \"virus\", \"virus\", \"virus\", \"virus\", \"virus\", \"virus\", \"visible\", \"visible\", \"visible\", \"vladimir\", \"votebymail\", \"waiver\", \"wan\", \"wan\", \"wan\", \"wan\", \"wan\", \"want\", \"want\", \"want\", \"want\", \"want\", \"want\", \"watch\", \"watch\", \"watch\", \"watch\", \"watch\", \"watch\", \"wave\", \"wave\", \"wave\", \"wave\", \"wave\", \"way\", \"way\", \"way\", \"way\", \"way\", \"way\", \"way\", \"wear\", \"wear\", \"wear\", \"wear\", \"wear\", \"wear\", \"wearamask\", \"wearamask\", \"wearamask\", \"wearamask\", \"wearamask\", \"wearamask\", \"wearing\", \"wearing\", \"wearing\", \"wearing\", \"wearing\", \"wearing\", \"wemerry\", \"wha\", \"whenever\", \"whitehouse\", \"whitehouse\", \"whitehouse\", \"whitehouse\", \"whitehouse\", \"whitehouse\", \"willing\", \"willing\", \"willing\", \"willing\", \"work\", \"work\", \"work\", \"work\", \"work\", \"work\", \"workforce\", \"workforce\", \"workforce\", \"workforce\", \"workforce\", \"workforce\", \"world\", \"world\", \"world\", \"world\", \"world\", \"world\", \"worldwide\", \"worldwide\", \"worldwide\", \"worldwide\", \"worldwide\", \"worsens\", \"worstpresidentinhistory\", \"would\", \"would\", \"would\", \"would\", \"would\", \"would\", \"write\", \"write\", \"write\", \"write\", \"write\", \"write\", \"writing\", \"writing\", \"writing\", \"xi\", \"yakima\", \"yale\", \"yale\", \"year\", \"year\", \"year\", \"year\", \"year\", \"year\", \"youre\", \"youre\", \"youre\", \"youre\", \"youre\", \"youre\", \"yup\", \"yup\", \"yup\", \"yup\", \"zealand\", \"zealand\", \"zealand\", \"zealand\", \"zealand\"]}, \"R\": 30, \"lambda.step\": 0.01, \"plot.opts\": {\"xlab\": \"PC1\", \"ylab\": \"PC2\"}, \"topic.order\": [13, 17, 7, 18, 12, 5, 2, 16, 9, 20, 14, 15, 4, 10, 19, 1, 8, 6, 3, 11]};\n",
       "\n",
       "function LDAvis_load_lib(url, callback){\n",
       "  var s = document.createElement('script');\n",
       "  s.src = url;\n",
       "  s.async = true;\n",
       "  s.onreadystatechange = s.onload = callback;\n",
       "  s.onerror = function(){console.warn(\"failed to load library \" + url);};\n",
       "  document.getElementsByTagName(\"head\")[0].appendChild(s);\n",
       "}\n",
       "\n",
       "if(typeof(LDAvis) !== \"undefined\"){\n",
       "   // already loaded: just create the visualization\n",
       "   !function(LDAvis){\n",
       "       new LDAvis(\"#\" + \"ldavis_el599218756010714561908363245\", ldavis_el599218756010714561908363245_data);\n",
       "   }(LDAvis);\n",
       "}else if(typeof define === \"function\" && define.amd){\n",
       "   // require.js is available: use it to load d3/LDAvis\n",
       "   require.config({paths: {d3: \"https://d3js.org/d3.v5\"}});\n",
       "   require([\"d3\"], function(d3){\n",
       "      window.d3 = d3;\n",
       "      LDAvis_load_lib(\"https://cdn.jsdelivr.net/gh/bmabey/pyLDAvis@3.4.0/pyLDAvis/js/ldavis.v3.0.0.js\", function(){\n",
       "        new LDAvis(\"#\" + \"ldavis_el599218756010714561908363245\", ldavis_el599218756010714561908363245_data);\n",
       "      });\n",
       "    });\n",
       "}else{\n",
       "    // require.js not available: dynamically load d3 & LDAvis\n",
       "    LDAvis_load_lib(\"https://d3js.org/d3.v5.js\", function(){\n",
       "         LDAvis_load_lib(\"https://cdn.jsdelivr.net/gh/bmabey/pyLDAvis@3.4.0/pyLDAvis/js/ldavis.v3.0.0.js\", function(){\n",
       "                 new LDAvis(\"#\" + \"ldavis_el599218756010714561908363245\", ldavis_el599218756010714561908363245_data);\n",
       "            })\n",
       "         });\n",
       "}\n",
       "</script>"
      ],
      "text/plain": [
       "<IPython.core.display.HTML object>"
      ]
     },
     "execution_count": 101,
     "metadata": {},
     "output_type": "execute_result"
    }
   ],
   "source": [
    "pyLDAvis.display(vis)"
   ]
  },
  {
   "cell_type": "code",
   "execution_count": null,
   "metadata": {},
   "outputs": [],
   "source": []
  }
 ],
 "metadata": {
  "accelerator": "GPU",
  "colab": {
   "provenance": []
  },
  "gpuClass": "standard",
  "kernelspec": {
   "display_name": "Python 3 (ipykernel)",
   "language": "python",
   "name": "python3"
  },
  "language_info": {
   "codemirror_mode": {
    "name": "ipython",
    "version": 3
   },
   "file_extension": ".py",
   "mimetype": "text/x-python",
   "name": "python",
   "nbconvert_exporter": "python",
   "pygments_lexer": "ipython3",
   "version": "3.9.13"
  }
 },
 "nbformat": 4,
 "nbformat_minor": 1
}
