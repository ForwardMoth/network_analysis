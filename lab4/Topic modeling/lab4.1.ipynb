{
 "cells": [
  {
   "cell_type": "markdown",
   "metadata": {
    "id": "ZQXiyfK8x76C"
   },
   "source": [
    "# Topic Modeling"
   ]
  },
  {
   "cell_type": "markdown",
   "metadata": {
    "id": "Jhf33dhbx_jG"
   },
   "source": [
    "### Imports"
   ]
  },
  {
   "cell_type": "code",
   "execution_count": 1,
   "metadata": {
    "collapsed": true
   },
   "outputs": [
    {
     "name": "stdout",
     "output_type": "stream",
     "text": [
      "Requirement already satisfied: keras in /Library/Frameworks/Python.framework/Versions/3.10/lib/python3.10/site-packages (2.12.0)\n",
      "\n",
      "\u001b[1m[\u001b[0m\u001b[34;49mnotice\u001b[0m\u001b[1;39;49m]\u001b[0m\u001b[39;49m A new release of pip is available: \u001b[0m\u001b[31;49m23.0.1\u001b[0m\u001b[39;49m -> \u001b[0m\u001b[32;49m23.1.2\u001b[0m\n",
      "\u001b[1m[\u001b[0m\u001b[34;49mnotice\u001b[0m\u001b[1;39;49m]\u001b[0m\u001b[39;49m To update, run: \u001b[0m\u001b[32;49mpip install --upgrade pip\u001b[0m\n"
     ]
    }
   ],
   "source": [
    "!pip install keras"
   ]
  },
  {
   "cell_type": "code",
   "execution_count": 2,
   "metadata": {
    "collapsed": true
   },
   "outputs": [
    {
     "name": "stdout",
     "output_type": "stream",
     "text": [
      "Requirement already satisfied: tensorflow in /Library/Frameworks/Python.framework/Versions/3.10/lib/python3.10/site-packages (2.12.0)\n",
      "Requirement already satisfied: numpy<1.24,>=1.22 in /Library/Frameworks/Python.framework/Versions/3.10/lib/python3.10/site-packages (from tensorflow) (1.23.5)\n",
      "Requirement already satisfied: typing-extensions>=3.6.6 in /Library/Frameworks/Python.framework/Versions/3.10/lib/python3.10/site-packages (from tensorflow) (4.5.0)\n",
      "Requirement already satisfied: setuptools in /Library/Frameworks/Python.framework/Versions/3.10/lib/python3.10/site-packages (from tensorflow) (63.2.0)\n",
      "Requirement already satisfied: h5py>=2.9.0 in /Library/Frameworks/Python.framework/Versions/3.10/lib/python3.10/site-packages (from tensorflow) (3.8.0)\n",
      "Requirement already satisfied: packaging in /Library/Frameworks/Python.framework/Versions/3.10/lib/python3.10/site-packages (from tensorflow) (23.1)\n",
      "Requirement already satisfied: opt-einsum>=2.3.2 in /Library/Frameworks/Python.framework/Versions/3.10/lib/python3.10/site-packages (from tensorflow) (3.3.0)\n",
      "Requirement already satisfied: tensorboard<2.13,>=2.12 in /Library/Frameworks/Python.framework/Versions/3.10/lib/python3.10/site-packages (from tensorflow) (2.12.2)\n",
      "Requirement already satisfied: protobuf!=4.21.0,!=4.21.1,!=4.21.2,!=4.21.3,!=4.21.4,!=4.21.5,<5.0.0dev,>=3.20.3 in /Library/Frameworks/Python.framework/Versions/3.10/lib/python3.10/site-packages (from tensorflow) (4.22.3)\n",
      "Requirement already satisfied: google-pasta>=0.1.1 in /Library/Frameworks/Python.framework/Versions/3.10/lib/python3.10/site-packages (from tensorflow) (0.2.0)\n",
      "Requirement already satisfied: grpcio<2.0,>=1.24.3 in /Library/Frameworks/Python.framework/Versions/3.10/lib/python3.10/site-packages (from tensorflow) (1.54.0)\n",
      "Requirement already satisfied: keras<2.13,>=2.12.0 in /Library/Frameworks/Python.framework/Versions/3.10/lib/python3.10/site-packages (from tensorflow) (2.12.0)\n",
      "Requirement already satisfied: jax>=0.3.15 in /Library/Frameworks/Python.framework/Versions/3.10/lib/python3.10/site-packages (from tensorflow) (0.4.8)\n",
      "Requirement already satisfied: six>=1.12.0 in /Library/Frameworks/Python.framework/Versions/3.10/lib/python3.10/site-packages (from tensorflow) (1.16.0)\n",
      "Requirement already satisfied: libclang>=13.0.0 in /Library/Frameworks/Python.framework/Versions/3.10/lib/python3.10/site-packages (from tensorflow) (16.0.0)\n",
      "Requirement already satisfied: wrapt<1.15,>=1.11.0 in /Library/Frameworks/Python.framework/Versions/3.10/lib/python3.10/site-packages (from tensorflow) (1.14.1)\n",
      "Requirement already satisfied: termcolor>=1.1.0 in /Library/Frameworks/Python.framework/Versions/3.10/lib/python3.10/site-packages (from tensorflow) (2.3.0)\n",
      "Requirement already satisfied: tensorflow-io-gcs-filesystem>=0.23.1 in /Library/Frameworks/Python.framework/Versions/3.10/lib/python3.10/site-packages (from tensorflow) (0.32.0)\n",
      "Requirement already satisfied: flatbuffers>=2.0 in /Library/Frameworks/Python.framework/Versions/3.10/lib/python3.10/site-packages (from tensorflow) (23.3.3)\n",
      "Requirement already satisfied: astunparse>=1.6.0 in /Library/Frameworks/Python.framework/Versions/3.10/lib/python3.10/site-packages (from tensorflow) (1.6.3)\n",
      "Requirement already satisfied: gast<=0.4.0,>=0.2.1 in /Library/Frameworks/Python.framework/Versions/3.10/lib/python3.10/site-packages (from tensorflow) (0.4.0)\n",
      "Requirement already satisfied: absl-py>=1.0.0 in /Library/Frameworks/Python.framework/Versions/3.10/lib/python3.10/site-packages (from tensorflow) (1.4.0)\n",
      "Requirement already satisfied: tensorflow-estimator<2.13,>=2.12.0 in /Library/Frameworks/Python.framework/Versions/3.10/lib/python3.10/site-packages (from tensorflow) (2.12.0)\n",
      "Requirement already satisfied: wheel<1.0,>=0.23.0 in /Library/Frameworks/Python.framework/Versions/3.10/lib/python3.10/site-packages (from astunparse>=1.6.0->tensorflow) (0.40.0)\n",
      "Requirement already satisfied: scipy>=1.7 in /Library/Frameworks/Python.framework/Versions/3.10/lib/python3.10/site-packages (from jax>=0.3.15->tensorflow) (1.10.1)\n",
      "Requirement already satisfied: ml-dtypes>=0.0.3 in /Library/Frameworks/Python.framework/Versions/3.10/lib/python3.10/site-packages (from jax>=0.3.15->tensorflow) (0.1.0)\n",
      "Requirement already satisfied: markdown>=2.6.8 in /Library/Frameworks/Python.framework/Versions/3.10/lib/python3.10/site-packages (from tensorboard<2.13,>=2.12->tensorflow) (3.4.3)\n",
      "Requirement already satisfied: tensorboard-plugin-wit>=1.6.0 in /Library/Frameworks/Python.framework/Versions/3.10/lib/python3.10/site-packages (from tensorboard<2.13,>=2.12->tensorflow) (1.8.1)\n",
      "Requirement already satisfied: werkzeug>=1.0.1 in /Library/Frameworks/Python.framework/Versions/3.10/lib/python3.10/site-packages (from tensorboard<2.13,>=2.12->tensorflow) (2.2.2)\n",
      "Requirement already satisfied: tensorboard-data-server<0.8.0,>=0.7.0 in /Library/Frameworks/Python.framework/Versions/3.10/lib/python3.10/site-packages (from tensorboard<2.13,>=2.12->tensorflow) (0.7.0)\n",
      "Requirement already satisfied: requests<3,>=2.21.0 in /Library/Frameworks/Python.framework/Versions/3.10/lib/python3.10/site-packages (from tensorboard<2.13,>=2.12->tensorflow) (2.28.2)\n",
      "Requirement already satisfied: google-auth-oauthlib<1.1,>=0.5 in /Library/Frameworks/Python.framework/Versions/3.10/lib/python3.10/site-packages (from tensorboard<2.13,>=2.12->tensorflow) (1.0.0)\n",
      "Requirement already satisfied: google-auth<3,>=1.6.3 in /Library/Frameworks/Python.framework/Versions/3.10/lib/python3.10/site-packages (from tensorboard<2.13,>=2.12->tensorflow) (2.17.3)\n",
      "Requirement already satisfied: pyasn1-modules>=0.2.1 in /Library/Frameworks/Python.framework/Versions/3.10/lib/python3.10/site-packages (from google-auth<3,>=1.6.3->tensorboard<2.13,>=2.12->tensorflow) (0.3.0)\n",
      "Requirement already satisfied: rsa<5,>=3.1.4 in /Library/Frameworks/Python.framework/Versions/3.10/lib/python3.10/site-packages (from google-auth<3,>=1.6.3->tensorboard<2.13,>=2.12->tensorflow) (4.9)\n",
      "Requirement already satisfied: cachetools<6.0,>=2.0.0 in /Library/Frameworks/Python.framework/Versions/3.10/lib/python3.10/site-packages (from google-auth<3,>=1.6.3->tensorboard<2.13,>=2.12->tensorflow) (5.3.0)\n",
      "Requirement already satisfied: requests-oauthlib>=0.7.0 in /Library/Frameworks/Python.framework/Versions/3.10/lib/python3.10/site-packages (from google-auth-oauthlib<1.1,>=0.5->tensorboard<2.13,>=2.12->tensorflow) (1.3.1)\n",
      "Requirement already satisfied: urllib3<1.27,>=1.21.1 in /Library/Frameworks/Python.framework/Versions/3.10/lib/python3.10/site-packages (from requests<3,>=2.21.0->tensorboard<2.13,>=2.12->tensorflow) (1.26.15)\n",
      "Requirement already satisfied: certifi>=2017.4.17 in /Library/Frameworks/Python.framework/Versions/3.10/lib/python3.10/site-packages (from requests<3,>=2.21.0->tensorboard<2.13,>=2.12->tensorflow) (2022.12.7)\n",
      "Requirement already satisfied: charset-normalizer<4,>=2 in /Library/Frameworks/Python.framework/Versions/3.10/lib/python3.10/site-packages (from requests<3,>=2.21.0->tensorboard<2.13,>=2.12->tensorflow) (3.1.0)\n",
      "Requirement already satisfied: idna<4,>=2.5 in /Library/Frameworks/Python.framework/Versions/3.10/lib/python3.10/site-packages (from requests<3,>=2.21.0->tensorboard<2.13,>=2.12->tensorflow) (3.4)\n",
      "Requirement already satisfied: MarkupSafe>=2.1.1 in /Library/Frameworks/Python.framework/Versions/3.10/lib/python3.10/site-packages (from werkzeug>=1.0.1->tensorboard<2.13,>=2.12->tensorflow) (2.1.1)\n",
      "Requirement already satisfied: pyasn1<0.6.0,>=0.4.6 in /Library/Frameworks/Python.framework/Versions/3.10/lib/python3.10/site-packages (from pyasn1-modules>=0.2.1->google-auth<3,>=1.6.3->tensorboard<2.13,>=2.12->tensorflow) (0.5.0)\n",
      "Requirement already satisfied: oauthlib>=3.0.0 in /Library/Frameworks/Python.framework/Versions/3.10/lib/python3.10/site-packages (from requests-oauthlib>=0.7.0->google-auth-oauthlib<1.1,>=0.5->tensorboard<2.13,>=2.12->tensorflow) (3.2.2)\n",
      "\n",
      "\u001b[1m[\u001b[0m\u001b[34;49mnotice\u001b[0m\u001b[1;39;49m]\u001b[0m\u001b[39;49m A new release of pip is available: \u001b[0m\u001b[31;49m23.0.1\u001b[0m\u001b[39;49m -> \u001b[0m\u001b[32;49m23.1.2\u001b[0m\n",
      "\u001b[1m[\u001b[0m\u001b[34;49mnotice\u001b[0m\u001b[1;39;49m]\u001b[0m\u001b[39;49m To update, run: \u001b[0m\u001b[32;49mpip install --upgrade pip\u001b[0m\n"
     ]
    }
   ],
   "source": [
    "!pip install tensorflow"
   ]
  },
  {
   "cell_type": "code",
   "execution_count": 3,
   "metadata": {
    "collapsed": true
   },
   "outputs": [
    {
     "name": "stderr",
     "output_type": "stream",
     "text": [
      "[nltk_data] Downloading package stopwords to\n",
      "[nltk_data]     /Users/marinakireeva/nltk_data...\n",
      "[nltk_data]   Package stopwords is already up-to-date!\n",
      "[nltk_data] Downloading package punkt to\n",
      "[nltk_data]     /Users/marinakireeva/nltk_data...\n",
      "[nltk_data]   Package punkt is already up-to-date!\n",
      "[nltk_data] Downloading package wordnet to\n",
      "[nltk_data]     /Users/marinakireeva/nltk_data...\n",
      "[nltk_data]   Package wordnet is already up-to-date!\n",
      "[nltk_data] Downloading package omw-1.4 to\n",
      "[nltk_data]     /Users/marinakireeva/nltk_data...\n",
      "[nltk_data]   Package omw-1.4 is already up-to-date!\n"
     ]
    },
    {
     "data": {
      "text/plain": [
       "True"
      ]
     },
     "execution_count": 3,
     "metadata": {},
     "output_type": "execute_result"
    }
   ],
   "source": [
    "import nltk\n",
    "import ssl\n",
    "\n",
    "try:\n",
    "    _create_unverified_https_context = ssl._create_unverified_context\n",
    "except AttributeError:\n",
    "    pass\n",
    "else:\n",
    "    ssl._create_default_https_context = _create_unverified_https_context\n",
    "\n",
    "nltk.download('stopwords')\n",
    "nltk.download('punkt')\n",
    "nltk.download('wordnet')\n",
    "nltk.download('omw-1.4')"
   ]
  },
  {
   "cell_type": "markdown",
   "metadata": {
    "id": "Vq73jbAvyYkz"
   },
   "source": [
    "## Data preprocessing"
   ]
  },
  {
   "cell_type": "markdown",
   "metadata": {
    "id": "OL8uoOdoyd-7"
   },
   "source": [
    "### Import data from csv"
   ]
  },
  {
   "cell_type": "code",
   "execution_count": 4,
   "metadata": {},
   "outputs": [],
   "source": [
    "import pandas as pd "
   ]
  },
  {
   "cell_type": "code",
   "execution_count": 76,
   "metadata": {
    "id": "qZ9ij5s3yYDC"
   },
   "outputs": [],
   "source": [
    "tweets=pd.read_csv(\"covid19_tweets.csv\",delimiter=\",\")"
   ]
  },
  {
   "cell_type": "code",
   "execution_count": 77,
   "metadata": {
    "id": "nr8UKgeZyxON"
   },
   "outputs": [],
   "source": [
    "tweets=tweets[[\"text\"]]"
   ]
  },
  {
   "cell_type": "code",
   "execution_count": 78,
   "metadata": {
    "colab": {
     "base_uri": "https://localhost:8080/",
     "height": 206
    },
    "id": "JXr_GqJDzBiW",
    "outputId": "d2b63f36-caaa-467f-bb99-199a604a875d"
   },
   "outputs": [
    {
     "data": {
      "text/html": [
       "<div>\n",
       "<style scoped>\n",
       "    .dataframe tbody tr th:only-of-type {\n",
       "        vertical-align: middle;\n",
       "    }\n",
       "\n",
       "    .dataframe tbody tr th {\n",
       "        vertical-align: top;\n",
       "    }\n",
       "\n",
       "    .dataframe thead th {\n",
       "        text-align: right;\n",
       "    }\n",
       "</style>\n",
       "<table border=\"1\" class=\"dataframe\">\n",
       "  <thead>\n",
       "    <tr style=\"text-align: right;\">\n",
       "      <th></th>\n",
       "      <th>text</th>\n",
       "    </tr>\n",
       "  </thead>\n",
       "  <tbody>\n",
       "    <tr>\n",
       "      <th>0</th>\n",
       "      <td>If I smelled the scent of hand sanitizers toda...</td>\n",
       "    </tr>\n",
       "    <tr>\n",
       "      <th>1</th>\n",
       "      <td>Hey @Yankees @YankeesPR and @MLB - wouldn't it...</td>\n",
       "    </tr>\n",
       "    <tr>\n",
       "      <th>2</th>\n",
       "      <td>@diane3443 @wdunlap @realDonaldTrump Trump nev...</td>\n",
       "    </tr>\n",
       "    <tr>\n",
       "      <th>3</th>\n",
       "      <td>@brookbanktv The one gift #COVID19 has give me...</td>\n",
       "    </tr>\n",
       "    <tr>\n",
       "      <th>4</th>\n",
       "      <td>25 July : Media Bulletin on Novel #CoronaVirus...</td>\n",
       "    </tr>\n",
       "  </tbody>\n",
       "</table>\n",
       "</div>"
      ],
      "text/plain": [
       "                                                text\n",
       "0  If I smelled the scent of hand sanitizers toda...\n",
       "1  Hey @Yankees @YankeesPR and @MLB - wouldn't it...\n",
       "2  @diane3443 @wdunlap @realDonaldTrump Trump nev...\n",
       "3  @brookbanktv The one gift #COVID19 has give me...\n",
       "4  25 July : Media Bulletin on Novel #CoronaVirus..."
      ]
     },
     "execution_count": 78,
     "metadata": {},
     "output_type": "execute_result"
    }
   ],
   "source": [
    "tweets.head(5)"
   ]
  },
  {
   "cell_type": "markdown",
   "metadata": {
    "id": "3-diBH_MzeBa"
   },
   "source": [
    "### To lower case"
   ]
  },
  {
   "cell_type": "code",
   "execution_count": 79,
   "metadata": {
    "id": "uSynP0fCzdSs"
   },
   "outputs": [],
   "source": [
    "lowered = tweets['text'].str.lower()\n",
    "tweets['lowered'] = lowered"
   ]
  },
  {
   "cell_type": "code",
   "execution_count": 80,
   "metadata": {
    "colab": {
     "base_uri": "https://localhost:8080/",
     "height": 206
    },
    "id": "ZdFxlVmp0nYg",
    "outputId": "b319fb73-4102-4614-9ef5-133656481bbe"
   },
   "outputs": [
    {
     "data": {
      "text/html": [
       "<div>\n",
       "<style scoped>\n",
       "    .dataframe tbody tr th:only-of-type {\n",
       "        vertical-align: middle;\n",
       "    }\n",
       "\n",
       "    .dataframe tbody tr th {\n",
       "        vertical-align: top;\n",
       "    }\n",
       "\n",
       "    .dataframe thead th {\n",
       "        text-align: right;\n",
       "    }\n",
       "</style>\n",
       "<table border=\"1\" class=\"dataframe\">\n",
       "  <thead>\n",
       "    <tr style=\"text-align: right;\">\n",
       "      <th></th>\n",
       "      <th>text</th>\n",
       "      <th>lowered</th>\n",
       "    </tr>\n",
       "  </thead>\n",
       "  <tbody>\n",
       "    <tr>\n",
       "      <th>0</th>\n",
       "      <td>If I smelled the scent of hand sanitizers toda...</td>\n",
       "      <td>if i smelled the scent of hand sanitizers toda...</td>\n",
       "    </tr>\n",
       "    <tr>\n",
       "      <th>1</th>\n",
       "      <td>Hey @Yankees @YankeesPR and @MLB - wouldn't it...</td>\n",
       "      <td>hey @yankees @yankeespr and @mlb - wouldn't it...</td>\n",
       "    </tr>\n",
       "    <tr>\n",
       "      <th>2</th>\n",
       "      <td>@diane3443 @wdunlap @realDonaldTrump Trump nev...</td>\n",
       "      <td>@diane3443 @wdunlap @realdonaldtrump trump nev...</td>\n",
       "    </tr>\n",
       "    <tr>\n",
       "      <th>3</th>\n",
       "      <td>@brookbanktv The one gift #COVID19 has give me...</td>\n",
       "      <td>@brookbanktv the one gift #covid19 has give me...</td>\n",
       "    </tr>\n",
       "    <tr>\n",
       "      <th>4</th>\n",
       "      <td>25 July : Media Bulletin on Novel #CoronaVirus...</td>\n",
       "      <td>25 july : media bulletin on novel #coronavirus...</td>\n",
       "    </tr>\n",
       "  </tbody>\n",
       "</table>\n",
       "</div>"
      ],
      "text/plain": [
       "                                                text  \\\n",
       "0  If I smelled the scent of hand sanitizers toda...   \n",
       "1  Hey @Yankees @YankeesPR and @MLB - wouldn't it...   \n",
       "2  @diane3443 @wdunlap @realDonaldTrump Trump nev...   \n",
       "3  @brookbanktv The one gift #COVID19 has give me...   \n",
       "4  25 July : Media Bulletin on Novel #CoronaVirus...   \n",
       "\n",
       "                                             lowered  \n",
       "0  if i smelled the scent of hand sanitizers toda...  \n",
       "1  hey @yankees @yankeespr and @mlb - wouldn't it...  \n",
       "2  @diane3443 @wdunlap @realdonaldtrump trump nev...  \n",
       "3  @brookbanktv the one gift #covid19 has give me...  \n",
       "4  25 july : media bulletin on novel #coronavirus...  "
      ]
     },
     "execution_count": 80,
     "metadata": {},
     "output_type": "execute_result"
    }
   ],
   "source": [
    "tweets.head(5)"
   ]
  },
  {
   "cell_type": "markdown",
   "metadata": {
    "id": "yQvZ4S0aytbb"
   },
   "source": [
    "### Clean text punctuation marks"
   ]
  },
  {
   "cell_type": "code",
   "execution_count": 81,
   "metadata": {},
   "outputs": [],
   "source": [
    "import re"
   ]
  },
  {
   "cell_type": "code",
   "execution_count": 82,
   "metadata": {
    "id": "iY2uvfoQz2Dz"
   },
   "outputs": [],
   "source": [
    "tweets['lowered']=[re.sub(r'[^\\w\\s]','',text) for text in tweets['lowered']]"
   ]
  },
  {
   "cell_type": "code",
   "execution_count": 83,
   "metadata": {
    "colab": {
     "base_uri": "https://localhost:8080/",
     "height": 206
    },
    "id": "_1Kk_QZn0qtb",
    "outputId": "28359572-1235-4459-8a95-3c5ef5d95408"
   },
   "outputs": [
    {
     "data": {
      "text/html": [
       "<div>\n",
       "<style scoped>\n",
       "    .dataframe tbody tr th:only-of-type {\n",
       "        vertical-align: middle;\n",
       "    }\n",
       "\n",
       "    .dataframe tbody tr th {\n",
       "        vertical-align: top;\n",
       "    }\n",
       "\n",
       "    .dataframe thead th {\n",
       "        text-align: right;\n",
       "    }\n",
       "</style>\n",
       "<table border=\"1\" class=\"dataframe\">\n",
       "  <thead>\n",
       "    <tr style=\"text-align: right;\">\n",
       "      <th></th>\n",
       "      <th>text</th>\n",
       "      <th>lowered</th>\n",
       "    </tr>\n",
       "  </thead>\n",
       "  <tbody>\n",
       "    <tr>\n",
       "      <th>0</th>\n",
       "      <td>If I smelled the scent of hand sanitizers toda...</td>\n",
       "      <td>if i smelled the scent of hand sanitizers toda...</td>\n",
       "    </tr>\n",
       "    <tr>\n",
       "      <th>1</th>\n",
       "      <td>Hey @Yankees @YankeesPR and @MLB - wouldn't it...</td>\n",
       "      <td>hey yankees yankeespr and mlb  wouldnt it have...</td>\n",
       "    </tr>\n",
       "    <tr>\n",
       "      <th>2</th>\n",
       "      <td>@diane3443 @wdunlap @realDonaldTrump Trump nev...</td>\n",
       "      <td>diane3443 wdunlap realdonaldtrump trump never ...</td>\n",
       "    </tr>\n",
       "    <tr>\n",
       "      <th>3</th>\n",
       "      <td>@brookbanktv The one gift #COVID19 has give me...</td>\n",
       "      <td>brookbanktv the one gift covid19 has give me i...</td>\n",
       "    </tr>\n",
       "    <tr>\n",
       "      <th>4</th>\n",
       "      <td>25 July : Media Bulletin on Novel #CoronaVirus...</td>\n",
       "      <td>25 july  media bulletin on novel coronavirusup...</td>\n",
       "    </tr>\n",
       "  </tbody>\n",
       "</table>\n",
       "</div>"
      ],
      "text/plain": [
       "                                                text  \\\n",
       "0  If I smelled the scent of hand sanitizers toda...   \n",
       "1  Hey @Yankees @YankeesPR and @MLB - wouldn't it...   \n",
       "2  @diane3443 @wdunlap @realDonaldTrump Trump nev...   \n",
       "3  @brookbanktv The one gift #COVID19 has give me...   \n",
       "4  25 July : Media Bulletin on Novel #CoronaVirus...   \n",
       "\n",
       "                                             lowered  \n",
       "0  if i smelled the scent of hand sanitizers toda...  \n",
       "1  hey yankees yankeespr and mlb  wouldnt it have...  \n",
       "2  diane3443 wdunlap realdonaldtrump trump never ...  \n",
       "3  brookbanktv the one gift covid19 has give me i...  \n",
       "4  25 july  media bulletin on novel coronavirusup...  "
      ]
     },
     "execution_count": 83,
     "metadata": {},
     "output_type": "execute_result"
    }
   ],
   "source": [
    "tweets.head(5)"
   ]
  },
  {
   "cell_type": "markdown",
   "metadata": {
    "id": "S5WXcP9K1UlZ"
   },
   "source": [
    "### Tokenization\n",
    "Breaking down text into smaller pieces"
   ]
  },
  {
   "cell_type": "code",
   "execution_count": 84,
   "metadata": {
    "scrolled": false
   },
   "outputs": [],
   "source": [
    "import numpy as np"
   ]
  },
  {
   "cell_type": "code",
   "execution_count": 85,
   "metadata": {
    "id": "gCjjikwR1AVH"
   },
   "outputs": [],
   "source": [
    "tokened = tweets.apply(lambda row: nltk.word_tokenize(row['lowered']), axis=1)\n",
    "tweets['tokenized'] = tokened"
   ]
  },
  {
   "cell_type": "code",
   "execution_count": 86,
   "metadata": {
    "colab": {
     "base_uri": "https://localhost:8080/",
     "height": 201
    },
    "id": "eImJ-kVp2KG9",
    "outputId": "4b4c02ac-b054-4cd7-c7ed-5ca4eb2dc896"
   },
   "outputs": [
    {
     "data": {
      "text/html": [
       "<div>\n",
       "<style scoped>\n",
       "    .dataframe tbody tr th:only-of-type {\n",
       "        vertical-align: middle;\n",
       "    }\n",
       "\n",
       "    .dataframe tbody tr th {\n",
       "        vertical-align: top;\n",
       "    }\n",
       "\n",
       "    .dataframe thead th {\n",
       "        text-align: right;\n",
       "    }\n",
       "</style>\n",
       "<table border=\"1\" class=\"dataframe\">\n",
       "  <thead>\n",
       "    <tr style=\"text-align: right;\">\n",
       "      <th></th>\n",
       "      <th>text</th>\n",
       "      <th>lowered</th>\n",
       "      <th>tokenized</th>\n",
       "    </tr>\n",
       "  </thead>\n",
       "  <tbody>\n",
       "    <tr>\n",
       "      <th>0</th>\n",
       "      <td>If I smelled the scent of hand sanitizers toda...</td>\n",
       "      <td>if i smelled the scent of hand sanitizers toda...</td>\n",
       "      <td>[if, i, smelled, the, scent, of, hand, sanitiz...</td>\n",
       "    </tr>\n",
       "    <tr>\n",
       "      <th>1</th>\n",
       "      <td>Hey @Yankees @YankeesPR and @MLB - wouldn't it...</td>\n",
       "      <td>hey yankees yankeespr and mlb  wouldnt it have...</td>\n",
       "      <td>[hey, yankees, yankeespr, and, mlb, wouldnt, i...</td>\n",
       "    </tr>\n",
       "    <tr>\n",
       "      <th>2</th>\n",
       "      <td>@diane3443 @wdunlap @realDonaldTrump Trump nev...</td>\n",
       "      <td>diane3443 wdunlap realdonaldtrump trump never ...</td>\n",
       "      <td>[diane3443, wdunlap, realdonaldtrump, trump, n...</td>\n",
       "    </tr>\n",
       "    <tr>\n",
       "      <th>3</th>\n",
       "      <td>@brookbanktv The one gift #COVID19 has give me...</td>\n",
       "      <td>brookbanktv the one gift covid19 has give me i...</td>\n",
       "      <td>[brookbanktv, the, one, gift, covid19, has, gi...</td>\n",
       "    </tr>\n",
       "    <tr>\n",
       "      <th>4</th>\n",
       "      <td>25 July : Media Bulletin on Novel #CoronaVirus...</td>\n",
       "      <td>25 july  media bulletin on novel coronavirusup...</td>\n",
       "      <td>[25, july, media, bulletin, on, novel, coronav...</td>\n",
       "    </tr>\n",
       "  </tbody>\n",
       "</table>\n",
       "</div>"
      ],
      "text/plain": [
       "                                                text  \\\n",
       "0  If I smelled the scent of hand sanitizers toda...   \n",
       "1  Hey @Yankees @YankeesPR and @MLB - wouldn't it...   \n",
       "2  @diane3443 @wdunlap @realDonaldTrump Trump nev...   \n",
       "3  @brookbanktv The one gift #COVID19 has give me...   \n",
       "4  25 July : Media Bulletin on Novel #CoronaVirus...   \n",
       "\n",
       "                                             lowered  \\\n",
       "0  if i smelled the scent of hand sanitizers toda...   \n",
       "1  hey yankees yankeespr and mlb  wouldnt it have...   \n",
       "2  diane3443 wdunlap realdonaldtrump trump never ...   \n",
       "3  brookbanktv the one gift covid19 has give me i...   \n",
       "4  25 july  media bulletin on novel coronavirusup...   \n",
       "\n",
       "                                           tokenized  \n",
       "0  [if, i, smelled, the, scent, of, hand, sanitiz...  \n",
       "1  [hey, yankees, yankeespr, and, mlb, wouldnt, i...  \n",
       "2  [diane3443, wdunlap, realdonaldtrump, trump, n...  \n",
       "3  [brookbanktv, the, one, gift, covid19, has, gi...  \n",
       "4  [25, july, media, bulletin, on, novel, coronav...  "
      ]
     },
     "execution_count": 86,
     "metadata": {},
     "output_type": "execute_result"
    }
   ],
   "source": [
    "tweets.head(5)"
   ]
  },
  {
   "cell_type": "markdown",
   "metadata": {
    "id": "CtIYbeDI1XVx"
   },
   "source": [
    "### Cleaning text from stop words"
   ]
  },
  {
   "cell_type": "code",
   "execution_count": 17,
   "metadata": {},
   "outputs": [],
   "source": [
    "from nltk.corpus import stopwords"
   ]
  },
  {
   "cell_type": "code",
   "execution_count": 87,
   "metadata": {
    "id": "cxjQNIf50Cy2"
   },
   "outputs": [],
   "source": [
    "noise = stopwords.words('english')\n",
    "withoutstop = tweets['tokenized'].apply(lambda x: [item for item in x if item not in noise])\n",
    "without_stop = []\n",
    "for a in withoutstop:    \n",
    "    without_stop.append(\", \".join(a))\n",
    "tweets['without_stop'] = without_stop"
   ]
  },
  {
   "cell_type": "code",
   "execution_count": 88,
   "metadata": {
    "colab": {
     "base_uri": "https://localhost:8080/",
     "height": 337
    },
    "id": "LY3c6E7N0PNW",
    "outputId": "9b285ca6-4da6-478f-802b-b57ad5efc668"
   },
   "outputs": [
    {
     "data": {
      "text/html": [
       "<div>\n",
       "<style scoped>\n",
       "    .dataframe tbody tr th:only-of-type {\n",
       "        vertical-align: middle;\n",
       "    }\n",
       "\n",
       "    .dataframe tbody tr th {\n",
       "        vertical-align: top;\n",
       "    }\n",
       "\n",
       "    .dataframe thead th {\n",
       "        text-align: right;\n",
       "    }\n",
       "</style>\n",
       "<table border=\"1\" class=\"dataframe\">\n",
       "  <thead>\n",
       "    <tr style=\"text-align: right;\">\n",
       "      <th></th>\n",
       "      <th>text</th>\n",
       "      <th>lowered</th>\n",
       "      <th>tokenized</th>\n",
       "      <th>without_stop</th>\n",
       "    </tr>\n",
       "  </thead>\n",
       "  <tbody>\n",
       "    <tr>\n",
       "      <th>0</th>\n",
       "      <td>If I smelled the scent of hand sanitizers toda...</td>\n",
       "      <td>if i smelled the scent of hand sanitizers toda...</td>\n",
       "      <td>[if, i, smelled, the, scent, of, hand, sanitiz...</td>\n",
       "      <td>smelled, scent, hand, sanitizers, today, someo...</td>\n",
       "    </tr>\n",
       "    <tr>\n",
       "      <th>1</th>\n",
       "      <td>Hey @Yankees @YankeesPR and @MLB - wouldn't it...</td>\n",
       "      <td>hey yankees yankeespr and mlb  wouldnt it have...</td>\n",
       "      <td>[hey, yankees, yankeespr, and, mlb, wouldnt, i...</td>\n",
       "      <td>hey, yankees, yankeespr, mlb, wouldnt, made, s...</td>\n",
       "    </tr>\n",
       "    <tr>\n",
       "      <th>2</th>\n",
       "      <td>@diane3443 @wdunlap @realDonaldTrump Trump nev...</td>\n",
       "      <td>diane3443 wdunlap realdonaldtrump trump never ...</td>\n",
       "      <td>[diane3443, wdunlap, realdonaldtrump, trump, n...</td>\n",
       "      <td>diane3443, wdunlap, realdonaldtrump, trump, ne...</td>\n",
       "    </tr>\n",
       "    <tr>\n",
       "      <th>3</th>\n",
       "      <td>@brookbanktv The one gift #COVID19 has give me...</td>\n",
       "      <td>brookbanktv the one gift covid19 has give me i...</td>\n",
       "      <td>[brookbanktv, the, one, gift, covid19, has, gi...</td>\n",
       "      <td>brookbanktv, one, gift, covid19, give, appreci...</td>\n",
       "    </tr>\n",
       "    <tr>\n",
       "      <th>4</th>\n",
       "      <td>25 July : Media Bulletin on Novel #CoronaVirus...</td>\n",
       "      <td>25 july  media bulletin on novel coronavirusup...</td>\n",
       "      <td>[25, july, media, bulletin, on, novel, coronav...</td>\n",
       "      <td>25, july, media, bulletin, novel, coronavirusu...</td>\n",
       "    </tr>\n",
       "  </tbody>\n",
       "</table>\n",
       "</div>"
      ],
      "text/plain": [
       "                                                text  \\\n",
       "0  If I smelled the scent of hand sanitizers toda...   \n",
       "1  Hey @Yankees @YankeesPR and @MLB - wouldn't it...   \n",
       "2  @diane3443 @wdunlap @realDonaldTrump Trump nev...   \n",
       "3  @brookbanktv The one gift #COVID19 has give me...   \n",
       "4  25 July : Media Bulletin on Novel #CoronaVirus...   \n",
       "\n",
       "                                             lowered  \\\n",
       "0  if i smelled the scent of hand sanitizers toda...   \n",
       "1  hey yankees yankeespr and mlb  wouldnt it have...   \n",
       "2  diane3443 wdunlap realdonaldtrump trump never ...   \n",
       "3  brookbanktv the one gift covid19 has give me i...   \n",
       "4  25 july  media bulletin on novel coronavirusup...   \n",
       "\n",
       "                                           tokenized  \\\n",
       "0  [if, i, smelled, the, scent, of, hand, sanitiz...   \n",
       "1  [hey, yankees, yankeespr, and, mlb, wouldnt, i...   \n",
       "2  [diane3443, wdunlap, realdonaldtrump, trump, n...   \n",
       "3  [brookbanktv, the, one, gift, covid19, has, gi...   \n",
       "4  [25, july, media, bulletin, on, novel, coronav...   \n",
       "\n",
       "                                        without_stop  \n",
       "0  smelled, scent, hand, sanitizers, today, someo...  \n",
       "1  hey, yankees, yankeespr, mlb, wouldnt, made, s...  \n",
       "2  diane3443, wdunlap, realdonaldtrump, trump, ne...  \n",
       "3  brookbanktv, one, gift, covid19, give, appreci...  \n",
       "4  25, july, media, bulletin, novel, coronavirusu...  "
      ]
     },
     "execution_count": 88,
     "metadata": {},
     "output_type": "execute_result"
    }
   ],
   "source": [
    "tweets.head(5)"
   ]
  },
  {
   "cell_type": "markdown",
   "metadata": {
    "id": "oRTbKRs40Kmn"
   },
   "source": [
    "### Lemmatization \n",
    "Reducing words to its base"
   ]
  },
  {
   "cell_type": "code",
   "execution_count": 20,
   "metadata": {},
   "outputs": [],
   "source": [
    "from nltk.stem import WordNetLemmatizer\n",
    "from nltk.tokenize import word_tokenize"
   ]
  },
  {
   "cell_type": "code",
   "execution_count": 89,
   "metadata": {
    "id": "hJHV49R30KOx"
   },
   "outputs": [],
   "source": [
    "lemmatizer = WordNetLemmatizer()\n",
    "\n",
    "def lemmatize_text(text):\n",
    "    tokens = nltk.word_tokenize(text)\n",
    "    lemmatized_tokens = [lemmatizer.lemmatize(token) for token in tokens]\n",
    "    return ' '.join(lemmatized_tokens)"
   ]
  },
  {
   "cell_type": "code",
   "execution_count": 90,
   "metadata": {
    "id": "v-w591Lr1_6m",
    "scrolled": false
   },
   "outputs": [],
   "source": [
    "tweets['lemmatized'] = tweets['without_stop'].apply(lemmatize_text)"
   ]
  },
  {
   "cell_type": "code",
   "execution_count": 91,
   "metadata": {
    "id": "HvkMcxJl3Axy"
   },
   "outputs": [],
   "source": [
    "tweets['text']=tweets['lemmatized']\n",
    "tweets=tweets[['text']]"
   ]
  },
  {
   "cell_type": "code",
   "execution_count": 92,
   "metadata": {
    "colab": {
     "base_uri": "https://localhost:8080/",
     "height": 206
    },
    "id": "MGxr_xJY1Jec",
    "outputId": "7b7d3536-3711-414f-e2dc-95682bcd03be"
   },
   "outputs": [
    {
     "data": {
      "text/html": [
       "<div>\n",
       "<style scoped>\n",
       "    .dataframe tbody tr th:only-of-type {\n",
       "        vertical-align: middle;\n",
       "    }\n",
       "\n",
       "    .dataframe tbody tr th {\n",
       "        vertical-align: top;\n",
       "    }\n",
       "\n",
       "    .dataframe thead th {\n",
       "        text-align: right;\n",
       "    }\n",
       "</style>\n",
       "<table border=\"1\" class=\"dataframe\">\n",
       "  <thead>\n",
       "    <tr style=\"text-align: right;\">\n",
       "      <th></th>\n",
       "      <th>text</th>\n",
       "    </tr>\n",
       "  </thead>\n",
       "  <tbody>\n",
       "    <tr>\n",
       "      <th>0</th>\n",
       "      <td>smelled , scent , hand , sanitizers , today , ...</td>\n",
       "    </tr>\n",
       "    <tr>\n",
       "      <th>1</th>\n",
       "      <td>hey , yankee , yankeespr , mlb , wouldnt , mad...</td>\n",
       "    </tr>\n",
       "    <tr>\n",
       "      <th>2</th>\n",
       "      <td>diane3443 , wdunlap , realdonaldtrump , trump ...</td>\n",
       "    </tr>\n",
       "    <tr>\n",
       "      <th>3</th>\n",
       "      <td>brookbanktv , one , gift , covid19 , give , ap...</td>\n",
       "    </tr>\n",
       "    <tr>\n",
       "      <th>4</th>\n",
       "      <td>25 , july , medium , bulletin , novel , corona...</td>\n",
       "    </tr>\n",
       "  </tbody>\n",
       "</table>\n",
       "</div>"
      ],
      "text/plain": [
       "                                                text\n",
       "0  smelled , scent , hand , sanitizers , today , ...\n",
       "1  hey , yankee , yankeespr , mlb , wouldnt , mad...\n",
       "2  diane3443 , wdunlap , realdonaldtrump , trump ...\n",
       "3  brookbanktv , one , gift , covid19 , give , ap...\n",
       "4  25 , july , medium , bulletin , novel , corona..."
      ]
     },
     "execution_count": 92,
     "metadata": {},
     "output_type": "execute_result"
    }
   ],
   "source": [
    "tweets.head(5)"
   ]
  },
  {
   "cell_type": "code",
   "execution_count": 93,
   "metadata": {},
   "outputs": [],
   "source": [
    "tweets['text']=[re.sub(r'[^\\w\\s]','',text) for text in tweets['text']]"
   ]
  },
  {
   "cell_type": "code",
   "execution_count": 94,
   "metadata": {},
   "outputs": [
    {
     "data": {
      "text/html": [
       "<div>\n",
       "<style scoped>\n",
       "    .dataframe tbody tr th:only-of-type {\n",
       "        vertical-align: middle;\n",
       "    }\n",
       "\n",
       "    .dataframe tbody tr th {\n",
       "        vertical-align: top;\n",
       "    }\n",
       "\n",
       "    .dataframe thead th {\n",
       "        text-align: right;\n",
       "    }\n",
       "</style>\n",
       "<table border=\"1\" class=\"dataframe\">\n",
       "  <thead>\n",
       "    <tr style=\"text-align: right;\">\n",
       "      <th></th>\n",
       "      <th>text</th>\n",
       "    </tr>\n",
       "  </thead>\n",
       "  <tbody>\n",
       "    <tr>\n",
       "      <th>0</th>\n",
       "      <td>smelled  scent  hand  sanitizers  today  someo...</td>\n",
       "    </tr>\n",
       "    <tr>\n",
       "      <th>1</th>\n",
       "      <td>hey  yankee  yankeespr  mlb  wouldnt  made  se...</td>\n",
       "    </tr>\n",
       "    <tr>\n",
       "      <th>2</th>\n",
       "      <td>diane3443  wdunlap  realdonaldtrump  trump  ne...</td>\n",
       "    </tr>\n",
       "    <tr>\n",
       "      <th>3</th>\n",
       "      <td>brookbanktv  one  gift  covid19  give  appreci...</td>\n",
       "    </tr>\n",
       "    <tr>\n",
       "      <th>4</th>\n",
       "      <td>25  july  medium  bulletin  novel  coronavirus...</td>\n",
       "    </tr>\n",
       "    <tr>\n",
       "      <th>...</th>\n",
       "      <td>...</td>\n",
       "    </tr>\n",
       "    <tr>\n",
       "      <th>179103</th>\n",
       "      <td>thanks  iamohmai  nominating  wearamask  chall...</td>\n",
       "    </tr>\n",
       "    <tr>\n",
       "      <th>179104</th>\n",
       "      <td>2020  year  insanity  lol  covid19  httpstcoy4...</td>\n",
       "    </tr>\n",
       "    <tr>\n",
       "      <th>179105</th>\n",
       "      <td>ctvnews  powerful  painting  juan  lucena  tri...</td>\n",
       "    </tr>\n",
       "    <tr>\n",
       "      <th>179106</th>\n",
       "      <td>1200  student  test  positive  covid19  major ...</td>\n",
       "    </tr>\n",
       "    <tr>\n",
       "      <th>179107</th>\n",
       "      <td>stop  see  stop  sabcnews  izindabanews24  dai...</td>\n",
       "    </tr>\n",
       "  </tbody>\n",
       "</table>\n",
       "<p>179108 rows × 1 columns</p>\n",
       "</div>"
      ],
      "text/plain": [
       "                                                     text\n",
       "0       smelled  scent  hand  sanitizers  today  someo...\n",
       "1       hey  yankee  yankeespr  mlb  wouldnt  made  se...\n",
       "2       diane3443  wdunlap  realdonaldtrump  trump  ne...\n",
       "3       brookbanktv  one  gift  covid19  give  appreci...\n",
       "4       25  july  medium  bulletin  novel  coronavirus...\n",
       "...                                                   ...\n",
       "179103  thanks  iamohmai  nominating  wearamask  chall...\n",
       "179104  2020  year  insanity  lol  covid19  httpstcoy4...\n",
       "179105  ctvnews  powerful  painting  juan  lucena  tri...\n",
       "179106  1200  student  test  positive  covid19  major ...\n",
       "179107  stop  see  stop  sabcnews  izindabanews24  dai...\n",
       "\n",
       "[179108 rows x 1 columns]"
      ]
     },
     "execution_count": 94,
     "metadata": {},
     "output_type": "execute_result"
    }
   ],
   "source": [
    "tweets"
   ]
  },
  {
   "cell_type": "markdown",
   "metadata": {
    "id": "UR7fEDm13Q85"
   },
   "source": [
    "### Create a dictionary of the words and frequencies"
   ]
  },
  {
   "cell_type": "code",
   "execution_count": 25,
   "metadata": {},
   "outputs": [],
   "source": [
    "import gensim\n",
    "from gensim import corpora"
   ]
  },
  {
   "cell_type": "code",
   "execution_count": 95,
   "metadata": {
    "id": "1rc0BDbV6nZf"
   },
   "outputs": [],
   "source": [
    "tokenized_text = [word_tokenize(text) for text in tweets['text']]"
   ]
  },
  {
   "cell_type": "code",
   "execution_count": 96,
   "metadata": {
    "colab": {
     "base_uri": "https://localhost:8080/",
     "height": 165
    },
    "id": "cquXq16k3Kix",
    "outputId": "af8d3075-5dc5-4c48-c933-00ecf3414b3f"
   },
   "outputs": [],
   "source": [
    "dictionary = corpora.Dictionary(tokenized_text)"
   ]
  },
  {
   "cell_type": "code",
   "execution_count": 97,
   "metadata": {
    "id": "giPp2gKK7c_i"
   },
   "outputs": [
    {
     "name": "stdout",
     "output_type": "stream",
     "text": [
      "Dictionary<323407 unique tokens: ['hand', 'httpstcoqzvybrogb0', 'intoxicated', 'past', 'sanitizers']...>\n"
     ]
    }
   ],
   "source": [
    "print (dictionary)"
   ]
  },
  {
   "cell_type": "code",
   "execution_count": 98,
   "metadata": {},
   "outputs": [],
   "source": [
    "dictionary.filter_extremes(no_below=2, no_above=1.0)"
   ]
  },
  {
   "cell_type": "code",
   "execution_count": 99,
   "metadata": {
    "colab": {
     "base_uri": "https://localhost:8080/"
    },
    "id": "kJZb3-r5_lQf",
    "outputId": "a967c67a-cba8-4cf1-95e8-948db80045b8"
   },
   "outputs": [],
   "source": [
    "corpus = [dictionary.doc2bow(doc) for doc in tokenized_text]"
   ]
  },
  {
   "cell_type": "markdown",
   "metadata": {
    "id": "7TwF4uSG7uAW"
   },
   "source": [
    "### Explore hidden toppics using LDA model\n",
    "Choosing the optimal number of topics"
   ]
  },
  {
   "cell_type": "code",
   "execution_count": 31,
   "metadata": {},
   "outputs": [],
   "source": [
    "from gensim.models.ldamulticore import LdaMulticore\n",
    "from gensim.models.coherencemodel import CoherenceModel"
   ]
  },
  {
   "cell_type": "markdown",
   "metadata": {
    "id": "j3NnOF1hMXyz"
   },
   "source": [
    "Model №1 \\\n",
    "10 topics"
   ]
  },
  {
   "cell_type": "code",
   "execution_count": 100,
   "metadata": {
    "colab": {
     "base_uri": "https://localhost:8080/"
    },
    "id": "xTwdRnEo345T",
    "outputId": "82d6314d-1f45-48e6-b7e4-136278103021"
   },
   "outputs": [],
   "source": [
    "model1=LdaMulticore(corpus=corpus, id2word=dictionary, num_topics=int(10), \n",
    "random_state=200, workers=4)"
   ]
  },
  {
   "cell_type": "code",
   "execution_count": 101,
   "metadata": {
    "id": "qPwG7YQpKGKV"
   },
   "outputs": [],
   "source": [
    "coherence_model_1 = CoherenceModel(model=model1, texts=tokenized_text, \n",
    "dictionary=dictionary, coherence='c_v')"
   ]
  },
  {
   "cell_type": "code",
   "execution_count": 102,
   "metadata": {
    "colab": {
     "base_uri": "https://localhost:8080/"
    },
    "id": "HVSjiMrwK71S",
    "outputId": "7633acdc-f8dd-40e6-b3c3-242a0a26ff05"
   },
   "outputs": [
    {
     "name": "stdout",
     "output_type": "stream",
     "text": [
      "Coherence Score: 0.3374299778908865\n"
     ]
    }
   ],
   "source": [
    "coherence_score = coherence_model_1.get_coherence()\n",
    "print('Coherence Score:', coherence_score)"
   ]
  },
  {
   "cell_type": "markdown",
   "metadata": {
    "id": "Wz7S11DdMhpq"
   },
   "source": [
    "Model №2 \\\n",
    "5 topics"
   ]
  },
  {
   "cell_type": "code",
   "execution_count": 103,
   "metadata": {
    "colab": {
     "base_uri": "https://localhost:8080/"
    },
    "id": "y2GcD3xlLUJA",
    "outputId": "91083e89-71c4-40d1-ad24-ae6bac2fb398"
   },
   "outputs": [],
   "source": [
    "model2=LdaMulticore(corpus=corpus, id2word=dictionary, num_topics=5, \n",
    "random_state=200, workers=4)"
   ]
  },
  {
   "cell_type": "code",
   "execution_count": 104,
   "metadata": {
    "colab": {
     "base_uri": "https://localhost:8080/"
    },
    "id": "fwMG1dKMLfix",
    "outputId": "91ccb97d-6572-4a6f-c698-a4fa3aff05dc"
   },
   "outputs": [],
   "source": [
    "coherence_model_2 = CoherenceModel(model=model2, texts=tokenized_text, \n",
    "dictionary=dictionary, coherence='c_v')"
   ]
  },
  {
   "cell_type": "code",
   "execution_count": 105,
   "metadata": {
    "colab": {
     "base_uri": "https://localhost:8080/"
    },
    "id": "ml_XruFVLiX_",
    "outputId": "01827824-56dd-4e0e-a9ea-97e85416e7ad"
   },
   "outputs": [
    {
     "name": "stdout",
     "output_type": "stream",
     "text": [
      "Coherence Score: 0.3380652914875481\n"
     ]
    }
   ],
   "source": [
    "coherence_score = coherence_model_2.get_coherence()\n",
    "print('Coherence Score:', coherence_score)"
   ]
  },
  {
   "cell_type": "markdown",
   "metadata": {
    "id": "rooltxV1Mlmg"
   },
   "source": [
    "Model №3 \\\n",
    "20 topics"
   ]
  },
  {
   "cell_type": "code",
   "execution_count": 106,
   "metadata": {
    "colab": {
     "base_uri": "https://localhost:8080/"
    },
    "id": "k4_R-67GLjxz",
    "outputId": "683623f7-c90f-4268-c44e-928684c15648"
   },
   "outputs": [],
   "source": [
    "model3=LdaMulticore(corpus=corpus, id2word=dictionary, num_topics=20, \n",
    "random_state=200, workers=4)"
   ]
  },
  {
   "cell_type": "code",
   "execution_count": 107,
   "metadata": {
    "colab": {
     "base_uri": "https://localhost:8080/"
    },
    "id": "o6J6XGgdLohP",
    "outputId": "f6e0a6e0-90ff-49c8-ae5c-50ad65e35031"
   },
   "outputs": [],
   "source": [
    "coherence_model_3 = CoherenceModel(model=model3, texts=tokenized_text, \n",
    "dictionary=dictionary, coherence='c_v')"
   ]
  },
  {
   "cell_type": "code",
   "execution_count": 108,
   "metadata": {
    "colab": {
     "base_uri": "https://localhost:8080/"
    },
    "id": "yOkTgl8kLra6",
    "outputId": "454c57b3-aed3-438d-8b57-e04183a0bd01"
   },
   "outputs": [
    {
     "name": "stdout",
     "output_type": "stream",
     "text": [
      "Coherence Score: 0.3142190248360908\n"
     ]
    }
   ],
   "source": [
    "coherence_score = coherence_model_3.get_coherence()\n",
    "print('Coherence Score:', coherence_score)"
   ]
  },
  {
   "cell_type": "markdown",
   "metadata": {
    "id": "wJPFxB8ZMLv6"
   },
   "source": [
    "Model 2 with 5 topics has the highest score = 0,338"
   ]
  },
  {
   "cell_type": "markdown",
   "metadata": {
    "id": "JfTXW3qSLLNB"
   },
   "source": [
    "### Result's visualization"
   ]
  },
  {
   "cell_type": "code",
   "execution_count": 41,
   "metadata": {
    "collapsed": true
   },
   "outputs": [
    {
     "name": "stdout",
     "output_type": "stream",
     "text": [
      "Requirement already satisfied: pyLDAvis==2.1.2 in /Library/Frameworks/Python.framework/Versions/3.10/lib/python3.10/site-packages (2.1.2)\n",
      "Requirement already satisfied: pytest in /Library/Frameworks/Python.framework/Versions/3.10/lib/python3.10/site-packages (from pyLDAvis==2.1.2) (7.3.1)\n",
      "Requirement already satisfied: joblib>=0.8.4 in /Library/Frameworks/Python.framework/Versions/3.10/lib/python3.10/site-packages (from pyLDAvis==2.1.2) (1.2.0)\n",
      "Requirement already satisfied: jinja2>=2.7.2 in /Library/Frameworks/Python.framework/Versions/3.10/lib/python3.10/site-packages (from pyLDAvis==2.1.2) (3.1.2)\n",
      "Requirement already satisfied: future in /Library/Frameworks/Python.framework/Versions/3.10/lib/python3.10/site-packages (from pyLDAvis==2.1.2) (0.18.3)\n",
      "Requirement already satisfied: funcy in /Library/Frameworks/Python.framework/Versions/3.10/lib/python3.10/site-packages (from pyLDAvis==2.1.2) (2.0)\n",
      "Requirement already satisfied: numpy>=1.9.2 in /Library/Frameworks/Python.framework/Versions/3.10/lib/python3.10/site-packages (from pyLDAvis==2.1.2) (1.23.5)\n",
      "Requirement already satisfied: pandas>=0.17.0 in /Library/Frameworks/Python.framework/Versions/3.10/lib/python3.10/site-packages (from pyLDAvis==2.1.2) (1.5.3)\n",
      "Requirement already satisfied: scipy>=0.18.0 in /Library/Frameworks/Python.framework/Versions/3.10/lib/python3.10/site-packages (from pyLDAvis==2.1.2) (1.10.1)\n",
      "Requirement already satisfied: numexpr in /Library/Frameworks/Python.framework/Versions/3.10/lib/python3.10/site-packages (from pyLDAvis==2.1.2) (2.8.4)\n",
      "Requirement already satisfied: wheel>=0.23.0 in /Library/Frameworks/Python.framework/Versions/3.10/lib/python3.10/site-packages (from pyLDAvis==2.1.2) (0.40.0)\n",
      "Requirement already satisfied: MarkupSafe>=2.0 in /Library/Frameworks/Python.framework/Versions/3.10/lib/python3.10/site-packages (from jinja2>=2.7.2->pyLDAvis==2.1.2) (2.1.1)\n",
      "Requirement already satisfied: pytz>=2020.1 in /Library/Frameworks/Python.framework/Versions/3.10/lib/python3.10/site-packages (from pandas>=0.17.0->pyLDAvis==2.1.2) (2023.3)\n",
      "Requirement already satisfied: python-dateutil>=2.8.1 in /Library/Frameworks/Python.framework/Versions/3.10/lib/python3.10/site-packages (from pandas>=0.17.0->pyLDAvis==2.1.2) (2.8.2)\n",
      "Requirement already satisfied: pluggy<2.0,>=0.12 in /Library/Frameworks/Python.framework/Versions/3.10/lib/python3.10/site-packages (from pytest->pyLDAvis==2.1.2) (1.0.0)\n",
      "Requirement already satisfied: exceptiongroup>=1.0.0rc8 in /Library/Frameworks/Python.framework/Versions/3.10/lib/python3.10/site-packages (from pytest->pyLDAvis==2.1.2) (1.1.1)\n",
      "Requirement already satisfied: iniconfig in /Library/Frameworks/Python.framework/Versions/3.10/lib/python3.10/site-packages (from pytest->pyLDAvis==2.1.2) (2.0.0)\n",
      "Requirement already satisfied: tomli>=1.0.0 in /Library/Frameworks/Python.framework/Versions/3.10/lib/python3.10/site-packages (from pytest->pyLDAvis==2.1.2) (2.0.1)\n",
      "Requirement already satisfied: packaging in /Library/Frameworks/Python.framework/Versions/3.10/lib/python3.10/site-packages (from pytest->pyLDAvis==2.1.2) (23.1)\n",
      "Requirement already satisfied: six>=1.5 in /Library/Frameworks/Python.framework/Versions/3.10/lib/python3.10/site-packages (from python-dateutil>=2.8.1->pandas>=0.17.0->pyLDAvis==2.1.2) (1.16.0)\n",
      "\n",
      "\u001b[1m[\u001b[0m\u001b[34;49mnotice\u001b[0m\u001b[1;39;49m]\u001b[0m\u001b[39;49m A new release of pip is available: \u001b[0m\u001b[31;49m23.0.1\u001b[0m\u001b[39;49m -> \u001b[0m\u001b[32;49m23.1.2\u001b[0m\n",
      "\u001b[1m[\u001b[0m\u001b[34;49mnotice\u001b[0m\u001b[1;39;49m]\u001b[0m\u001b[39;49m To update, run: \u001b[0m\u001b[32;49mpip install --upgrade pip\u001b[0m\n"
     ]
    }
   ],
   "source": [
    "!pip install pyLDAvis==2.1.2"
   ]
  },
  {
   "cell_type": "code",
   "execution_count": 42,
   "metadata": {
    "collapsed": true
   },
   "outputs": [
    {
     "name": "stdout",
     "output_type": "stream",
     "text": [
      "Requirement already satisfied: pandas==1.5.3 in /Library/Frameworks/Python.framework/Versions/3.10/lib/python3.10/site-packages (1.5.3)\n",
      "Requirement already satisfied: python-dateutil>=2.8.1 in /Library/Frameworks/Python.framework/Versions/3.10/lib/python3.10/site-packages (from pandas==1.5.3) (2.8.2)\n",
      "Requirement already satisfied: numpy>=1.21.0 in /Library/Frameworks/Python.framework/Versions/3.10/lib/python3.10/site-packages (from pandas==1.5.3) (1.23.5)\n",
      "Requirement already satisfied: pytz>=2020.1 in /Library/Frameworks/Python.framework/Versions/3.10/lib/python3.10/site-packages (from pandas==1.5.3) (2023.3)\n",
      "Requirement already satisfied: six>=1.5 in /Library/Frameworks/Python.framework/Versions/3.10/lib/python3.10/site-packages (from python-dateutil>=2.8.1->pandas==1.5.3) (1.16.0)\n",
      "\n",
      "\u001b[1m[\u001b[0m\u001b[34;49mnotice\u001b[0m\u001b[1;39;49m]\u001b[0m\u001b[39;49m A new release of pip is available: \u001b[0m\u001b[31;49m23.0.1\u001b[0m\u001b[39;49m -> \u001b[0m\u001b[32;49m23.1.2\u001b[0m\n",
      "\u001b[1m[\u001b[0m\u001b[34;49mnotice\u001b[0m\u001b[1;39;49m]\u001b[0m\u001b[39;49m To update, run: \u001b[0m\u001b[32;49mpip install --upgrade pip\u001b[0m\n"
     ]
    }
   ],
   "source": [
    "!pip install pandas==1.5.3"
   ]
  },
  {
   "cell_type": "code",
   "execution_count": 43,
   "metadata": {},
   "outputs": [],
   "source": [
    "import pyLDAvis\n",
    "import pyLDAvis.gensim"
   ]
  },
  {
   "cell_type": "code",
   "execution_count": 109,
   "metadata": {},
   "outputs": [],
   "source": [
    "pyLDAvis.enable_notebook()"
   ]
  },
  {
   "cell_type": "code",
   "execution_count": 110,
   "metadata": {
    "colab": {
     "base_uri": "https://localhost:8080/",
     "height": 1000
    },
    "id": "cXDIshyc_ESa",
    "outputId": "6354e325-7fa6-400a-8861-5419259db316"
   },
   "outputs": [
    {
     "name": "stderr",
     "output_type": "stream",
     "text": [
      "/Library/Frameworks/Python.framework/Versions/3.10/lib/python3.10/site-packages/pyLDAvis/_prepare.py:232: FutureWarning: In a future version of pandas all arguments of DataFrame.drop except for the argument 'labels' will be keyword-only.\n",
      "  head(R).drop('saliency', 1)\n"
     ]
    }
   ],
   "source": [
    "vis = pyLDAvis.gensim.prepare(model2, corpus, dictionary)"
   ]
  },
  {
   "cell_type": "code",
   "execution_count": 111,
   "metadata": {
    "colab": {
     "base_uri": "https://localhost:8080/",
     "height": 211
    },
    "id": "AjXEj1aPBD5O",
    "outputId": "dc0dd43d-0ef3-4628-93d9-557ba6bfb259",
    "scrolled": true
   },
   "outputs": [
    {
     "data": {
      "text/html": [
       "\n",
       "<link rel=\"stylesheet\" type=\"text/css\" href=\"https://cdn.rawgit.com/bmabey/pyLDAvis/files/ldavis.v1.0.0.css\">\n",
       "\n",
       "\n",
       "<div id=\"ldavis_el1020458948036807202518401\"></div>\n",
       "<script type=\"text/javascript\">\n",
       "\n",
       "var ldavis_el1020458948036807202518401_data = {\"mdsDat\": {\"x\": [-0.10408246656702404, 0.2117060174907866, -0.08476250226832537, 0.015227520402106924, -0.03808856905754433], \"y\": [-0.02652178764417147, 0.006448666751073555, -0.03257957121552997, -0.09156213369838347, 0.14421482580701134], \"topics\": [1, 2, 3, 4, 5], \"cluster\": [1, 1, 1, 1, 1], \"Freq\": [28.263438228554982, 21.126317327903095, 20.166299963585747, 16.06422496007081, 14.37971951988537]}, \"tinfo\": {\"Term\": [\"case\", \"death\", \"new\", \"total\", \"coronavirus\", \"india\", \"spread\", \"reported\", \"confirmed\", \"many\", \"update\", \"24\", \"number\", \"last\", \"positive\", \"need\", \"vaccine\", \"hour\", \"help\", \"august\", \"report\", \"covid19\", \"2\", \"mask\", \"tally\", \"day\", \"symptom\", \"active\", \"hospital\", \"blood\", \"ganesh\", \"bitcoin\", \"neet\", \"jee\", \"auckland\", \"94\", \"ganesha\", \"destination\", \"telegraph\", \"survived\", \"angry\", \"lasting\", \"ballot\", \"chaturthi\", \"stupidity\", \"fyi\", \"jim_jordan\", \"tap\", \"rare\", \"erictrump\", \"sundaythoughts\", \"andersoncooper\", \"trumpfailedamerica\", \"flotus\", \"proved\", \"anderson\", \"lindseygrahamsc\", \"trumpisnotwell\", \"hancock\", \"ardern\", \"willing\", \"caring\", \"catching\", \"mentalhealth\", \"counted\", \"auspol\", \"vision\", \"trumpvirus\", \"lord\", \"bless\", \"bet\", \"played\", \"never\", \"mail\", \"cloth\", \"gon\", \"nose\", \"true\", \"face\", \"right\", \"make\", \"doubt\", \"democrat\", \"realdonaldtrump\", \"get\", \"thing\", \"nov3\", \"like\", \"wearing\", \"mask\", \"oh\", \"god\", \"anyone\", \"feel\", \"going\", \"know\", \"im\", \"back\", \"future\", \"covid19\", \"dont\", \"good\", \"read\", \"go\", \"amp\", \"let\", \"u\", \"pandemic\", \"look\", \"want\", \"people\", \"time\", \"trump\", \"say\", \"would\", \"coronavirus\", \"work\", \"life\", \"health\", \"coronavirusupdate\", \"gmt\", \"coronaviruspandemic\", \"941\", \"covidupdateeu\", \"1007\", \"944\", \"fatal\", \"jamaica\", \"modified\", \"fm\", \"burn\", \"fallen\", \"apartment\", \"breakdown\", \"66\", \"netherlands\", \"sum\", \"803\", \"declining\", \"repor\", \"seanhannity\", \"pima\", \"deat\", \"abortion\", \"presidentakufoaddospeaksoncoronavirus\", \"outline\", \"bhutan\", \"karma\", \"225\", \"recorded\", \"tally\", \"total\", \"tot\", \"residential\", \"singleday\", \"estimated\", \"death\", \"24\", \"spike\", \"confirmed\", \"toll\", \"lakh\", \"milestone\", \"surpassed\", \"cross\", \"case\", \"reported\", \"fatality\", \"2019ncov\", \"india\", \"hour\", \"active\", \"highest\", \"coronavirusupdates\", \"bringing\", \"new\", \"update\", \"last\", \"sample\", \"number\", \"positive\", \"rate\", \"report\", \"coronavirus\", \"recovery\", \"rise\", \"august\", \"tested\", \"covid19\", \"recovered\", \"infection\", \"corona\", \"today\", \"day\", \"2020\", \"state\", \"test\", \"covid\", \"people\", \"news\", \"amp\", \"kamalaharris\", \"vladimir\", \"wine\", \"pillow\", \"condolence\", \"8th\", \"shelter\", \"ph\", \"washingtonpost\", \"mission\", \"communist\", \"ed\", \"estate\", \"kitateguhkitamenang\", \"204\", \"electricity\", \"donaldjtrumpjr\", \"selfreporting\", \"editorial\", \"adjust\", \"limeng\", \"approaching\", \"piersmorgan\", \"coronavirusvaccine\", \"yan\", \"embrace\", \"corrupt\", \"adriandix\", \"mining\", \"alberta\", \"sooner\", \"identify\", \"slow\", \"smartphones\", \"distributed\", \"bpositive\", \"symptom\", \"spread\", \"usps\", \"physical\", \"distancing\", \"economics\", \"finance\", \"hotel\", \"smell\", \"risk\", \"help\", \"deserve\", \"prevent\", \"young\", \"guide\", \"drtedros\", \"together\", \"hand\", \"learning\", \"social\", \"please\", \"take\", \"even\", \"safe\", \"keep\", \"stop\", \"covid19\", \"party\", \"kid\", \"support\", \"better\", \"school\", \"mask\", \"amp\", \"one\", \"need\", \"trump\", \"health\", \"people\", \"pandemic\", \"u\", \"time\", \"coronavirus\", \"daily\", \"today\", \"covid\", \"case\", \"authorize\", \"httpstcofykxuxn0aw\", \"15th\", \"controlled\", \"diet\", \"16th\", \"remaining\", \"vega\", \"gladysb\", \"midnight\", \"placement\", \"approves\", \"20000\", \"permission\", \"mha\", \"bigdata\", \"dg_nta\", \"specialist\", \"absenteeballot\", \"lining\", \"helpline\", \"30days30videos\", \"kingdom\", \"efficacy\", \"egg\", \"hiding\", \"insider\", \"ke\", \"malawi\", \"covid19update\", \"bbnaijalockdown\", \"faculty\", \"gopleader\", \"patent\", \"abo\", \"digitaltransformation\", \"virginia\", \"trial\", \"clinical\", \"vast\", \"phase\", \"ethiopia\", \"realdonaldtrumps\", \"avg\", \"virtual\", \"copy\", \"aug\", \"reopened\", \"intelligence\", \"deliver\", \"dealing\", \"tracing\", \"entering\", \"conducted\", \"compare\", \"postpone\", \"contact\", \"rapid\", \"vaccine\", \"amount\", \"2\", \"worldwide\", \"first\", \"reopening\", \"sign\", \"see\", \"grant\", \"day\", \"1\", \"announced\", \"covid19\", \"business\", \"since\", \"test\", \"world\", \"new\", \"testing\", \"amp\", \"school\", \"week\", \"month\", \"pandemic\", \"russia\", \"lockdown\", \"u\", \"one\", \"5\", \"state\", \"coronavirus\", \"home\", \"say\", \"case\", \"get\", \"people\", \"health\", \"2020\", \"37\", \"cup\", \"120\", \"83\", \"malaria\", \"typical\", \"6th\", \"mainly\", \"fiji\", \"patriot\", \"opositive\", \"libya\", \"defence\", \"ran\", \"fastest\", \"afp\", \"facetoface\", \"airbnb\", \"jewish\", \"175000\", \"3m\", \"ro\", \"muharram\", \"joshfrydenberg\", \"scan\", \"torycorruption\", \"dumptrump\", \"govwhitmer\", \"gratitude\", \"extent\", \"component\", \"provision\", \"ove\", \"disparity\", \"destroying\", \"apositive\", \"plasma\", \"innovative\", \"dated\", \"paris\", \"blood\", \"artist\", \"archive\", \"type\", \"hyderabad\", \"donated\", \"heal\", \"ave\", \"0800\", \"asian\", \"convalescent\", \"trump2020\", \"pacific\", \"scared\", \"metro\", \"ottawa\", \"terrible\", \"wfh\", \"petition\", \"many\", \"hopkins\", \"afraid\", \"private\", \"hospital\", \"black\", \"passed\", \"lost\", \"american\", \"cancer\", \"need\", \"job\", \"eg\", \"closure\", \"worker\", \"covid19\", \"patient\", \"dead\", \"community\", \"killed\", \"died\", \"one\", \"university\", \"disease\", \"people\", \"government\", \"system\", \"healthcare\", \"life\", \"cant\", \"away\", \"due\", \"health\", \"amp\", \"work\", \"covid\", \"pandemic\", \"u\", \"care\", \"time\", \"year\", \"realdonaldtrump\", \"2020\", \"case\", \"new\"], \"Freq\": [21584.0, 11055.0, 15745.0, 5367.0, 15208.0, 5013.0, 2921.0, 2908.0, 2628.0, 3526.0, 4111.0, 2276.0, 3871.0, 3763.0, 4422.0, 5380.0, 4296.0, 2219.0, 4114.0, 3641.0, 3497.0, 111313.0, 2969.0, 6654.0, 1413.0, 6039.0, 1490.0, 1680.0, 2356.0, 1093.0, 242.672675302609, 129.58270674343282, 133.13454886310706, 135.26857205390368, 279.42467139279285, 106.6035048251501, 131.5049344118926, 83.97316147663908, 84.63611446360545, 93.44620639069221, 79.6251485842855, 81.15289719924382, 85.95445684506385, 161.79771212731873, 72.96546140958343, 72.6566458274128, 73.3733802127925, 71.22367731400365, 66.80775635298852, 64.5708593447077, 88.9526335424775, 69.14348778731366, 58.743533202036524, 57.44894931145015, 56.75069084865463, 59.02138509418631, 55.93302020970691, 55.378141476708834, 56.72346415570527, 73.09127239990197, 646.9111225186938, 162.07791597566737, 93.72576811766591, 283.9623788857419, 551.0591262650616, 358.84779813939, 78.00075323587416, 308.11994072575055, 291.2814873798483, 149.65292710319477, 171.2100915044972, 168.81533716937278, 1083.549177547426, 163.8339387394096, 139.47933523563202, 239.77073467962953, 211.65243380161994, 459.2098757337944, 1533.711503376383, 1476.9003075211974, 1893.0244661862089, 163.81080743685726, 467.51223631651015, 2606.4582282343717, 3492.1623436414657, 1308.9625710746768, 362.3134914634384, 2781.562517082762, 1048.6914843124207, 3932.7288076436244, 390.19246026526577, 552.0681826731096, 721.4503039537632, 687.1951893634264, 1483.5648703384322, 2037.7506199754744, 1548.1835453259887, 1608.5867980185847, 584.3058415017805, 31454.24207980297, 2095.1155335186136, 1472.20798317439, 1454.0560780226172, 1564.7364189236591, 4668.009987887609, 1298.3433768390305, 3364.4166266872357, 3469.625615616196, 1175.0159328020145, 1288.6008126776462, 3361.998427455399, 2115.3164927769203, 1881.5273277674398, 1712.2291302571828, 1285.248162581694, 2636.1250720067483, 1309.389298060949, 1329.47401841734, 1475.0314057929663, 840.9184149308362, 848.1933622097336, 994.8708512113982, 119.15410663941726, 109.2409093605225, 98.17182780276254, 117.61471354338182, 93.7513076954715, 88.21985324839045, 87.79916892287903, 85.22252835638677, 77.89926017203715, 71.2637640068147, 70.44276068080865, 64.4871281582955, 63.52904258699962, 70.42176469486367, 61.48724713615817, 58.45742367260809, 59.30839734537769, 110.77318101103273, 57.62544238159572, 102.37701906110918, 95.45372385090421, 50.74024355630844, 70.09673433083839, 50.266499996778194, 50.170572562854176, 49.9637715891155, 54.29871714763083, 645.5408202458668, 1365.033945521765, 5109.665650109077, 289.91621278588616, 89.15785254817757, 399.427770562787, 96.3751808587347, 10198.979414418305, 2161.2234317558004, 1209.4141533685204, 2446.2019824732947, 968.62982017786, 797.9538187818321, 222.91816674331207, 127.61070041704207, 743.1916886355386, 19015.680805271902, 2629.9070591325767, 483.4526124248041, 170.05017367461554, 4356.133310031028, 1979.9947428997116, 1508.7602539195154, 776.235240521002, 414.85442891856434, 548.8331973619333, 11533.471332997804, 3187.9590681861373, 2929.9064574323156, 603.2185829480914, 2913.3682731433114, 3238.180127109666, 1570.6294081057076, 2584.0824547418056, 9532.328531153382, 1657.226721474807, 1085.3562505944471, 2486.478556638607, 1733.3076913127327, 30477.96232902359, 1204.3451129085431, 1244.6382070415318, 1289.1606807909438, 2232.5341493058777, 2238.076464515492, 1825.1644266071348, 1630.15522720134, 1687.780089151639, 1682.3360007768554, 1862.4822299131145, 1477.7114658066484, 1689.8392807981718, 227.4775946278229, 141.6216813696376, 103.18431767284824, 113.31319747504769, 99.42069346190274, 97.53485912682929, 88.50160803058321, 84.95106609426013, 81.64909261980496, 81.3489011051808, 74.78393515493067, 74.264577410447, 76.50022318928514, 81.76067619462222, 71.21401193213418, 63.468801285535704, 62.482417401029096, 554.4340159220559, 59.220074874917955, 58.84159106067506, 81.08796761695092, 78.03485028701063, 75.19081963937414, 109.70962071001578, 84.50845568703201, 56.796492415782446, 156.97173484095416, 54.058344964588684, 54.41598244184138, 81.26050794818066, 615.6585089846067, 688.1661711780038, 855.3088940367389, 125.01751269118654, 93.19377060417493, 88.63609434057066, 1368.2945318201903, 2564.217463610538, 209.20550589189804, 333.4446026150326, 799.9179231396836, 98.28354788803097, 222.3797941945911, 421.8278718560519, 178.88196487919492, 1810.80226830809, 2764.281949290173, 126.9849636586878, 446.591636724191, 642.1239912937784, 242.2446006130974, 187.6575002708917, 572.3840918818406, 775.0881404315285, 461.77403514181935, 1104.8768719692634, 1410.4802299279859, 1504.1056310516974, 1560.2505435819894, 1145.039500464483, 1138.184214776364, 943.5078759051119, 21137.936894547962, 485.6883903575897, 822.4914215028109, 937.2438100211904, 658.1427151307963, 1506.902332576456, 1990.6275339316844, 2682.028579270473, 1568.5272798835458, 1490.6951020213035, 1316.7504106583485, 1462.5148180381198, 1911.3720301913434, 1610.219357188846, 1495.1398202263329, 1154.3326302125868, 1630.4028307408576, 858.2423194031834, 957.4055475509889, 859.2961329036586, 869.3137114862313, 233.50949556604957, 158.40411089180833, 141.03159635173495, 95.02410282494618, 99.23071311289127, 102.15368851903588, 114.5755128225881, 75.21570613125004, 71.05249704121346, 67.61870137584842, 72.91720381322851, 75.10748110445212, 69.7027694385538, 64.33284832907025, 63.742155776329156, 62.23601920230787, 72.96443714976137, 72.82436675392997, 61.739139779611286, 55.54969694046049, 55.05406943459025, 55.17211033806387, 52.56905272837294, 51.36037159229064, 51.34600637718159, 77.496503374697, 107.73002312857528, 50.26846246771221, 57.13801018372007, 47.75000048519522, 80.12183661632513, 112.73210561176428, 82.22179765704628, 90.6697918142078, 303.72737997510603, 110.37913005854637, 80.54178468909649, 687.8083666870588, 413.1576419550018, 103.1405978940639, 368.72500038275, 92.57858727743937, 344.9692377912363, 98.2130617531513, 538.8229650406287, 332.1290016653911, 949.9713271709951, 94.49249225883676, 103.66040224793304, 396.48625176311043, 198.61904043232616, 261.59015124477554, 129.9540591173801, 379.59717233215446, 122.9381220084072, 116.54024138334916, 662.6285932653318, 383.27558405781514, 2151.256529071557, 259.01037080048286, 1569.9591750022273, 529.4924416652552, 1292.162446942359, 409.1315113917709, 629.4071512066298, 1151.0453637684213, 228.44776242892473, 2016.4335574710237, 1172.599857663355, 430.9752617303772, 15312.590800992131, 916.1924214027731, 817.7998050702233, 1313.4498199806237, 1222.1452766289594, 2415.9423353687953, 883.7343854934172, 2021.1944740918148, 1018.075466722883, 853.4504580511888, 680.9779084825337, 1318.747286934256, 546.1731002854473, 777.3665072849046, 1175.056636218513, 964.6344560468555, 585.1615078141609, 782.7028133666544, 1190.3191913583978, 703.5361086568975, 761.4633781333741, 898.8472198684433, 720.7813605468408, 740.4842057988258, 708.0062071208221, 693.468354803313, 90.70314928605141, 90.76742463707954, 67.12850043101311, 60.158096929025476, 73.14472647016109, 56.799048850153014, 54.96416991972112, 52.870491530690316, 53.76969305499101, 51.04513993952429, 118.05430170903924, 48.31426185600428, 50.4651612623245, 48.89495470377105, 46.04431249543638, 44.32457077625223, 44.233438053370136, 50.381079074401526, 44.6770139510565, 54.42238037395666, 44.14955720076658, 47.14830242981838, 62.583796253668645, 42.758117411955034, 40.99789589722975, 40.55758695000936, 40.540412667385354, 42.6960377555424, 43.24725587230282, 47.37027651886253, 384.68946502499443, 152.04118515023345, 167.8239899976327, 81.63385167062626, 92.55114160370252, 62.657701511012164, 723.76585881484, 88.22263737039259, 99.83674504518238, 72.8764034710759, 1004.2732763578997, 374.8173485215739, 164.93362015212003, 582.3189381721907, 180.91312580780752, 110.96868881899125, 81.85012379147341, 96.15252902911688, 127.18850527290806, 123.94823743493085, 110.97004118453297, 130.46767261410795, 114.68751171731836, 148.23532461344556, 119.80392842742779, 84.09593950516886, 224.4221745770432, 104.72437645440408, 171.6983349332584, 2142.2311382708326, 132.8724520594301, 146.2600655812469, 314.4081218699853, 1388.2566546189282, 390.6923877379426, 258.6790524803517, 615.1608162555366, 1292.9065570022865, 264.3225194713326, 2141.2321504036945, 813.5291976225428, 371.05567538922804, 172.1421843430768, 688.0278519360903, 12930.275587694985, 903.8223598202336, 496.0628150433309, 720.5465602403187, 290.5402983996428, 795.5540410857017, 1461.2921737728152, 472.6573182468375, 447.02607089055715, 1926.453405797454, 878.5159840963365, 466.78631955224074, 474.5838465341787, 826.5410206700625, 634.8370359122117, 439.5625022218335, 773.0883623651162, 1035.2756334021283, 1486.5625066757575, 717.9701367370265, 893.2891644936853, 1116.064552913985, 968.876369498034, 614.624063891537, 785.7812702666835, 623.8893785349204, 642.1430312026466, 643.3287366852535, 732.2343414468958, 651.4886976323743], \"Total\": [21584.0, 11055.0, 15745.0, 5367.0, 15208.0, 5013.0, 2921.0, 2908.0, 2628.0, 3526.0, 4111.0, 2276.0, 3871.0, 3763.0, 4422.0, 5380.0, 4296.0, 2219.0, 4114.0, 3641.0, 3497.0, 111313.0, 2969.0, 6654.0, 1413.0, 6039.0, 1490.0, 1680.0, 2356.0, 1093.0, 243.70652679392708, 130.4198779790854, 134.01512391647813, 136.42854077708589, 281.8731689975973, 107.54159278692661, 132.67466681029032, 84.81412705614831, 85.49213432393614, 94.42011535152096, 80.45958267539751, 82.01961054883317, 86.89059982328972, 163.59221840261222, 73.80039633219043, 73.49902044500962, 74.22455566101267, 72.06603348412261, 67.64284732426674, 65.41202871589074, 90.14413118877219, 70.07305132093488, 59.5787541047594, 58.28477337360211, 57.58518040288296, 59.896534491846595, 56.772111576056375, 56.21086154486685, 57.57768302969558, 74.19469966101713, 657.1810686528895, 165.58579180243393, 95.3464774227952, 293.01570636975754, 578.8516978109118, 375.51894900809555, 79.51264527681688, 323.8313095176024, 307.1593961478351, 154.66082321928323, 178.07238549376797, 176.7896254778245, 1254.5553498512347, 172.7522716386145, 146.24131368247095, 263.6201100371965, 232.12044747452774, 540.1671319062501, 2048.354666147628, 1993.5425669675244, 2628.963094269597, 176.72596613933328, 566.7876910841906, 3859.831389656538, 5422.448864991855, 1823.4584571019427, 428.6682731002094, 4355.116753373941, 1450.36578562683, 6654.919708125171, 467.65215816914844, 700.2746719446801, 991.9002679906852, 948.1930400719298, 2398.649406315883, 3538.8997173754296, 2573.14682554434, 2719.1262345442647, 788.6243178949694, 111313.00769206163, 3867.4828877160594, 2514.3836956487667, 2570.3538700505146, 2862.46296174184, 12547.634828723825, 2247.311957148999, 8415.542619448432, 8915.530961993814, 2039.3465284521606, 2381.0834514370335, 9802.790299156137, 5120.81897856725, 4397.092425065252, 3824.9489283039206, 2469.739596785019, 15208.110736199616, 2693.7065056308306, 3059.8394803570577, 5583.14316239553, 844.5035813340835, 852.1857811763899, 1001.8594873603294, 120.09707742647613, 110.11893240547377, 99.04947798792011, 118.67176407860303, 94.60950826150591, 89.12333537442433, 88.71909797706212, 86.11672696947055, 78.77474564141725, 72.11817994595226, 71.31456448249271, 65.33470160220637, 64.37640274256657, 71.36173037591333, 62.348097243642314, 59.29110550816603, 60.1637230916541, 112.43931970132573, 58.49368399153039, 103.97770553773225, 96.94801813499491, 51.59518456355222, 71.28101498707568, 51.119257788019056, 51.0285432941936, 50.82217526825436, 55.23758116341945, 659.818534326, 1413.2574466556553, 5367.2796368866, 295.9224976374598, 90.69979492234644, 412.56719702645955, 98.23490558696606, 11055.547196882337, 2276.3635374064324, 1280.5712572478758, 2628.967303523734, 1022.5175286531583, 843.1639591718516, 229.93411452102532, 130.46291887420603, 788.0262584665059, 21584.10382770617, 2908.960767357237, 511.5287101088043, 175.4905036699841, 5013.1814686127545, 2219.0157492225717, 1680.2625742868092, 847.930976944348, 451.1365841587512, 611.2082864138671, 15745.854591408273, 4111.069284328212, 3763.316566074225, 692.5408498498076, 3871.284402533409, 4422.177247530165, 1983.669018904688, 3497.445104953697, 15208.110736199616, 2139.6005791142234, 1327.4743449253, 3641.820006873473, 2384.6532836172582, 111313.00769206163, 1569.8145076118494, 1788.3407824597457, 1908.0632761637962, 5394.269686316645, 6039.161266226184, 4301.714887506716, 3808.917944772297, 4579.217835505966, 4687.091042317606, 9802.790299156137, 3676.381180581843, 12547.634828723825, 228.70663004784035, 142.55786810488877, 104.02352144918481, 114.25714442632014, 100.33790703958421, 98.43759773568766, 89.3359321392405, 85.79446032605027, 82.48660563990215, 82.18447300343355, 75.62116174868487, 75.10359732640241, 77.45232729322099, 82.7818812408278, 72.10402133066759, 64.30074605669635, 63.317775353951504, 561.8973134356698, 60.05335045793391, 59.67814340865624, 82.24741705896271, 79.16308738764913, 76.27856415906828, 111.33474265985281, 85.76543221563232, 57.66937511866819, 159.4024596833908, 54.90393784752546, 55.28113055908708, 82.55514754952719, 626.3705040474945, 705.1489187926195, 879.4738819121319, 127.10578047940079, 94.72572651417552, 90.15111393301885, 1490.5134592336688, 2921.972218184896, 220.07391367642987, 362.6378878351011, 933.1249490540176, 100.91752409766043, 242.35304749120908, 483.1244726195069, 192.28895962139262, 2384.8461945332047, 4114.805104821079, 135.00719445672996, 563.4255443168992, 855.1982214286627, 285.27027949392834, 212.9706945531912, 780.8602618811979, 1136.473805568013, 623.9476030881498, 1768.4048403720083, 2517.3458461127534, 2772.4226752399813, 2957.2239262513335, 2088.4199577581753, 2080.034929838574, 1708.4481531129945, 111313.00769206163, 737.6666632536231, 1595.3491782111403, 1944.3711395582138, 1195.6479040412376, 4178.638261193204, 6654.919708125171, 12547.634828723825, 5635.964028088672, 5380.75372331256, 4397.092425065252, 5583.14316239553, 9802.790299156137, 8915.530961993814, 8415.542619448432, 5120.81897856725, 15208.110736199616, 2557.1496631120417, 5394.269686316645, 4687.091042317606, 21584.10382770617, 234.33703720708306, 159.27174794253497, 142.187097147185, 95.87850807833702, 100.1575289865219, 103.11577910580192, 115.77329311143053, 76.05122336113469, 71.8854614223275, 68.44707709543842, 73.82061583268752, 76.03841664469238, 70.588015417492, 65.1650647328306, 64.57854899306535, 63.062867001443635, 73.96420966871659, 73.86506067938032, 62.63957922122379, 56.37487230584409, 55.884194927836724, 56.03943080924547, 53.400077343738324, 52.19031186288068, 52.183368916420704, 78.76394895894146, 109.4930778464911, 51.097016816563816, 58.09643261852338, 48.58833248733745, 81.56035993941978, 115.23301942935046, 83.91708630848639, 92.64872810975864, 317.3581632131612, 113.03841804589892, 82.36985489086878, 742.8873897485391, 440.17387588464214, 106.04733703152131, 396.8728181856971, 95.10763017403642, 378.09913892637246, 101.38567404929401, 631.8226096271834, 385.8319381009357, 1236.9160797313898, 98.12063551871337, 108.76456785414607, 484.15694296859334, 225.18523887000552, 312.6583054414561, 141.37896312470636, 487.1021164090275, 133.38924356832808, 125.62872564835035, 1006.9215841684279, 525.7209717136062, 4296.675689884145, 328.68475178960387, 2969.067381071943, 824.6554981808127, 2929.100443393487, 648.0700749228105, 1146.080116470368, 2646.4132245461806, 303.69895633565073, 6039.161266226184, 2888.259835080922, 730.5580401369617, 111313.00769206163, 2541.9671830927978, 2154.7505908119165, 4579.217835505966, 4130.321871979672, 15745.854591408273, 2763.8976231420265, 12547.634828723825, 4178.638261193204, 2944.6439273292485, 1970.4250706191517, 8915.530961993814, 1199.0985770021746, 2818.2232040065096, 8415.542619448432, 5635.964028088672, 1445.0570644145919, 3808.917944772297, 15208.110736199616, 2749.6491266128633, 3824.9489283039206, 21584.10382770617, 5422.448864991855, 9802.790299156137, 5583.14316239553, 4301.714887506716, 91.54026974525408, 91.73553763902936, 67.96569653844975, 60.99530211860775, 74.17897426763298, 57.62717158537383, 55.79289398282534, 53.702212013266255, 54.636819065667254, 51.879948955497035, 119.98943915956251, 49.145183774802085, 51.35914775510365, 49.76328953612946, 46.87595124934743, 45.15192316010025, 45.0631581895947, 51.336591772561086, 45.52475320193485, 55.466429245982106, 45.00442563719975, 48.08506010144283, 63.83318520636304, 43.61561926598765, 41.825868093538695, 41.38246731868414, 41.3700546635539, 43.57716204341749, 44.15652069665106, 48.379915278535506, 395.83764524774244, 155.45488216912256, 172.40376151947606, 83.4309733761832, 95.10461376795858, 64.14089489034994, 776.8216139935117, 90.79765044429168, 103.19567119462594, 74.93314350771232, 1093.0222217773612, 402.19745482549, 173.40999328542824, 638.0143638044727, 191.43049748573327, 115.90738557044828, 84.7324125678777, 100.22038163056233, 134.14541532627885, 131.29439638212918, 117.5105757019263, 139.87870840333363, 122.22204146429944, 161.09459972411685, 128.9505120810699, 88.10356129229989, 259.2314271768882, 112.13851713215108, 196.73935671486015, 3526.57814752606, 147.03350302091255, 164.3575781874608, 400.9382351939108, 2356.2049110506196, 557.6324713390982, 339.72568940408576, 1012.7762505468183, 2595.749982923565, 354.39755741886404, 5380.75372331256, 1533.0396314805466, 572.4085576896198, 209.14608154587418, 1523.3648061351037, 111313.00769206163, 2431.867247049497, 1030.1632337451397, 1815.5265133826492, 462.25479799815014, 2127.2103146972463, 5635.964028088672, 982.3538768548717, 919.8083922967462, 9802.790299156137, 2877.120926381758, 1004.7877999096343, 1054.3690762933138, 3059.8394803570577, 1870.2342674253669, 944.587412699254, 3000.9688130991794, 5583.14316239553, 12547.634828723825, 2693.7065056308306, 4687.091042317606, 8915.530961993814, 8415.542619448432, 2208.00698918556, 5120.81897856725, 3072.5692634399325, 3859.831389656538, 4301.714887506716, 21584.10382770617, 15745.854591408273], \"Category\": [\"Default\", \"Default\", \"Default\", \"Default\", \"Default\", \"Default\", \"Default\", \"Default\", \"Default\", \"Default\", \"Default\", \"Default\", \"Default\", \"Default\", \"Default\", \"Default\", \"Default\", \"Default\", \"Default\", \"Default\", \"Default\", \"Default\", \"Default\", \"Default\", \"Default\", \"Default\", \"Default\", \"Default\", \"Default\", \"Default\", \"Topic1\", \"Topic1\", \"Topic1\", \"Topic1\", \"Topic1\", \"Topic1\", \"Topic1\", \"Topic1\", \"Topic1\", \"Topic1\", \"Topic1\", \"Topic1\", \"Topic1\", \"Topic1\", \"Topic1\", \"Topic1\", \"Topic1\", \"Topic1\", \"Topic1\", \"Topic1\", \"Topic1\", \"Topic1\", \"Topic1\", \"Topic1\", \"Topic1\", \"Topic1\", \"Topic1\", \"Topic1\", \"Topic1\", \"Topic1\", \"Topic1\", \"Topic1\", \"Topic1\", \"Topic1\", \"Topic1\", \"Topic1\", \"Topic1\", \"Topic1\", \"Topic1\", \"Topic1\", \"Topic1\", \"Topic1\", \"Topic1\", \"Topic1\", \"Topic1\", \"Topic1\", \"Topic1\", \"Topic1\", \"Topic1\", \"Topic1\", \"Topic1\", \"Topic1\", \"Topic1\", \"Topic1\", \"Topic1\", \"Topic1\", \"Topic1\", \"Topic1\", \"Topic1\", \"Topic1\", \"Topic1\", \"Topic1\", \"Topic1\", \"Topic1\", \"Topic1\", \"Topic1\", \"Topic1\", \"Topic1\", \"Topic1\", \"Topic1\", \"Topic1\", \"Topic1\", \"Topic1\", \"Topic1\", \"Topic1\", \"Topic1\", \"Topic1\", \"Topic1\", \"Topic1\", \"Topic1\", \"Topic1\", \"Topic1\", \"Topic1\", \"Topic1\", \"Topic1\", \"Topic1\", \"Topic1\", \"Topic1\", \"Topic1\", \"Topic2\", \"Topic2\", \"Topic2\", \"Topic2\", \"Topic2\", \"Topic2\", \"Topic2\", \"Topic2\", \"Topic2\", \"Topic2\", \"Topic2\", \"Topic2\", \"Topic2\", \"Topic2\", \"Topic2\", \"Topic2\", \"Topic2\", \"Topic2\", \"Topic2\", \"Topic2\", \"Topic2\", \"Topic2\", \"Topic2\", \"Topic2\", \"Topic2\", \"Topic2\", \"Topic2\", \"Topic2\", \"Topic2\", \"Topic2\", \"Topic2\", \"Topic2\", \"Topic2\", \"Topic2\", \"Topic2\", \"Topic2\", \"Topic2\", \"Topic2\", \"Topic2\", \"Topic2\", \"Topic2\", \"Topic2\", \"Topic2\", \"Topic2\", \"Topic2\", \"Topic2\", \"Topic2\", \"Topic2\", \"Topic2\", \"Topic2\", \"Topic2\", \"Topic2\", \"Topic2\", \"Topic2\", \"Topic2\", \"Topic2\", \"Topic2\", \"Topic2\", \"Topic2\", \"Topic2\", \"Topic2\", \"Topic2\", \"Topic2\", \"Topic2\", \"Topic2\", \"Topic2\", \"Topic2\", \"Topic2\", \"Topic2\", \"Topic2\", \"Topic2\", \"Topic2\", \"Topic2\", \"Topic2\", \"Topic2\", \"Topic2\", \"Topic2\", \"Topic2\", \"Topic2\", \"Topic2\", \"Topic2\", \"Topic2\", \"Topic3\", \"Topic3\", \"Topic3\", \"Topic3\", \"Topic3\", \"Topic3\", \"Topic3\", \"Topic3\", \"Topic3\", \"Topic3\", \"Topic3\", \"Topic3\", \"Topic3\", \"Topic3\", \"Topic3\", \"Topic3\", \"Topic3\", \"Topic3\", \"Topic3\", \"Topic3\", \"Topic3\", \"Topic3\", \"Topic3\", \"Topic3\", \"Topic3\", \"Topic3\", \"Topic3\", \"Topic3\", \"Topic3\", \"Topic3\", \"Topic3\", \"Topic3\", \"Topic3\", \"Topic3\", \"Topic3\", \"Topic3\", \"Topic3\", \"Topic3\", \"Topic3\", \"Topic3\", \"Topic3\", \"Topic3\", \"Topic3\", \"Topic3\", \"Topic3\", \"Topic3\", \"Topic3\", \"Topic3\", \"Topic3\", \"Topic3\", \"Topic3\", \"Topic3\", \"Topic3\", \"Topic3\", \"Topic3\", \"Topic3\", \"Topic3\", \"Topic3\", \"Topic3\", \"Topic3\", \"Topic3\", \"Topic3\", \"Topic3\", \"Topic3\", \"Topic3\", \"Topic3\", \"Topic3\", \"Topic3\", \"Topic3\", \"Topic3\", \"Topic3\", \"Topic3\", \"Topic3\", \"Topic3\", \"Topic3\", \"Topic3\", \"Topic3\", \"Topic3\", \"Topic3\", \"Topic3\", \"Topic3\", \"Topic3\", \"Topic3\", \"Topic4\", \"Topic4\", \"Topic4\", \"Topic4\", \"Topic4\", \"Topic4\", \"Topic4\", \"Topic4\", \"Topic4\", \"Topic4\", \"Topic4\", \"Topic4\", \"Topic4\", \"Topic4\", \"Topic4\", \"Topic4\", \"Topic4\", \"Topic4\", \"Topic4\", \"Topic4\", \"Topic4\", \"Topic4\", \"Topic4\", \"Topic4\", \"Topic4\", \"Topic4\", \"Topic4\", \"Topic4\", \"Topic4\", \"Topic4\", \"Topic4\", \"Topic4\", \"Topic4\", \"Topic4\", \"Topic4\", \"Topic4\", \"Topic4\", \"Topic4\", \"Topic4\", \"Topic4\", \"Topic4\", \"Topic4\", \"Topic4\", \"Topic4\", \"Topic4\", \"Topic4\", \"Topic4\", \"Topic4\", \"Topic4\", \"Topic4\", \"Topic4\", \"Topic4\", \"Topic4\", \"Topic4\", \"Topic4\", \"Topic4\", \"Topic4\", \"Topic4\", \"Topic4\", \"Topic4\", \"Topic4\", \"Topic4\", \"Topic4\", \"Topic4\", \"Topic4\", \"Topic4\", \"Topic4\", \"Topic4\", \"Topic4\", \"Topic4\", \"Topic4\", \"Topic4\", \"Topic4\", \"Topic4\", \"Topic4\", \"Topic4\", \"Topic4\", \"Topic4\", \"Topic4\", \"Topic4\", \"Topic4\", \"Topic4\", \"Topic4\", \"Topic4\", \"Topic4\", \"Topic4\", \"Topic4\", \"Topic4\", \"Topic4\", \"Topic4\", \"Topic4\", \"Topic4\", \"Topic4\", \"Topic4\", \"Topic4\", \"Topic4\", \"Topic5\", \"Topic5\", \"Topic5\", \"Topic5\", \"Topic5\", \"Topic5\", \"Topic5\", \"Topic5\", \"Topic5\", \"Topic5\", \"Topic5\", \"Topic5\", \"Topic5\", \"Topic5\", \"Topic5\", \"Topic5\", \"Topic5\", \"Topic5\", \"Topic5\", \"Topic5\", \"Topic5\", \"Topic5\", \"Topic5\", \"Topic5\", \"Topic5\", \"Topic5\", \"Topic5\", \"Topic5\", \"Topic5\", \"Topic5\", \"Topic5\", \"Topic5\", \"Topic5\", \"Topic5\", \"Topic5\", \"Topic5\", \"Topic5\", \"Topic5\", \"Topic5\", \"Topic5\", \"Topic5\", \"Topic5\", \"Topic5\", \"Topic5\", \"Topic5\", \"Topic5\", \"Topic5\", \"Topic5\", \"Topic5\", \"Topic5\", \"Topic5\", \"Topic5\", \"Topic5\", \"Topic5\", \"Topic5\", \"Topic5\", \"Topic5\", \"Topic5\", \"Topic5\", \"Topic5\", \"Topic5\", \"Topic5\", \"Topic5\", \"Topic5\", \"Topic5\", \"Topic5\", \"Topic5\", \"Topic5\", \"Topic5\", \"Topic5\", \"Topic5\", \"Topic5\", \"Topic5\", \"Topic5\", \"Topic5\", \"Topic5\", \"Topic5\", \"Topic5\", \"Topic5\", \"Topic5\", \"Topic5\", \"Topic5\", \"Topic5\", \"Topic5\", \"Topic5\", \"Topic5\", \"Topic5\", \"Topic5\", \"Topic5\", \"Topic5\", \"Topic5\", \"Topic5\", \"Topic5\", \"Topic5\", \"Topic5\", \"Topic5\", \"Topic5\", \"Topic5\", \"Topic5\", \"Topic5\", \"Topic5\", \"Topic5\", \"Topic5\", \"Topic5\"], \"logprob\": [30.0, 29.0, 28.0, 27.0, 26.0, 25.0, 24.0, 23.0, 22.0, 21.0, 20.0, 19.0, 18.0, 17.0, 16.0, 15.0, 14.0, 13.0, 12.0, 11.0, 10.0, 9.0, 8.0, 7.0, 6.0, 5.0, 4.0, 3.0, 2.0, 1.0, -7.656499862670898, -8.283900260925293, -8.2568998336792, -8.241000175476074, -7.515500068664551, -8.479100227355957, -8.269200325012207, -8.717700004577637, -8.70989990234375, -8.610799789428711, -8.770899772644043, -8.751899719238281, -8.6943998336792, -8.06190013885498, -8.858200073242188, -8.862500190734863, -8.852700233459473, -8.882399559020996, -8.946399688720703, -8.980500221252441, -8.660099983215332, -8.911999702453613, -9.074999809265137, -9.097299575805664, -9.109600067138672, -9.070300102233887, -9.124099731445312, -9.133999824523926, -9.109999656677246, -8.856499671936035, -6.676000118255615, -8.060099601745605, -8.607799530029297, -7.4994001388549805, -6.836400032043457, -7.2652997970581055, -8.791500091552734, -7.417699813842773, -7.473899841308594, -8.139900207519531, -8.00529956817627, -8.019399642944336, -6.160200119018555, -8.049400329589844, -8.21030044555664, -7.668499946594238, -7.793300151824951, -7.018700122833252, -5.81279993057251, -5.850500106811523, -5.60230016708374, -8.049500465393066, -7.000800132751465, -5.28249979019165, -4.9899001121521, -5.971199989318848, -7.25570011138916, -5.217400074005127, -6.19290018081665, -4.871099948883057, -7.181600093841553, -6.834499835968018, -6.566999912261963, -6.615600109100342, -5.8460001945495605, -5.528600215911865, -5.803400039672852, -5.765100002288818, -6.7778000831604, -2.7918999195098877, -5.500899791717529, -5.853700160980225, -5.866099834442139, -5.792699813842773, -4.699699878692627, -5.979400157928467, -5.027200222015381, -4.996399879455566, -6.07919979095459, -5.9868998527526855, -5.027900218963623, -5.491300106048584, -5.608399868011475, -5.702700138092041, -5.989500045776367, -5.271200180053711, -5.970900058746338, -5.955699920654297, -5.851799964904785, -6.122700214385986, -6.114099979400635, -5.954599857330322, -8.076800346374512, -8.163599967956543, -8.270400047302246, -8.089799880981445, -8.316499710083008, -8.377300262451172, -8.382100105285645, -8.41189956665039, -8.501799583435059, -8.590800285339355, -8.602399826049805, -8.690699577331543, -8.705699920654297, -8.602700233459473, -8.738300323486328, -8.788900375366211, -8.774399757385254, -8.149700164794922, -8.803199768066406, -8.228500366210938, -8.298500061035156, -8.930399894714355, -8.6072998046875, -8.939800262451172, -8.941699981689453, -8.945899963378906, -8.862700462341309, -6.3871002197265625, -5.638199806213379, -4.318299770355225, -7.187600135803223, -8.366800308227539, -6.867099761962891, -8.288900375366211, -3.6270999908447266, -5.178699970245361, -5.759300231933594, -5.054900169372559, -5.981299877166748, -6.175099849700928, -7.450399875640869, -8.008199691772461, -6.246200084686279, -3.0041000843048096, -4.982500076293945, -6.676199913024902, -7.721099853515625, -4.477799892425537, -5.266300201416016, -5.538099765777588, -6.202700138092041, -6.82919979095459, -6.5493998527526855, -3.504199981689453, -4.789999961853027, -4.8744001388549805, -6.454899787902832, -4.880099773406982, -4.774400234222412, -5.497900009155273, -5.0, -3.694700002670288, -5.444300174713135, -5.867499828338623, -5.03849983215332, -5.399400234222412, -2.532399892807007, -5.763500213623047, -5.730599880218506, -5.695400238037109, -5.146299839019775, -5.143799781799316, -5.347700119018555, -5.460700035095215, -5.426000118255615, -5.429200172424316, -5.327499866485596, -5.558899879455566, -5.424799919128418, -7.383600234985352, -7.857500076293945, -8.174099922180176, -8.080499649047852, -8.211299896240234, -8.230500221252441, -8.32759952545166, -8.368599891662598, -8.40820026397705, -8.41189956665039, -8.496100425720215, -8.503000259399414, -8.473400115966797, -8.406900405883789, -8.545000076293945, -8.660099983215332, -8.675800323486328, -6.492700099945068, -8.729399681091309, -8.735799789428711, -8.41510009765625, -8.453499794006348, -8.490599632263184, -8.112799644470215, -8.373800277709961, -8.771200180053711, -7.7546000480651855, -8.820599555969238, -8.814000129699707, -8.413000106811523, -6.388000011444092, -6.276599884033203, -6.059199810028076, -7.9822001457214355, -8.276000022888184, -8.32610034942627, -5.589300155639648, -4.961299896240234, -7.467299938201904, -7.001200199127197, -6.126200199127197, -8.222800254821777, -7.406300067901611, -6.76609992980957, -7.623899936676025, -5.309100151062012, -4.886099815368652, -7.966599941253662, -6.709000110626221, -6.345900058746338, -7.320700168609619, -7.576000213623047, -6.460899829864502, -6.157700061798096, -6.675600051879883, -5.803199768066406, -5.559000015258789, -5.494699954986572, -5.458099842071533, -5.767499923706055, -5.773499965667725, -5.961100101470947, -2.851799964904785, -6.625100135803223, -6.098299980163574, -5.967700004577637, -6.321199893951416, -5.4928998947143555, -5.2144999504089355, -4.916299819946289, -5.4527997970581055, -5.503699779510498, -5.627699851989746, -5.52269983291626, -5.255099773406982, -5.426499843597412, -5.500699996948242, -5.759399890899658, -5.414100170135498, -6.055799961090088, -5.946400165557861, -6.054500102996826, -6.043000221252441, -7.130000114440918, -7.518099784851074, -7.634300231933594, -8.02910041809082, -7.985799789428711, -7.9567999839782715, -7.8420000076293945, -8.262900352478027, -8.31980037689209, -8.369400024414062, -8.293899536132812, -8.264300346374512, -8.33899974822998, -8.41919994354248, -8.428400039672852, -8.452300071716309, -8.293299674987793, -8.29520034790039, -8.46030044555664, -8.565999984741211, -8.574899673461914, -8.572799682617188, -8.621100425720215, -8.644399642944336, -8.644700050354004, -8.232999801635742, -7.903600215911865, -8.665900230407715, -8.537799835205078, -8.717300415039062, -8.199700355529785, -7.8582000732421875, -8.173800468444824, -8.076000213623047, -6.867099761962891, -7.879300117492676, -8.194499969482422, -6.049699783325195, -6.5594000816345215, -7.947199821472168, -6.6732001304626465, -8.05519962310791, -6.739799976348877, -7.996099948883057, -6.293900012969971, -6.777699947357178, -5.726799964904785, -8.034700393676758, -7.9421000480651855, -6.600599765777588, -7.291900157928467, -7.016499996185303, -7.716100215911865, -6.644100189208984, -7.771599769592285, -7.824999809265137, -6.086999893188477, -6.634500026702881, -4.90939998626709, -7.026400089263916, -5.224400043487549, -6.311299800872803, -5.4191999435424805, -6.569200038909912, -6.138500213623047, -5.534800052642822, -7.151899814605713, -4.9741997718811035, -5.516300201416016, -6.517199993133545, -2.9467999935150146, -5.763000011444092, -5.8765997886657715, -5.4028000831604, -5.474899768829346, -4.793399810791016, -5.799099922180176, -4.971799850463867, -5.657599925994873, -5.834000110626221, -6.059700012207031, -5.398799896240234, -6.280300140380859, -5.927299976348877, -5.514200210571289, -5.71150016784668, -6.211400032043457, -5.920499801635742, -5.501299858093262, -6.027100086212158, -5.947999954223633, -5.782100200653076, -6.002900123596191, -5.975900173187256, -6.0208001136779785, -6.041500091552734, -7.964900016784668, -7.964200019836426, -8.265899658203125, -8.375499725341797, -8.180000305175781, -8.432900428771973, -8.465800285339355, -8.504599571228027, -8.487799644470215, -8.539799690246582, -7.701300144195557, -8.59469985961914, -8.551199913024902, -8.582799911499023, -8.642900466918945, -8.680899620056152, -8.682999610900879, -8.552900314331055, -8.67300033569336, -8.475700378417969, -8.684900283813477, -8.619199752807617, -8.336000442504883, -8.716899871826172, -8.758899688720703, -8.769700050354004, -8.7701997756958, -8.718400001525879, -8.705499649047852, -8.614500045776367, -6.519999980926514, -7.448299884796143, -7.349599838256836, -8.070199966430664, -7.944699764251709, -8.334799766540527, -5.888000011444092, -7.992599964141846, -7.868899822235107, -8.183699607849121, -5.560400009155273, -6.546000003814697, -7.3668999671936035, -6.105400085449219, -7.274499893188477, -7.763199806213379, -8.06760025024414, -7.906499862670898, -7.626800060272217, -7.652599811553955, -7.763199806213379, -7.60129976272583, -7.730299949645996, -7.473700046539307, -7.686600208282471, -8.040499687194824, -7.058899879455566, -7.821100234985352, -7.326700210571289, -4.8028998374938965, -7.583099842071533, -7.487100124359131, -6.721799850463867, -5.236700057983398, -6.504499912261963, -6.916900157928467, -6.050600051879883, -5.307799816131592, -6.895299911499023, -4.803299903869629, -5.771100044250488, -6.556099891662598, -7.324100017547607, -5.938600063323975, -3.0051000118255615, -5.665800094604492, -6.2657999992370605, -5.892499923706055, -6.8007001876831055, -5.793399810791016, -5.185400009155273, -6.3140997886657715, -6.369900226593018, -4.908999919891357, -5.694200038909912, -6.326600074768066, -6.309999942779541, -5.755199909210205, -6.019100189208984, -6.38670015335083, -5.8221001625061035, -5.53000020980835, -5.1682000160217285, -5.895999908447266, -5.677599906921387, -5.454899787902832, -5.59630012512207, -6.051499843597412, -5.805799961090088, -6.036499977111816, -6.007699966430664, -6.005799770355225, -5.876399993896484, -5.993199825286865], \"loglift\": [30.0, 29.0, 28.0, 27.0, 26.0, 25.0, 24.0, 23.0, 22.0, 21.0, 20.0, 19.0, 18.0, 17.0, 16.0, 15.0, 14.0, 13.0, 12.0, 11.0, 10.0, 9.0, 8.0, 7.0, 6.0, 5.0, 4.0, 3.0, 2.0, 1.0, 1.2593, 1.2572, 1.257, 1.2551, 1.2549, 1.2548, 1.2547, 1.2536, 1.2535, 1.2532, 1.2532, 1.253, 1.2528, 1.2526, 1.2522, 1.2521, 1.2521, 1.2518, 1.2512, 1.2507, 1.2503, 1.2502, 1.2495, 1.2492, 1.249, 1.2489, 1.2487, 1.2487, 1.2487, 1.2486, 1.2479, 1.2422, 1.2465, 1.2322, 1.2144, 1.2182, 1.2444, 1.2139, 1.2105, 1.2307, 1.2243, 1.2174, 1.1171, 1.2106, 1.2163, 1.1688, 1.1713, 1.1012, 0.9743, 0.9636, 0.9352, 1.1877, 1.071, 0.871, 0.8236, 0.9321, 1.0954, 0.8153, 0.9393, 0.7376, 1.0825, 1.0258, 0.9452, 0.9417, 0.7831, 0.7116, 0.7556, 0.7386, 0.9637, -0.0002, 0.6506, 0.7283, 0.6939, 0.6596, 0.2748, 0.715, 0.3468, 0.3199, 0.7123, 0.6496, 0.1935, 0.3795, 0.4147, 0.4599, 0.6104, -0.4889, 0.5422, 0.43, -0.0675, 1.5504, 1.55, 1.5477, 1.5468, 1.5466, 1.5458, 1.5457, 1.5455, 1.5445, 1.5442, 1.5442, 1.5435, 1.5427, 1.5424, 1.5416, 1.5414, 1.5414, 1.5407, 1.5405, 1.5403, 1.5397, 1.5397, 1.5391, 1.5391, 1.5379, 1.5379, 1.5378, 1.5377, 1.5376, 1.5375, 1.5328, 1.5199, 1.5055, 1.5341, 1.5375, 1.5223, 1.5355, 1.474, 1.5027, 1.4975, 1.4826, 1.5005, 1.4995, 1.5237, 1.5325, 1.4961, 1.428, 1.4538, 1.4982, 1.5232, 1.4142, 1.4407, 1.447, 1.4663, 1.4708, 1.447, 1.2433, 1.3003, 1.3043, 1.4166, 1.2704, 1.243, 1.3212, 1.252, 1.0875, 1.2992, 1.3533, 1.173, 1.2356, 0.2593, 1.2896, 1.1922, 1.1626, 0.6725, 0.562, 0.6973, 0.706, 0.5565, 0.53, -0.1061, 0.6432, -0.4502, 1.5958, 1.5946, 1.5931, 1.5929, 1.592, 1.5919, 1.5918, 1.5913, 1.591, 1.5909, 1.59, 1.5899, 1.5888, 1.5887, 1.5887, 1.5881, 1.5879, 1.5878, 1.5872, 1.587, 1.587, 1.5868, 1.5868, 1.5865, 1.5864, 1.5859, 1.5858, 1.5856, 1.5854, 1.5854, 1.5839, 1.5768, 1.5733, 1.5846, 1.5849, 1.5842, 1.5156, 1.4706, 1.5505, 1.5172, 1.4471, 1.5747, 1.5151, 1.4655, 1.5289, 1.3258, 1.2033, 1.5399, 1.3688, 1.3146, 1.4377, 1.4746, 1.2906, 1.2184, 1.3002, 1.1308, 1.0219, 0.9896, 0.9618, 1.0002, 0.9982, 1.0074, -0.0601, 1.1832, 0.9386, 0.8714, 1.0041, 0.5812, 0.3943, 0.0582, 0.3221, 0.3176, 0.3954, 0.2616, -0.0337, -0.1103, -0.1267, 0.1114, -0.6318, 0.5094, -0.1277, -0.0953, -1.6109, 1.825, 1.8231, 1.8204, 1.8196, 1.8193, 1.8192, 1.8182, 1.8175, 1.8169, 1.8164, 1.8163, 1.8163, 1.816, 1.8157, 1.8155, 1.8154, 1.815, 1.8144, 1.8141, 1.8138, 1.8136, 1.813, 1.8129, 1.8125, 1.8124, 1.8124, 1.8123, 1.8122, 1.8119, 1.8112, 1.8108, 1.8066, 1.8082, 1.807, 1.7847, 1.8048, 1.8061, 1.7515, 1.7652, 1.8008, 1.755, 1.8016, 1.7369, 1.7968, 1.6694, 1.6787, 1.5646, 1.7909, 1.7805, 1.6288, 1.703, 1.6502, 1.7443, 1.5792, 1.747, 1.7535, 1.4101, 1.5126, 1.1368, 1.5903, 1.1914, 1.3855, 1.0102, 1.3686, 1.2293, 0.996, 1.5438, 0.7316, 0.9271, 1.3008, -0.1551, 0.8081, 0.8598, 0.5797, 0.6108, -0.0459, 0.6883, 0.0027, 0.4165, 0.5901, 0.7661, -0.0825, 1.0422, 0.5406, -0.1402, 0.0634, 0.9246, 0.2462, -0.719, 0.4655, 0.2145, -1.35, -0.1894, -0.7545, -0.2365, 0.0035, 1.9302, 1.9287, 1.927, 1.9255, 1.9253, 1.9249, 1.9244, 1.9237, 1.9234, 1.9231, 1.9231, 1.9223, 1.9218, 1.9217, 1.9215, 1.9209, 1.9208, 1.9206, 1.9206, 1.9203, 1.9202, 1.9197, 1.9196, 1.9195, 1.9194, 1.9192, 1.9191, 1.9189, 1.9185, 1.9183, 1.9108, 1.9171, 1.9124, 1.9176, 1.9121, 1.916, 1.8686, 1.9106, 1.9063, 1.9115, 1.8547, 1.8688, 1.8892, 1.848, 1.8828, 1.8958, 1.9047, 1.8979, 1.8861, 1.8818, 1.8821, 1.8697, 1.8757, 1.8562, 1.8658, 1.8928, 1.7952, 1.8709, 1.8032, 1.4409, 1.8381, 1.8227, 1.6962, 1.4103, 1.5836, 1.6668, 1.4408, 1.2424, 1.6461, 1.0179, 1.3057, 1.5059, 1.7446, 1.1445, -0.2134, 0.9496, 1.2086, 1.0152, 1.475, 0.9558, 0.5895, 1.2078, 1.2178, 0.3124, 0.753, 1.1727, 1.1411, 0.6305, 0.8589, 1.1744, 0.5831, 0.2543, -0.1937, 0.6171, 0.2817, -0.1386, -0.2223, 0.6605, 0.065, 0.3451, 0.1458, 0.0392, -1.4443, -1.2457]}, \"token.table\": {\"Topic\": [3, 5, 1, 2, 3, 4, 5, 2, 5, 4, 4, 5, 1, 2, 3, 4, 5, 4, 1, 2, 3, 4, 5, 1, 2, 3, 4, 5, 3, 2, 1, 2, 3, 4, 5, 4, 5, 5, 1, 2, 3, 4, 5, 2, 5, 2, 5, 3, 1, 2, 2, 1, 2, 3, 4, 5, 2, 4, 1, 2, 3, 4, 5, 3, 3, 5, 2, 3, 4, 5, 5, 2, 3, 1, 2, 3, 4, 5, 2, 3, 4, 5, 1, 2, 3, 4, 5, 1, 1, 1, 1, 2, 3, 4, 5, 1, 2, 3, 4, 5, 2, 3, 5, 3, 4, 2, 3, 5, 1, 1, 2, 3, 4, 5, 1, 2, 3, 5, 1, 2, 4, 1, 3, 4, 5, 1, 2, 3, 4, 5, 1, 2, 3, 4, 4, 3, 5, 4, 5, 1, 2, 3, 4, 5, 1, 2, 3, 4, 5, 1, 4, 5, 1, 2, 3, 4, 5, 1, 2, 3, 4, 5, 2, 4, 1, 1, 2, 3, 4, 5, 1, 2, 3, 4, 1, 2, 3, 5, 3, 5, 2, 1, 2, 3, 4, 5, 2, 1, 2, 3, 4, 5, 1, 2, 3, 4, 5, 1, 2, 3, 4, 5, 1, 2, 3, 4, 5, 1, 2, 3, 5, 1, 2, 3, 4, 5, 1, 2, 1, 4, 1, 2, 3, 4, 5, 1, 2, 4, 5, 1, 2, 4, 5, 3, 1, 2, 3, 4, 5, 1, 3, 4, 5, 1, 2, 3, 5, 3, 1, 2, 3, 4, 1, 2, 3, 4, 5, 1, 2, 3, 4, 5, 4, 1, 2, 4, 5, 1, 3, 4, 5, 1, 2, 3, 4, 5, 1, 2, 3, 4, 5, 1, 2, 3, 4, 5, 2, 3, 4, 1, 2, 3, 4, 5, 3, 4, 3, 4, 1, 2, 1, 2, 3, 4, 5, 1, 2, 3, 4, 5, 4, 2, 1, 2, 3, 4, 5, 5, 1, 2, 3, 4, 5, 3, 5, 1, 2, 3, 4, 5, 1, 2, 3, 4, 5, 2, 3, 4, 2, 4, 1, 2, 3, 4, 5, 2, 5, 1, 2, 3, 4, 5, 1, 2, 3, 4, 5, 1, 2, 3, 5, 1, 4, 5, 4, 1, 2, 3, 4, 5, 4, 3, 4, 1, 2, 3, 4, 5, 3, 5, 1, 2, 3, 4, 5, 2, 3, 3, 1, 2, 4, 5, 1, 2, 3, 4, 5, 1, 2, 3, 4, 5, 1, 2, 3, 5, 1, 2, 3, 4, 5, 5, 1, 2, 3, 5, 3, 3, 4, 2, 4, 5, 4, 3, 3, 2, 3, 4, 1, 3, 1, 2, 3, 4, 1, 2, 3, 4, 5, 5, 1, 2, 3, 4, 5, 5, 2, 4, 2, 5, 2, 1, 2, 3, 4, 5, 1, 2, 3, 4, 5, 5, 2, 3, 4, 5, 1, 2, 3, 4, 5, 1, 2, 1, 2, 3, 4, 5, 1, 1, 1, 1, 2, 3, 4, 5, 4, 1, 2, 3, 4, 1, 2, 3, 4, 5, 1, 2, 3, 4, 5, 1, 2, 3, 4, 5, 1, 2, 3, 4, 5, 1, 2, 3, 4, 5, 1, 4, 1, 2, 3, 4, 5, 5, 2, 4, 5, 5, 1, 2, 3, 4, 5, 1, 1, 2, 3, 4, 5, 1, 5, 1, 2, 3, 4, 5, 1, 2, 3, 4, 5, 1, 2, 3, 4, 5, 4, 1, 4, 1, 2, 3, 4, 5, 1, 2, 3, 4, 5, 1, 2, 3, 4, 5, 1, 2, 3, 4, 5, 1, 2, 3, 4, 5, 1, 2, 3, 4, 5, 4, 2, 3, 5, 1, 2, 3, 4, 1, 2, 3, 4, 5, 1, 2, 3, 4, 5, 1, 2, 3, 4, 5, 2, 3, 5, 3, 4, 1, 4, 5, 2, 1, 5, 5, 1, 1, 2, 3, 4, 5, 5, 3, 2, 4, 1, 2, 3, 4, 5, 1, 2, 3, 4, 5, 1, 2, 3, 4, 5, 4, 3, 1, 2, 3, 4, 5, 1, 2, 3, 4, 5, 1, 2, 3, 4, 5, 1, 1, 2, 3, 4, 5, 1, 2, 3, 4, 5, 5, 1, 2, 3, 4, 5, 1, 2, 3, 4, 5, 3, 1, 4, 1, 2, 3, 4, 5, 1, 2, 3, 4, 5, 1, 2, 3, 4, 5, 1, 2, 3, 4, 5, 1, 2, 3, 5, 1, 2, 3, 4, 5, 5, 4, 1, 2, 3, 4, 5, 1, 2, 3, 4, 5, 1, 2, 3, 4, 2, 3, 4, 5, 4, 4, 2, 3, 3, 3, 2, 1, 2, 3, 4, 5, 5, 1, 2, 3, 4, 5, 1, 2, 1, 2, 3, 4, 5, 1, 2, 3, 4, 5, 1, 2, 3, 4, 5, 1, 2, 3, 4, 5, 1, 3, 4, 5, 1, 2, 3, 4, 5, 1, 2, 3, 4, 5, 1, 2, 3, 4, 5, 3, 5, 1, 5, 2, 1, 3, 4, 5, 1, 2, 4, 5, 1, 2, 3, 4, 5, 3, 5, 1, 2, 3, 4, 5, 1, 2, 3, 4, 5, 1, 2, 4, 5, 1, 2, 3, 4, 5, 5, 1, 2, 3, 4, 5, 4, 1, 2, 3, 4, 5, 3, 1, 2, 3, 4, 5, 1, 2, 3, 4, 5, 3, 3, 2, 3, 4, 1, 2, 3, 4, 5, 1, 2, 1, 2, 3, 4, 5, 1, 2, 3, 4, 5, 1, 4, 2, 3, 1, 2, 3, 4, 5, 1, 2, 3, 4, 5, 1, 4, 5, 5, 1, 2, 3, 4, 1, 1, 2, 3, 4, 5, 1, 2, 3, 4, 5, 1, 2, 3, 4, 5, 1, 3, 4, 5, 1, 2, 3, 4, 5, 1, 2, 3, 4, 5, 1, 2, 3, 4, 5, 2, 4, 2, 3, 4, 5, 1, 2, 3, 4, 5, 2, 3, 1, 2, 3, 4, 5, 1, 2, 3, 4, 5, 2, 3, 1, 2, 3, 4, 5, 1, 2, 3, 4, 5, 1, 2, 3, 4, 5, 5, 1, 2, 3, 4, 5, 1, 2, 3, 4, 5, 1, 2, 3, 4, 5, 1, 2, 3, 4, 5, 5, 2, 3, 4, 5, 1, 2, 3, 4, 5, 2, 1, 2, 3, 4, 5, 1, 2, 3, 4, 3, 1, 2, 3, 4, 5, 1, 2, 3, 4, 5, 1, 2, 4, 5, 1, 2, 3, 4, 5, 2, 3, 2, 3, 4, 5, 1, 2, 3, 4, 5, 1, 2, 3, 4, 4, 1, 2, 3, 4, 5, 1, 2, 3, 4, 5, 1, 2, 3, 4, 5, 1, 2, 3, 4, 5, 1, 2, 1, 3, 1, 2, 3, 4, 5, 2, 4, 5, 1, 1, 2, 3, 4, 5, 1, 2, 3, 4, 5, 1, 2, 3, 4, 5, 1, 2, 3, 4, 5, 1, 1, 1, 3, 4, 5, 1, 2, 3, 4, 5, 1, 2, 3, 4, 5, 1, 2, 3, 4, 5, 1, 2, 3, 4, 5, 1, 2, 3, 4, 5, 1, 2, 3, 4, 5, 1, 2, 3, 4, 5, 1, 2, 3, 4, 5, 5, 2, 4, 5, 1, 2, 3, 4, 5, 1, 2, 4, 5, 1, 2, 3, 4, 5, 1, 2, 3, 4, 5, 1, 2, 3, 4, 5, 1, 3, 4, 5, 1, 1, 1, 2, 3, 4, 5, 1, 2, 3, 4, 5, 5, 1, 2, 3, 4, 5, 1, 2, 3, 4, 5, 1, 2, 3, 4, 5, 3, 4, 1, 2, 3, 4, 5, 1, 4, 5, 4, 2, 4, 1, 2, 3, 4, 5, 1, 4, 3, 1, 2, 3, 4, 5, 3, 1, 2, 3, 4, 5, 1, 2, 3, 4, 5, 2, 3, 5, 1, 4, 5, 3, 1, 2, 3, 4, 5, 1, 2, 3, 4, 5, 1, 2, 3, 4, 5, 1, 2, 3, 4, 5, 1, 2, 3, 4, 5, 3, 1, 2, 3, 4, 5, 1, 2, 3, 4, 5], \"Freq\": [0.04472758152342617, 0.9467338089125207, 0.0654373258611979, 0.4359026098372918, 0.03566161144816605, 0.40612689542425995, 0.05712782416453785, 0.9894045076335677, 0.9857914126149884, 0.9916511612445665, 0.9891793562975743, 0.9735618595623166, 0.06264593427072952, 0.3381533226226475, 0.059951485484891695, 0.528785574220674, 0.010440989045121588, 0.9916697556374947, 0.011396628069180703, 0.9687133858803598, 0.011396628069180703, 0.005698314034590352, 0.005698314034590352, 0.15017266762056913, 0.4242494092995955, 0.11483792229808228, 0.16109854281896968, 0.14947527133130953, 0.9846884915668632, 0.9775953049110154, 0.00571086286806874, 0.9493211275305036, 0.0021964857184879768, 0.018011182891601408, 0.024600640047065338, 0.9814517957403311, 0.9940980101243138, 0.9776816252406627, 0.191687931792656, 0.3148664583597779, 0.05605314972998244, 0.40482830360542876, 0.031832652933076445, 0.9941530945108605, 0.9857886206248879, 0.9782242969312116, 0.9836823151285922, 0.9955545670988168, 0.9949638760883923, 0.9908650780686336, 0.9943393099123555, 0.022057097662549433, 0.0031510139517927764, 0.012604055807171105, 0.957908241345004, 0.006302027903585553, 0.9884643388993191, 0.9897895351601103, 0.005951450775034086, 0.8980739219526437, 0.0011902901550068174, 0.03511355957270111, 0.06010965282784427, 0.9886366537240856, 0.9835360106585469, 0.9744878384024586, 0.0730115406441022, 0.024337180214700733, 0.012168590107350366, 0.8883070778365768, 0.9739641505910122, 0.012113115047127393, 0.9811623188173189, 0.17066358582849875, 0.06318019881687087, 0.08013098386529964, 0.18761437087692753, 0.49812193335496363, 0.027381860433127233, 0.024339431496113097, 0.7879890946866616, 0.15820630472473513, 0.3720223025070905, 0.13468673762574615, 0.21374546172322553, 0.16106621108972363, 0.11850838985176598, 0.9850319471827099, 0.9846866762513267, 0.9942880305848512, 0.03558923257504036, 0.2984020269753384, 0.023269882837526387, 0.589959970763169, 0.05338384886256054, 0.7268875947181122, 0.03427763969544496, 0.15021671513592055, 0.027220478581676876, 0.06048995240372639, 0.9815666758672357, 0.0155906773940326, 0.9822126758240539, 0.9853077055730068, 0.986343526200123, 0.011533360691088046, 0.034600082073264135, 0.9515022570147638, 0.9838977761689783, 0.007459022835690678, 0.009945363780920905, 0.022377068507072034, 0.029836091342762713, 0.9323778544613348, 0.02284941385669326, 0.02284941385669326, 0.007616471285564421, 0.9444424394099881, 0.9898068730421739, 0.0035476948854558203, 0.0035476948854558203, 0.034763878248989966, 0.030721566824688806, 0.7680391706172202, 0.16654323068120774, 0.0507987763400816, 0.68262571881861, 0.0030204677823832305, 0.17958053906169388, 0.08374933396608047, 0.9560103450126043, 0.002662981462430653, 0.021303851699445223, 0.021303851699445223, 0.9985617416218111, 0.0299340308946214, 0.9578889886278849, 0.9666059916152662, 0.019726652890107475, 0.2752524504397362, 0.03175989812766186, 0.1736207764312182, 0.05399182681702517, 0.46581183920570735, 0.5917342047452513, 0.08863141289223465, 0.2188202932401644, 0.04707394543653957, 0.054061484212275905, 0.9897503317378297, 0.9808686481940643, 0.012260858102425803, 0.9602836482806848, 0.011231387699189296, 0.005615693849594648, 0.005615693849594648, 0.016847081548783945, 0.27349188577569894, 0.07778209595455658, 0.550329238044067, 0.07276389621555293, 0.02509099869501825, 0.9798437653165256, 0.9831459137209968, 0.996780567612916, 0.2008491358672914, 0.03586591711915918, 0.057385467390654685, 0.005379887567873876, 0.7011786796795619, 0.9698642285598406, 0.00646576152373227, 0.01293152304746454, 0.01293152304746454, 0.007319155860336687, 0.00914894482542086, 0.06404261377794601, 0.9185540604722543, 0.9872312844201336, 0.011092486341799254, 0.9795713216793617, 0.0032722069455808087, 0.8982208065619319, 0.013088827782323235, 0.04417479376534091, 0.04253869029255051, 0.9901650505487647, 0.28639236762854126, 0.020849993797132812, 0.16837353481458195, 0.3603508361919558, 0.16404617761140344, 0.21162674073218052, 0.019751829135003514, 0.019751829135003514, 0.005643379752858147, 0.7449261273772755, 0.313329731043111, 0.04010192803452786, 0.1759137909781289, 0.1315343239532514, 0.3395296573590026, 0.3605061052336662, 0.0529889627039434, 0.26222743081695066, 0.04619550594702758, 0.2785317270335486, 0.9783448098813197, 0.006039165493094566, 0.006039165493094566, 0.006039165493094566, 0.003150466683389126, 0.8810187419312886, 0.04026111099801692, 0.041651022770100354, 0.033913847238835886, 0.9858780580133599, 0.010488064446950638, 0.9902671507351672, 0.0061127601897232545, 0.02271829508260216, 0.006815488524780648, 0.009087318033040866, 0.9382655869114693, 0.02271829508260216, 0.019125388199647615, 0.08606424689841427, 0.07172020574867856, 0.8223916925848475, 0.950483803105094, 0.013676025943958187, 0.006838012971979094, 0.027352051887916375, 0.9917858740288967, 0.19057832394600527, 0.0589360712780999, 0.2665893317626201, 0.08702709590597929, 0.397129975621589, 0.02998742546996315, 0.022490569102472362, 0.9221133332013669, 0.022490569102472362, 0.002526288269965155, 0.002526288269965155, 0.02526288269965155, 0.9726209839365847, 0.9866659861755299, 0.04105915233430371, 0.1724484398040756, 0.008211830466860743, 0.7801238943517705, 0.0011411324880225603, 0.9304033552343942, 0.017497364816345926, 0.04032001457679713, 0.010650569888210563, 0.14102389126683737, 0.1728039231016176, 0.011917511938042594, 0.6584425345768533, 0.015890015917390126, 0.990837278385483, 0.00850987235852345, 0.0170197447170469, 0.0340394894340938, 0.944595831796103, 0.002591802028940369, 0.12181469536019734, 0.8604782736082025, 0.012959010144701844, 0.059746446265241025, 0.6755541161043481, 0.100101502075974, 0.047168247051506074, 0.11739652599485956, 0.17332856432492777, 0.6267708175816432, 0.10717965092929904, 0.07824772061709562, 0.014400210769028522, 0.0029944318917459315, 0.9931532440957339, 0.0019962879278306207, 0.0009981439639153104, 0.0009981439639153104, 0.995851312639138, 0.001184127601235598, 0.002368255202471196, 0.00886649440647543, 0.919898794671826, 0.03103273042266401, 0.01994961241456972, 0.022166236016188577, 0.9880114452329523, 0.008981922229390475, 0.9849283399505716, 0.012546857833765242, 0.9518845709250906, 0.046644071533534386, 0.1487063071118323, 0.35885797498149485, 0.18326932253811182, 0.11841033062706875, 0.190523288738689, 0.2825725461216081, 0.2738044783078264, 0.18989694410626795, 0.1375670311807778, 0.11615893118053006, 0.9878914863462174, 0.9898388734704247, 0.003806979739276685, 0.9428619820941924, 0.0012689932464255618, 0.01522791895710674, 0.036800804146341286, 0.991981977127298, 0.05631269928282279, 0.5079874747804639, 0.3355298332268191, 0.04184346405043082, 0.05787694092956786, 0.02907098684732649, 0.969032894910883, 0.1571410264049831, 0.37058126142713615, 0.05050370184775537, 0.33382118991827814, 0.08792611698740362, 0.3465470211959837, 0.10192559446940697, 0.06406751652362723, 0.005824319683966112, 0.4814770938745319, 0.044407884149869965, 0.07105261463979194, 0.8837168945824123, 0.979906570835905, 0.010314806008799, 0.005517592111334118, 0.9225233105491257, 0.0029849268799020637, 0.03817088313086881, 0.030663339766266656, 0.9806573956554971, 0.9735364036493657, 0.008261783824629517, 0.004130891912314759, 0.14045032501870178, 0.8179165986383222, 0.02891624338620331, 0.8257060048442078, 0.02999359419305883, 0.08292346629845676, 0.05822285931593773, 0.0035286581403598622, 0.022221038012618693, 0.014814025341745795, 0.9406906092008579, 0.022221038012618693, 0.9904010442080086, 0.021029473973573028, 0.9778705397711458, 0.9869638346298127, 0.13444838905865533, 0.1786377197282833, 0.09213945543879876, 0.22047655408569702, 0.37419901290450924, 0.9884429158922474, 0.017693099696316574, 0.9731204832974115, 0.08045153818962582, 0.1739492717613531, 0.05870787921945667, 0.20004166252555608, 0.48597077798328026, 0.011985956288572646, 0.9828484156629569, 0.03858004229390291, 0.012860014097967637, 0.8573342731978425, 0.0728734132218166, 0.019290021146951455, 0.01055679419730132, 0.9817818603490228, 0.9791879081887348, 0.00862757791557814, 0.02588273374673442, 0.00862757791557814, 0.9576611486291735, 0.5416959973253305, 0.06024590328248306, 0.2166783989301322, 0.11997467434794909, 0.061538733825025616, 0.9279903999545831, 0.005658478048503555, 0.016975434145510667, 0.016975434145510667, 0.028292390242517777, 0.05634578046137188, 0.023477408525571616, 0.8827505605614928, 0.04225933534602891, 0.3218960476308271, 0.1606147980932284, 0.09530255654494466, 0.16428028103726475, 0.2575834832490987, 0.9910550114916838, 0.00990908178674969, 0.00990908178674969, 0.9710900151014696, 0.00990908178674969, 0.985305666230525, 0.982459755369157, 0.9771928578237283, 0.001747003930263103, 0.34940078605262065, 0.6481384581276113, 0.9773228723826543, 0.9797709025716523, 0.9883928841384045, 0.049512316721586784, 0.028292752412335306, 0.9195144534008974, 0.9937010252704386, 0.994159926382734, 0.010179680980247019, 0.9772493741037137, 0.021028807008861665, 0.9778395259120674, 0.22960723196255245, 0.028743173367918935, 0.5275217700465122, 0.024347158617531332, 0.18970494422826498, 0.9714775176725511, 0.7488937464550596, 0.014157704463622378, 0.14255343804750809, 0.08201704654788136, 0.012204917641053775, 0.9764073750640897, 0.017356136373968774, 0.9806217051292357, 0.9844951724129718, 0.9813134192266738, 0.9935576426438959, 0.003909848969326847, 0.9442285260924336, 0.01759432036197081, 0.025414018300624504, 0.00586477345399027, 0.7245360079292338, 0.09280810581917405, 0.09386274338530103, 0.017928838624158623, 0.07066071693050752, 0.9883445069358472, 0.008252423564314975, 0.9160190156389622, 0.008252423564314975, 0.0660193885145198, 0.12529444008236706, 0.23181178423958373, 0.11983201217686876, 0.441091053368987, 0.08227782032656801, 0.977956963727614, 0.9870324034741074, 0.7405300429472406, 0.025360617909152075, 0.10778262611389632, 0.0659376065637954, 0.06086548298196498, 0.9932105157049953, 0.9971009114806165, 0.9949148784277332, 0.643989475409326, 0.027109522590255133, 0.10401204585648909, 0.13296575365696567, 0.09202484199004975, 0.9876823295725209, 0.00234690609040569, 0.9950881823320125, 0.001173453045202845, 0.001173453045202845, 0.5467319650653857, 0.04646348329309667, 0.18410718568016501, 0.09921525755819138, 0.1236697224492949, 0.7882621235851388, 0.011424088747610708, 0.05854845483150488, 0.12423696513026646, 0.0185641442148674, 0.6186814947163517, 0.05127885704185395, 0.14383094048324888, 0.07587603237087331, 0.11047883834220565, 0.9104009552463059, 0.015173349254105099, 0.015173349254105099, 0.05690005970289412, 0.0037933373135262747, 0.5854317312617601, 0.10101879058457001, 0.17101606280065004, 0.10817760251576002, 0.03420321256013001, 0.011916524321684793, 0.977154994378153, 0.21306021390310603, 0.11087472795283984, 0.25233558775473897, 0.11852126091510466, 0.30551374881048976, 0.986755400848673, 0.11853843830866671, 0.7507434426215558, 0.1284166415010556, 0.973808609047887, 0.02103268525078759, 0.04557081804337311, 0.8483183051150994, 0.014021790167191727, 0.0666035032941607, 0.9899668934333874, 0.10470984849538477, 0.1443060096911185, 0.6819338872598588, 0.03695641711601815, 0.032556843649825515, 0.023603718333852868, 0.9677524516879675, 0.26418810284763133, 0.16155774153800911, 0.26203877590920993, 0.12681028936686303, 0.18537944843884638, 0.2427992301329441, 0.015174951883309007, 0.12803865651541974, 0.16313073274557183, 0.4505063840357361, 0.1567510449630508, 0.02867693535758139, 0.6717207570199573, 0.0510352239414584, 0.09162037821871342, 0.9841780859690564, 0.012696163831517462, 0.9776046150268446, 0.016510777858890345, 0.915168829892779, 0.004717365102540098, 0.03420089699341571, 0.02830419061524059, 0.17784087259248652, 0.16474829301512553, 0.27494417112458036, 0.2560326672906145, 0.12619791981511824, 0.020403513065816777, 0.013602342043877853, 0.061210539197450335, 0.006801171021938926, 0.9045557459178772, 0.08955078525233877, 0.15703218266997793, 0.1205328104818209, 0.04371436436488575, 0.589082890664674, 0.02897803939446873, 0.0020698599567477664, 0.8734809017475574, 0.004139719913495533, 0.09314369805364948, 0.004506502490351176, 0.8922874930895328, 0.008562354731667235, 0.05948583287263552, 0.034700069175704056, 0.9920152320862717, 0.015671484112522775, 0.036566796262553145, 0.9455128747888741, 0.004254420477786032, 0.011345121274096084, 0.9756804295722633, 0.008508840955572064, 0.6015980062360127, 0.029535819427607853, 0.14457006351408055, 0.10803891843256558, 0.11620013169545722, 0.014561611315498725, 0.8689092998672937, 0.009175809870040292, 0.08118596993709563, 0.025931636589244304, 0.0184528588307485, 0.6961760377055116, 0.12749247919426235, 0.07884403318592541, 0.07940321072625112, 0.011013500846187024, 0.011013500846187024, 0.9691880744644581, 0.00913299744301641, 0.9863637238457723, 0.03677668269103982, 0.9561937499670354, 0.009194170672759955, 0.9873957211127145, 0.9895290181295715, 0.007329844578737567, 0.9884732334603289, 0.9835020142578518, 0.29288218698323815, 0.02152586229498187, 0.04500862116223482, 0.11023850690460413, 0.5309712699428861, 0.9858853484979011, 0.9925379074166614, 0.9838225092901931, 0.9785307071741182, 0.25336112987338105, 0.022595774390984646, 0.5471061969561815, 0.1548050926361076, 0.021634252076474663, 0.3165451218436423, 0.047638473782409534, 0.5152477032781663, 0.0802332190019529, 0.04011660950097645, 0.16657479886300314, 0.10816545380714489, 0.03893956337057216, 0.058409345055858236, 0.6295229411575832, 0.9925079257626723, 0.9905549230204957, 0.5758852080475033, 0.03843002369698746, 0.19977960848360396, 0.057362461841826876, 0.12857103516271542, 0.009488071582017726, 0.9464351403062682, 0.004744035791008863, 0.03083623264155761, 0.009488071582017726, 0.024977967797712504, 0.7785685707159323, 0.046767258855291496, 0.0900801179087717, 0.05925624275414775, 0.9875686979978269, 0.014424288122040437, 0.035259370964987734, 0.7404467902647425, 0.12981859309836394, 0.08013493401133576, 0.5775789141649377, 0.0409377966896566, 0.28567462472564714, 0.04939234165817264, 0.045832533250376416, 0.9766979450102443, 0.43433650965406745, 0.06732379306902776, 0.15785141772980782, 0.07026512383417946, 0.27027561586449494, 0.6387888448328657, 0.048448758540522885, 0.13409514212163678, 0.05878143216290928, 0.1198590140196822, 0.9848333588631915, 0.9863998087331666, 0.9933503653221538, 0.417284194640136, 0.11638538762071819, 0.0769988692490727, 0.2757056286015184, 0.11354671962996897, 0.576164954610147, 0.07698544499897284, 0.21918785932828572, 0.07257226662323554, 0.055409906273146056, 0.947390845435646, 0.0032556386441087493, 0.04232330237341374, 0.0032556386441087493, 0.0032556386441087493, 0.30411455623461214, 0.04936924614198249, 0.026659392916670542, 0.011848619074075797, 0.6072417275463846, 0.9493362862577944, 0.034731815350894917, 0.017365907675447458, 0.986923964824898, 0.7200557528274967, 0.03499478566303735, 0.09471414815322064, 0.062382009225414405, 0.08748696415759337, 0.9841063552135499, 0.9811273675662179, 0.23195289194820126, 0.035728685067815846, 0.055577954549935756, 0.0694724431874197, 0.6073876461528693, 0.5909913526376726, 0.04883605126042298, 0.2991771632600066, 0.04222440124362725, 0.018783096638624222, 0.9692313204590454, 0.013651145358578103, 0.010238359018933578, 0.0068255726792890515, 0.007754912980658116, 0.007754912980658116, 0.054284390864606805, 0.9305895576789739, 0.9910411583709092, 0.9934682806861856, 0.9698430372740916, 0.0260944314961639, 0.9768251744106834, 0.9855876303619533, 0.9918946653712819, 0.22228706208167082, 0.17813415249010608, 0.06445309790952555, 0.3456107061132827, 0.18929925606498452, 0.9869474599509725, 0.22376047332989252, 0.009106530891332835, 0.27709872569341343, 0.0921803943285936, 0.39789964568048164, 0.9924253033030005, 0.9809179182071383, 0.8640511557569308, 0.03746347262045733, 0.04702861456610601, 0.04144894843114428, 0.01036223710778607, 0.02108491464040039, 0.7324467486377642, 0.051632637357366014, 0.15343721015423897, 0.041344215153315225, 0.20726904055128526, 0.4020257768173223, 0.155859790335809, 0.1512356778825651, 0.08377803738818354, 0.9133189355205956, 0.04308108186417904, 0.025848649118507424, 0.017232432745671617, 0.004308108186417904, 0.844475839982157, 0.0023328061877960138, 0.1306371465165768, 0.020995255690164125, 0.03461383511692114, 0.7524634454894873, 0.01885679077265107, 0.08317652916155678, 0.11107424701698576, 0.8339531705078502, 0.029936780479768985, 0.0513201951081754, 0.0256600975540877, 0.057735219496697326, 0.18186773281227078, 0.10929807162181346, 0.2783907051536125, 0.17122181674521103, 0.25922805623290496, 0.008334066789579668, 0.9834198811704008, 0.03405083694683969, 0.9534234345115112, 0.9781049679426023, 0.011600674964241222, 0.011600674964241222, 0.005800337482120611, 0.9744566969962626, 0.04090915141079917, 0.008181830282159835, 0.01636366056431967, 0.9409104824483809, 0.38920845149799027, 0.15714151024457762, 0.18058374838955743, 0.1479440770967865, 0.12517482186505968, 0.013345229536474436, 0.9742017561626338, 0.15047446974275994, 0.009489380974768645, 0.6588341648196516, 0.15047446974275994, 0.029823768777844314, 0.14129046315042293, 0.02943551315633811, 0.055927474997042405, 0.011774205262535243, 0.762379790749157, 0.010793456320472366, 0.010793456320472366, 0.9822045251629852, 0.010793456320472366, 0.09786718427527548, 0.2783869065309307, 0.16694990258723463, 0.08511977792009254, 0.37173081758339926, 0.9830387466986165, 0.34296357439059105, 0.1899459177618324, 0.1949444945450385, 0.07548871060352093, 0.1964746711113261, 0.9821213293103102, 0.035580069574718064, 0.04574580373892323, 0.025414335410512905, 0.025414335410512905, 0.8742531381216438, 0.9907399577661421, 0.03023638669651896, 0.0251969889137658, 0.00755909667412974, 0.929768890917958, 0.00755909667412974, 0.05790900704106553, 0.011030287055441053, 0.9182713973654677, 0.002757571763860263, 0.008272715291580789, 0.9832382246157385, 0.9889972357297024, 0.980979523182356, 0.009617446305709373, 0.9888836495952915, 0.014160265113441959, 0.03475701436935753, 0.016734858770431404, 0.0025745936569894472, 0.9320029038301798, 0.9559384468586841, 0.03959508359769697, 0.24748288001905935, 0.045683035637547074, 0.5601137412951424, 0.06276451852810815, 0.08381843930019506, 0.09746330277483072, 0.7322185020531365, 0.04047779860021972, 0.0854782562619165, 0.044548191755549076, 0.06367970349705644, 0.9313156636444504, 0.9820286651739184, 0.014028980931055977, 0.0851931554828518, 0.03904686292964041, 0.7933612604340574, 0.024848003682498444, 0.06034515180035336, 0.0249414975230875, 0.0648478935600275, 0.10974258910158499, 0.01745904826616125, 0.7831630222249475, 0.9898380034795607, 0.019298203814121697, 0.9777756599154993, 0.9846615940536789, 0.05896664137052474, 0.011412898329778983, 0.19972572077113218, 0.7285233433842251, 0.9904964478921909, 0.008569978074964743, 0.7919667973982125, 0.023693468795490762, 0.15778841985082145, 0.017644072507280353, 0.5656808647796908, 0.16028921340387386, 0.169237397647294, 0.09298330583380061, 0.012060596154174975, 0.6751590255946106, 0.01761734986202361, 0.12461684240637289, 0.016062877815374466, 0.16632850899145818, 0.013224044926940851, 0.06876503362009243, 0.9124590999589187, 0.00528961797077634, 0.0030311364351760534, 0.9790570685618653, 0.0030311364351760534, 0.015155682175880267, 0.0015155682175880267, 0.0197475560645443, 0.7669695968293979, 0.005733161438093506, 0.035035986566126984, 0.17263186108037112, 0.01261917773979, 0.7744436116604455, 0.05047671095916, 0.14114783990431778, 0.021499339852975554, 0.008637570661806353, 0.9933206261077306, 0.010191536109744031, 0.020383072219488062, 0.9580043943159389, 0.010191536109744031, 0.01543043011389018, 0.0339469462505584, 0.2329994947197417, 0.6311045916581084, 0.08486736562639599, 0.9871991425673063, 0.008893685969074833, 0.01715538005586348, 0.7388250344058538, 0.09206720629980067, 0.041744758135934465, 0.11036627835938838, 0.003437653787639393, 0.9041029461491603, 0.008937899847862422, 0.06050270666245332, 0.023032280377183932, 0.9812591095293904, 0.01102538325313922, 0.7408921306590094, 0.024579359784896046, 0.09881905872703103, 0.08477371027851902, 0.05066357833213266, 0.08211081473377452, 0.8173415962031683, 0.00301324090766145, 0.034652270438106675, 0.06252474883397509, 0.08889462158438925, 0.0268361121764194, 0.7593781117421177, 0.0331258259677677, 0.09182982135368513, 0.9774345690916528, 0.0033358391684529085, 0.24101437992072264, 0.26603317368411944, 0.45534204649382204, 0.03419235147664231, 0.27676425799936183, 0.11108876791669887, 0.5482613761406043, 0.0517137367888081, 0.012449603301009356, 0.005775832574883469, 0.8707067606636829, 0.01010770700604607, 0.062090200179997286, 0.05053853503023035, 0.4475876755716956, 0.1192172780728348, 0.21595059580737183, 0.19895690485400722, 0.018039456550494742, 0.9802546096188193, 0.012415065454863834, 0.055867794546887256, 0.012415065454863834, 0.9187148436599237, 0.28597833200779854, 0.02488849081908874, 0.3606438044650647, 0.24362003513300326, 0.08495590616131253, 0.9915600461820481, 0.3907175154693822, 0.0906887850219069, 0.013981187690877313, 0.43492829816756184, 0.06990593845438657, 0.0035593692160070718, 0.0071187384320141435, 0.9859452728339588, 0.0035593692160070718, 0.9962396749975485, 0.1108124974640755, 0.019195865702438274, 0.12041043031529462, 0.5488272512197124, 0.20068405052549104, 0.12066361699060085, 0.3392504000774201, 0.10674089195322384, 0.3796263026858135, 0.05337044597661192, 0.004847695149819999, 0.9671151823890899, 0.019390780599279997, 0.004847695149819999, 0.00568521715406615, 0.01364452116975876, 0.9721721333453117, 0.00682226058487938, 0.00227408686162646, 0.007867462803252, 0.9834328504065001, 0.020802026324734404, 0.9308906780318645, 0.010401013162367202, 0.036403546068285206, 0.09952472193130617, 0.015267997114461742, 0.6248569189437121, 0.17190633788134702, 0.08878057581372198, 0.0031929983724909724, 0.009578995117472918, 0.9834434987272196, 0.004789497558736459, 0.9882886350945379, 0.005466310414497327, 0.944109898732467, 0.00624721190228266, 0.035140566950339965, 0.008589916365638658, 0.027721002785685792, 0.07802948932267112, 0.8774895202777577, 0.006844692045848344, 0.009924803466480099, 0.15831267796871595, 0.42794305984909947, 0.15778759445969864, 0.20557019378027294, 0.0504080168656608, 0.2903219504181203, 0.05209405965163852, 0.5525482282151322, 0.006438591642337345, 0.09950550719975898, 0.9891545794877891, 0.9783778927787603, 0.9873077573250304, 0.01109334558792169, 0.13783376771416853, 0.010800407171632609, 0.4819038818961788, 0.12034739419819192, 0.24840936494755, 0.9811216942296009, 0.007665013236168757, 0.007665013236168757, 0.9849596100763703, 0.042938223471598105, 0.021469111735799053, 0.9178045267054095, 0.011405465609643246, 0.0067090974174372035, 0.19506606272252439, 0.043790340611178945, 0.1602328372363593, 0.136347196902989, 0.46477475148683106, 0.21713860782353137, 0.05338291355130007, 0.5424858241969953, 0.16303430354856507, 0.02380589388098517, 0.0035379258123366297, 0.9658537467678998, 0.0007075851624673259, 0.0070758516246732595, 0.02264272519895443, 0.9852075460160094, 0.9942435134199433, 0.06172091159719728, 0.04629068369789796, 0.02700289882377381, 0.8640927623607619, 0.22711302177767845, 0.36862190457761657, 0.11290137717217284, 0.28673018999431904, 0.004585936016664661, 0.09351464279190029, 0.7267303854635121, 0.057450699831795245, 0.06332157426716119, 0.059128092527614085, 0.22468270705846224, 0.1964616907129549, 0.23915502313308137, 0.31983818524908314, 0.019899434602601324, 0.7178666423146369, 0.053195618261665224, 0.09268102563114869, 0.038936998933796194, 0.09761670155233412, 0.4130198721829753, 0.07635497400640348, 0.22535457801378417, 0.13181485282435382, 0.1534910730665809, 0.1766689571375017, 0.4139577977838838, 0.17741048476452165, 0.12513278705961559, 0.10677997829087195, 0.014087027522055628, 0.0307353327753941, 0.7325254311468927, 0.0678738598789953, 0.1536766638769705, 0.010757761790635513, 0.9476610159205284, 0.0068458484122226, 0.016625631858254886, 0.017603610202858114, 0.9907577449227766, 0.9799863218080986, 0.016896315893243082, 0.0033792631786486163, 0.0011178847397413454, 0.9520651700130458, 0.005962051945287175, 0.01714089934270063, 0.024034521904438926, 0.08315787409929651, 0.05117407636879785, 0.8379755005390649, 0.028785417957448795, 0.04307516918658657, 0.017499287482050794, 0.005384396148323321, 0.9261161375116113, 0.009422693259565813, 0.8497370033977979, 0.10367161697228035, 0.024066625368565082, 0.012958952121535043, 0.009256394372525031, 0.42801010714985627, 0.07573186274224343, 0.2995161058004042, 0.10393231613575149, 0.09278858858509105, 0.028596203422655214, 0.014298101711327607, 0.021447152566991413, 0.9293766112362944, 0.9902858978262326, 0.9784585841314608, 0.9511124803182693, 0.018528165201005246, 0.015440137667504373, 0.006176055067001749, 0.009264082600502623, 0.017240991150116305, 0.004702088495486266, 0.05485769911400643, 0.010971539822801286, 0.9122051681243355, 0.9891167383697691, 0.3997365531992852, 0.16778478392312446, 0.17764748722738746, 0.13962260701818077, 0.11514409038350397, 0.1923950263270778, 0.06005982303332059, 0.12724538778245886, 0.13946094500957493, 0.48149654736882436, 0.07200073254138047, 0.7754673491281112, 0.024324571804520426, 0.06762230961656679, 0.06056818379325586, 0.9496809345031615, 0.04543927916283069, 0.28161306259365976, 0.05446070797265817, 0.15058153016371725, 0.5006195848255885, 0.012567855685998039, 0.00942975116577196, 0.9712643700745118, 0.00942975116577196, 0.9861774299652896, 0.012140363745024108, 0.9833694633469527, 0.03323717714437502, 0.007913613605803576, 0.10287697687544649, 0.8530875467056255, 0.004748168163482146, 0.9809760413384471, 0.012576615914595475, 0.9960867252554709, 0.5413501988861674, 0.016379098337129968, 0.25702585082880874, 0.0814755148052106, 0.10415426634892902, 0.9941007920482697, 0.7232658205230863, 0.025510805871643654, 0.22477088416637384, 0.017926512234127973, 0.008963256117063986, 0.15112183713282062, 0.2570769229427982, 0.24383253721655104, 0.28967848780740674, 0.05807153741508388, 0.017835085135315943, 0.044587712838289856, 0.936341969604087, 0.984507970271026, 0.007608253247844096, 0.007608253247844096, 0.9901606729427556, 0.4859475214778269, 0.05902647510693237, 0.12287901421631833, 0.06570871757186811, 0.26654722721243673, 0.20940486396645075, 0.022319013714292558, 0.2566686577143644, 0.05907974218489206, 0.4516318069245082, 0.24041709841951203, 0.220563924129079, 0.10338177343920607, 0.29586071930377006, 0.1399406675593937, 0.0363788273602491, 0.281329598252593, 0.020614668837474488, 0.6414799891190591, 0.01940204125879952, 0.5202977681018467, 0.0785507914488391, 0.18787405789825434, 0.12025559309435678, 0.09272232598857812, 0.9910752829449065, 0.37590690427818235, 0.06964855196149873, 0.18453611664565317, 0.1669612483936862, 0.20308736646717385, 0.012862515057180316, 0.06080461663394331, 0.7507031515190694, 0.022217071462402364, 0.15318086113551105], \"Term\": [\"0800\", \"0800\", \"1\", \"1\", \"1\", \"1\", \"1\", \"1007\", \"120\", \"15th\", \"16th\", \"175000\", \"2\", \"2\", \"2\", \"2\", \"2\", \"20000\", \"2019ncov\", \"2019ncov\", \"2019ncov\", \"2019ncov\", \"2019ncov\", \"2020\", \"2020\", \"2020\", \"2020\", \"2020\", \"204\", \"225\", \"24\", \"24\", \"24\", \"24\", \"24\", \"30days30videos\", \"37\", \"3m\", \"5\", \"5\", \"5\", \"5\", \"5\", \"66\", \"6th\", \"803\", \"83\", \"8th\", \"94\", \"941\", \"944\", \"abo\", \"abo\", \"abo\", \"abo\", \"abo\", \"abortion\", \"absenteeballot\", \"active\", \"active\", \"active\", \"active\", \"active\", \"adjust\", \"adriandix\", \"afp\", \"afraid\", \"afraid\", \"afraid\", \"afraid\", \"airbnb\", \"alberta\", \"alberta\", \"american\", \"american\", \"american\", \"american\", \"american\", \"amount\", \"amount\", \"amount\", \"amount\", \"amp\", \"amp\", \"amp\", \"amp\", \"amp\", \"anderson\", \"andersoncooper\", \"angry\", \"announced\", \"announced\", \"announced\", \"announced\", \"announced\", \"anyone\", \"anyone\", \"anyone\", \"anyone\", \"anyone\", \"apartment\", \"apositive\", \"apositive\", \"approaching\", \"approves\", \"archive\", \"archive\", \"archive\", \"ardern\", \"artist\", \"artist\", \"artist\", \"artist\", \"artist\", \"asian\", \"asian\", \"asian\", \"asian\", \"auckland\", \"auckland\", \"auckland\", \"aug\", \"aug\", \"aug\", \"aug\", \"august\", \"august\", \"august\", \"august\", \"august\", \"auspol\", \"auspol\", \"auspol\", \"auspol\", \"authorize\", \"ave\", \"ave\", \"avg\", \"avg\", \"away\", \"away\", \"away\", \"away\", \"away\", \"back\", \"back\", \"back\", \"back\", \"back\", \"ballot\", \"bbnaijalockdown\", \"bbnaijalockdown\", \"bet\", \"bet\", \"bet\", \"bet\", \"bet\", \"better\", \"better\", \"better\", \"better\", \"better\", \"bhutan\", \"bigdata\", \"bitcoin\", \"black\", \"black\", \"black\", \"black\", \"black\", \"bless\", \"bless\", \"bless\", \"bless\", \"blood\", \"blood\", \"blood\", \"blood\", \"bpositive\", \"bpositive\", \"breakdown\", \"bringing\", \"bringing\", \"bringing\", \"bringing\", \"bringing\", \"burn\", \"business\", \"business\", \"business\", \"business\", \"business\", \"cancer\", \"cancer\", \"cancer\", \"cancer\", \"cancer\", \"cant\", \"cant\", \"cant\", \"cant\", \"cant\", \"care\", \"care\", \"care\", \"care\", \"care\", \"caring\", \"caring\", \"caring\", \"caring\", \"case\", \"case\", \"case\", \"case\", \"case\", \"catching\", \"catching\", \"chaturthi\", \"chaturthi\", \"clinical\", \"clinical\", \"clinical\", \"clinical\", \"clinical\", \"closure\", \"closure\", \"closure\", \"closure\", \"cloth\", \"cloth\", \"cloth\", \"cloth\", \"communist\", \"community\", \"community\", \"community\", \"community\", \"community\", \"compare\", \"compare\", \"compare\", \"compare\", \"component\", \"component\", \"component\", \"component\", \"condolence\", \"conducted\", \"conducted\", \"conducted\", \"conducted\", \"confirmed\", \"confirmed\", \"confirmed\", \"confirmed\", \"confirmed\", \"contact\", \"contact\", \"contact\", \"contact\", \"contact\", \"controlled\", \"convalescent\", \"convalescent\", \"convalescent\", \"convalescent\", \"copy\", \"copy\", \"copy\", \"copy\", \"corona\", \"corona\", \"corona\", \"corona\", \"corona\", \"coronavirus\", \"coronavirus\", \"coronavirus\", \"coronavirus\", \"coronavirus\", \"coronaviruspandemic\", \"coronaviruspandemic\", \"coronaviruspandemic\", \"coronaviruspandemic\", \"coronaviruspandemic\", \"coronavirusupdate\", \"coronavirusupdate\", \"coronavirusupdate\", \"coronavirusupdates\", \"coronavirusupdates\", \"coronavirusupdates\", \"coronavirusupdates\", \"coronavirusupdates\", \"coronavirusvaccine\", \"coronavirusvaccine\", \"corrupt\", \"corrupt\", \"counted\", \"counted\", \"covid\", \"covid\", \"covid\", \"covid\", \"covid\", \"covid19\", \"covid19\", \"covid19\", \"covid19\", \"covid19\", \"covid19update\", \"covidupdateeu\", \"cross\", \"cross\", \"cross\", \"cross\", \"cross\", \"cup\", \"daily\", \"daily\", \"daily\", \"daily\", \"daily\", \"dated\", \"dated\", \"day\", \"day\", \"day\", \"day\", \"day\", \"dead\", \"dead\", \"dead\", \"dead\", \"dead\", \"dealing\", \"dealing\", \"dealing\", \"deat\", \"deat\", \"death\", \"death\", \"death\", \"death\", \"death\", \"declining\", \"defence\", \"deliver\", \"deliver\", \"deliver\", \"deliver\", \"deliver\", \"democrat\", \"democrat\", \"democrat\", \"democrat\", \"democrat\", \"deserve\", \"deserve\", \"deserve\", \"deserve\", \"destination\", \"destroying\", \"destroying\", \"dg_nta\", \"died\", \"died\", \"died\", \"died\", \"died\", \"diet\", \"digitaltransformation\", \"digitaltransformation\", \"disease\", \"disease\", \"disease\", \"disease\", \"disease\", \"disparity\", \"disparity\", \"distancing\", \"distancing\", \"distancing\", \"distancing\", \"distancing\", \"distributed\", \"distributed\", \"donaldjtrumpjr\", \"donated\", \"donated\", \"donated\", \"donated\", \"dont\", \"dont\", \"dont\", \"dont\", \"dont\", \"doubt\", \"doubt\", \"doubt\", \"doubt\", \"doubt\", \"drtedros\", \"drtedros\", \"drtedros\", \"drtedros\", \"due\", \"due\", \"due\", \"due\", \"due\", \"dumptrump\", \"economics\", \"economics\", \"economics\", \"economics\", \"ed\", \"editorial\", \"efficacy\", \"eg\", \"eg\", \"eg\", \"egg\", \"electricity\", \"embrace\", \"entering\", \"entering\", \"entering\", \"erictrump\", \"estate\", \"estimated\", \"estimated\", \"ethiopia\", \"ethiopia\", \"even\", \"even\", \"even\", \"even\", \"even\", \"extent\", \"face\", \"face\", \"face\", \"face\", \"face\", \"facetoface\", \"faculty\", \"faculty\", \"fallen\", \"fastest\", \"fatal\", \"fatality\", \"fatality\", \"fatality\", \"fatality\", \"fatality\", \"feel\", \"feel\", \"feel\", \"feel\", \"feel\", \"fiji\", \"finance\", \"finance\", \"finance\", \"finance\", \"first\", \"first\", \"first\", \"first\", \"first\", \"flotus\", \"fm\", \"future\", \"future\", \"future\", \"future\", \"future\", \"fyi\", \"ganesh\", \"ganesha\", \"get\", \"get\", \"get\", \"get\", \"get\", \"gladysb\", \"gmt\", \"gmt\", \"gmt\", \"gmt\", \"go\", \"go\", \"go\", \"go\", \"go\", \"god\", \"god\", \"god\", \"god\", \"god\", \"going\", \"going\", \"going\", \"going\", \"going\", \"gon\", \"gon\", \"gon\", \"gon\", \"gon\", \"good\", \"good\", \"good\", \"good\", \"good\", \"gopleader\", \"gopleader\", \"government\", \"government\", \"government\", \"government\", \"government\", \"govwhitmer\", \"grant\", \"grant\", \"grant\", \"gratitude\", \"guide\", \"guide\", \"guide\", \"guide\", \"guide\", \"hancock\", \"hand\", \"hand\", \"hand\", \"hand\", \"hand\", \"heal\", \"heal\", \"health\", \"health\", \"health\", \"health\", \"health\", \"healthcare\", \"healthcare\", \"healthcare\", \"healthcare\", \"healthcare\", \"help\", \"help\", \"help\", \"help\", \"help\", \"helpline\", \"hiding\", \"hiding\", \"highest\", \"highest\", \"highest\", \"highest\", \"highest\", \"home\", \"home\", \"home\", \"home\", \"home\", \"hopkins\", \"hopkins\", \"hopkins\", \"hopkins\", \"hopkins\", \"hospital\", \"hospital\", \"hospital\", \"hospital\", \"hospital\", \"hotel\", \"hotel\", \"hotel\", \"hotel\", \"hotel\", \"hour\", \"hour\", \"hour\", \"hour\", \"hour\", \"httpstcofykxuxn0aw\", \"hyderabad\", \"hyderabad\", \"hyderabad\", \"identify\", \"identify\", \"identify\", \"identify\", \"im\", \"im\", \"im\", \"im\", \"im\", \"india\", \"india\", \"india\", \"india\", \"india\", \"infection\", \"infection\", \"infection\", \"infection\", \"infection\", \"innovative\", \"innovative\", \"innovative\", \"insider\", \"insider\", \"intelligence\", \"intelligence\", \"intelligence\", \"jamaica\", \"jee\", \"jee\", \"jewish\", \"jim_jordan\", \"job\", \"job\", \"job\", \"job\", \"job\", \"joshfrydenberg\", \"kamalaharris\", \"karma\", \"ke\", \"keep\", \"keep\", \"keep\", \"keep\", \"keep\", \"kid\", \"kid\", \"kid\", \"kid\", \"kid\", \"killed\", \"killed\", \"killed\", \"killed\", \"killed\", \"kingdom\", \"kitateguhkitamenang\", \"know\", \"know\", \"know\", \"know\", \"know\", \"lakh\", \"lakh\", \"lakh\", \"lakh\", \"lakh\", \"last\", \"last\", \"last\", \"last\", \"last\", \"lasting\", \"learning\", \"learning\", \"learning\", \"learning\", \"learning\", \"let\", \"let\", \"let\", \"let\", \"let\", \"libya\", \"life\", \"life\", \"life\", \"life\", \"life\", \"like\", \"like\", \"like\", \"like\", \"like\", \"limeng\", \"lindseygrahamsc\", \"lining\", \"lockdown\", \"lockdown\", \"lockdown\", \"lockdown\", \"lockdown\", \"look\", \"look\", \"look\", \"look\", \"look\", \"lord\", \"lord\", \"lord\", \"lord\", \"lord\", \"lost\", \"lost\", \"lost\", \"lost\", \"lost\", \"mail\", \"mail\", \"mail\", \"mainly\", \"make\", \"make\", \"make\", \"make\", \"make\", \"malaria\", \"malawi\", \"many\", \"many\", \"many\", \"many\", \"many\", \"mask\", \"mask\", \"mask\", \"mask\", \"mask\", \"mentalhealth\", \"mentalhealth\", \"mentalhealth\", \"mentalhealth\", \"metro\", \"metro\", \"metro\", \"metro\", \"mha\", \"midnight\", \"milestone\", \"milestone\", \"mining\", \"mission\", \"modified\", \"month\", \"month\", \"month\", \"month\", \"month\", \"muharram\", \"need\", \"need\", \"need\", \"need\", \"need\", \"neet\", \"netherlands\", \"never\", \"never\", \"never\", \"never\", \"never\", \"new\", \"new\", \"new\", \"new\", \"new\", \"news\", \"news\", \"news\", \"news\", \"news\", \"nose\", \"nose\", \"nose\", \"nose\", \"nose\", \"nov3\", \"nov3\", \"nov3\", \"nov3\", \"number\", \"number\", \"number\", \"number\", \"number\", \"oh\", \"oh\", \"oh\", \"oh\", \"oh\", \"one\", \"one\", \"one\", \"one\", \"one\", \"opositive\", \"opositive\", \"ottawa\", \"ottawa\", \"outline\", \"ove\", \"ove\", \"ove\", \"ove\", \"pacific\", \"pacific\", \"pacific\", \"pacific\", \"pandemic\", \"pandemic\", \"pandemic\", \"pandemic\", \"pandemic\", \"paris\", \"paris\", \"party\", \"party\", \"party\", \"party\", \"party\", \"passed\", \"passed\", \"passed\", \"passed\", \"passed\", \"patent\", \"patent\", \"patent\", \"patent\", \"patient\", \"patient\", \"patient\", \"patient\", \"patient\", \"patriot\", \"people\", \"people\", \"people\", \"people\", \"people\", \"permission\", \"petition\", \"petition\", \"petition\", \"petition\", \"petition\", \"ph\", \"phase\", \"phase\", \"phase\", \"phase\", \"phase\", \"physical\", \"physical\", \"physical\", \"physical\", \"physical\", \"piersmorgan\", \"pillow\", \"pima\", \"pima\", \"placement\", \"plasma\", \"plasma\", \"plasma\", \"plasma\", \"plasma\", \"played\", \"played\", \"please\", \"please\", \"please\", \"please\", \"please\", \"positive\", \"positive\", \"positive\", \"positive\", \"positive\", \"postpone\", \"postpone\", \"presidentakufoaddospeaksoncoronavirus\", \"presidentakufoaddospeaksoncoronavirus\", \"prevent\", \"prevent\", \"prevent\", \"prevent\", \"prevent\", \"private\", \"private\", \"private\", \"private\", \"private\", \"proved\", \"provision\", \"provision\", \"ran\", \"rapid\", \"rapid\", \"rapid\", \"rapid\", \"rare\", \"rate\", \"rate\", \"rate\", \"rate\", \"rate\", \"read\", \"read\", \"read\", \"read\", \"read\", \"realdonaldtrump\", \"realdonaldtrump\", \"realdonaldtrump\", \"realdonaldtrump\", \"realdonaldtrump\", \"realdonaldtrumps\", \"realdonaldtrumps\", \"realdonaldtrumps\", \"realdonaldtrumps\", \"recorded\", \"recorded\", \"recorded\", \"recorded\", \"recorded\", \"recovered\", \"recovered\", \"recovered\", \"recovered\", \"recovered\", \"recovery\", \"recovery\", \"recovery\", \"recovery\", \"recovery\", \"remaining\", \"remaining\", \"reopened\", \"reopened\", \"reopened\", \"reopened\", \"reopening\", \"reopening\", \"reopening\", \"reopening\", \"reopening\", \"repor\", \"repor\", \"report\", \"report\", \"report\", \"report\", \"report\", \"reported\", \"reported\", \"reported\", \"reported\", \"reported\", \"residential\", \"residential\", \"right\", \"right\", \"right\", \"right\", \"right\", \"rise\", \"rise\", \"rise\", \"rise\", \"rise\", \"risk\", \"risk\", \"risk\", \"risk\", \"risk\", \"ro\", \"russia\", \"russia\", \"russia\", \"russia\", \"russia\", \"safe\", \"safe\", \"safe\", \"safe\", \"safe\", \"sample\", \"sample\", \"sample\", \"sample\", \"sample\", \"say\", \"say\", \"say\", \"say\", \"say\", \"scan\", \"scared\", \"scared\", \"scared\", \"scared\", \"school\", \"school\", \"school\", \"school\", \"school\", \"seanhannity\", \"see\", \"see\", \"see\", \"see\", \"see\", \"selfreporting\", \"selfreporting\", \"selfreporting\", \"selfreporting\", \"shelter\", \"sign\", \"sign\", \"sign\", \"sign\", \"sign\", \"since\", \"since\", \"since\", \"since\", \"since\", \"singleday\", \"singleday\", \"singleday\", \"singleday\", \"slow\", \"slow\", \"slow\", \"slow\", \"slow\", \"smartphones\", \"smartphones\", \"smell\", \"smell\", \"smell\", \"smell\", \"social\", \"social\", \"social\", \"social\", \"social\", \"sooner\", \"sooner\", \"sooner\", \"sooner\", \"specialist\", \"spike\", \"spike\", \"spike\", \"spike\", \"spike\", \"spread\", \"spread\", \"spread\", \"spread\", \"spread\", \"state\", \"state\", \"state\", \"state\", \"state\", \"stop\", \"stop\", \"stop\", \"stop\", \"stop\", \"stupidity\", \"sum\", \"sundaythoughts\", \"sundaythoughts\", \"support\", \"support\", \"support\", \"support\", \"support\", \"surpassed\", \"surpassed\", \"surpassed\", \"survived\", \"symptom\", \"symptom\", \"symptom\", \"symptom\", \"symptom\", \"system\", \"system\", \"system\", \"system\", \"system\", \"take\", \"take\", \"take\", \"take\", \"take\", \"tally\", \"tally\", \"tally\", \"tally\", \"tally\", \"tap\", \"telegraph\", \"terrible\", \"terrible\", \"terrible\", \"terrible\", \"test\", \"test\", \"test\", \"test\", \"test\", \"tested\", \"tested\", \"tested\", \"tested\", \"tested\", \"testing\", \"testing\", \"testing\", \"testing\", \"testing\", \"thing\", \"thing\", \"thing\", \"thing\", \"thing\", \"time\", \"time\", \"time\", \"time\", \"time\", \"today\", \"today\", \"today\", \"today\", \"today\", \"together\", \"together\", \"together\", \"together\", \"together\", \"toll\", \"toll\", \"toll\", \"toll\", \"toll\", \"torycorruption\", \"tot\", \"tot\", \"tot\", \"total\", \"total\", \"total\", \"total\", \"total\", \"tracing\", \"tracing\", \"tracing\", \"tracing\", \"trial\", \"trial\", \"trial\", \"trial\", \"trial\", \"true\", \"true\", \"true\", \"true\", \"true\", \"trump\", \"trump\", \"trump\", \"trump\", \"trump\", \"trump2020\", \"trump2020\", \"trump2020\", \"trump2020\", \"trumpfailedamerica\", \"trumpisnotwell\", \"trumpvirus\", \"trumpvirus\", \"trumpvirus\", \"trumpvirus\", \"trumpvirus\", \"type\", \"type\", \"type\", \"type\", \"type\", \"typical\", \"u\", \"u\", \"u\", \"u\", \"u\", \"university\", \"university\", \"university\", \"university\", \"university\", \"update\", \"update\", \"update\", \"update\", \"update\", \"usps\", \"usps\", \"vaccine\", \"vaccine\", \"vaccine\", \"vaccine\", \"vaccine\", \"vast\", \"vast\", \"vast\", \"vega\", \"virginia\", \"virginia\", \"virtual\", \"virtual\", \"virtual\", \"virtual\", \"virtual\", \"vision\", \"vision\", \"vladimir\", \"want\", \"want\", \"want\", \"want\", \"want\", \"washingtonpost\", \"wearing\", \"wearing\", \"wearing\", \"wearing\", \"wearing\", \"week\", \"week\", \"week\", \"week\", \"week\", \"wfh\", \"wfh\", \"wfh\", \"willing\", \"willing\", \"willing\", \"wine\", \"work\", \"work\", \"work\", \"work\", \"work\", \"worker\", \"worker\", \"worker\", \"worker\", \"worker\", \"world\", \"world\", \"world\", \"world\", \"world\", \"worldwide\", \"worldwide\", \"worldwide\", \"worldwide\", \"worldwide\", \"would\", \"would\", \"would\", \"would\", \"would\", \"yan\", \"year\", \"year\", \"year\", \"year\", \"year\", \"young\", \"young\", \"young\", \"young\", \"young\"]}, \"R\": 30, \"lambda.step\": 0.01, \"plot.opts\": {\"xlab\": \"PC1\", \"ylab\": \"PC2\"}, \"topic.order\": [1, 2, 3, 4, 5]};\n",
       "\n",
       "function LDAvis_load_lib(url, callback){\n",
       "  var s = document.createElement('script');\n",
       "  s.src = url;\n",
       "  s.async = true;\n",
       "  s.onreadystatechange = s.onload = callback;\n",
       "  s.onerror = function(){console.warn(\"failed to load library \" + url);};\n",
       "  document.getElementsByTagName(\"head\")[0].appendChild(s);\n",
       "}\n",
       "\n",
       "if(typeof(LDAvis) !== \"undefined\"){\n",
       "   // already loaded: just create the visualization\n",
       "   !function(LDAvis){\n",
       "       new LDAvis(\"#\" + \"ldavis_el1020458948036807202518401\", ldavis_el1020458948036807202518401_data);\n",
       "   }(LDAvis);\n",
       "}else if(typeof define === \"function\" && define.amd){\n",
       "   // require.js is available: use it to load d3/LDAvis\n",
       "   require.config({paths: {d3: \"https://cdnjs.cloudflare.com/ajax/libs/d3/3.5.5/d3.min\"}});\n",
       "   require([\"d3\"], function(d3){\n",
       "      window.d3 = d3;\n",
       "      LDAvis_load_lib(\"https://cdn.rawgit.com/bmabey/pyLDAvis/files/ldavis.v1.0.0.js\", function(){\n",
       "        new LDAvis(\"#\" + \"ldavis_el1020458948036807202518401\", ldavis_el1020458948036807202518401_data);\n",
       "      });\n",
       "    });\n",
       "}else{\n",
       "    // require.js not available: dynamically load d3 & LDAvis\n",
       "    LDAvis_load_lib(\"https://cdnjs.cloudflare.com/ajax/libs/d3/3.5.5/d3.min.js\", function(){\n",
       "         LDAvis_load_lib(\"https://cdn.rawgit.com/bmabey/pyLDAvis/files/ldavis.v1.0.0.js\", function(){\n",
       "                 new LDAvis(\"#\" + \"ldavis_el1020458948036807202518401\", ldavis_el1020458948036807202518401_data);\n",
       "            })\n",
       "         });\n",
       "}\n",
       "</script>"
      ],
      "text/plain": [
       "<IPython.core.display.HTML object>"
      ]
     },
     "execution_count": 111,
     "metadata": {},
     "output_type": "execute_result"
    }
   ],
   "source": [
    "pyLDAvis.display(vis)"
   ]
  },
  {
   "cell_type": "code",
   "execution_count": 113,
   "metadata": {},
   "outputs": [],
   "source": [
    "pyLDAvis.save_html(vis, 'lda.html')"
   ]
  },
  {
   "cell_type": "code",
   "execution_count": null,
   "metadata": {},
   "outputs": [],
   "source": []
  }
 ],
 "metadata": {
  "accelerator": "GPU",
  "colab": {
   "provenance": []
  },
  "gpuClass": "standard",
  "kernelspec": {
   "display_name": "Python 3 (ipykernel)",
   "language": "python",
   "name": "python3"
  },
  "language_info": {
   "codemirror_mode": {
    "name": "ipython",
    "version": 3
   },
   "file_extension": ".py",
   "mimetype": "text/x-python",
   "name": "python",
   "nbconvert_exporter": "python",
   "pygments_lexer": "ipython3",
   "version": "3.10.8"
  }
 },
 "nbformat": 4,
 "nbformat_minor": 1
}
