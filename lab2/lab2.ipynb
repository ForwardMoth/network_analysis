{
 "cells": [
  {
   "cell_type": "code",
   "execution_count": 63,
   "id": "3239cf23",
   "metadata": {},
   "outputs": [],
   "source": [
    "import requests"
   ]
  },
  {
   "cell_type": "markdown",
   "id": "e870d973",
   "metadata": {},
   "source": [
    "## Объявление констант"
   ]
  },
  {
   "cell_type": "code",
   "execution_count": 64,
   "id": "f5111fb4",
   "metadata": {},
   "outputs": [],
   "source": [
    "TOKEN = \"f185ecc4f185ecc4f185ecc42cf296de11ff185f185ecc49599ca335d0fd6a7c8d49da4\"\n",
    "first_group = 'buh.mephi'\n",
    "second_group = 'icismephi'\n",
    "BASIC_RESPONSE = 'https://api.vk.com/method/'\n",
    "V = 5.131"
   ]
  },
  {
   "cell_type": "markdown",
   "id": "fe63e1ff",
   "metadata": {},
   "source": [
    "# Получение списков групп и их сравнение"
   ]
  },
  {
   "cell_type": "markdown",
   "id": "3f20d837",
   "metadata": {},
   "source": [
    "### Запрос к API. Метод getMembers"
   ]
  },
  {
   "cell_type": "code",
   "execution_count": 65,
   "id": "de7adead",
   "metadata": {},
   "outputs": [],
   "source": [
    "def get_member(group_id, offset=0):\n",
    "    response = requests.get(BASIC_RESPONSE + 'groups.getMembers', params={\n",
    "            'access_token': TOKEN,\n",
    "            'v': V,\n",
    "            'offset': offset, \n",
    "            'sort':'id_desc',\n",
    "            'group_id': group_id\n",
    "        }).json()\n",
    "    \n",
    "    if 'response' in response:\n",
    "        return response['response']"
   ]
  },
  {
   "cell_type": "markdown",
   "id": "0600f241",
   "metadata": {},
   "source": [
    "### Создание класса Группа"
   ]
  },
  {
   "cell_type": "code",
   "execution_count": 66,
   "id": "7ced5f78",
   "metadata": {},
   "outputs": [],
   "source": [
    "class Group:\n",
    "    def __init__(self, group_name):\n",
    "        self.group_name = group_name\n",
    "        self.members = []\n",
    "        self.posts = []\n",
    "        \n",
    "    def set_members(self):\n",
    "        count = get_member(self.group_name)['count'] \n",
    "\n",
    "        if count == 0:\n",
    "            return members_list \n",
    "        # Вычитаем остаток от деления на 1000, чтобы получить количество в тысячах \n",
    "        max_offset = count - count % 1000\n",
    "\n",
    "        for offset in range(0, max_offset+1, 1000):\n",
    "            offset_members = get_member(self.group_name, offset)\n",
    "            \n",
    "            if offset_members is not None:\n",
    "                self.members.extend(offset_members['items']) "
   ]
  },
  {
   "cell_type": "markdown",
   "id": "cfedf8c5",
   "metadata": {},
   "source": [
    "### Инициализация объектов класса"
   ]
  },
  {
   "cell_type": "code",
   "execution_count": 67,
   "id": "cc244ef7",
   "metadata": {},
   "outputs": [],
   "source": [
    "iftes_group = Group(first_group)\n",
    "icis_group = Group(second_group)"
   ]
  },
  {
   "cell_type": "code",
   "execution_count": 68,
   "id": "940b4284",
   "metadata": {
    "scrolled": false
   },
   "outputs": [],
   "source": [
    "iftes_group.set_members()\n",
    "icis_group.set_members()"
   ]
  },
  {
   "cell_type": "markdown",
   "id": "4f6c9d5f",
   "metadata": {},
   "source": [
    "# Построение социального графа"
   ]
  },
  {
   "cell_type": "markdown",
   "id": "7a687550",
   "metadata": {},
   "source": [
    "### Запрос к API. Метод friends.get"
   ]
  },
  {
   "cell_type": "code",
   "execution_count": 69,
   "id": "b722715b",
   "metadata": {},
   "outputs": [],
   "source": [
    "def get_friends(user_id):\n",
    "    response = requests.get(BASIC_RESPONSE + 'friends.get', params={\n",
    "        'access_token': TOKEN,\n",
    "        'v': V,\n",
    "        'user_id': user_id\n",
    "    }).json()\n",
    "    \n",
    "    if 'error' in response:\n",
    "        return set()\n",
    "    else: \n",
    "        return set(response['response']['items'])"
   ]
  },
  {
   "cell_type": "markdown",
   "id": "837d55da",
   "metadata": {},
   "source": [
    "### Получаем данные для графа"
   ]
  },
  {
   "cell_type": "code",
   "execution_count": 70,
   "id": "5da65bba",
   "metadata": {},
   "outputs": [],
   "source": [
    "def set_graph_data(first_users, second_users):\n",
    "    graph = {}\n",
    "    all_users = first_users | second_users \n",
    "    \n",
    "    for user in all_users:\n",
    "        friends = get_friends(user)\n",
    "        common_friends = friends & all_users\n",
    "        graph[user] = list(common_friends)\n",
    "        \n",
    "    return graph "
   ]
  },
  {
   "cell_type": "code",
   "execution_count": 71,
   "id": "ab184f0d",
   "metadata": {},
   "outputs": [],
   "source": [
    "graph_data = set_graph_data(set(iftes_group.members),set(icis_group.members))"
   ]
  },
  {
   "cell_type": "markdown",
   "id": "5e4aef0e",
   "metadata": {},
   "source": [
    "### Построение графа"
   ]
  },
  {
   "cell_type": "code",
   "execution_count": 72,
   "id": "0709e781",
   "metadata": {},
   "outputs": [],
   "source": [
    "import networkx as nx"
   ]
  },
  {
   "cell_type": "code",
   "execution_count": 73,
   "id": "54dafb1a",
   "metadata": {},
   "outputs": [],
   "source": [
    "all_users = set(iftes_group.members) | set(icis_group.members)"
   ]
  },
  {
   "cell_type": "code",
   "execution_count": 74,
   "id": "ac915012",
   "metadata": {},
   "outputs": [
    {
     "data": {
      "image/png": "[encoded data removed]",
      "text/plain": [
       "<Figure size 640x480 with 1 Axes>"
      ]
     },
     "metadata": {},
     "output_type": "display_data"
    }
   ],
   "source": [
    "g = nx.Graph(directed=False)\n",
    "for i in graph_data:\n",
    "    g.add_node(i)\n",
    "    for j in graph_data[i]:\n",
    "        if i != j and i in all_users and j in all_users:\n",
    "            g.add_edge(i, j)\n",
    "            \n",
    "nx.spring_layout(g)\n",
    "nx.draw_networkx(g, with_labels=False, width=0.2, node_size=30)"
   ]
  },
  {
   "cell_type": "code",
   "execution_count": 75,
   "id": "b0325722",
   "metadata": {},
   "outputs": [
    {
     "name": "stdout",
     "output_type": "stream",
     "text": [
      "Кол-во узлов =  2842\n",
      "Кол-во ребер =  9869\n"
     ]
    }
   ],
   "source": [
    "nodes=g.number_of_nodes()\n",
    "print (\"Кол-во узлов = \", nodes)\n",
    "edges=g.number_of_edges()\n",
    "print (\"Кол-во ребер = \", edges)"
   ]
  },
  {
   "cell_type": "markdown",
   "id": "d7fe9f36",
   "metadata": {},
   "source": [
    "## Центральность графа"
   ]
  },
  {
   "cell_type": "code",
   "execution_count": 82,
   "id": "3d83ded7",
   "metadata": {},
   "outputs": [
    {
     "data": {
      "text/plain": [
       "[(195300974, 0.05483647610894952),\n",
       " (7337268, 0.052601238584999384),\n",
       " (166323702, 0.03867762893720629),\n",
       " (3691898, 0.03424186727921542),\n",
       " (304244101, 0.03060221819287435),\n",
       " (88933032, 0.029663100471502328),\n",
       " (57174220, 0.027637110584370697),\n",
       " (498716342, 0.023983009483941827),\n",
       " (2193869, 0.015344125426442416),\n",
       " (607849527, 0.01468855563415455)]"
      ]
     },
     "execution_count": 82,
     "metadata": {},
     "output_type": "execute_result"
    }
   ],
   "source": [
    "authority_users = sorted(list(nx.betweenness_centrality(g).items()), key=lambda i: i[1], reverse=True)\n",
    "authority_users[:10]"
   ]
  },
  {
   "cell_type": "markdown",
   "id": "82d07728",
   "metadata": {},
   "source": [
    "## Плотность графа"
   ]
  },
  {
   "cell_type": "code",
   "execution_count": 86,
   "id": "60d6fc4f",
   "metadata": {},
   "outputs": [
    {
     "data": {
      "text/plain": [
       "0.002444600168290744"
      ]
     },
     "execution_count": 86,
     "metadata": {},
     "output_type": "execute_result"
    }
   ],
   "source": [
    "nx.density(g)"
   ]
  },
  {
   "cell_type": "markdown",
   "id": "c1bb23ab",
   "metadata": {},
   "source": [
    "## Связность графа"
   ]
  },
  {
   "cell_type": "code",
   "execution_count": 88,
   "id": "12ba3bdc",
   "metadata": {},
   "outputs": [
    {
     "data": {
      "text/plain": [
       "'Граф несвязный'"
      ]
     },
     "execution_count": 88,
     "metadata": {},
     "output_type": "execute_result"
    }
   ],
   "source": [
    "is_connected = nx.is_connected(g)\n",
    "\"Граф связный\" if is_connected else \"Граф несвязный\""
   ]
  },
  {
   "cell_type": "markdown",
   "id": "f770c3cb",
   "metadata": {},
   "source": [
    "## Степени узлов "
   ]
  },
  {
   "cell_type": "code",
   "execution_count": 91,
   "id": "220be1d0",
   "metadata": {},
   "outputs": [],
   "source": [
    "degrees = [val for (node, val) in g.degree()]"
   ]
  },
  {
   "cell_type": "code",
   "execution_count": 97,
   "id": "750ae4e0",
   "metadata": {},
   "outputs": [
    {
     "name": "stdout",
     "output_type": "stream",
     "text": [
      "Максимальное значение степени узлов: 260\n",
      "Минимальное значение степени узлов: 0\n",
      "Среднее значение степени узлов: 6.945\n"
     ]
    }
   ],
   "source": [
    "print(f\"Максимальное значение степени узлов: {max(degrees)}\")\n",
    "print(f\"Минимальное значение степени узлов: {min(degrees)}\")\n",
    "print(f\"Среднее значение степени узлов:\", \"{:.3f}\".format(sum(degrees)/len(degrees))) "
   ]
  },
  {
   "cell_type": "markdown",
   "id": "77d41d2a",
   "metadata": {},
   "source": [
    "## Модулярность графа"
   ]
  },
  {
   "cell_type": "code",
   "execution_count": 98,
   "id": "8710cf1b",
   "metadata": {},
   "outputs": [],
   "source": [
    "from networkx.algorithms import community"
   ]
  },
  {
   "cell_type": "code",
   "execution_count": 100,
   "id": "165cd9f3",
   "metadata": {},
   "outputs": [
    {
     "data": {
      "text/plain": [
       "0.38659040585382154"
      ]
     },
     "execution_count": 100,
     "metadata": {},
     "output_type": "execute_result"
    }
   ],
   "source": [
    "nx.community.modularity(g, nx.community.label_propagation_communities(g))"
   ]
  },
  {
   "cell_type": "code",
   "execution_count": null,
   "id": "a9e77e29",
   "metadata": {},
   "outputs": [],
   "source": []
  }
 ],
 "metadata": {
  "kernelspec": {
   "display_name": "Python 3 (ipykernel)",
   "language": "python",
   "name": "python3"
  },
  "language_info": {
   "codemirror_mode": {
    "name": "ipython",
    "version": 3
   },
   "file_extension": ".py",
   "mimetype": "text/x-python",
   "name": "python",
   "nbconvert_exporter": "python",
   "pygments_lexer": "ipython3",
   "version": "3.9.13"
  }
 },
 "nbformat": 4,
 "nbformat_minor": 5
}
